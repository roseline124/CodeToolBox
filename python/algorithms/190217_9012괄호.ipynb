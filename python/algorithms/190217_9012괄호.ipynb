{
 "cells": [
  {
   "cell_type": "code",
   "execution_count": 13,
   "metadata": {},
   "outputs": [
    {
     "name": "stdout",
     "output_type": "stream",
     "text": [
      "1\n",
      "((()()(()))(((())))()\n",
      "NO\n"
     ]
    }
   ],
   "source": [
    "T = int(input())\n",
    "\n",
    "while T != 0 : \n",
    "    T -=1 \n",
    "\n",
    "    stack = []\n",
    "    ps = input()\n",
    "    answer = ''\n",
    "    for i in range(len(ps)) : \n",
    "        if ps[i] == '(' :\n",
    "            stack.append(ps[i]) \n",
    "            if (i == (len(ps) -1)) & (stack!=[]) :\n",
    "                answer = \"NO\"\n",
    "        else : # s== ')'\n",
    "            if stack!= []:\n",
    "                stack.pop()\n",
    "                if (i == (len(ps) -1)) & (stack!=[]) :\n",
    "                    answer = \"NO\"\n",
    "                if stack == [] :\n",
    "                    if i == (len(ps) -1) :\n",
    "                        answer = \"YES\"\n",
    "                    else : \n",
    "                        answer = \"NO\"\n",
    "            else : \n",
    "                answer = \"No\"\n",
    "            \n",
    "    print(answer)"
   ]
  },
  {
   "cell_type": "code",
   "execution_count": 12,
   "metadata": {},
   "outputs": [
    {
     "name": "stdout",
     "output_type": "stream",
     "text": [
      "1\n",
      "((()()(()))(((())))()\n",
      "NO\n"
     ]
    }
   ],
   "source": [
    "T = int(input())\n",
    "\n",
    "while T != 0 : \n",
    "    T -=1 \n",
    "\n",
    "    stack = []\n",
    "    ps = input()\n",
    "    last=len(ps)-1\n",
    "    answer = ''\n",
    "    \n",
    "    for i in range(last+1) : \n",
    "        if ps[i] == '(' :\n",
    "            stack.append(ps[i]) \n",
    "            \n",
    "            if (i == last) :\n",
    "                answer = \"NO\"\n",
    "                \n",
    "        else : # s== ')'\n",
    "            if stack!= []:\n",
    "                stack.pop()\n",
    "                \n",
    "                if (i == last) & (stack!=[]) :\n",
    "                    answer = \"NO\"\n",
    "                elif (i == last) & (stack==[])  :\n",
    "                    answer = \"YES\"\n",
    "                elif (i != last) & (stack==[]) : \n",
    "                    answer = \"NO\"\n",
    "                    \n",
    "            else : \n",
    "                answer = \"NO\"\n",
    "            \n",
    "    print(answer)"
   ]
  },
  {
   "cell_type": "code",
   "execution_count": 14,
   "metadata": {},
   "outputs": [
    {
     "name": "stdout",
     "output_type": "stream",
     "text": [
      "1\n",
      "((()()(()))(((())))()\n",
      "(\n"
     ]
    }
   ],
   "source": [
    "T = int(input())\n",
    "\n",
    "while T != 0 : \n",
    "    T -=1 \n",
    "\n",
    "    stack = []\n",
    "    ps = input()\n",
    "    last=len(ps)-1\n",
    "    answer = ''\n",
    "    \n",
    "    for i in range(last+1) : \n",
    "        if ps[i] == '(' :\n",
    "            answer = \"NO\" if i == last else stack.append(ps[i])\n",
    "            \n",
    "        else : # ps[i]== ')'\n",
    "            answer = \"NO\" if stack == [] else stack.pop()\n",
    "                \n",
    "            if i == last :\n",
    "                answer == \"NO\" if stack != [] else \"YES\"\n",
    "                \n",
    "    print(answer)"
   ]
  },
  {
   "cell_type": "code",
   "execution_count": 16,
   "metadata": {},
   "outputs": [
    {
     "name": "stdout",
     "output_type": "stream",
     "text": [
      "1\n",
      "((()()(()))(((())))()\n",
      "\n"
     ]
    }
   ],
   "source": [
    "T = int(input())\n",
    "\n",
    "while T != 0 : \n",
    "    T -=1 \n",
    "\n",
    "    stack = []\n",
    "    ps = input()\n",
    "    last=len(ps)-1\n",
    "    answer = ''\n",
    "    \n",
    "    for i in range(last+1) : \n",
    "        if ps[i] == '(' :\n",
    "            stack.append(ps[i]) \n",
    "            \n",
    "            if (i == last) :\n",
    "                answer = \"NO\"\n",
    "                \n",
    "        else : # s== ')'\n",
    "            if stack!= []:\n",
    "                stack.pop()\n",
    "                \n",
    "                if i == last :\n",
    "                    answer == \"NO\" if stack != [] else \"YES\"\n",
    "                elif (i != last) & (stack==[]) : \n",
    "                    answer = \"NO\"\n",
    "                    \n",
    "            else : \n",
    "                answer = \"NO\"\n",
    "            \n",
    "    print(answer)"
   ]
  },
  {
   "cell_type": "code",
   "execution_count": null,
   "metadata": {},
   "outputs": [],
   "source": []
  }
 ],
 "metadata": {
  "kernelspec": {
   "display_name": "Python 3",
   "language": "python",
   "name": "python3"
  },
  "language_info": {
   "codemirror_mode": {
    "name": "ipython",
    "version": 3
   },
   "file_extension": ".py",
   "mimetype": "text/x-python",
   "name": "python",
   "nbconvert_exporter": "python",
   "pygments_lexer": "ipython3",
   "version": "3.7.1"
  }
 },
 "nbformat": 4,
 "nbformat_minor": 2
}
