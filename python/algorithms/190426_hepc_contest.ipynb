{
 "cells": [
  {
   "cell_type": "markdown",
   "metadata": {},
   "source": [
    "https://www.acmicpc.net/category/418"
   ]
  },
  {
   "cell_type": "markdown",
   "metadata": {},
   "source": [
    "### Problem A"
   ]
  },
  {
   "cell_type": "code",
   "execution_count": null,
   "metadata": {},
   "outputs": [],
   "source": [
    "print(\"I'm Sexy\")"
   ]
  },
  {
   "cell_type": "markdown",
   "metadata": {},
   "source": [
    "### Problem B"
   ]
  },
  {
   "cell_type": "markdown",
   "metadata": {},
   "source": [
    "- 두 수가 같지 않을 때 : 왼쪽 오른쪽 중 더 적은 곳에 A를 넣는다. 더 작은 수에 맞춰 방출한다.\n",
    "- 두 수가 같을 때 : A 배분 후 A를 2로 나눈 나머지를 방출한다."
   ]
  },
  {
   "cell_type": "code",
   "execution_count": null,
   "metadata": {},
   "outputs": [],
   "source": [
    "L, R, A = map(int, input().split())"
   ]
  },
  {
   "cell_type": "code",
   "execution_count": null,
   "metadata": {},
   "outputs": [],
   "source": [
    "if L == R : \n",
    "    print(L+R+(A//2)*2)\n",
    "else :\n",
    "    if (L+A < R)|(R+A < L) :\n",
    "        print(L+R)\n",
    "    elif (L+A == R)|(R+A == L):\n",
    "        print(L+R+A)\n",
    "    elif (L+A > R)|(R+A > L) :\n",
    "        if L<R :\n",
    "            A -= R-L\n",
    "            print(2*R + (A//2)*2) \n",
    "        elif L>R : \n",
    "            A -= L-R\n",
    "            print(2*L + (A//2)*2)  "
   ]
  },
  {
   "cell_type": "markdown",
   "metadata": {},
   "source": [
    "#### 정답"
   ]
  },
  {
   "cell_type": "code",
   "execution_count": null,
   "metadata": {},
   "outputs": [],
   "source": [
    "L, R, A = map(int, input().split())\n",
    "\n",
    "if L == R : \n",
    "    print(L+R+(A//2)*2)\n",
    "else :\n",
    "    if (L+A < R)|(R+A < L) :\n",
    "        print(L+R)\n",
    "    elif (L+A == R)|(R+A == L):\n",
    "        print(L+R+A)\n",
    "    elif (L+A > R)|(R+A > L) :\n",
    "        if L<R :\n",
    "            A -= R-L\n",
    "            print(2*R + (A//2)*2) \n",
    "        elif L>R : \n",
    "            A -= L-R\n",
    "            print(2*L + (A//2)*2)  "
   ]
  },
  {
   "cell_type": "markdown",
   "metadata": {},
   "source": [
    "### Problem C"
   ]
  },
  {
   "cell_type": "code",
   "execution_count": null,
   "metadata": {},
   "outputs": [],
   "source": [
    "def is_unique(matrix):\n",
    "    unique_set = []\n",
    "    for m in matrix :\n",
    "        unique_set.extend(m)\n",
    "    len_set = len(unique_set)\n",
    "    len_unique_set = len(set(unique_set))\n",
    "    if len_set == len_unique_set :\n",
    "        return True\n",
    "    else :\n",
    "        return False"
   ]
  },
  {
   "cell_type": "code",
   "execution_count": null,
   "metadata": {},
   "outputs": [],
   "source": [
    "def check_rows(matrix):\n",
    "    for m in matrix:\n",
    "        if sum(m) != magic_sum:\n",
    "            return False\n",
    "    \n",
    "    return True"
   ]
  },
  {
   "cell_type": "code",
   "execution_count": null,
   "metadata": {},
   "outputs": [],
   "source": [
    "def check_cols(matrix):\n",
    "    for i in range(N):\n",
    "        col = [ m[i] for m in matrix ] \n",
    "        if sum(col) != magic_sum : \n",
    "            return False\n",
    "        \n",
    "    return True "
   ]
  },
  {
   "cell_type": "code",
   "execution_count": null,
   "metadata": {},
   "outputs": [],
   "source": [
    "def check_cross(matrix):\n",
    "    l_cross = []\n",
    "    r_cross = []\n",
    "    for i in range(N):\n",
    "        l_cross.append(matrix[i][i])\n",
    "        r_cross.append(matrix[i][-i-1])\n",
    "    \n",
    "    if (sum(l_cross) == sum(r_cross) == magic_sum) :\n",
    "        return True\n",
    "    else :\n",
    "        return False "
   ]
  },
  {
   "cell_type": "code",
   "execution_count": null,
   "metadata": {},
   "outputs": [],
   "source": [
    "# input\n",
    "N = int(input())\n",
    "\n",
    "magic_sum = N*(N*N + 1)/2\n",
    "\n",
    "magic = []\n",
    "for _ in range(N):\n",
    "    magic.append(list(map(int, input().split())))\n",
    "\n",
    "# check\n",
    "if (is_unique(magic) & check_rows(magic) & check_cols(magic) & check_cross(magic)) : \n",
    "    print('TRUE')\n",
    "else : \n",
    "    print('FALSE')"
   ]
  },
  {
   "cell_type": "code",
   "execution_count": null,
   "metadata": {},
   "outputs": [],
   "source": [
    "def is_unique(matrix):\n",
    "    unique_set = []\n",
    "    for m in matrix :\n",
    "        unique_set.extend(m)\n",
    "    len_set = len(unique_set)\n",
    "    len_unique_set = len(set(unique_set))\n",
    "    if len_set == len_unique_set :\n",
    "        return True\n",
    "    else :\n",
    "        return False\n",
    "    \n",
    "def check_rows(matrix):\n",
    "    for m in matrix:\n",
    "        if sum(m) != magic_sum:\n",
    "            return False\n",
    "    \n",
    "    return True\n",
    "\n",
    "def check_cols(matrix):\n",
    "    for i in range(N):\n",
    "        col = [ m[i] for m in matrix ] \n",
    "        if sum(col) != magic_sum : \n",
    "            return False\n",
    "        \n",
    "    return True \n",
    "\n",
    "def check_cross(matrix):\n",
    "    l_cross = []\n",
    "    r_cross = []\n",
    "    for i in range(N):\n",
    "        l_cross.append(matrix[i][i])\n",
    "        r_cross.append(matrix[i][-i-1])\n",
    "    \n",
    "    if (sum(l_cross) == sum(r_cross) == magic_sum) :\n",
    "        return True\n",
    "    else :\n",
    "        return False \n",
    "    \n",
    "# input\n",
    "N = int(input())\n",
    "\n",
    "magic_sum = N*(N*N + 1)/2\n",
    "\n",
    "magic = []\n",
    "for _ in range(N):\n",
    "    magic.append(list(map(int, input().split())))\n",
    "\n",
    "# check\n",
    "if (is_unique(magic) & check_rows(magic) & check_cols(magic) & check_cross(magic)) : \n",
    "    print('TRUE')\n",
    "else : \n",
    "    print('FALSE')"
   ]
  },
  {
   "cell_type": "markdown",
   "metadata": {},
   "source": [
    "### Problem D"
   ]
  },
  {
   "cell_type": "markdown",
   "metadata": {},
   "source": [
    "- N이 짝수일 때 : n(n+2)(2n+1)/8\n",
    "- N이 홀수일 때 : (n+1)(2n*n+3n-1)/8\n",
    "\n",
    "[참고](https://blog.naver.com/alwaysneoi/100155502982)"
   ]
  },
  {
   "cell_type": "code",
   "execution_count": null,
   "metadata": {},
   "outputs": [],
   "source": [
    "N = int(input())"
   ]
  },
  {
   "cell_type": "code",
   "execution_count": null,
   "metadata": {},
   "outputs": [],
   "source": [
    "N = int(input())\n",
    "\n",
    "if N%2 == 0 : # 짝수 \n",
    "    print(int(N*(N+2)*(2*N+1)/8))\n",
    "else : \n",
    "    print(int((N+1)*(2*N*N+3*N-1)/8))"
   ]
  },
  {
   "cell_type": "markdown",
   "metadata": {},
   "source": [
    "### Problem E : 15736번 청기백기 \n",
    "\n",
    "청 = 0\n",
    "백 = 1"
   ]
  },
  {
   "cell_type": "code",
   "execution_count": null,
   "metadata": {},
   "outputs": [],
   "source": [
    "N = int(input())\n",
    "flags = N*[0]\n",
    "flags"
   ]
  },
  {
   "cell_type": "code",
   "execution_count": null,
   "metadata": {},
   "outputs": [],
   "source": [
    "for i in range(1,N+1):\n",
    "    for j in range(1, N+1):\n",
    "        if j%i == 0 :\n",
    "            flags[j-1] = 1 if flags[j-1] == 0 else 0"
   ]
  },
  {
   "cell_type": "code",
   "execution_count": null,
   "metadata": {},
   "outputs": [],
   "source": [
    "sum(flags)"
   ]
  },
  {
   "cell_type": "code",
   "execution_count": null,
   "metadata": {},
   "outputs": [],
   "source": [
    "N = int(input())\n",
    "flags = N*[0]\n",
    "\n",
    "for i in range(1,N+1):\n",
    "    for j in range(i, N+1):\n",
    "        if j%i == 0 :\n",
    "            flags[j-1] = 1 if flags[j-1] == 0 else 0\n",
    "            \n",
    "print(sum(flags))"
   ]
  },
  {
   "cell_type": "markdown",
   "metadata": {},
   "source": [
    "#### 더 빨리"
   ]
  },
  {
   "cell_type": "code",
   "execution_count": null,
   "metadata": {},
   "outputs": [],
   "source": [
    "N = int(input())\n",
    "flags = N*[0]\n",
    "\n",
    "for i in range(1, N+1):\n",
    "    j = 1\n",
    "    while j <= N//i : \n",
    "        flags[(j*i)-1] = 1 if flags[(j*i)-1] == 0 else 0\n",
    "        j+=1\n",
    "        \n",
    "print(sum(flags))"
   ]
  },
  {
   "cell_type": "markdown",
   "metadata": {},
   "source": [
    "### 정답"
   ]
  },
  {
   "cell_type": "markdown",
   "metadata": {},
   "source": [
    "- step이 너무 오래 걸리면 이미 찾은 코드로 하나씩 실행시키면서 규칙 찾기 "
   ]
  },
  {
   "cell_type": "code",
   "execution_count": null,
   "metadata": {},
   "outputs": [],
   "source": [
    "import math \n",
    "\n",
    "N = int(input())\n",
    "\n",
    "print(int(math.sqrt(N)))"
   ]
  },
  {
   "cell_type": "markdown",
   "metadata": {},
   "source": [
    "# 2017 ERICA Programming Contest League B (초보)\n",
    "\n",
    "https://www.acmicpc.net/category/detail/1856"
   ]
  },
  {
   "cell_type": "markdown",
   "metadata": {},
   "source": [
    "### 14909번"
   ]
  },
  {
   "cell_type": "code",
   "execution_count": null,
   "metadata": {},
   "outputs": [],
   "source": [
    "nums = map(int, input().split())\n",
    "print(len([n for n in nums if n > 0 ]))"
   ]
  },
  {
   "cell_type": "markdown",
   "metadata": {},
   "source": [
    "### 14910번 오르막"
   ]
  },
  {
   "cell_type": "code",
   "execution_count": null,
   "metadata": {},
   "outputs": [],
   "source": [
    "nums = list(map(int, input().split()))\n",
    "sorted_nums = sorted(nums)\n",
    "\n",
    "if nums ==  sorted_nums : \n",
    "    print(\"Good\")\n",
    "else :\n",
    "    print(\"Bad\")"
   ]
  },
  {
   "cell_type": "markdown",
   "metadata": {},
   "source": [
    "### 14911번 궁합 쌍 찾기"
   ]
  },
  {
   "cell_type": "code",
   "execution_count": null,
   "metadata": {},
   "outputs": [],
   "source": [
    "nums = list(map(int, input().split()))\n",
    "K = int(input())\n",
    "\n",
    "nums.sort()\n",
    "\n",
    "pairs = []\n",
    "\n",
    "for i, n in enumerate(nums) :\n",
    "    if (K - n) in nums[i+1:] :\n",
    "        pairs.append(f\"{n} {K-n}\")        \n",
    "        \n",
    "pairs = list(set(pairs))\n",
    "pairs.sort()\n",
    "\n",
    "for p in pairs : \n",
    "    print(p)\n",
    "\n",
    "print(len(pairs))"
   ]
  },
  {
   "cell_type": "markdown",
   "metadata": {},
   "source": [
    "### 14912번 숫자 빈도 수 "
   ]
  },
  {
   "cell_type": "code",
   "execution_count": null,
   "metadata": {},
   "outputs": [],
   "source": [
    "from collections import Counter \n",
    "N, d = map(int, input().split())\n",
    "\n",
    "cnt_sum = 0\n",
    "for i in range(1, N+1):\n",
    "    cnt = Counter(str(i))\n",
    "    \n",
    "    if cnt[f'{d}']:\n",
    "        cnt_sum += cnt[f'{d}']\n",
    "        \n",
    "print(cnt_sum)"
   ]
  },
  {
   "cell_type": "markdown",
   "metadata": {},
   "source": [
    "### 14913번 등차수열에서 항 번호 찾기"
   ]
  },
  {
   "cell_type": "code",
   "execution_count": null,
   "metadata": {},
   "outputs": [],
   "source": [
    "a, d, k = map(int, input().split())"
   ]
  },
  {
   "cell_type": "code",
   "execution_count": null,
   "metadata": {},
   "outputs": [],
   "source": [
    "N = ((k-a)/d) + 1 "
   ]
  },
  {
   "cell_type": "code",
   "execution_count": null,
   "metadata": {},
   "outputs": [],
   "source": [
    "a, d, k = map(int, input().split())\n",
    "\n",
    "N = ((k-a)/d) + 1 \n",
    "if N <= 0 :\n",
    "    \"\"\"-1 -1 3\"\"\"\n",
    "    print(\"X\")\n",
    "elif N%1 == 0 : \n",
    "    print(int(N))\n",
    "else : \n",
    "    print(\"X\")"
   ]
  },
  {
   "cell_type": "code",
   "execution_count": null,
   "metadata": {},
   "outputs": [],
   "source": [
    "N"
   ]
  },
  {
   "cell_type": "markdown",
   "metadata": {},
   "source": [
    "### 14914번 사과와 바나나 나눠주기\n",
    "\n",
    "- 약수 구하기 : $\\sqrt{N}$까지\n",
    "- a > b, b < a, a = b\n",
    "- 약수 개수 구하기 = $a^m * b^n -> (m+1)(n+1)$"
   ]
  },
  {
   "cell_type": "code",
   "execution_count": null,
   "metadata": {},
   "outputs": [],
   "source": [
    "a, b = map(int, input().split())\n",
    "\n",
    "small = a if a <= b else b\n",
    "\n",
    "for n in range(1, small + 1):\n",
    "    if (a%n==0) & (b%n==0) : \n",
    "        print(f\"{n} {int(a/n)} {int(b/n)}\")"
   ]
  },
  {
   "cell_type": "markdown",
   "metadata": {},
   "source": [
    "### 14916번 거스름돈\n",
    "\n",
    "- N = 5\\*m + 2\\*n  \n",
    "- 5로 줬을 때 나머지가 2의 배수가 되는 최대값 m"
   ]
  },
  {
   "cell_type": "code",
   "execution_count": null,
   "metadata": {},
   "outputs": [],
   "source": [
    "N = int(input())"
   ]
  },
  {
   "cell_type": "code",
   "execution_count": null,
   "metadata": {},
   "outputs": [],
   "source": [
    "m = N//5"
   ]
  },
  {
   "cell_type": "code",
   "execution_count": null,
   "metadata": {},
   "outputs": [],
   "source": [
    "for mm in range(1,m+1):\n",
    "    res = N-(5*mm)\n",
    "\n",
    "    if res%2 ==0 : \n",
    "        max_m = mm"
   ]
  },
  {
   "cell_type": "code",
   "execution_count": null,
   "metadata": {},
   "outputs": [],
   "source": [
    "max_n = (N - 5*max_m)//2"
   ]
  },
  {
   "cell_type": "code",
   "execution_count": null,
   "metadata": {},
   "outputs": [],
   "source": [
    "print(max_m + max_n)"
   ]
  },
  {
   "cell_type": "code",
   "execution_count": null,
   "metadata": {},
   "outputs": [],
   "source": [
    "N = int(input())\n",
    "\n",
    "m = N//5\n",
    "max_m = -1\n",
    "for mm in range(1,m+1):\n",
    "    res = N-(5*mm)\n",
    "\n",
    "    if res%2 ==0 : \n",
    "        max_m = mm\n",
    "\n",
    "if max_m != -1 : \n",
    "    max_n = (N - 5*max_m)//2        \n",
    "    print(max_m + max_n)\n",
    "elif N%2 == 0 : \n",
    "    print(N//2)\n",
    "else : \n",
    "    print(-1)"
   ]
  },
  {
   "cell_type": "markdown",
   "metadata": {},
   "source": [
    "### 14915번 진수 변환기\n",
    "\n",
    "10진수 m을 n진수로 변환 "
   ]
  },
  {
   "cell_type": "code",
   "execution_count": null,
   "metadata": {},
   "outputs": [],
   "source": [
    "def get_scale(m,n, scale=[]):\n",
    "    \"\"\"진수 변환.\"\"\"\n",
    "    \n",
    "    if m // n <= 0 : \n",
    "        scale.append(m)\n",
    "        return scale\n",
    "    \n",
    "    else : \n",
    "        next_m = m//n \n",
    "        scale.append(m%n)\n",
    "        \n",
    "        return get_res(next_m,n, scale=scale)"
   ]
  },
  {
   "cell_type": "code",
   "execution_count": null,
   "metadata": {},
   "outputs": [],
   "source": [
    "m, n = map(int, input().split())\n",
    "\n",
    "scale = get_scale(m,n)\n",
    "scale"
   ]
  },
  {
   "cell_type": "code",
   "execution_count": null,
   "metadata": {},
   "outputs": [],
   "source": [
    "if n >= 11 :\n",
    "    for i, s in enumerate(scale) :\n",
    "        if s >= 10 :\n",
    "            scale[i] = chr(s + 55)"
   ]
  },
  {
   "cell_type": "code",
   "execution_count": null,
   "metadata": {},
   "outputs": [],
   "source": [
    "scale = list(map(str, scale))\n",
    "scale_num = ''.join(scale[::-1])\n",
    "print(scale_num)"
   ]
  },
  {
   "cell_type": "code",
   "execution_count": null,
   "metadata": {},
   "outputs": [],
   "source": [
    "def get_scale(m,n, scale=[]):\n",
    "    if m // n <= 0 : \n",
    "        scale.append(m)\n",
    "        return scale\n",
    "    \n",
    "    else : \n",
    "        scale.append(m%n)\n",
    "        next_m = m//n \n",
    "        return get_scale(next_m, n, scale=scale)\n",
    "    \n",
    "m, n = map(int, input().split())\n",
    "\n",
    "scale = get_scale(m,n)\n",
    "\n",
    "if n >= 11 :\n",
    "    for i, s in enumerate(scale) :\n",
    "        if s >= 10 :\n",
    "            scale[i] = chr(s + 55)\n",
    "\n",
    "scale = list(map(str, scale))\n",
    "scale_num = ''.join(scale[::-1])\n",
    "print(scale_num)"
   ]
  },
  {
   "cell_type": "code",
   "execution_count": null,
   "metadata": {},
   "outputs": [],
   "source": [
    "scale"
   ]
  },
  {
   "cell_type": "markdown",
   "metadata": {},
   "source": [
    "# 2018 ERICA Software-Up Programming Contest League A"
   ]
  },
  {
   "cell_type": "markdown",
   "metadata": {},
   "source": [
    "### 26495번 열 순서\n",
    "\n",
    "- 1~ 26 = A~Z"
   ]
  },
  {
   "cell_type": "code",
   "execution_count": null,
   "metadata": {},
   "outputs": [],
   "source": [
    "column = list(input())\n",
    "\n",
    "alphas = list(map(chr, range(65, 91)))\n",
    "alpha_dict = dict(zip(alphas, range(1, 27)))\n",
    "\n",
    "idx = 0\n",
    "for i, k in enumerate(column[::-1]):\n",
    "    idx += alpha_dict[k]*(26**i)\n",
    "    \n",
    "print(idx)"
   ]
  },
  {
   "cell_type": "markdown",
   "metadata": {},
   "source": [
    "### 16493번 : 최대 페이지 수 \n",
    "\n",
    "- N : 남은 기간 / M : 챕터 수\n",
    "- 독서 소요 일 수, 페이지 수 \n",
    "- 최대 페이지 수 "
   ]
  },
  {
   "cell_type": "code",
   "execution_count": null,
   "metadata": {},
   "outputs": [],
   "source": [
    "N, M = map(int, input().split())"
   ]
  },
  {
   "cell_type": "code",
   "execution_count": null,
   "metadata": {},
   "outputs": [],
   "source": [
    "day_page = []\n",
    "for _ in range(M):\n",
    "    day, page = map(int, input().split())\n",
    "    day_page.append((day, page))"
   ]
  },
  {
   "cell_type": "code",
   "execution_count": null,
   "metadata": {},
   "outputs": [],
   "source": [
    "# 내림차순, page순으로 정리 \n",
    "sorted_day_page = sorted(day_page, key=lambda x : x[1], reverse=True)\n",
    "sorted_day_page = sorted(sorted_day_page, key=lambda x : (x[0],x[1]))\n",
    "sorted_day_page = sorted(sorted_day_page, key=lambda x : x[1], reverse=True)\n",
    "sorted_day_page"
   ]
  },
  {
   "cell_type": "code",
   "execution_count": null,
   "metadata": {},
   "outputs": [],
   "source": [
    "max_page = 0\n",
    "max_days = 0\n",
    "for d, p in sorted_day_page:\n",
    "    max_days += d\n",
    "    if max_days > N :\n",
    "        break\n",
    "        \n",
    "    if d <= N :  \n",
    "        max_page += p        "
   ]
  },
  {
   "cell_type": "code",
   "execution_count": null,
   "metadata": {},
   "outputs": [],
   "source": [
    "print(max_page)"
   ]
  },
  {
   "cell_type": "code",
   "execution_count": null,
   "metadata": {
    "scrolled": true
   },
   "outputs": [],
   "source": [
    "N, M = map(int, input().split())\n",
    "\n",
    "day_page = []\n",
    "for _ in range(M):\n",
    "    day, page = map(int, input().split())\n",
    "    day_page.append((day, page))\n",
    "    \n",
    "sorted_day_page = sorted(day_page, key=lambda x : x[1], reverse=True)\n",
    "sorted_day_page = sorted(sorted_day_page, key=lambda x : (x[0],x[1]))\n",
    "sorted_day_page = sorted(sorted_day_page, key=lambda x : x[1], reverse=True)\n",
    "\n",
    "max_page = 0\n",
    "max_days = 0\n",
    "for d, p in sorted_day_page:\n",
    "    if max_days > N :\n",
    "        break\n",
    "        \n",
    "    if (d <= N) & (max_days+d <= N) :  \n",
    "        max_page += p\n",
    "        max_days += d\n",
    "        \n",
    "print(max_page)"
   ]
  },
  {
   "cell_type": "markdown",
   "metadata": {},
   "source": [
    "# 2017 ERICA Programming Contest League A (일반)"
   ]
  },
  {
   "cell_type": "markdown",
   "metadata": {},
   "source": [
    "### 14906번 스러피 \n",
    "\n",
    "정규 표현식 : http://blog.naver.com/PostView.nhn?blogId=dudwo567890&logNo=130162403749"
   ]
  },
  {
   "cell_type": "markdown",
   "metadata": {},
   "source": [
    "**스럼프**\n",
    "- initial : D or E\n",
    "- initial 다음 문자 : F 가 하나 이상\n",
    "- 그 다음 : 스럼프나 'G'\n",
    "\n",
    "**스림프**\n",
    "- initial : A\n",
    "- len == 2 라면, initial 다음 문자 : 'H'\n",
    "- len >= 3 라면, AB, 스림프, C 또는 A 스럼프 C\n",
    "\n",
    "**스러피** \n",
    "- 스림프 + 스럼프"
   ]
  },
  {
   "cell_type": "code",
   "execution_count": null,
   "metadata": {},
   "outputs": [],
   "source": [
    "import re\n",
    "\n",
    "def check_slump(word):\n",
    "    \"\"\"단어의 스럼프 여부 확인\"\"\"\n",
    "    r = re.match('^E|^DF+G$',word)\n",
    "    return True if r else False\n",
    "\n",
    "def mini_slump(word):\n",
    "    \"\"\"스럼프 안의 스럼프인지 확인\"\"\"\n",
    "    r = re.search('(E|D)F+G$', word)\n",
    "    return True if r else False\n",
    "\n",
    "def make_slump(word):\n",
    "    \"\"\"스럼프를 줄이고 스럼프가 맞는지 확인\"\"\"\n",
    "    while check_slump(word) == False :\n",
    "        if mini_slump(word) == False: \n",
    "            return False \n",
    "        else : \n",
    "            word = re.sub('(E|D)F+G$','G', word)\n",
    "\n",
    "    if check_slump(word) & mini_slump(word): \n",
    "        return True\n",
    "    else :\n",
    "        return False\n",
    "            \n",
    "word = 'DFEFFFFFG'\n",
    "make_slump(word)"
   ]
  },
  {
   "cell_type": "code",
   "execution_count": null,
   "metadata": {},
   "outputs": [],
   "source": [
    "def check_slimp(word):\n",
    "    \"\"\"단어의 스림프 여부 확인\"\"\"\n",
    "    if  word=='AH':\n",
    "        return True    \n",
    "    elif len(word)>=3 :\n",
    "        \n",
    "def make_slimp(word):\n",
    "    \"\"\"스림프를 줄이고 스림프가 맞는지 확인\"\"\"\n",
    "    while "
   ]
  },
  {
   "cell_type": "code",
   "execution_count": null,
   "metadata": {},
   "outputs": [],
   "source": [
    "word = 'ABABAHCC'\n",
    "re.sub('AB(AH)*C', '', word)"
   ]
  },
  {
   "cell_type": "code",
   "execution_count": null,
   "metadata": {},
   "outputs": [],
   "source": [
    "word = 'A'\n",
    "\n",
    "if (len(word)==2) & (word=='AH'):\n",
    "    return True\n",
    "elif len(word)==3 :\n",
    "    slimp_r = re.search('^AB+.+C$', word )\n",
    "    slump_r = re.search('^A.+C$', word)\n",
    "\n",
    "    if slimp_r:\n",
    "        slimp_word = slimp_r.group()\n",
    "        slimp_word = slimp_word[2:-1]    \n",
    "        return make_slimp(word)\n",
    "    elif slump_r:\n",
    "        slump_word = slump_r.group()\n",
    "        slump_word = slump_word[1:-1]    \n",
    "        return make_slump(slump_word)"
   ]
  },
  {
   "cell_type": "markdown",
   "metadata": {},
   "source": [
    "# 2018 ERICA Software-Up Programming Contest League B\n",
    "\n",
    "https://www.acmicpc.net/category/detail/1952"
   ]
  },
  {
   "cell_type": "markdown",
   "metadata": {},
   "source": [
    "### 16499번 동일한 단어 그룹화하기"
   ]
  },
  {
   "cell_type": "code",
   "execution_count": null,
   "metadata": {},
   "outputs": [],
   "source": [
    "N = int(input())\n",
    "\n",
    "group = []\n",
    "\n",
    "for _ in range(N):\n",
    "    word = list(input())\n",
    "    word.sort()\n",
    "    if word not in group :\n",
    "        group.append(word)\n",
    "\n",
    "print(len(group))    "
   ]
  },
  {
   "cell_type": "markdown",
   "metadata": {},
   "source": [
    "### 16500번 문자열 판별"
   ]
  },
  {
   "cell_type": "code",
   "execution_count": null,
   "metadata": {},
   "outputs": [],
   "source": [
    "S = input()\n",
    "N = int(input())\n",
    "\n",
    "A = []\n",
    "for _ in range(N):\n",
    "    A.append(input())\n",
    "    \n",
    "A = [a for a in A if a in S]"
   ]
  },
  {
   "cell_type": "code",
   "execution_count": null,
   "metadata": {},
   "outputs": [],
   "source": [
    "while S :\n",
    "    pre = S\n",
    "\n",
    "    for a in A :\n",
    "        S = S.replace(a, '')\n",
    "    \n",
    "    if pre == S: #변화가 없다면 더 이상 replace할 게 없으니 break\n",
    "        break"
   ]
  },
  {
   "cell_type": "code",
   "execution_count": null,
   "metadata": {},
   "outputs": [],
   "source": [
    "if S == '':\n",
    "    print(1)\n",
    "else :\n",
    "    print(0)"
   ]
  },
  {
   "cell_type": "markdown",
   "metadata": {},
   "source": [
    "반례 :\n",
    "\n",
    "- softwarecontest\n",
    "- 3\n",
    "- are\n",
    "- software\n",
    "- contest"
   ]
  },
  {
   "cell_type": "code",
   "execution_count": null,
   "metadata": {
    "scrolled": true
   },
   "outputs": [],
   "source": [
    "S = input()\n",
    "N = int(input())\n",
    "\n",
    "A = []\n",
    "for _ in range(N):\n",
    "    A.append(input())\n",
    "    \n",
    "if S == '' :\n",
    "    print(0)\n",
    "else :\n",
    "    A = [a for a in A if a in S]\n",
    "    A = sorted(A, key=lambda x:len(x), reverse=True)\n",
    "\n",
    "    while S :\n",
    "        pre = S\n",
    "\n",
    "        for a in A :\n",
    "            S = S.replace(a, '')\n",
    "\n",
    "        if pre == S: #변화가 없다면 더 이상 replace할 게 없으니 break\n",
    "            break\n",
    "\n",
    "    if S == '':\n",
    "        print(1)\n",
    "    else :\n",
    "        print(0)        "
   ]
  },
  {
   "cell_type": "code",
   "execution_count": null,
   "metadata": {},
   "outputs": [],
   "source": [
    "A = sorted(A, key=lambda x:len(x), reverse=True )\n",
    "A"
   ]
  },
  {
   "cell_type": "code",
   "execution_count": null,
   "metadata": {},
   "outputs": [],
   "source": [
    "'' in A"
   ]
  },
  {
   "cell_type": "code",
   "execution_count": null,
   "metadata": {},
   "outputs": [],
   "source": [
    "S = input()\n",
    "N = int(input())\n",
    "\n",
    "A = []\n",
    "for _ in range(N):\n",
    "    A.append(input())"
   ]
  },
  {
   "cell_type": "code",
   "execution_count": null,
   "metadata": {},
   "outputs": [],
   "source": [
    "for a in A : \n",
    "    tmp = S.split(a)\n",
    "    "
   ]
  },
  {
   "cell_type": "code",
   "execution_count": null,
   "metadata": {},
   "outputs": [],
   "source": [
    "S.split(A[0])"
   ]
  },
  {
   "cell_type": "markdown",
   "metadata": {},
   "source": [
    "### 16502번 그녀를 찾아서"
   ]
  },
  {
   "cell_type": "code",
   "execution_count": null,
   "metadata": {},
   "outputs": [],
   "source": [
    "class Shop:\n",
    "    def __init__(self, name, prop):\n",
    "        self.name = name\n",
    "        self.prop = prop\n",
    "        self.dests = {}\n",
    "        \n",
    "    def connect(self, dest, prop):\n",
    "        \"\"\"10분 뒤 가 있을 매장과 그 확률\"\"\"\n",
    "        if dest not in self.dests :\n",
    "            self.dests[dest] = prop"
   ]
  },
  {
   "cell_type": "markdown",
   "metadata": {},
   "source": [
    "10분 뒤 현재 매장일 확률"
   ]
  },
  {
   "cell_type": "code",
   "execution_count": null,
   "metadata": {},
   "outputs": [],
   "source": [
    "T = int(input())\n",
    "M = int(input())\n",
    "\n",
    "shops = []\n",
    "for _ in range(M):\n",
    "    name, dest, prop = input().split()\n",
    "    if name not in shops :\n",
    "        if name == \"A\":\n",
    "            A = Shop(name, 0.25)\n",
    "        elif name == \"B\":\n",
    "            B = Shop(name, 0.25)\n",
    "        elif name == \"C\":\n",
    "            C = Shop(name, 0.25)\n",
    "        elif name == \"D\":\n",
    "            D = Shop(name, 0.25)\n",
    "\n",
    "        shops.append(name)\n",
    "    if dest not in shops :\n",
    "        if dest == \"A\":\n",
    "            A = Shop(name, 0.25)\n",
    "        elif dest == \"B\":\n",
    "            B = Shop(name, 0.25)\n",
    "        elif dest == \"C\":\n",
    "            C = Shop(name, 0.25)\n",
    "        elif dest == \"D\":\n",
    "            D = Shop(name, 0.25)\n",
    "\n",
    "        shops.append(dest)\n",
    "\n",
    "    shop.connect(dest, float(prop))\n",
    "    \n",
    "props = {}"
   ]
  },
  {
   "cell_type": "code",
   "execution_count": null,
   "metadata": {},
   "outputs": [],
   "source": [
    "for s in shops:\n",
    "    print(s)"
   ]
  },
  {
   "cell_type": "code",
   "execution_count": null,
   "metadata": {},
   "outputs": [],
   "source": [
    "\n",
    "for _ in range(T):\n",
    "    for curr in shops: # curr = 확률을 구할 매장\n",
    "        prop = 0\n",
    "        for s in shops : # s : 이전 매장\n",
    "            if curr in s.dests:\n",
    "                # 이전 매장 확률 * 이전 매장에서 현재 매장으로 넘어올 확률\n",
    "                prop += s.prop * s.dests[curr] \n",
    "\n",
    "        props[curr.name] = prop\n",
    "\n",
    "    for s in shops:\n",
    "        s.prop = props[s.name]\n",
    "\n",
    "shop_names = [\"A\", \"B\", \"C\", \"D\"]\n",
    "\n",
    "for n in shop_names :\n",
    "    if n not in props.keys() :\n",
    "        props[n] = 0\n",
    "\n",
    "result = list(map(lambda x : x*100, props.values())) \n",
    "for r in result : \n",
    "    print(format(r, \".2f\")) # print(round(r, 2))"
   ]
  },
  {
   "cell_type": "code",
   "execution_count": null,
   "metadata": {},
   "outputs": [],
   "source": [
    "shops"
   ]
  },
  {
   "cell_type": "markdown",
   "metadata": {},
   "source": [
    "### 16502번 그녀를 찾아서 (Re) "
   ]
  },
  {
   "cell_type": "code",
   "execution_count": null,
   "metadata": {},
   "outputs": [],
   "source": [
    "class Shop : \n",
    "    def __init__(self, name, prop=0.25):\n",
    "        self.name = name\n",
    "        self.prop = prop\n",
    "        self.routes = {}\n",
    "    \n",
    "    def connect(self, shop, prop):\n",
    "        \"\"\"shop은 Shop 객체, prop은 10분 뒤 현재 매장에서 그 매장으로 갈 확률\"\"\"\n",
    "        self.routes[shop] = prop * self.prop \n",
    "        \n",
    "        \n",
    "def make_shop(name, shops):\n",
    "    if name not in shops :\n",
    "        new_shop = Shop(name)\n",
    "        \n",
    "        return new_shop\n",
    "    else : \n",
    "        return -1"
   ]
  },
  {
   "cell_type": "code",
   "execution_count": null,
   "metadata": {},
   "outputs": [],
   "source": [
    "T = int(input())\n",
    "M = int(input())\n",
    "\n",
    "names = []\n",
    "dests = []\n",
    "props = []\n",
    "shop_objects = []\n",
    "shop_objects_names = []\n",
    "for _ in range(M):\n",
    "    name, dest, prop = input().split()\n",
    "    names.append(name)\n",
    "    dests.append(dest)\n",
    "    props.append(float(prop))\n",
    "\n",
    "    # Shop 객체 만들기 \n",
    "    if name not in shop_objects_names :\n",
    "        if name == \"A\":\n",
    "            A = Shop(n)\n",
    "            shop_objects.append(A)\n",
    "            shop_objects_names.append(name)\n",
    "        elif name == \"B\":\n",
    "            B = Shop(n)\n",
    "            shop_objects.append(B)\n",
    "            shop_objects_names.append(name)\n",
    "        elif name == \"C\":\n",
    "            C = Shop(n)\n",
    "            shop_objects.append(C)\n",
    "            shop_objecqts_names.append(name)\n",
    "        elif name == \"D\":\n",
    "            D = Shop(n)\n",
    "            shop_objects.append(D)\n",
    "            shop_objects_names.append(name)\n",
    "        \n",
    "    if dest not in shop_objects_names:\n",
    "        if dest == \"A\":\n",
    "            A = Shop(n)\n",
    "            shop_objects.append(A)\n",
    "            shop_objects_names.append(dest)\n",
    "        elif dest == \"B\":\n",
    "            B = Shop(n)\n",
    "            shop_objects.append(B)\n",
    "            shop_objects_names.append(dest)\n",
    "        elif dest == \"C\":\n",
    "            C = Shop(n)\n",
    "            shop_objects.append(C)\n",
    "            shop_objects_names.append(dest)\n",
    "        elif dest == \"D\":\n",
    "            D = Shop(n)\n",
    "            shop_objects.append(D) \n",
    "            shop_objects_names.append(dest)\n",
    "            \n",
    "        "
   ]
  },
  {
   "cell_type": "code",
   "execution_count": null,
   "metadata": {},
   "outputs": [],
   "source": [
    "shop_objects[3].name"
   ]
  },
  {
   "cell_type": "markdown",
   "metadata": {},
   "source": [
    "### RE"
   ]
  },
  {
   "cell_type": "code",
   "execution_count": 2,
   "metadata": {},
   "outputs": [],
   "source": [
    "class Shop : \n",
    "    def __init__(self, name):\n",
    "        self.name = name\n",
    "        self.prop = 0.25\n",
    "        self.routes = {}\n",
    "    \n",
    "    def connect(self, shop, prop):\n",
    "        \"\"\"shop은 Shop 객체, prop은 10분 뒤 현재 매장에서 그 매장으로 갈 확률\"\"\"\n",
    "        self.routes[shop] = prop  "
   ]
  },
  {
   "cell_type": "code",
   "execution_count": 9,
   "metadata": {},
   "outputs": [
    {
     "name": "stdout",
     "output_type": "stream",
     "text": [
      "3\n",
      "1\n",
      "A A 1.0\n"
     ]
    }
   ],
   "source": [
    "T = int(input())\n",
    "M = int(input())\n",
    "\n",
    "A = Shop(\"A\")\n",
    "B = Shop(\"B\")\n",
    "C = Shop(\"C\")\n",
    "D = Shop(\"D\")\n",
    "\n",
    "shops = [A, B, C, D]\n",
    "\n",
    "for _ in range(M):\n",
    "    name, dest, prop = input().split()\n",
    "    \n",
    "    shop = eval(name)# name = \"A\" -> A.routes\n",
    "    shop.connect(eval(dest), float(prop))"
   ]
  },
  {
   "cell_type": "code",
   "execution_count": 10,
   "metadata": {},
   "outputs": [],
   "source": [
    "shops = [A, B, C, D]\n",
    "props = {A:0, B:0, C:0, D:0}"
   ]
  },
  {
   "cell_type": "code",
   "execution_count": 11,
   "metadata": {},
   "outputs": [],
   "source": [
    "for _ in range(T):\n",
    "    for curr in shops: # curr = 확률을 구할 매장\n",
    "        prop = 0\n",
    "        for s in shops : # s : 이전 매장\n",
    "            if curr in s.routes:\n",
    "                # 이전 매장 확률 * 이전 매장에서 현재 매장으로 넘어올 확률\n",
    "                prop += s.routes[curr] * s.prop\n",
    "\n",
    "\n",
    "        props[curr] = prop\n",
    "\n",
    "    for s in shops:\n",
    "        s.prop = props[s]"
   ]
  },
  {
   "cell_type": "code",
   "execution_count": 12,
   "metadata": {},
   "outputs": [
    {
     "data": {
      "text/plain": [
       "{<__main__.Shop at 0x265d6051dd8>: 0.25,\n",
       " <__main__.Shop at 0x265d6097cf8>: 0,\n",
       " <__main__.Shop at 0x265d6097ba8>: 0,\n",
       " <__main__.Shop at 0x265d6097cc0>: 0}"
      ]
     },
     "execution_count": 12,
     "metadata": {},
     "output_type": "execute_result"
    }
   ],
   "source": [
    "props"
   ]
  },
  {
   "cell_type": "code",
   "execution_count": 17,
   "metadata": {},
   "outputs": [
    {
     "name": "stdout",
     "output_type": "stream",
     "text": [
      "25.0\n",
      "1.56\n",
      "1.56\n",
      "1.56\n"
     ]
    }
   ],
   "source": [
    "for s, p in props.items() :\n",
    "    if p == 0:\n",
    "        props[s] = 0.25**T\n",
    "    prop = props[s] * 100\n",
    "    print(round(prop, 2))"
   ]
  },
  {
   "cell_type": "code",
   "execution_count": 16,
   "metadata": {},
   "outputs": [
    {
     "data": {
      "text/plain": [
       "{<__main__.Shop at 0x265d6051dd8>: 0.25,\n",
       " <__main__.Shop at 0x265d6097cf8>: 0.015625,\n",
       " <__main__.Shop at 0x265d6097ba8>: 0.015625,\n",
       " <__main__.Shop at 0x265d6097cc0>: 0.015625}"
      ]
     },
     "execution_count": 16,
     "metadata": {},
     "output_type": "execute_result"
    }
   ],
   "source": [
    "props"
   ]
  },
  {
   "cell_type": "markdown",
   "metadata": {},
   "source": [
    "### 정답!"
   ]
  },
  {
   "cell_type": "code",
   "execution_count": 18,
   "metadata": {},
   "outputs": [
    {
     "name": "stdout",
     "output_type": "stream",
     "text": [
      "2\n",
      "1\n",
      "A A 1.0\n",
      "25.0\n",
      "6.25\n",
      "6.25\n",
      "6.25\n"
     ]
    }
   ],
   "source": [
    "class Shop : \n",
    "    def __init__(self, name):\n",
    "        self.name = name\n",
    "        self.prop = 0.25\n",
    "        self.routes = {}\n",
    "    \n",
    "    def connect(self, shop, prop):\n",
    "        \"\"\"shop은 Shop 객체, prop은 10분 뒤 현재 매장에서 그 매장으로 갈 확률\"\"\"\n",
    "        self.routes[shop] = prop  \n",
    "        \n",
    "T = int(input())\n",
    "M = int(input())\n",
    "\n",
    "A = Shop(\"A\")\n",
    "B = Shop(\"B\")\n",
    "C = Shop(\"C\")\n",
    "D = Shop(\"D\")\n",
    "\n",
    "shops = [A, B, C, D]\n",
    "\n",
    "for _ in range(M):\n",
    "    name, dest, prop = input().split()\n",
    "    \n",
    "    shop = eval(name)# name = \"A\" -> A.routes\n",
    "    shop.connect(eval(dest), float(prop))\n",
    "    \n",
    "shops = [A, B, C, D]\n",
    "props = {A:0, B:0, C:0, D:0}\n",
    "\n",
    "# 10 * T (분) 이후 각 매장에 그녀가 있을 확률\n",
    "for _ in range(T):\n",
    "    for curr in shops: # curr = 확률을 구할 매장\n",
    "        prop = 0\n",
    "        for s in shops : # s : 이전 매장\n",
    "            if curr in s.routes:\n",
    "                # 이전 매장 확률 * 이전 매장에서 현재 매장으로 넘어올 확률\n",
    "                prop += s.routes[curr] * s.prop\n",
    "\n",
    "\n",
    "        props[curr] = prop\n",
    "\n",
    "    for s in shops:\n",
    "        s.prop = props[s]\n",
    "\n",
    "# 출력\n",
    "for s, p in props.items() :\n",
    "    if p == 0:\n",
    "        props[s] = 0.25**T\n",
    "    prop = props[s] * 100\n",
    "    print(round(prop, 2))"
   ]
  },
  {
   "cell_type": "code",
   "execution_count": null,
   "metadata": {},
   "outputs": [],
   "source": []
  }
 ],
 "metadata": {
  "kernelspec": {
   "display_name": "Python 3",
   "language": "python",
   "name": "python3"
  },
  "language_info": {
   "codemirror_mode": {
    "name": "ipython",
    "version": 3
   },
   "file_extension": ".py",
   "mimetype": "text/x-python",
   "name": "python",
   "nbconvert_exporter": "python",
   "pygments_lexer": "ipython3",
   "version": "3.7.1"
  }
 },
 "nbformat": 4,
 "nbformat_minor": 2
}
