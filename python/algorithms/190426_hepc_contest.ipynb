{
 "cells": [
  {
   "cell_type": "markdown",
   "metadata": {},
   "source": [
    "### Problem A"
   ]
  },
  {
   "cell_type": "code",
   "execution_count": 1,
   "metadata": {},
   "outputs": [
    {
     "name": "stdout",
     "output_type": "stream",
     "text": [
      "I'm Sexy\n"
     ]
    }
   ],
   "source": [
    "print(\"I'm Sexy\")"
   ]
  },
  {
   "cell_type": "markdown",
   "metadata": {},
   "source": [
    "### Problem B"
   ]
  },
  {
   "cell_type": "markdown",
   "metadata": {},
   "source": [
    "- 두 수가 같지 않을 때 : 왼쪽 오른쪽 중 더 적은 곳에 A를 넣는다. 더 작은 수에 맞춰 방출한다.\n",
    "- 두 수가 같을 때 : A 배분 후 A를 2로 나눈 나머지를 방출한다."
   ]
  },
  {
   "cell_type": "code",
   "execution_count": 3,
   "metadata": {},
   "outputs": [
    {
     "name": "stdout",
     "output_type": "stream",
     "text": [
      "7 7 7\n"
     ]
    }
   ],
   "source": [
    "L, R, A = map(int, input().split())"
   ]
  },
  {
   "cell_type": "code",
   "execution_count": 4,
   "metadata": {},
   "outputs": [
    {
     "name": "stdout",
     "output_type": "stream",
     "text": [
      "20\n"
     ]
    }
   ],
   "source": [
    "if L == R : \n",
    "    print(L+R+(A//2)*2)\n",
    "else :\n",
    "    if (L+A < R)|(R+A < L) :\n",
    "        print(L+R)\n",
    "    elif (L+A == R)|(R+A == L):\n",
    "        print(L+R+A)\n",
    "    elif (L+A > R)|(R+A > L) :\n",
    "        A -= R-L if L<R else L - R\n",
    "        print(2*R + (A//2)*2)  "
   ]
  },
  {
   "cell_type": "markdown",
   "metadata": {},
   "source": [
    "### Problem C"
   ]
  },
  {
   "cell_type": "code",
   "execution_count": 84,
   "metadata": {},
   "outputs": [],
   "source": [
    "def is_unique(matrix):\n",
    "    unique_set = []\n",
    "    for m in matrix :\n",
    "        unique_set.extend(m)\n",
    "    len_set = len(unique_set)\n",
    "    len_unique_set = len(set(unique_set))\n",
    "    if len_set == len_unique_set :\n",
    "        return True\n",
    "    else :\n",
    "        return False"
   ]
  },
  {
   "cell_type": "code",
   "execution_count": 85,
   "metadata": {},
   "outputs": [],
   "source": [
    "def check_rows(matrix):\n",
    "    for m in matrix:\n",
    "        if sum(m) != magic_sum:\n",
    "            return False\n",
    "    \n",
    "    return True"
   ]
  },
  {
   "cell_type": "code",
   "execution_count": 86,
   "metadata": {},
   "outputs": [],
   "source": [
    "def check_cols(matrix):\n",
    "    for i in range(N):\n",
    "        col = [ m[i] for m in matrix ] \n",
    "        if sum(col) != magic_sum : \n",
    "            return False\n",
    "        \n",
    "    return True "
   ]
  },
  {
   "cell_type": "code",
   "execution_count": 87,
   "metadata": {},
   "outputs": [],
   "source": [
    "def check_cross(matrix):\n",
    "    l_cross = []\n",
    "    r_cross = []\n",
    "    for i in range(N):\n",
    "        l_cross.append(matrix[i][i])\n",
    "        r_cross.append(matrix[i][-i-1])\n",
    "    \n",
    "    if (sum(l_cross) == sum(r_cross) == magic_sum) :\n",
    "        return True\n",
    "    else :\n",
    "        return False "
   ]
  },
  {
   "cell_type": "code",
   "execution_count": 92,
   "metadata": {},
   "outputs": [
    {
     "name": "stdout",
     "output_type": "stream",
     "text": [
      "5\n",
      "11 24 7 20 3\n",
      "4 12 25 8 16\n",
      "17 5 13 21 9\n",
      "10 18 1 14 22\n",
      "23 6 19 2 15\n",
      "TRUE\n"
     ]
    }
   ],
   "source": [
    "# input\n",
    "N = int(input())\n",
    "\n",
    "magic_sum = N*(N*N + 1)/2\n",
    "\n",
    "magic = []\n",
    "for _ in range(N):\n",
    "    magic.append(list(map(int, input().split())))\n",
    "\n",
    "# check\n",
    "if (is_unique(magic) & check_rows(magic) & check_cols(magic) & check_cross(magic)) : \n",
    "    print('TRUE')\n",
    "else : \n",
    "    print('FALSE')"
   ]
  },
  {
   "cell_type": "code",
   "execution_count": null,
   "metadata": {},
   "outputs": [],
   "source": [
    "def is_unique(matrix):\n",
    "    unique_set = []\n",
    "    for m in matrix :\n",
    "        unique_set.extend(m)\n",
    "    len_set = len(unique_set)\n",
    "    len_unique_set = len(set(unique_set))\n",
    "    if len_set == len_unique_set :\n",
    "        return True\n",
    "    else :\n",
    "        return False\n",
    "    \n",
    "def check_rows(matrix):\n",
    "    for m in matrix:\n",
    "        if sum(m) != magic_sum:\n",
    "            return False\n",
    "    \n",
    "    return True\n",
    "\n",
    "def check_cols(matrix):\n",
    "    for i in range(N):\n",
    "        col = [ m[i] for m in matrix ] \n",
    "        if sum(col) != magic_sum : \n",
    "            return False\n",
    "        \n",
    "    return True \n",
    "\n",
    "def check_cross(matrix):\n",
    "    l_cross = []\n",
    "    r_cross = []\n",
    "    for i in range(N):\n",
    "        l_cross.append(matrix[i][i])\n",
    "        r_cross.append(matrix[i][-i-1])\n",
    "    \n",
    "    if (sum(l_cross) == sum(r_cross) == magic_sum) :\n",
    "        return True\n",
    "    else :\n",
    "        return False \n",
    "    \n",
    "# input\n",
    "N = int(input())\n",
    "\n",
    "magic_sum = N*(N*N + 1)/2\n",
    "\n",
    "magic = []\n",
    "for _ in range(N):\n",
    "    magic.append(list(map(int, input().split())))\n",
    "\n",
    "# check\n",
    "if (is_unique(magic) & check_rows(magic) & check_cols(magic) & check_cross(magic)) : \n",
    "    print('TRUE')\n",
    "else : \n",
    "    print('FALSE')"
   ]
  },
  {
   "cell_type": "markdown",
   "metadata": {},
   "source": [
    "### Problem D"
   ]
  },
  {
   "cell_type": "markdown",
   "metadata": {},
   "source": [
    "- N이 짝수일 때 : n(n+2)(2n+1)/8\n",
    "- N이 홀수일 때 : (n+1)(2n*n+3n-1)/8\n",
    "\n",
    "[참고](https://blog.naver.com/alwaysneoi/100155502982)"
   ]
  },
  {
   "cell_type": "code",
   "execution_count": 96,
   "metadata": {},
   "outputs": [
    {
     "name": "stdout",
     "output_type": "stream",
     "text": [
      "10\n"
     ]
    }
   ],
   "source": [
    "N = int(input())"
   ]
  },
  {
   "cell_type": "code",
   "execution_count": 97,
   "metadata": {},
   "outputs": [
    {
     "name": "stdout",
     "output_type": "stream",
     "text": [
      "315\n"
     ]
    }
   ],
   "source": [
    "if N%2 == 0 : # 짝수 \n",
    "    print(int(N*(N+2)*(2*N+1)/8))\n",
    "else : \n",
    "    print(int((N+1)*(2*N+3*N-1)/8))"
   ]
  },
  {
   "cell_type": "markdown",
   "metadata": {},
   "source": [
    "### Problem E\n",
    "\n",
    "청 = 0\n",
    "백 = 1"
   ]
  },
  {
   "cell_type": "code",
   "execution_count": 133,
   "metadata": {},
   "outputs": [
    {
     "name": "stdout",
     "output_type": "stream",
     "text": [
      "24\n"
     ]
    },
    {
     "data": {
      "text/plain": [
       "[0, 0, 0, 0, 0, 0, 0, 0, 0, 0, 0, 0, 0, 0, 0, 0, 0, 0, 0, 0, 0, 0, 0, 0]"
      ]
     },
     "execution_count": 133,
     "metadata": {},
     "output_type": "execute_result"
    }
   ],
   "source": [
    "N = int(input())\n",
    "flags = N*[0]\n",
    "flags"
   ]
  },
  {
   "cell_type": "code",
   "execution_count": 134,
   "metadata": {},
   "outputs": [],
   "source": [
    "for i in range(1,N+1):\n",
    "    for j in range(1, N+1):\n",
    "        if j%i == 0 :\n",
    "            flags[j-1] = 1 if flags[j-1] == 0 else 0"
   ]
  },
  {
   "cell_type": "code",
   "execution_count": 136,
   "metadata": {},
   "outputs": [
    {
     "data": {
      "text/plain": [
       "4"
      ]
     },
     "execution_count": 136,
     "metadata": {},
     "output_type": "execute_result"
    }
   ],
   "source": [
    "sum(flags)"
   ]
  },
  {
   "cell_type": "code",
   "execution_count": 6,
   "metadata": {},
   "outputs": [
    {
     "name": "stdout",
     "output_type": "stream",
     "text": [
      "24\n",
      "4\n"
     ]
    }
   ],
   "source": [
    "N = int(input())\n",
    "flags = N*[0]\n",
    "\n",
    "for i in range(1,N+1):\n",
    "    for j in range(1, N+1):\n",
    "        if j%i == 0 :\n",
    "            flags[j-1] = 1 if flags[j-1] == 0 else 0\n",
    "            \n",
    "print(sum(flags))"
   ]
  },
  {
   "cell_type": "markdown",
   "metadata": {},
   "source": [
    "# 2017 ERICA Programming Contest League B (초보)\n",
    "\n",
    "https://www.acmicpc.net/category/detail/1856"
   ]
  },
  {
   "cell_type": "markdown",
   "metadata": {},
   "source": [
    "### 14909번"
   ]
  },
  {
   "cell_type": "code",
   "execution_count": 8,
   "metadata": {},
   "outputs": [
    {
     "data": {
      "text/plain": [
       "['A', 'C', 'O', 'Z']"
      ]
     },
     "execution_count": 8,
     "metadata": {},
     "output_type": "execute_result"
    }
   ],
   "source": [
    "nums = map(int, input().split())\n",
    "print(len([n for n in nums if n > 0 ]))"
   ]
  },
  {
   "cell_type": "markdown",
   "metadata": {},
   "source": [
    "### 14910번 오르막"
   ]
  },
  {
   "cell_type": "code",
   "execution_count": 16,
   "metadata": {},
   "outputs": [
    {
     "name": "stdout",
     "output_type": "stream",
     "text": [
      "Good\n"
     ]
    }
   ],
   "source": [
    "nums = list(map(int, input().split()))\n",
    "sorted_nums = sorted(nums)\n",
    "\n",
    "if nums ==  sorted_nums : \n",
    "    print(\"Good\")\n",
    "else :\n",
    "    print(\"Bad\")"
   ]
  },
  {
   "cell_type": "markdown",
   "metadata": {},
   "source": [
    "### 14911번 궁합 쌍 찾기"
   ]
  },
  {
   "cell_type": "code",
   "execution_count": 53,
   "metadata": {},
   "outputs": [
    {
     "name": "stdout",
     "output_type": "stream",
     "text": [
      "15 16 17\n",
      "123\n",
      "0\n"
     ]
    }
   ],
   "source": [
    "nums = list(map(int, input().split()))\n",
    "K = int(input())\n",
    "\n",
    "nums.sort()\n",
    "\n",
    "pairs = []\n",
    "\n",
    "for i, n in enumerate(nums) :\n",
    "    if (K - n) in nums[i+1:] :\n",
    "        pairs.append(f\"{n} {K-n}\")        \n",
    "        \n",
    "pairs = list(set(pairs))\n",
    "pairs.sort()\n",
    "\n",
    "for p in pairs : \n",
    "    print(p)\n",
    "\n",
    "print(len(pairs))"
   ]
  },
  {
   "cell_type": "code",
   "execution_count": null,
   "metadata": {},
   "outputs": [],
   "source": []
  }
 ],
 "metadata": {
  "kernelspec": {
   "display_name": "Python 3",
   "language": "python",
   "name": "python3"
  },
  "language_info": {
   "codemirror_mode": {
    "name": "ipython",
    "version": 3
   },
   "file_extension": ".py",
   "mimetype": "text/x-python",
   "name": "python",
   "nbconvert_exporter": "python",
   "pygments_lexer": "ipython3",
   "version": "3.7.1"
  }
 },
 "nbformat": 4,
 "nbformat_minor": 2
}
