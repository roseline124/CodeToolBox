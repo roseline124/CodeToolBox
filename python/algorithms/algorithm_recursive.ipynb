{
 "cells": [
  {
   "cell_type": "code",
   "execution_count": 28,
   "metadata": {},
   "outputs": [
    {
     "name": "stdout",
     "output_type": "stream",
     "text": [
      "29--- 0.0 seconds ---\n"
     ]
    }
   ],
   "source": [
    "import time\n",
    "\n"
   ]
  },
  {
   "cell_type": "code",
   "execution_count": 62,
   "metadata": {},
   "outputs": [
    {
     "name": "stdout",
     "output_type": "stream",
     "text": [
      "12499"
     ]
    }
   ],
   "source": [
    "# -*- coding: utf-8 -*-\n",
    "# UTF-8 encoding when using korean\n",
    "\n",
    "#재귀 함수\n",
    "def plus_recursive(curr_coupon, max_pizza, step) :\n",
    "    \n",
    "    if curr_coupon >= need_coupon :\n",
    "        \n",
    "        plus_pizza = int(curr_coupon/need_coupon) #추가로 시킬 수 있는 피자 수 = 추가 쿠폰 수\n",
    "        max_pizza += plus_pizza\n",
    "        \n",
    "        rest_coupon = (curr_coupon%need_coupon) #남는 쿠폰 수\n",
    "        curr_coupon = plus_pizza + rest_coupon #다시 주문 가능한 현재 쿠폰 수\n",
    "        step += 1\n",
    "        plus(curr_coupon, max_pizza) #재귀 호출\n",
    "        \n",
    "    else :\n",
    "        print(max_pizza, step)\n",
    "\n",
    "        return max_pizza, step #더 이상 시킬 피자가 없다면 max값 반환\n",
    "\n",
    "need_coupon = 5\n",
    "\n",
    "plus_recursive(10000,10000,0)\n"
   ]
  },
  {
   "cell_type": "code",
   "execution_count": 145,
   "metadata": {
    "scrolled": true
   },
   "outputs": [
    {
     "name": "stdout",
     "output_type": "stream",
     "text": [
      "*\n",
      "*\n",
      "*\n",
      "*\n",
      "1249\n"
     ]
    },
    {
     "data": {
      "text/plain": [
       "1249"
      ]
     },
     "execution_count": 145,
     "metadata": {},
     "output_type": "execute_result"
    }
   ],
   "source": [
    "def plus_while(curr_coupon, max_pizza) :\n",
    "    \n",
    "    while curr_coupon >= m :\n",
    "        \n",
    "        print('*')\n",
    "        plus_pizza = int(curr_coupon/m) #추가로 시킬 수 있는 피자 수 = 추가 쿠폰 수\n",
    "        max_pizza += plus_pizza\n",
    "\n",
    "        rest_coupon = curr_coupon%m #남는 쿠폰 수\n",
    "        curr_coupon = plus_pizza + rest_coupon #다시 주문 가능한 현재 쿠폰 수\n",
    "        \n",
    "    print(max_pizza)\n",
    "    \n",
    "    return max_pizza\n",
    "\n",
    "m=5\n",
    "\n",
    "plus_while(1000, 1000)\n"
   ]
  },
  {
   "cell_type": "code",
   "execution_count": 138,
   "metadata": {},
   "outputs": [
    {
     "name": "stdout",
     "output_type": "stream",
     "text": [
      "124\n",
      "None\n"
     ]
    }
   ],
   "source": [
    "# -*- coding: utf-8 -*-\n",
    "# UTF-8 encoding when using korean\n",
    "\n",
    "#재귀 함수\n",
    "def plus_recursive(curr_coupon, max_pizza) :\n",
    "    \n",
    "    if curr_coupon >= need_coupon :\n",
    "        plus_pizza = int(curr_coupon/need_coupon) #추가로 시킬 수 있는 피자 수 = 추가 쿠폰 수\n",
    "        max_pizza += plus_pizza\n",
    "        \n",
    "        rest_coupon = (curr_coupon%need_coupon) #남는 쿠폰 수\n",
    "        curr_coupon = plus_pizza + rest_coupon #다시 주문 가능한 현재 쿠폰 수\n",
    "        plus_recursive(curr_coupon, max_pizza) #재귀 호출\n",
    "        return \n",
    "    else : \n",
    "        print(max_pizza)\n",
    "        return \n",
    "        \n",
    "#     return max_pizza #더 이상 시킬 피자가 없다면 max값 반환\n",
    "\n",
    "need_coupon = 5\n",
    "print(plus_recursive(100,100))\n"
   ]
  },
  {
   "cell_type": "code",
   "execution_count": 144,
   "metadata": {},
   "outputs": [
    {
     "name": "stdout",
     "output_type": "stream",
     "text": [
      "1000 5\n",
      "*\n",
      "*\n",
      "*\n",
      "*\n",
      "1249"
     ]
    }
   ],
   "source": [
    "\n",
    "\n",
    "\n",
    "\n",
    "\n",
    "# -*- coding: utf-8 -*-\n",
    "# UTF-8 encoding when using korean\n",
    "\n",
    "\n",
    "#재귀 함수\n",
    "def plus(curr_coupon, max_pizza) :\n",
    "    \n",
    "    if curr_coupon >= m :\n",
    "        print(\"*\")\n",
    "        plus_pizza = int(curr_coupon/m) #추가로 시킬 수 있는 피자 수 = 추가 쿠폰 수\n",
    "        max_pizza += plus_pizza\n",
    "        \n",
    "        rest_coupon = curr_coupon%m #남는 쿠폰 수\n",
    "        curr_coupon = plus_pizza + rest_coupon #다시 주문 가능한 현재 쿠폰 수\n",
    "        plus(curr_coupon, max_pizza) #재귀 호출\n",
    "        \n",
    "    else :\n",
    "        print(max_pizza, end=\"\")\n",
    "        return max_pizza #더 이상 시킬 피자가 없다면 max값 반환\n",
    "\n",
    "\n",
    "nm = input(\"\").split()\n",
    "n = int(nm[0])\n",
    "m = int(nm[1])\n",
    "    \n",
    "plus(n, n)"
   ]
  },
  {
   "cell_type": "code",
   "execution_count": null,
   "metadata": {},
   "outputs": [],
   "source": []
  }
 ],
 "metadata": {
  "kernelspec": {
   "display_name": "Python 3",
   "language": "python",
   "name": "python3"
  },
  "language_info": {
   "codemirror_mode": {
    "name": "ipython",
    "version": 3
   },
   "file_extension": ".py",
   "mimetype": "text/x-python",
   "name": "python",
   "nbconvert_exporter": "python",
   "pygments_lexer": "ipython3",
   "version": "3.7.1"
  }
 },
 "nbformat": 4,
 "nbformat_minor": 2
}
