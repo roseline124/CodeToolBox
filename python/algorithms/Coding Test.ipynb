{
 "cells": [
  {
   "cell_type": "code",
   "execution_count": 1,
   "metadata": {},
   "outputs": [
    {
     "data": {
      "text/plain": [
       "'\\nProgrammers : https://programmers.co.kr/learn/courses/30/lessons/17676?language=python3\\n'"
      ]
     },
     "execution_count": 1,
     "metadata": {},
     "output_type": "execute_result"
    }
   ],
   "source": [
    "\"\"\"\n",
    "Programmers : https://programmers.co.kr/learn/courses/30/lessons/17676?language=python3\n",
    "2017년 카카오 블라인드 채용 테스트 : 1차 - 추석 트래픽  \n",
    "\"\"\""
   ]
  },
  {
   "cell_type": "code",
   "execution_count": 12,
   "metadata": {},
   "outputs": [],
   "source": [
    "def input_lines() :\n",
    "    log = input(\"log data : \").split(',')\n",
    "    \n",
    "    return log"
   ]
  },
  {
   "cell_type": "code",
   "execution_count": 28,
   "metadata": {},
   "outputs": [],
   "source": [
    "def parse_log(log) :\n",
    "    \n",
    "    Success_log = []\n",
    "    Treat_log = []\n",
    "    \n",
    "    for i in range(len(log)) :\n",
    "        S = log[i][11:23]\n",
    "        T = str(float(log[i][24:].replace(\"s\",\"\")))\n",
    "        \n",
    "        Success_log.append(S)\n",
    "        Treat_log.append(T)\n",
    "        \n",
    "    return Success_log, Treat_log #type : list"
   ]
  },
  {
   "cell_type": "code",
   "execution_count": 66,
   "metadata": {},
   "outputs": [],
   "source": [
    "from datetime import datetime\n",
    "\n",
    "def str_to_time(s_log, t_log) : #type : list\n",
    "    \n",
    "    Success_time = []\n",
    "    Treat_time = [] \n",
    "    \n",
    "    for i in range(len(s_log)) :\n",
    "        S = datetime.strptime(s_log[i],'%H:%M:%S.%f')\n",
    "        T = datetime.strptime(t_log[i],'%S.%f')\n",
    "\n",
    "        Success_time.append(S)\n",
    "        Treat_time.append(T)\n",
    "        \n",
    "    return Success_time, Treat_time    "
   ]
  },
  {
   "cell_type": "code",
   "execution_count": 64,
   "metadata": {},
   "outputs": [],
   "source": [
    "def get_duration(s_time, t_time) :\n",
    "    \n",
    "    start_point = []\n",
    "    end_point = []\n",
    "    time_block = []\n",
    "    \n",
    "    for i in range(len(s_time)) :\n",
    "        \n",
    "        s = s_time[i] - t_time[i]\n",
    "        \n",
    "        start_point.append(s) \n",
    "        end_point.append(s_time[i])\n",
    "        \n",
    "    return start_point, end_point\n",
    "    "
   ]
  },
  {
   "cell_type": "code",
   "execution_count": 29,
   "metadata": {},
   "outputs": [
    {
     "name": "stdout",
     "output_type": "stream",
     "text": [
      "log data : 2016-09-15 01:00:04.002 2.0s,2016-09-15 01:00:07.000 2s\n"
     ]
    }
   ],
   "source": [
    "log = input_lines()"
   ]
  },
  {
   "cell_type": "code",
   "execution_count": 59,
   "metadata": {},
   "outputs": [
    {
     "data": {
      "text/plain": [
       "(['01:00:04.002', '01:00:07.000'], ['2.0', '2.0'])"
      ]
     },
     "execution_count": 59,
     "metadata": {},
     "output_type": "execute_result"
    }
   ],
   "source": [
    "s_log, t_log= parse_log(log)\n",
    "s_log, t_log"
   ]
  },
  {
   "cell_type": "code",
   "execution_count": 71,
   "metadata": {},
   "outputs": [
    {
     "data": {
      "text/plain": [
       "(datetime.datetime(1900, 1, 1, 1, 0, 4, 2000),\n",
       " [datetime.datetime(1900, 1, 1, 0, 0, 2),\n",
       "  datetime.datetime(1900, 1, 1, 0, 0, 2)])"
      ]
     },
     "execution_count": 71,
     "metadata": {},
     "output_type": "execute_result"
    }
   ],
   "source": [
    "s_time, t_time = str_to_time(s_log, t_log)\n",
    "s_time[0], t_time"
   ]
  },
  {
   "cell_type": "code",
   "execution_count": 68,
   "metadata": {},
   "outputs": [
    {
     "data": {
      "text/plain": [
       "([datetime.timedelta(seconds=3602, microseconds=2000),\n",
       "  datetime.timedelta(seconds=3605)],\n",
       " [datetime.datetime(1900, 1, 1, 1, 0, 4, 2000),\n",
       "  datetime.datetime(1900, 1, 1, 1, 0, 7)])"
      ]
     },
     "execution_count": 68,
     "metadata": {},
     "output_type": "execute_result"
    }
   ],
   "source": [
    "start_point, end_point = get_duration(s_time, t_time)\n",
    "start_point, end_point"
   ]
  },
  {
   "cell_type": "code",
   "execution_count": 70,
   "metadata": {
    "scrolled": true
   },
   "outputs": [
    {
     "ename": "TypeError",
     "evalue": "descriptor 'time' requires a 'datetime.datetime' object but received a 'datetime.timedelta'",
     "output_type": "error",
     "traceback": [
      "\u001b[1;31m---------------------------------------------------------------------------\u001b[0m",
      "\u001b[1;31mTypeError\u001b[0m                                 Traceback (most recent call last)",
      "\u001b[1;32m<ipython-input-70-4fed4f1e91a9>\u001b[0m in \u001b[0;36m<module>\u001b[1;34m\u001b[0m\n\u001b[1;32m----> 1\u001b[1;33m \u001b[0mdatetime\u001b[0m\u001b[1;33m.\u001b[0m\u001b[0mtime\u001b[0m\u001b[1;33m(\u001b[0m\u001b[0mstart_point\u001b[0m\u001b[1;33m[\u001b[0m\u001b[1;36m0\u001b[0m\u001b[1;33m]\u001b[0m\u001b[1;33m)\u001b[0m\u001b[1;33m\u001b[0m\u001b[1;33m\u001b[0m\u001b[0m\n\u001b[0m",
      "\u001b[1;31mTypeError\u001b[0m: descriptor 'time' requires a 'datetime.datetime' object but received a 'datetime.timedelta'"
     ]
    }
   ],
   "source": [
    "datetime.time(start_point[0])"
   ]
  },
  {
   "cell_type": "code",
   "execution_count": 2,
   "metadata": {},
   "outputs": [
    {
     "name": "stdout",
     "output_type": "stream",
     "text": [
      "[\"song\", \"song\", \"jung\"]\n"
     ]
    },
    {
     "ename": "ValueError",
     "evalue": "empty separator",
     "output_type": "error",
     "traceback": [
      "\u001b[1;31m---------------------------------------------------------------------------\u001b[0m",
      "\u001b[1;31mValueError\u001b[0m                                Traceback (most recent call last)",
      "\u001b[1;32m<ipython-input-2-682544c65b8d>\u001b[0m in \u001b[0;36m<module>\u001b[1;34m\u001b[0m\n\u001b[0;32m     13\u001b[0m \u001b[1;32mif\u001b[0m \u001b[0m__name__\u001b[0m \u001b[1;33m==\u001b[0m \u001b[1;34m\"__main__\"\u001b[0m \u001b[1;33m:\u001b[0m\u001b[1;33m\u001b[0m\u001b[1;33m\u001b[0m\u001b[0m\n\u001b[0;32m     14\u001b[0m \u001b[1;33m\u001b[0m\u001b[0m\n\u001b[1;32m---> 15\u001b[1;33m     \u001b[0mparticipant\u001b[0m \u001b[1;33m=\u001b[0m \u001b[0minput\u001b[0m\u001b[1;33m(\u001b[0m\u001b[1;34m\"\"\u001b[0m\u001b[1;33m)\u001b[0m\u001b[1;33m.\u001b[0m\u001b[0msplit\u001b[0m\u001b[1;33m(\u001b[0m\u001b[1;34m\"\"\u001b[0m\u001b[1;33m)\u001b[0m\u001b[1;33m\u001b[0m\u001b[1;33m\u001b[0m\u001b[0m\n\u001b[0m\u001b[0;32m     16\u001b[0m     \u001b[0mcompletion\u001b[0m \u001b[1;33m=\u001b[0m \u001b[0minput\u001b[0m\u001b[1;33m(\u001b[0m\u001b[1;34m\"\"\u001b[0m\u001b[1;33m)\u001b[0m\u001b[1;33m.\u001b[0m\u001b[0msplit\u001b[0m\u001b[1;33m(\u001b[0m\u001b[1;34m\"\"\u001b[0m\u001b[1;33m)\u001b[0m\u001b[1;33m\u001b[0m\u001b[1;33m\u001b[0m\u001b[0m\n\u001b[0;32m     17\u001b[0m \u001b[1;33m\u001b[0m\u001b[0m\n",
      "\u001b[1;31mValueError\u001b[0m: empty separator"
     ]
    }
   ],
   "source": [
    "def solution(participant, completion):\n",
    "    \n",
    "    failed_runner = ''\n",
    "    \n",
    "    for e in completion : \n",
    "        if e in participant : \n",
    "            participant.remove(e)\n",
    "    \n",
    "    failed_runner = participant[0]\n",
    "    \n",
    "    return failed_runner\n",
    "\n",
    "if __name__ == \"__main__\" : \n",
    "    \n",
    "    participant = input(\"\").split()\n",
    "    completion = input(\"\").split()\n",
    "\n",
    "    solution(participant, completion)"
   ]
  },
  {
   "cell_type": "code",
   "execution_count": 33,
   "metadata": {},
   "outputs": [
    {
     "name": "stdout",
     "output_type": "stream",
     "text": [
      "['song', ' song', ' jung']\n"
     ]
    }
   ],
   "source": [
    "participant = input(\"\").split()"
   ]
  },
  {
   "cell_type": "code",
   "execution_count": 31,
   "metadata": {},
   "outputs": [
    {
     "data": {
      "text/plain": [
       "['song', ' song', ' jung']"
      ]
     },
     "execution_count": 31,
     "metadata": {},
     "output_type": "execute_result"
    }
   ],
   "source": [
    "list(participant.replace(\"\\\"\",'').replace(\"[\",'').replace(\"]\",'').split(','))"
   ]
  },
  {
   "cell_type": "code",
   "execution_count": 42,
   "metadata": {},
   "outputs": [
    {
     "data": {
      "text/plain": [
       "'song'"
      ]
     },
     "execution_count": 42,
     "metadata": {},
     "output_type": "execute_result"
    }
   ],
   "source": [
    "participant[0].replace(\"\\'\",'').replace(\"[\",'').replace(\"]\",'').replace(\",\",'')"
   ]
  },
  {
   "cell_type": "code",
   "execution_count": 1,
   "metadata": {},
   "outputs": [],
   "source": [
    "from collections import defaultdict\n",
    "\n",
    "a = defaultdict(lambda : 0)"
   ]
  },
  {
   "cell_type": "code",
   "execution_count": 2,
   "metadata": {},
   "outputs": [
    {
     "data": {
      "text/plain": [
       "0"
      ]
     },
     "execution_count": 2,
     "metadata": {},
     "output_type": "execute_result"
    }
   ],
   "source": [
    "a[\"leo\"]"
   ]
  },
  {
   "cell_type": "code",
   "execution_count": 4,
   "metadata": {},
   "outputs": [],
   "source": [
    "if \"leo\" in a : \n",
    "    a[\"leo\"] += 1"
   ]
  },
  {
   "cell_type": "code",
   "execution_count": 6,
   "metadata": {},
   "outputs": [
    {
     "data": {
      "text/plain": [
       "1"
      ]
     },
     "execution_count": 6,
     "metadata": {},
     "output_type": "execute_result"
    }
   ],
   "source": [
    "a[\"leo\"]%2"
   ]
  },
  {
   "cell_type": "code",
   "execution_count": null,
   "metadata": {},
   "outputs": [],
   "source": []
  }
 ],
 "metadata": {
  "kernelspec": {
   "display_name": "Python 3",
   "language": "python",
   "name": "python3"
  },
  "language_info": {
   "codemirror_mode": {
    "name": "ipython",
    "version": 3
   },
   "file_extension": ".py",
   "mimetype": "text/x-python",
   "name": "python",
   "nbconvert_exporter": "python",
   "pygments_lexer": "ipython3",
   "version": "3.7.1"
  }
 },
 "nbformat": 4,
 "nbformat_minor": 2
}
