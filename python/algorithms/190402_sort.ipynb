{
 "cells": [
  {
   "cell_type": "markdown",
   "metadata": {},
   "source": [
    "### 2750번"
   ]
  },
  {
   "cell_type": "markdown",
   "metadata": {},
   "source": [
    "### Bubble"
   ]
  },
  {
   "cell_type": "code",
   "execution_count": 1,
   "metadata": {},
   "outputs": [
    {
     "name": "stdout",
     "output_type": "stream",
     "text": [
      "5\n"
     ]
    }
   ],
   "source": [
    "N = int(input())"
   ]
  },
  {
   "cell_type": "code",
   "execution_count": 21,
   "metadata": {},
   "outputs": [
    {
     "name": "stdout",
     "output_type": "stream",
     "text": [
      "-1\n",
      "0\n",
      "4\n",
      "-5\n",
      "99\n"
     ]
    }
   ],
   "source": [
    "numbers = []\n",
    "\n",
    "for _ in range(N) : \n",
    "    numbers.append(int(input()))"
   ]
  },
  {
   "cell_type": "code",
   "execution_count": 22,
   "metadata": {},
   "outputs": [
    {
     "data": {
      "text/plain": [
       "[-1, 0, 4, -5, 99]"
      ]
     },
     "execution_count": 22,
     "metadata": {},
     "output_type": "execute_result"
    }
   ],
   "source": [
    "numbers"
   ]
  },
  {
   "cell_type": "code",
   "execution_count": 23,
   "metadata": {},
   "outputs": [],
   "source": [
    "for i, n in enumerate(numbers) : \n",
    "    for j, m in enumerate(numbers) : \n",
    "        if n < m : \n",
    "            numbers[i], numbers[j] = numbers[j], numbers[i] "
   ]
  },
  {
   "cell_type": "code",
   "execution_count": 24,
   "metadata": {},
   "outputs": [
    {
     "data": {
      "text/plain": [
       "[-5, -1, 4, 0, 99]"
      ]
     },
     "execution_count": 24,
     "metadata": {},
     "output_type": "execute_result"
    }
   ],
   "source": [
    "numbers"
   ]
  },
  {
   "cell_type": "code",
   "execution_count": 25,
   "metadata": {},
   "outputs": [
    {
     "name": "stdout",
     "output_type": "stream",
     "text": [
      "-5\n",
      "-1\n",
      "4\n",
      "0\n",
      "99\n"
     ]
    }
   ],
   "source": [
    "for n in numbers : \n",
    "    print(n)"
   ]
  },
  {
   "cell_type": "code",
   "execution_count": 28,
   "metadata": {},
   "outputs": [
    {
     "name": "stdout",
     "output_type": "stream",
     "text": [
      "2\n",
      "11\n",
      "2\n",
      "2\n",
      "11\n"
     ]
    }
   ],
   "source": [
    "N = int(input())\n",
    "\n",
    "numbers = []\n",
    "\n",
    "for _ in range(N) : \n",
    "    numbers.append(int(input()))\n",
    "    \n",
    "for i, n in enumerate(numbers) : \n",
    "    for j, m in enumerate(numbers) : \n",
    "        if n < m : \n",
    "            numbers[i], numbers[j] = numbers[j], numbers[i] \n",
    "            \n",
    "for n in numbers : \n",
    "    print(n)"
   ]
  },
  {
   "cell_type": "code",
   "execution_count": 29,
   "metadata": {},
   "outputs": [
    {
     "name": "stdout",
     "output_type": "stream",
     "text": [
      "5\n",
      "5\n",
      "2\n",
      "3\n",
      "4\n",
      "1\n",
      "1\n",
      "2\n",
      "3\n",
      "4\n",
      "5\n"
     ]
    }
   ],
   "source": [
    "N = int(input())\n",
    "\n",
    "numbers = []\n",
    "\n",
    "for _ in range(N) : \n",
    "    numbers.append(int(input()))\n",
    "\n",
    "for i in range(len(numbers)) : \n",
    "    for j in range(len(numbers)) : \n",
    "        if numbers[i] < numbers[j] : \n",
    "            numbers[i], numbers[j] = numbers[j], numbers[i]\n",
    "            \n",
    "for n in numbers : \n",
    "    print(n)"
   ]
  },
  {
   "cell_type": "markdown",
   "metadata": {},
   "source": [
    "### insert sort"
   ]
  },
  {
   "cell_type": "code",
   "execution_count": 64,
   "metadata": {},
   "outputs": [
    {
     "name": "stdout",
     "output_type": "stream",
     "text": [
      "5\n",
      "5\n",
      "3\n",
      "2\n",
      "4\n",
      "1\n",
      "1\n",
      "2\n",
      "3\n",
      "4\n",
      "5\n"
     ]
    }
   ],
   "source": [
    "N = int(input())\n",
    "\n",
    "nums = []\n",
    "\n",
    "for _ in range(N) : \n",
    "    nums.append(int(input()))\n",
    "\n",
    "# insert sort\n",
    "for i in range(1, len(nums)) :\n",
    "    while (i>0) & (nums[i] < nums[i-1]) :\n",
    "        nums[i], nums[i-1] = nums[i-1], nums[i]\n",
    "        \n",
    "        i -= 1\n",
    "        \n",
    "for n in nums : \n",
    "    print(n)"
   ]
  },
  {
   "cell_type": "code",
   "execution_count": 63,
   "metadata": {},
   "outputs": [
    {
     "data": {
      "text/plain": [
       "[1, 2, 3, 4, 5]"
      ]
     },
     "execution_count": 63,
     "metadata": {},
     "output_type": "execute_result"
    }
   ],
   "source": [
    "nums"
   ]
  },
  {
   "cell_type": "markdown",
   "metadata": {},
   "source": [
    "### 2751번 "
   ]
  },
  {
   "cell_type": "markdown",
   "metadata": {},
   "source": [
    "### Merge Sort\n",
    "\n",
    "[참고1](https://yujuwon.tistory.com/entry/%EB%B3%91%ED%95%A9%EC%A0%95%EB%A0%ACMerge-Sort)\n",
    "[참고2](https://zeddios.tistory.com/38)\n",
    "[참고3](http://egloos.zum.com/sweeper/v/920985)\n",
    "\n",
    "재귀를 써야한다."
   ]
  },
  {
   "cell_type": "code",
   "execution_count": 40,
   "metadata": {},
   "outputs": [
    {
     "name": "stdout",
     "output_type": "stream",
     "text": [
      "10\n"
     ]
    }
   ],
   "source": [
    "N = int(input())"
   ]
  },
  {
   "cell_type": "code",
   "execution_count": 75,
   "metadata": {},
   "outputs": [
    {
     "name": "stdout",
     "output_type": "stream",
     "text": [
      "10\n",
      "2\n",
      "1\n",
      "5\n",
      "3\n",
      "4\n",
      "7\n",
      "6\n",
      "9\n",
      "8\n"
     ]
    }
   ],
   "source": [
    "nums = []\n",
    "\n",
    "for _ in range(N):\n",
    "    nums.append(int(input()))"
   ]
  },
  {
   "cell_type": "code",
   "execution_count": 56,
   "metadata": {},
   "outputs": [
    {
     "data": {
      "text/plain": [
       "[10, 2, 1, 5, 3, 4, 7, 6, 9, 8]"
      ]
     },
     "execution_count": 56,
     "metadata": {},
     "output_type": "execute_result"
    }
   ],
   "source": [
    "nums"
   ]
  },
  {
   "cell_type": "markdown",
   "metadata": {},
   "source": [
    "**분할**\n",
    "\n",
    "1개 값 -> 2개 리스트로 정렬"
   ]
  },
  {
   "cell_type": "code",
   "execution_count": 59,
   "metadata": {},
   "outputs": [
    {
     "name": "stdout",
     "output_type": "stream",
     "text": [
      "5\n",
      "2\n",
      "1\n",
      "0\n"
     ]
    },
    {
     "data": {
      "text/plain": [
       "[10, 2, 1, 5, 3]"
      ]
     },
     "execution_count": 59,
     "metadata": {},
     "output_type": "execute_result"
    }
   ],
   "source": [
    "ret1 = []\n",
    "ret2 = []\n",
    "\n",
    "def devide(nums) : \n",
    "    \n",
    "    mid = int(len(nums)/2)\n",
    "    print(mid)\n",
    "    \n",
    "    if mid != 0 : \n",
    "        nums = nums[:mid]\n",
    "#         right = nums[mid:]\n",
    "        devide(nums)\n",
    "    return nums\n",
    "\n",
    "ret1 = devide(nums)\n",
    "ret1"
   ]
  },
  {
   "cell_type": "code",
   "execution_count": 76,
   "metadata": {},
   "outputs": [
    {
     "name": "stdout",
     "output_type": "stream",
     "text": [
      "tmp 10\n",
      "tmp 2\n",
      "nums[j+1] 10\n",
      "tmp 1\n",
      "nums[j+1] 2\n",
      "nums[j+1] 2\n",
      "tmp 5\n",
      "tmp 3\n",
      "nums[j+1] 5\n",
      "tmp 4\n",
      "tmp 7\n",
      "tmp 6\n",
      "nums[j+1] 7\n",
      "tmp 9\n",
      "tmp 8\n",
      "nums[j+1] 9\n"
     ]
    }
   ],
   "source": [
    "def merge_sort(nums, k):\n",
    "    for i in range(k):\n",
    "        tmp = nums[i]\n",
    "        j = i - 1\n",
    "        print(\"tmp\", tmp)\n",
    "\n",
    "        while (j>=0) & (tmp < nums[j]):\n",
    "            j -= 1\n",
    "            print(\"nums[j+1]\", nums[j+1])\n",
    "            nums[j+1] = nums[j]\n",
    "            nums[j+1] = tmp \n",
    "                \n",
    "merge_sort(nums, len(nums))"
   ]
  },
  {
   "cell_type": "code",
   "execution_count": 77,
   "metadata": {},
   "outputs": [
    {
     "data": {
      "text/plain": [
       "[1, 1, 1, 3, 3, 4, 6, 6, 8, 8]"
      ]
     },
     "execution_count": 77,
     "metadata": {},
     "output_type": "execute_result"
    }
   ],
   "source": [
    "nums"
   ]
  },
  {
   "cell_type": "code",
   "execution_count": null,
   "metadata": {},
   "outputs": [],
   "source": [
    "sorted_list = []\n",
    "\n",
    "for i, n in enumerate(nums) :\n",
    "    tmp = []\n",
    "    i += 1\n",
    "    \n",
    "    if (nums[i] < nums[i-1]) & (i != len(nums)) :\n",
    "        tmp.append(nums[i] \n",
    "        \n",
    "    elif i == len(nums) :\n",
    "        \n",
    "        \n",
    "    "
   ]
  },
  {
   "cell_type": "markdown",
   "metadata": {},
   "source": [
    "**정복**\n",
    "\n",
    "분할된 리스트들 각각 정렬"
   ]
  },
  {
   "cell_type": "code",
   "execution_count": 38,
   "metadata": {},
   "outputs": [
    {
     "name": "stdout",
     "output_type": "stream",
     "text": [
      "[]\n",
      "[4]\n",
      "[4, 2]\n"
     ]
    }
   ],
   "source": [
    "sorted_list = []\n",
    "is_sorted = False\n",
    "\n",
    "# pointer \n",
    "i = 0\n",
    "j = 0\n",
    "\n",
    "while True : \n",
    "    if (i == len(left)) & (j == len(right)):\n",
    "        break\n",
    "    else : \n",
    "        if left[i] < right[j] :\n",
    "            sorted_list.append(left[i])\n",
    "            i += 1\n",
    "\n",
    "        else : \n",
    "            sorted_list.append(right[j])\n",
    "            j += 1"
   ]
  },
  {
   "cell_type": "code",
   "execution_count": 37,
   "metadata": {},
   "outputs": [
    {
     "data": {
      "text/plain": [
       "[4, 2, 1]"
      ]
     },
     "execution_count": 37,
     "metadata": {},
     "output_type": "execute_result"
    }
   ],
   "source": [
    "sorted_list"
   ]
  },
  {
   "cell_type": "markdown",
   "metadata": {},
   "source": [
    "**결합**"
   ]
  },
  {
   "cell_type": "markdown",
   "metadata": {},
   "source": [
    "### 1181번 단어 정렬"
   ]
  },
  {
   "cell_type": "code",
   "execution_count": 1,
   "metadata": {},
   "outputs": [],
   "source": [
    "import sys \n",
    "\n",
    "strings = sys.stdin.read().splitlines() \n",
    "strings = strings[2:]\n",
    "\n",
    "dict_str = {}\n",
    "\n",
    "for s in strings : \n",
    "    dict_str[s] = len(s)"
   ]
  },
  {
   "cell_type": "code",
   "execution_count": 43,
   "metadata": {},
   "outputs": [],
   "source": [
    "dict_str = {'i':1, 'im':2, 'df':2, 'sdf':3}"
   ]
  },
  {
   "cell_type": "code",
   "execution_count": 44,
   "metadata": {},
   "outputs": [],
   "source": [
    "len_ordered_words = sorted(dict_str.items(), key=lambda x:x[1])"
   ]
  },
  {
   "cell_type": "code",
   "execution_count": 74,
   "metadata": {},
   "outputs": [],
   "source": [
    "from collections import defaultdict\n",
    "\n",
    "dic_ordered_words = defaultdict(lambda : -1)\n",
    "\n",
    "# 개수 별로 단어 묶기\n",
    "for w in len_ordered_words : \n",
    "    if dic_ordered_words[w[1]] == -1 : \n",
    "        dic_ordered_words[w[1]] = [w[0]]\n",
    "    else : \n",
    "        dic_ordered_words[w[1]].append(w[0])"
   ]
  },
  {
   "cell_type": "code",
   "execution_count": 88,
   "metadata": {},
   "outputs": [
    {
     "name": "stdout",
     "output_type": "stream",
     "text": [
      "['im', 'df']\n"
     ]
    }
   ],
   "source": [
    "# 단어 사전 정렬\n",
    "for l, w in dic_ordered_words.items() : \n",
    "    if len(w) > 1 : \n",
    "        dic_ordered_words[l] = sorted(w)"
   ]
  },
  {
   "cell_type": "code",
   "execution_count": 90,
   "metadata": {},
   "outputs": [],
   "source": [
    "import sys \n",
    "from collections import defaultdict\n",
    "\n",
    "dic_ordered_words = defaultdict(lambda : -1)\n",
    "dict_str = {}\n",
    "\n",
    "strings = sys.stdin.read().splitlines() \n",
    "strings = set(strings[1:])\n",
    "\n",
    "for s in strings : \n",
    "    dict_str[s] = len(s)\n",
    "    \n",
    "# 단어 길이 정렬\n",
    "len_ordered_words = sorted(dict_str.items(), key=lambda x:x[1])   \n",
    "\n",
    "# 개수 별로 단어 묶기\n",
    "for w in len_ordered_words : \n",
    "    if dic_ordered_words[w[1]] == -1 : \n",
    "        dic_ordered_words[w[1]] = [w[0]]\n",
    "    else : \n",
    "        dic_ordered_words[w[1]].append(w[0])\n",
    "        \n",
    "# 단어 사전 정렬\n",
    "for l, w in dic_ordered_words.items() : \n",
    "    if len(w) > 1 : \n",
    "        dic_ordered_words[l] = sorted(w)\n",
    "        \n",
    "# 출력\n",
    "for words in dic_ordered_words.values():\n",
    "    for w in words : \n",
    "        print(w)"
   ]
  },
  {
   "cell_type": "code",
   "execution_count": 91,
   "metadata": {},
   "outputs": [
    {
     "data": {
      "text/plain": [
       "defaultdict(<function __main__.<lambda>()>, {})"
      ]
     },
     "execution_count": 91,
     "metadata": {},
     "output_type": "execute_result"
    }
   ],
   "source": [
    "dic_ordered_words"
   ]
  },
  {
   "cell_type": "code",
   "execution_count": 92,
   "metadata": {},
   "outputs": [],
   "source": [
    "strings = ['w','w','l']"
   ]
  },
  {
   "cell_type": "code",
   "execution_count": 94,
   "metadata": {},
   "outputs": [],
   "source": [
    "s = set(strings)"
   ]
  },
  {
   "cell_type": "code",
   "execution_count": 95,
   "metadata": {},
   "outputs": [
    {
     "name": "stdout",
     "output_type": "stream",
     "text": [
      "w\n",
      "l\n"
     ]
    }
   ],
   "source": [
    "for n in s : \n",
    "    print(n)"
   ]
  },
  {
   "cell_type": "code",
   "execution_count": 98,
   "metadata": {},
   "outputs": [
    {
     "name": "stdout",
     "output_type": "stream",
     "text": [
      "13\n",
      "but\n",
      "i\n",
      "wont\n",
      "hesitate\n",
      "no\n",
      "more\n",
      "no\n",
      "more\n",
      "it\n",
      "cannot\n",
      "wait\n",
      "im\n",
      "yours\n",
      "i\n",
      "im\n",
      "it\n",
      "no\n",
      "but\n",
      "more\n",
      "wait\n",
      "wont\n",
      "yours\n",
      "cannot\n",
      "hesitate\n"
     ]
    }
   ],
   "source": [
    "import sys \n",
    "from collections import defaultdict\n",
    "\n",
    "dic_ordered_words = defaultdict(lambda : -1)\n",
    "dict_str = {}\n",
    "\n",
    "N = int(input())\n",
    "strings = []\n",
    "\n",
    "for _ in range(N):\n",
    "    strings.append(input())\n",
    "\n",
    "strings = set(strings)\n",
    "\n",
    "for s in strings : \n",
    "    dict_str[s] = len(s)\n",
    "    \n",
    "# 단어 길이 정렬\n",
    "len_ordered_words = sorted(dict_str.items(), key=lambda x:x[1])   \n",
    "\n",
    "# 개수 별로 단어 묶기\n",
    "for w in len_ordered_words : \n",
    "    if dic_ordered_words[w[1]] == -1 : \n",
    "        dic_ordered_words[w[1]] = [w[0]]\n",
    "    else : \n",
    "        dic_ordered_words[w[1]].append(w[0])\n",
    "        \n",
    "# 단어 사전 정렬\n",
    "for l, w in dic_ordered_words.items() : \n",
    "    if len(w) > 1 : \n",
    "        dic_ordered_words[l] = sorted(w)\n",
    "\n",
    "# 출력\n",
    "for words in dic_ordered_words.values():\n",
    "    for w in words : \n",
    "        print(w)"
   ]
  },
  {
   "cell_type": "code",
   "execution_count": 99,
   "metadata": {},
   "outputs": [],
   "source": [
    "s = [1,2,3,4,5]"
   ]
  },
  {
   "cell_type": "code",
   "execution_count": 100,
   "metadata": {},
   "outputs": [
    {
     "data": {
      "text/plain": [
       "[3, 4, 5]"
      ]
     },
     "execution_count": 100,
     "metadata": {},
     "output_type": "execute_result"
    }
   ],
   "source": [
    "s[2:]"
   ]
  },
  {
   "cell_type": "markdown",
   "metadata": {},
   "source": [
    "### 1427번 소트인사이드"
   ]
  },
  {
   "cell_type": "code",
   "execution_count": 12,
   "metadata": {},
   "outputs": [
    {
     "name": "stdout",
     "output_type": "stream",
     "text": [
      "2143\n"
     ]
    }
   ],
   "source": [
    "nums = input()"
   ]
  },
  {
   "cell_type": "code",
   "execution_count": 15,
   "metadata": {},
   "outputs": [],
   "source": [
    "nums = [int(n)  for n in nums]"
   ]
  },
  {
   "cell_type": "code",
   "execution_count": 16,
   "metadata": {},
   "outputs": [
    {
     "data": {
      "text/plain": [
       "[2, 1, 4, 3]"
      ]
     },
     "execution_count": 16,
     "metadata": {},
     "output_type": "execute_result"
    }
   ],
   "source": [
    "nums"
   ]
  },
  {
   "cell_type": "code",
   "execution_count": 19,
   "metadata": {},
   "outputs": [],
   "source": [
    "ordered_nums = sorted(nums, reverse=True)"
   ]
  },
  {
   "cell_type": "code",
   "execution_count": 21,
   "metadata": {},
   "outputs": [
    {
     "name": "stdout",
     "output_type": "stream",
     "text": [
      "4321"
     ]
    }
   ],
   "source": [
    "for n in ordered_nums : \n",
    "    print(n, end=\"\")"
   ]
  },
  {
   "cell_type": "code",
   "execution_count": null,
   "metadata": {},
   "outputs": [],
   "source": [
    "nums = input()\n",
    "nums = [int(n)  for n in nums]\n",
    "\n",
    "ordered_nums = sorted(nums, reverse=True)\n",
    "\n",
    "for n in ordered_nums : \n",
    "    print(n, end=\"\")"
   ]
  },
  {
   "cell_type": "markdown",
   "metadata": {},
   "source": [
    "### 2108번 통계학"
   ]
  },
  {
   "cell_type": "code",
   "execution_count": 79,
   "metadata": {},
   "outputs": [
    {
     "name": "stdout",
     "output_type": "stream",
     "text": [
      "5\n",
      "-1\n",
      "-2\n",
      "-3\n",
      "-1\n",
      "-2\n",
      "-2\n",
      "-2\n",
      "-1\n",
      "2\n"
     ]
    }
   ],
   "source": [
    "from collections import Counter\n",
    "\n",
    "t = int(input())\n",
    "\n",
    "numbers = []\n",
    "for _ in range(t):\n",
    "    numbers.append(int(input()))\n",
    "    \n",
    "def mean(nums):\n",
    "    return round(sum(nums)/len(nums))\n",
    "\n",
    "def median(nums):\n",
    "    nums.sort()\n",
    "    mid = nums[len(nums)//2] # nums의 개수는 홀수\n",
    "    \n",
    "    return mid\n",
    "\n",
    "def mode(nums):\n",
    "    mode_dict = Counter(nums)\n",
    "    modes = mode_dict.most_common()    \n",
    "    \n",
    "    if len(nums) > 1 : \n",
    "        if modes[0][1] == modes[1][1]:\n",
    "            mod = modes[1][0]\n",
    "        else : \n",
    "            mod = modes[0][0]\n",
    "    else : \n",
    "        mod = modes[0][0]\n",
    "\n",
    "    return mod\n",
    "        \n",
    "def scope(nums):\n",
    "    return max(nums) - min(nums)\n",
    "\n",
    "print(mean(numbers))\n",
    "print(median(numbers))\n",
    "print(mode(numbers))\n",
    "print(scope(numbers))"
   ]
  },
  {
   "cell_type": "code",
   "execution_count": 57,
   "metadata": {},
   "outputs": [],
   "source": [
    "def mode(nums):\n",
    "    mode_dict = Counter(nums)\n",
    "    modes = [ k for k, v in mode_dict.items() if v == max(mode_dict.values())]\n",
    "    modes = sorted(modes) \n",
    "\n",
    "    return modes[0] if len(modes) == 1 else modes[1]"
   ]
  },
  {
   "cell_type": "code",
   "execution_count": 71,
   "metadata": {},
   "outputs": [],
   "source": [
    "nums = [2,1,6,6,3,4,5]\n",
    "nums.sort()"
   ]
  },
  {
   "cell_type": "code",
   "execution_count": 72,
   "metadata": {},
   "outputs": [],
   "source": [
    "from collections import Counter\n",
    "\n",
    "mode_dict = Counter(nums)"
   ]
  },
  {
   "cell_type": "code",
   "execution_count": 73,
   "metadata": {},
   "outputs": [],
   "source": [
    "modes = mode_dict.most_common()"
   ]
  },
  {
   "cell_type": "code",
   "execution_count": 74,
   "metadata": {},
   "outputs": [
    {
     "data": {
      "text/plain": [
       "[(6, 2), (1, 1), (2, 1), (3, 1), (4, 1), (5, 1)]"
      ]
     },
     "execution_count": 74,
     "metadata": {},
     "output_type": "execute_result"
    }
   ],
   "source": [
    "modes"
   ]
  },
  {
   "cell_type": "code",
   "execution_count": 76,
   "metadata": {},
   "outputs": [],
   "source": [
    "if len(nums) > 1 : \n",
    "    if modes[0][1] == modes[1][1]:\n",
    "        mod = modes[1][0]\n",
    "    else : \n",
    "        mod = modes[0][0]\n",
    "else : \n",
    "    mod = modes[0][0]"
   ]
  },
  {
   "cell_type": "markdown",
   "metadata": {},
   "source": [
    "### 정답"
   ]
  },
  {
   "cell_type": "code",
   "execution_count": 77,
   "metadata": {},
   "outputs": [
    {
     "data": {
      "text/plain": [
       "6"
      ]
     },
     "execution_count": 77,
     "metadata": {},
     "output_type": "execute_result"
    }
   ],
   "source": [
    "import sys \n",
    "from collections import Counter\n",
    "\n",
    "#main\n",
    "t = int(sys.stdin.readline())\n",
    "\n",
    "numbers = []\n",
    "for _ in range(t):\n",
    "    numbers.append(int(sys.stdin.readline()))\n",
    "    \n",
    "def mean(nums):\n",
    "    return round(sum(nums)/len(nums))\n",
    "\n",
    "def median(nums):\n",
    "    nums.sort()\n",
    "    mid = nums[len(nums)//2] # nums의 개수는 홀수\n",
    "    \n",
    "    return mid\n",
    "\n",
    "def mode(nums):\n",
    "    mode_dict = Counter(nums)\n",
    "    modes = mode_dict.most_common()    \n",
    "    \n",
    "    if len(nums) > 1 : \n",
    "        if modes[0][1] == modes[1][1]:\n",
    "            mod = modes[1][0]\n",
    "        else : \n",
    "            mod = modes[0][0]\n",
    "    else : \n",
    "        mod = modes[0][0]\n",
    "\n",
    "    return mod\n",
    "        \n",
    "def scope(nums):\n",
    "    return max(nums) - min(nums)\n",
    "\n",
    "print(mean(numbers))\n",
    "print(median(numbers))\n",
    "print(mode(numbers))\n",
    "print(scope(numbers))"
   ]
  },
  {
   "cell_type": "markdown",
   "metadata": {},
   "source": []
  },
  {
   "cell_type": "code",
   "execution_count": 9,
   "metadata": {},
   "outputs": [],
   "source": [
    "from collections import Counter\n",
    "d = [1,2,1,3,3,3,5]"
   ]
  },
  {
   "cell_type": "code",
   "execution_count": 10,
   "metadata": {},
   "outputs": [],
   "source": [
    "d = Counter(d)"
   ]
  },
  {
   "cell_type": "code",
   "execution_count": 11,
   "metadata": {},
   "outputs": [
    {
     "data": {
      "text/plain": [
       "[(3, 3), (1, 2), (2, 1), (5, 1)]"
      ]
     },
     "execution_count": 11,
     "metadata": {},
     "output_type": "execute_result"
    }
   ],
   "source": [
    "d.most_common()"
   ]
  },
  {
   "cell_type": "code",
   "execution_count": 8,
   "metadata": {},
   "outputs": [
    {
     "data": {
      "text/plain": [
       "Counter({1: 2, 3: 2})"
      ]
     },
     "execution_count": 8,
     "metadata": {},
     "output_type": "execute_result"
    }
   ],
   "source": [
    "d"
   ]
  },
  {
   "cell_type": "code",
   "execution_count": null,
   "metadata": {},
   "outputs": [],
   "source": []
  }
 ],
 "metadata": {
  "kernelspec": {
   "display_name": "Python 3",
   "language": "python",
   "name": "python3"
  },
  "language_info": {
   "codemirror_mode": {
    "name": "ipython",
    "version": 3
   },
   "file_extension": ".py",
   "mimetype": "text/x-python",
   "name": "python",
   "nbconvert_exporter": "python",
   "pygments_lexer": "ipython3",
   "version": "3.7.1"
  }
 },
 "nbformat": 4,
 "nbformat_minor": 2
}
