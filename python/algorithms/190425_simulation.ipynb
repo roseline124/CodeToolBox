{
 "cells": [
  {
   "cell_type": "markdown",
   "metadata": {},
   "source": [
    "### 1547번 - 공 \n",
    "\n",
    "정답"
   ]
  },
  {
   "cell_type": "code",
   "execution_count": 9,
   "metadata": {},
   "outputs": [
    {
     "name": "stdout",
     "output_type": "stream",
     "text": [
      "4\n",
      "3 1\n",
      "[3, 2, 1]\n",
      "2 3\n",
      "[2, 3, 1]\n",
      "3 1\n",
      "[2, 1, 3]\n",
      "3 2\n",
      "[3, 1, 2]\n"
     ]
    }
   ],
   "source": [
    "N = int(input())\n",
    "\n",
    "cups = [1,2,3]\n",
    "for _ in range(N):\n",
    "    x, y = map(int, input().split())\n",
    "    \n",
    "    xi = cups.index(x)\n",
    "    yi = cups.index(y)\n",
    "    \n",
    "    cups[xi], cups[yi] = cups[yi], cups[xi]\n",
    "    \n",
    "print(cups[0])"
   ]
  },
  {
   "cell_type": "code",
   "execution_count": 2,
   "metadata": {},
   "outputs": [
    {
     "data": {
      "text/plain": [
       "[3, 1, 2]"
      ]
     },
     "execution_count": 2,
     "metadata": {},
     "output_type": "execute_result"
    }
   ],
   "source": [
    "cups"
   ]
  },
  {
   "cell_type": "code",
   "execution_count": 7,
   "metadata": {},
   "outputs": [
    {
     "data": {
      "text/plain": [
       "0"
      ]
     },
     "execution_count": 7,
     "metadata": {},
     "output_type": "execute_result"
    }
   ],
   "source": [
    "cups.index(3)"
   ]
  },
  {
   "cell_type": "markdown",
   "metadata": {},
   "source": [
    "### 1094번 막대기 \n",
    "\n",
    "https://www.acmicpc.net/problem/1094"
   ]
  },
  {
   "cell_type": "code",
   "execution_count": 12,
   "metadata": {},
   "outputs": [
    {
     "name": "stdout",
     "output_type": "stream",
     "text": [
      "32\n"
     ]
    }
   ],
   "source": [
    "X = int(input())"
   ]
  },
  {
   "cell_type": "code",
   "execution_count": 13,
   "metadata": {},
   "outputs": [],
   "source": [
    "bars = [32, 16, 8, 4, 2, 1, 1]"
   ]
  },
  {
   "cell_type": "code",
   "execution_count": 14,
   "metadata": {},
   "outputs": [],
   "source": [
    "b_sum = []\n",
    "for b in bars : \n",
    "    if (b <= X) & ((sum(b_sum) + b) <= X) :\n",
    "        b_sum.append(b)"
   ]
  },
  {
   "cell_type": "code",
   "execution_count": 15,
   "metadata": {},
   "outputs": [
    {
     "name": "stdout",
     "output_type": "stream",
     "text": [
      "1\n"
     ]
    }
   ],
   "source": [
    "print(len(b_sum))"
   ]
  },
  {
   "cell_type": "code",
   "execution_count": 18,
   "metadata": {},
   "outputs": [
    {
     "name": "stdout",
     "output_type": "stream",
     "text": [
      "48\n",
      "2\n"
     ]
    }
   ],
   "source": [
    "X = int(input())\n",
    "\n",
    "bars = [32, 16, 8, 4, 2, 1, 1]\n",
    "\n",
    "b_sum = []\n",
    "for b in bars : \n",
    "    if (b <= X) & ((sum(b_sum) + b) <= X) :\n",
    "        b_sum.append(b)\n",
    "\n",
    "if X == 64 : \n",
    "    print(1)\n",
    "else : \n",
    "    print(len(b_sum))"
   ]
  },
  {
   "cell_type": "code",
   "execution_count": null,
   "metadata": {},
   "outputs": [],
   "source": []
  }
 ],
 "metadata": {
  "kernelspec": {
   "display_name": "Python 3",
   "language": "python",
   "name": "python3"
  },
  "language_info": {
   "codemirror_mode": {
    "name": "ipython",
    "version": 3
   },
   "file_extension": ".py",
   "mimetype": "text/x-python",
   "name": "python",
   "nbconvert_exporter": "python",
   "pygments_lexer": "ipython3",
   "version": "3.7.1"
  }
 },
 "nbformat": 4,
 "nbformat_minor": 2
}
