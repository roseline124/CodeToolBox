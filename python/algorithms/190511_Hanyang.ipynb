{
 "cells": [
  {
   "cell_type": "markdown",
   "metadata": {},
   "source": [
    "https://www.acmicpc.net/contest/view/362"
   ]
  },
  {
   "cell_type": "markdown",
   "metadata": {},
   "source": [
    "### 16459"
   ]
  },
  {
   "cell_type": "code",
   "execution_count": 10,
   "metadata": {},
   "outputs": [
    {
     "name": "stdout",
     "output_type": "stream",
     "text": [
      "WHAT\n",
      "0\n"
     ]
    }
   ],
   "source": [
    "sentences = []\n",
    "\n",
    "curr_s = ''\n",
    "while True : \n",
    "    curr_s = input()\n",
    "    \n",
    "    if curr_s == '0' : \n",
    "        break\n",
    "        \n",
    "    sentences.append(curr_s)"
   ]
  },
  {
   "cell_type": "code",
   "execution_count": 11,
   "metadata": {},
   "outputs": [
    {
     "name": "stdout",
     "output_type": "stream",
     "text": [
      "A\n",
      "WHO\n",
      "WHERE\n"
     ]
    }
   ],
   "source": [
    "WHO = input()\n",
    "WHERE = input()\n",
    "WHAT = input()"
   ]
  },
  {
   "cell_type": "code",
   "execution_count": 13,
   "metadata": {},
   "outputs": [],
   "source": [
    "def replace_word(who, where, what):\n",
    "    \"\"\"WHERE나 WHAT이 가리키는 것에 맞춰 단어를 대체한다.\"\"\"\n",
    "    \n",
    "    # where\n",
    "    if where == 'WHO':\n",
    "        where = who\n",
    "    \n",
    "    if what == 'WHERE':\n",
    "        what = where\n",
    "    elif what == 'WHO':\n",
    "        what = who\n",
    "    \n",
    "    return where, what"
   ]
  },
  {
   "cell_type": "code",
   "execution_count": 14,
   "metadata": {},
   "outputs": [
    {
     "name": "stdout",
     "output_type": "stream",
     "text": [
      "A\n"
     ]
    }
   ],
   "source": [
    "WHERE, WHAT = replace_word(WHO, WHERE, WHAT)\n",
    "\n",
    "for s in sentences : \n",
    "    print(s.replace('WHO', WHO).replace('WHERE', WHERE).replace('WHAT', WHAT))"
   ]
  },
  {
   "cell_type": "markdown",
   "metadata": {},
   "source": [
    "### 풀이"
   ]
  },
  {
   "cell_type": "code",
   "execution_count": 28,
   "metadata": {},
   "outputs": [
    {
     "data": {
      "text/plain": [
       "[-1, 0, 1]"
      ]
     },
     "execution_count": 28,
     "metadata": {},
     "output_type": "execute_result"
    }
   ],
   "source": [
    "import sys\n",
    "\n",
    "strings_list = sys.stdin.read().splitlines()\n",
    "\n",
    "sentences = strings_list[:-4]\n",
    "WHO, WHERE, WHAT = strings_list[-3:]\n",
    "\n",
    "def replace_word(who, where, what):\n",
    "    \"\"\"WHERE나 WHAT이 가리키는 것에 맞춰 단어를 대체한다.\"\"\"\n",
    "    \n",
    "    # where\n",
    "    if where == 'WHO':\n",
    "        where = who\n",
    "    \n",
    "    if what == 'WHERE':\n",
    "        what = where\n",
    "    elif what == 'WHO':\n",
    "        what = who\n",
    "    \n",
    "    return where, what\n",
    "\n",
    "WHERE, WHAT = replace_word(WHO, WHERE, WHAT)\n",
    "\n",
    "for s in sentences : \n",
    "    print(s.replace('WHO', WHO).replace('WHERE', WHERE).replace('WHAT', WHAT))"
   ]
  },
  {
   "cell_type": "markdown",
   "metadata": {},
   "source": [
    "### 16462 '나교수' 교수님의 악필"
   ]
  },
  {
   "cell_type": "code",
   "execution_count": 66,
   "metadata": {},
   "outputs": [
    {
     "data": {
      "text/plain": [
       "71"
      ]
     },
     "execution_count": 66,
     "metadata": {},
     "output_type": "execute_result"
    }
   ],
   "source": [
    "N = int(input())\n",
    "\n",
    "scores = []\n",
    "for _ in range(N):\n",
    "    scores.append(input())\n",
    "    \n",
    "for i, s in enumerate(scores) : \n",
    "    if s != '100' :\n",
    "        scores[i] = s.replace('0', '9').replace('6','9')\n",
    "\n",
    "scores = list(map(int, scores))\n",
    "avg = (sum(scores)/len(scores))\n",
    "\n",
    "if (avg- round(avg)) == 0.5 :\n",
    "    avg += 0.5\n",
    "    print(int(avg))    \n",
    "else : \n",
    "    print(round(avg))"
   ]
  },
  {
   "cell_type": "markdown",
   "metadata": {},
   "source": [
    "### 16464 가주아\n",
    "\n",
    "일일이 확인해본 결과 2의 승에 속하는 수들만 X"
   ]
  },
  {
   "cell_type": "code",
   "execution_count": 94,
   "metadata": {},
   "outputs": [],
   "source": [
    "square_2 = [ 2**n for n in range(1,30)]"
   ]
  },
  {
   "cell_type": "code",
   "execution_count": 92,
   "metadata": {},
   "outputs": [
    {
     "name": "stdout",
     "output_type": "stream",
     "text": [
      "2\n",
      "9\n",
      "4\n"
     ]
    }
   ],
   "source": [
    "N = int(input())\n",
    "\n",
    "dealers = []\n",
    "for _ in range(N):\n",
    "    dealers.append(int(input()))"
   ]
  },
  {
   "cell_type": "code",
   "execution_count": 93,
   "metadata": {},
   "outputs": [
    {
     "name": "stdout",
     "output_type": "stream",
     "text": [
      "Gazua\n",
      "GoHanGang\n"
     ]
    }
   ],
   "source": [
    "for k in dealers : \n",
    "    if k in square_2 : \n",
    "        print(\"GoHanGang\")\n",
    "\n",
    "    else : \n",
    "        print(\"Gazua\")"
   ]
  },
  {
   "cell_type": "markdown",
   "metadata": {},
   "source": [
    "### 16466 콘서트"
   ]
  },
  {
   "cell_type": "code",
   "execution_count": 104,
   "metadata": {},
   "outputs": [
    {
     "name": "stdout",
     "output_type": "stream",
     "text": [
      "5\n",
      "1 2 3 4 5\n"
     ]
    }
   ],
   "source": [
    "N = int(input())\n",
    "\n",
    "nums = list(map(int, input().split()))"
   ]
  },
  {
   "cell_type": "code",
   "execution_count": 105,
   "metadata": {},
   "outputs": [],
   "source": [
    "nums.sort()"
   ]
  },
  {
   "cell_type": "code",
   "execution_count": 106,
   "metadata": {},
   "outputs": [
    {
     "data": {
      "text/plain": [
       "[1, 2, 3, 4, 5]"
      ]
     },
     "execution_count": 106,
     "metadata": {},
     "output_type": "execute_result"
    }
   ],
   "source": [
    "nums"
   ]
  },
  {
   "cell_type": "code",
   "execution_count": 107,
   "metadata": {},
   "outputs": [],
   "source": [
    "i = 1\n",
    "\n",
    "while True : \n",
    "    for n in nums : \n",
    "        if i == n : \n",
    "            i += 1\n",
    "        else : \n",
    "           break\n",
    "    break"
   ]
  },
  {
   "cell_type": "code",
   "execution_count": 108,
   "metadata": {},
   "outputs": [
    {
     "data": {
      "text/plain": [
       "6"
      ]
     },
     "execution_count": 108,
     "metadata": {},
     "output_type": "execute_result"
    }
   ],
   "source": [
    "N = int(input())\n",
    "\n",
    "nums = list(map(int, input().split()))\n",
    "`\n",
    "nums.sort()\n",
    "\n",
    "i = 1\n",
    "\n",
    "while True : \n",
    "    for n in nums : \n",
    "        if i == n : \n",
    "            i += 1\n",
    "        else : \n",
    "           break\n",
    "    break\n",
    "    \n",
    "print(i)"
   ]
  },
  {
   "cell_type": "code",
   "execution_count": null,
   "metadata": {},
   "outputs": [],
   "source": []
  }
 ],
 "metadata": {
  "kernelspec": {
   "display_name": "Python 3",
   "language": "python",
   "name": "python3"
  },
  "language_info": {
   "codemirror_mode": {
    "name": "ipython",
    "version": 3
   },
   "file_extension": ".py",
   "mimetype": "text/x-python",
   "name": "python",
   "nbconvert_exporter": "python",
   "pygments_lexer": "ipython3",
   "version": "3.7.1"
  }
 },
 "nbformat": 4,
 "nbformat_minor": 2
}
