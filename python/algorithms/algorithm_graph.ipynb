{
 "cells": [
  {
   "cell_type": "code",
   "execution_count": 19,
   "metadata": {},
   "outputs": [],
   "source": [
    "\"\"\"\n",
    "친구 추가 / Follow \n",
    "\"\"\"\n",
    "\n",
    "class Person : \n",
    "    \n",
    "    def __init__(self,name) :\n",
    "        self.name = name\n",
    "        self.friends = []\n",
    "        \n",
    "    def makeFriends(self, name) :\n",
    "        self.friends.append(name)"
   ]
  },
  {
   "cell_type": "code",
   "execution_count": 55,
   "metadata": {},
   "outputs": [],
   "source": [
    "Alice = Person('Alice')\n",
    "Bob = Person('Bob')\n",
    "Mark = Person('Mark')\n",
    "John = Person('John')\n",
    "Dexter = Person('Dexter')\n",
    "Jessica = Person('Jessica')\n",
    "Irena = Person('Irena')\n",
    "\n",
    "Alice.friends = [Bob, Mark, John]\n",
    "Bob.friends = [Dexter]\n",
    "John.friends = [Jessica]\n",
    "Dexter.friends = [Irena]\n",
    "\n"
   ]
  },
  {
   "cell_type": "code",
   "execution_count": 36,
   "metadata": {},
   "outputs": [],
   "source": [
    "\"\"\"\n",
    "알 수도 있는 친구 / 너비 우선 탐색 \n",
    "\"\"\"\n",
    "\n",
    "def search_network() :\n",
    "    que = [Alice] #Queue\n",
    "    \n",
    "    while que != [] : \n",
    "        curr = que.pop(0)\n",
    "        for f in curr.friends : \n",
    "            que.append(f)\n",
    "\n",
    "\"\"\"\n",
    "고치기 전 \n",
    "\"\"\"\n",
    "    def search_network(self) :\n",
    "        \n",
    "        que = [self]\n",
    "        self.visited = True\n",
    "        \n",
    "        while que != [] : \n",
    "            curr = que.pop(0)\n",
    "            \n",
    "            for f in curr.friends : #쓸 데 없이 들어간 반복문. -> extend 사용\n",
    "                if f.visited == False : \n",
    "                    f.visited = True \n",
    "                    que.append(f)"
   ]
  },
  {
   "cell_type": "code",
   "execution_count": 35,
   "metadata": {},
   "outputs": [
    {
     "name": "stdout",
     "output_type": "stream",
     "text": [
      "Bob\n",
      "Mark\n",
      "John\n",
      "Dexter\n",
      "Jessica\n",
      "Irena\n"
     ]
    }
   ],
   "source": [
    "search_width()"
   ]
  },
  {
   "cell_type": "code",
   "execution_count": 86,
   "metadata": {},
   "outputs": [],
   "source": [
    "\"\"\"\n",
    "정리\n",
    "\"\"\"\n",
    "\n",
    "class Person : \n",
    "    \n",
    "    def __init__(self,name) :\n",
    "        self.name = name\n",
    "        self.friends = []\n",
    "        self.visited = False\n",
    "        \n",
    "    def makeFriends(self, name) :\n",
    "        self.friends.append(name)\n",
    "        \n",
    "    def search_network(self) :\n",
    "        \n",
    "        que = [self]\n",
    "        \n",
    "        while que != [] : \n",
    "            curr = que.pop(0)\n",
    "            print(curr.name)\n",
    "            curr.visited = True \n",
    "\n",
    "            que.extend([n for n in curr.friends if n.visited == False])\n",
    "            print(\"que:\", [n.name for n in que])\n",
    "\n"
   ]
  },
  {
   "cell_type": "code",
   "execution_count": 87,
   "metadata": {},
   "outputs": [],
   "source": [
    "Alice = Person('Alice')\n",
    "Bob = Person('Bob')\n",
    "Mark = Person('Mark')\n",
    "John = Person('John')\n",
    "Dexter = Person('Dexter')\n",
    "Jessica = Person('Jessica')\n",
    "Irena = Person('Irena')\n",
    "\n",
    "Alice.friends = [Bob, Mark, John]\n",
    "Bob.friends = [Dexter]\n",
    "John.friends = [Jessica, Bob]\n",
    "Dexter.friends = [Irena]\n",
    "Jessica.friends=[Mark]\n",
    "\n"
   ]
  },
  {
   "cell_type": "code",
   "execution_count": 88,
   "metadata": {},
   "outputs": [
    {
     "name": "stdout",
     "output_type": "stream",
     "text": [
      "Alice\n",
      "que: ['Bob', 'Mark', 'John']\n",
      "Bob\n",
      "que: ['Mark', 'John', 'Dexter']\n",
      "Mark\n",
      "que: ['John', 'Dexter']\n",
      "John\n",
      "que: ['Dexter', 'Jessica']\n",
      "Dexter\n",
      "que: ['Jessica', 'Irena']\n",
      "Jessica\n",
      "que: ['Irena']\n",
      "Irena\n",
      "que: []\n"
     ]
    }
   ],
   "source": [
    "Alice.search_network()"
   ]
  },
  {
   "cell_type": "code",
   "execution_count": 64,
   "metadata": {},
   "outputs": [],
   "source": [
    "a = [1,2,3]\n",
    "b = ['a', 'b']\n",
    "\n",
    "c = b.extend(a)"
   ]
  },
  {
   "cell_type": "code",
   "execution_count": 67,
   "metadata": {},
   "outputs": [
    {
     "name": "stdout",
     "output_type": "stream",
     "text": [
      "['a', 'b', 1, 2, 3]\n"
     ]
    }
   ],
   "source": [
    "print(b)"
   ]
  },
  {
   "cell_type": "code",
   "execution_count": 120,
   "metadata": {},
   "outputs": [],
   "source": [
    "\"\"\"\n",
    "최단 경로 구하기\n",
    "\"\"\"\n",
    "\n",
    "class City : \n",
    "    def __init__(self, name) :\n",
    "        self.route = {}\n",
    "        self.name = name\n",
    "        self.is_visited = False \n",
    "    \n",
    "    def newRoute(self, route) :\n",
    "        self.route = route\n",
    "        \n",
    "#     def record(self, price_table) :\n",
    "#         price_table\n",
    "        \n",
    "        \n",
    "        "
   ]
  },
  {
   "cell_type": "code",
   "execution_count": 125,
   "metadata": {},
   "outputs": [],
   "source": [
    "Atlanta = City('Atlanta')\n",
    "Boston = City('Boston')\n",
    "Chicago = City('Chicago')\n",
    "Denver = City('Denver')\n",
    "ElPaso = City('ElPaso')\n",
    "\n",
    "Atlanta.newRoute({Boston : 100, Denver:160})\n",
    "Boston.newRoute({ Chicago:120, Denver:180 })\n",
    "Chicago.newRoute({ElPaso:80})\n",
    "Denver.newRoute({Chicago:40, ElPaso:140})\n",
    "ElPaso.newRoute({Boston:100})"
   ]
  },
  {
   "cell_type": "code",
   "execution_count": 123,
   "metadata": {},
   "outputs": [],
   "source": [
    "\"\"\"\n",
    "Atlanta에서 각 도시로 가는 최단 경비 구하기 \n",
    "\"\"\"\n",
    "\n",
    "from collections import defaultdict\n",
    "\n",
    "visited_city = [Atlanta] #que\n",
    "record = defaultdict(lambda : 0) #자동으로 찍히게 해야하나?\n",
    "\n",
    "while visited_city != [] :\n",
    "    curr = visited_city.pop(0) #queue pop \n",
    "    \n",
    "    for c in curr.route :\n",
    "        if c.is_visited == False : \n",
    "            c.is_visited = True \n",
    "            visited_city.append(c) #que에 push \n",
    "            record[c.name] = curr.route[c]+record[curr.name]\n",
    "\n",
    "        else : \n",
    "            if (record[curr.name] + curr.route[c] < record[c.name])==True : \n",
    "                record[c.name] = record[curr.name] + curr.route[c]\n",
    "\n",
    "print(record)"
   ]
  },
  {
   "cell_type": "code",
   "execution_count": 124,
   "metadata": {},
   "outputs": [
    {
     "name": "stdout",
     "output_type": "stream",
     "text": [
      "defaultdict(<function <lambda> at 0x016E9858>, {'Atlanta': 0, 'Boston': 100, 'Denver': 160, 'Chicago': 200, 'ElPaso': 280})\n"
     ]
    }
   ],
   "source": [
    "print(record)"
   ]
  },
  {
   "cell_type": "code",
   "execution_count": 46,
   "metadata": {},
   "outputs": [],
   "source": [
    "from collections import defaultdict\n",
    "record = defaultdict(lambda city : 0) #자동으로 찍히게 해야하나?\n"
   ]
  },
  {
   "cell_type": "code",
   "execution_count": 48,
   "metadata": {},
   "outputs": [],
   "source": [
    "record[Boston]=0"
   ]
  },
  {
   "cell_type": "code",
   "execution_count": 49,
   "metadata": {},
   "outputs": [
    {
     "data": {
      "text/plain": [
       "0"
      ]
     },
     "execution_count": 49,
     "metadata": {},
     "output_type": "execute_result"
    }
   ],
   "source": [
    "record[Boston]"
   ]
  },
  {
   "cell_type": "code",
   "execution_count": 5,
   "metadata": {},
   "outputs": [],
   "source": [
    "\"\"\"데이크스트라 알고리즘\"\"\"\n",
    "\n",
    "class City : \n",
    "    def __init__(self, name) :\n",
    "        self.name = name \n",
    "        self.routes = {}\n",
    "\n",
    "    def add_route(self, city, price) :\n",
    "        self.routes[city] = price"
   ]
  },
  {
   "cell_type": "code",
   "execution_count": 6,
   "metadata": {},
   "outputs": [],
   "source": [
    "Atlanta = City('Atlanta')\n",
    "Boston = City('Boston')\n",
    "Chicago = City('Chicago')\n",
    "Denver = City('Denver')\n",
    "ElPaso = City('ElPaso')\n",
    "\n",
    "Atlanta.add_route(Boston, 100 )\n",
    "Atlanta.add_route(Denver, 160)\n",
    "Boston.add_route(Chicago, 120)\n",
    "Boston.add_route(Denver, 180)\n",
    "Chicago.add_route(ElPaso, 80)\n",
    "Denver.add_route(Chicago, 40)\n",
    "Denver.add_route(ElPaso, 140)\n",
    "ElPaso.add_route(Boston, 100)"
   ]
  },
  {
   "cell_type": "code",
   "execution_count": 12,
   "metadata": {},
   "outputs": [],
   "source": [
    "\"\"\"데이크스트라 알고리즘은 이해한 뒤에 나중에 다시...\"\"\"\n",
    "\n",
    "from collections import defaultdict\n",
    "\n",
    "def dijkstra(start) :\n",
    "    routes_to_cities = defaultdict(lambda : 0)\n",
    "    visited_cities = []\n",
    "    curr_city = start \n",
    "    \n",
    "    while curr_city != None :\n",
    "        visited_cities.append(curr_city) \n",
    "        cheapest_city = max(curr_city.routes) #비교를 위해 가장 큰 값 할당 \n",
    "        cheapest_route = {cheapest_city : curr_city.routes[cheapest_city]}         \n",
    "        \n",
    "        #현재보다 저렴한 경우, 각 경로의 경비를 업데이트한다.\n",
    "        for c,p in curr_city.routes.items() :\n",
    "            if (c not in visited_cities) | (routes_to_cities[c] > p + routes_to_cities[curr_city]):\n",
    "                routes_to_cities[c] = p + routes_to_cities[curr_city]\n",
    "            \n",
    "            #방문한적 없고, 저렴한 경로가 없다면 curr_city는 None으로 while문 종료 \n",
    "            curr_city = None #기저 조건 \n",
    "            \n",
    "            #가장 저렴한 경로를 찾는다. \n",
    "            if (c not in visited_cities) & (p < cheapest_route[cheapest_city]) :\n",
    "                cheapest_city = c \n",
    "                \n",
    "                \n",
    "        \n",
    "        #방문한 적 없고, 가장 저렴한 경로 방문하기 \n",
    "        curr_city = cheapest_city\n",
    "            \n",
    "        del routes_to_cities[start]\n",
    "        cheapest_city = min(curr_city.routes)\n",
    "\n",
    "        for c,p in curr_city.routes.items() :\n",
    "            \n",
    "            \n",
    "            if (c not in visited_cities) & (p == cheapest_route[cheapest_city]) : \n",
    "                curr_city = c\n",
    "            elif (c not in visited_cities) :\n",
    "                curr_city = c "
   ]
  },
  {
   "cell_type": "code",
   "execution_count": 24,
   "metadata": {},
   "outputs": [],
   "source": [
    "_list = [1,2,3]\n",
    "_dict = {curr:1,'b':2}"
   ]
  },
  {
   "cell_type": "code",
   "execution_count": 26,
   "metadata": {},
   "outputs": [],
   "source": [
    "start = 'a'\n",
    "curr = start"
   ]
  },
  {
   "cell_type": "code",
   "execution_count": 27,
   "metadata": {},
   "outputs": [],
   "source": [
    "_list = [1,2,3]\n",
    "_dict = {curr:1,'b':2}"
   ]
  },
  {
   "cell_type": "code",
   "execution_count": 28,
   "metadata": {},
   "outputs": [],
   "source": [
    "del _dict[start]"
   ]
  },
  {
   "cell_type": "code",
   "execution_count": 29,
   "metadata": {},
   "outputs": [
    {
     "data": {
      "text/plain": [
       "{'b': 2}"
      ]
     },
     "execution_count": 29,
     "metadata": {},
     "output_type": "execute_result"
    }
   ],
   "source": [
    "_dict"
   ]
  },
  {
   "cell_type": "code",
   "execution_count": null,
   "metadata": {},
   "outputs": [],
   "source": []
  }
 ],
 "metadata": {
  "kernelspec": {
   "display_name": "Python 3",
   "language": "python",
   "name": "python3"
  },
  "language_info": {
   "codemirror_mode": {
    "name": "ipython",
    "version": 3
   },
   "file_extension": ".py",
   "mimetype": "text/x-python",
   "name": "python",
   "nbconvert_exporter": "python",
   "pygments_lexer": "ipython3",
   "version": "3.7.1"
  }
 },
 "nbformat": 4,
 "nbformat_minor": 2
}
