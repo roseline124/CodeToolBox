{
 "cells": [
  {
   "cell_type": "markdown",
   "metadata": {},
   "source": [
    "### 4673번 : 셀프 넘버"
   ]
  },
  {
   "cell_type": "code",
   "execution_count": 10,
   "metadata": {},
   "outputs": [],
   "source": [
    "def d(n) :\n",
    "    strings = str(n)\n",
    "    numbers = [int(s) for s in strings]\n",
    "    \n",
    "    _next = sum(numbers) + n \n",
    "    \n",
    "    return _next"
   ]
  },
  {
   "cell_type": "code",
   "execution_count": 26,
   "metadata": {},
   "outputs": [],
   "source": [
    "def selfNumber(num) :\n",
    "    createdNum = [ d(n) for n in range(num)]\n",
    "    selfNum = [n for n in range(num) if n not in createdNum]\n",
    "    \n",
    "    for sn in selfNum : \n",
    "        print(sn)\n",
    "        \n",
    "selfNumber(10000)"
   ]
  },
  {
   "cell_type": "code",
   "execution_count": null,
   "metadata": {},
   "outputs": [],
   "source": []
  }
 ],
 "metadata": {
  "kernelspec": {
   "display_name": "Python 3",
   "language": "python",
   "name": "python3"
  },
  "language_info": {
   "codemirror_mode": {
    "name": "ipython",
    "version": 3
   },
   "file_extension": ".py",
   "mimetype": "text/x-python",
   "name": "python",
   "nbconvert_exporter": "python",
   "pygments_lexer": "ipython3",
   "version": "3.7.1"
  }
 },
 "nbformat": 4,
 "nbformat_minor": 2
}
