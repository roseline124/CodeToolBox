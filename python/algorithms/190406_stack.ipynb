{
 "cells": [
  {
   "cell_type": "markdown",
   "metadata": {},
   "source": [
    "### 10828번 스택"
   ]
  },
  {
   "cell_type": "code",
   "execution_count": 34,
   "metadata": {},
   "outputs": [
    {
     "name": "stdout",
     "output_type": "stream",
     "text": [
      "7\n",
      "pop\n",
      "top\n",
      "push123\n",
      "top\n",
      "pop\n",
      "top\n",
      "pop\n"
     ]
    }
   ],
   "source": [
    "N = int(input())\n",
    "\n",
    "statements = []\n",
    "for _ in range(N):\n",
    "    statements.append(input())"
   ]
  },
  {
   "cell_type": "code",
   "execution_count": 2,
   "metadata": {},
   "outputs": [
    {
     "data": {
      "text/plain": [
       "['push 1',\n",
       " 'push 2',\n",
       " 'top',\n",
       " 'size',\n",
       " 'empty',\n",
       " 'pop',\n",
       " 'pop',\n",
       " 'pop',\n",
       " 'size',\n",
       " 'empty',\n",
       " 'pop',\n",
       " 'push 3',\n",
       " 'empty',\n",
       " 'top']"
      ]
     },
     "execution_count": 2,
     "metadata": {},
     "output_type": "execute_result"
    }
   ],
   "source": [
    "import sys \n",
    "\n",
    "statements = sys.stdin.read().splitlines()\n",
    "statements = statements[1:]"
   ]
  },
  {
   "cell_type": "code",
   "execution_count": 39,
   "metadata": {},
   "outputs": [],
   "source": [
    "stack = []\n",
    "\n",
    "def mypush(stack, x): \n",
    "    stack.append(x)\n",
    "    \n",
    "def mypop(stack):\n",
    "    r = stack.pop() if stack else -1\n",
    "    print(r)\n",
    "\n",
    "def size(stack):\n",
    "    print(len(stack))\n",
    "\n",
    "def empty(stack):\n",
    "    r = 0 if stack else 1\n",
    "    print(r)\n",
    "    \n",
    "def top(stack):\n",
    "    r = stack[-1] if stack else -1\n",
    "    print(r)"
   ]
  },
  {
   "cell_type": "code",
   "execution_count": 41,
   "metadata": {},
   "outputs": [
    {
     "name": "stdout",
     "output_type": "stream",
     "text": [
      "-1\n",
      "-1\n",
      "123\n",
      "123\n",
      "-1\n",
      "-1\n"
     ]
    }
   ],
   "source": [
    "for s in statements : \n",
    "    if s.find('push') != -1 : \n",
    "        mypush(stack, int(s[4:]))\n",
    "        \n",
    "    elif s == 'pop':\n",
    "        mypop(stack)\n",
    "    \n",
    "    else:\n",
    "        eval(s+\"(stack)\")"
   ]
  },
  {
   "cell_type": "markdown",
   "metadata": {},
   "source": [
    "### 정답"
   ]
  },
  {
   "cell_type": "code",
   "execution_count": 44,
   "metadata": {},
   "outputs": [],
   "source": [
    "import sys \n",
    "\n",
    "statements = sys.stdin.read().splitlines()\n",
    "statements = statements[1:]\n",
    "\n",
    "stack = []\n",
    "    \n",
    "def size(stack):\n",
    "    print(len(stack))\n",
    "\n",
    "def empty(stack):\n",
    "    r = 0 if stack else 1\n",
    "    print(r)\n",
    "    \n",
    "def top(stack):\n",
    "    r = stack[-1] if stack else -1\n",
    "    print(r)\n",
    "    \n",
    "for s in statements : \n",
    "    if s.find('push') != -1 : \n",
    "        stack.append(int(s[4:]))\n",
    "        \n",
    "    elif s == 'pop':\n",
    "        r = stack.pop() if stack else -1\n",
    "        print(r)\n",
    "    \n",
    "    else:\n",
    "        eval(s+\"(stack)\")"
   ]
  },
  {
   "cell_type": "code",
   "execution_count": 43,
   "metadata": {},
   "outputs": [
    {
     "data": {
      "text/plain": [
       "123"
      ]
     },
     "execution_count": 43,
     "metadata": {},
     "output_type": "execute_result"
    }
   ],
   "source": [
    "s = 'push 123'\n",
    "int(s[4:])"
   ]
  },
  {
   "cell_type": "code",
   "execution_count": 20,
   "metadata": {},
   "outputs": [
    {
     "name": "stdout",
     "output_type": "stream",
     "text": [
      "dsf\n"
     ]
    }
   ],
   "source": [
    "if stack :\n",
    "    print(\"d\")\n",
    "else : \n",
    "    print(\"dsf\")"
   ]
  },
  {
   "cell_type": "markdown",
   "metadata": {},
   "source": [
    "### 10845번 큐"
   ]
  },
  {
   "cell_type": "code",
   "execution_count": null,
   "metadata": {},
   "outputs": [],
   "source": [
    "import sys \n",
    "\n",
    "statements = sys.stdin.read().splitlines()\n",
    "statements = statements[1:]\n",
    "\n",
    "que = []\n",
    "    \n",
    "def size(que):\n",
    "    print(len(que))\n",
    "\n",
    "def empty(que):\n",
    "    r = 0 if que else 1\n",
    "    print(r)\n",
    "    \n",
    "def top(que):\n",
    "    r = que[-1] if que else -1\n",
    "    print(r)\n",
    "\n",
    "def front(que):\n",
    "    r = que[0] if que else -1\n",
    "    print(r)\n",
    "    \n",
    "def back(que):\n",
    "    r = que[-1] if que else -1\n",
    "    print(r)\n",
    "    \n",
    "for s in statements : \n",
    "    if s.find('push') != -1 : \n",
    "        que.append(int(s[4:]))\n",
    "        \n",
    "    elif s == 'pop':\n",
    "        r = que.pop(0) if que else -1\n",
    "        print(r)\n",
    "    \n",
    "    else:\n",
    "        eval(s+\"(que)\")"
   ]
  },
  {
   "cell_type": "code",
   "execution_count": 45,
   "metadata": {},
   "outputs": [
    {
     "data": {
      "text/plain": [
       "1"
      ]
     },
     "execution_count": 45,
     "metadata": {},
     "output_type": "execute_result"
    }
   ],
   "source": [
    "que = [1,2,3]\n",
    "\n",
    "que.pop(0)"
   ]
  },
  {
   "cell_type": "code",
   "execution_count": null,
   "metadata": {},
   "outputs": [],
   "source": []
  }
 ],
 "metadata": {
  "kernelspec": {
   "display_name": "Python 3",
   "language": "python",
   "name": "python3"
  },
  "language_info": {
   "codemirror_mode": {
    "name": "ipython",
    "version": 3
   },
   "file_extension": ".py",
   "mimetype": "text/x-python",
   "name": "python",
   "nbconvert_exporter": "python",
   "pygments_lexer": "ipython3",
   "version": "3.7.1"
  }
 },
 "nbformat": 4,
 "nbformat_minor": 2
}
