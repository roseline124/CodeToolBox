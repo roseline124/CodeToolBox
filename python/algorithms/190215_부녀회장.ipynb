{
 "cells": [
  {
   "cell_type": "code",
   "execution_count": 78,
   "metadata": {},
   "outputs": [],
   "source": [
    "def get_people(_arr, _floor) :\n",
    "    _floor -= 1 \n",
    "    next_arr = [sum(_arr[:i+1]) for i in range(len(_arr))]\n",
    "    return next_arr[-1] if _floor == 0 else get_people(next_arr, _floor)"
   ]
  },
  {
   "cell_type": "code",
   "execution_count": 79,
   "metadata": {},
   "outputs": [
    {
     "name": "stdout",
     "output_type": "stream",
     "text": [
      "2\n"
     ]
    }
   ],
   "source": []
  },
  {
   "cell_type": "code",
   "execution_count": 80,
   "metadata": {},
   "outputs": [
    {
     "name": "stdout",
     "output_type": "stream",
     "text": [
      "1\n",
      "3\n",
      "[1, 3, 6]\n",
      "6\n",
      "2\n",
      "3\n",
      "[1, 3, 6]\n",
      "[1, 4, 10]\n",
      "10\n"
     ]
    }
   ],
   "source": [
    "def get_people(_arr, _floor) :\n",
    "    _floor -= 1 \n",
    "    next_arr = [sum(_arr[:i+1]) for i in range(len(_arr))]\n",
    "    return next_arr[-1] if _floor == 0 else get_people(next_arr, _floor)\n",
    "\n",
    "t = int(input())\n",
    "\n",
    "while t != 0 : \n",
    "    t -= 1 \n",
    "    floor = int(input())\n",
    "    room_num = int(input())\n",
    "    arr = list(range(1,room_num+1))\n",
    "    print(get_people(arr, floor))\n",
    "    "
   ]
  },
  {
   "cell_type": "code",
   "execution_count": 86,
   "metadata": {},
   "outputs": [
    {
     "name": "stdout",
     "output_type": "stream",
     "text": [
      "250 True | 1347021856 1347021856\n",
      "251 True | 1347021872 1347021872\n",
      "252 True | 1347021888 1347021888\n",
      "253 True | 1347021904 1347021904\n",
      "254 True | 1347021920 1347021920\n",
      "255 True | 1347021936 1347021936\n",
      "256 True | 1347021952 1347021952\n",
      "257 False | 23988464 23988592\n",
      "258 False | 23988336 23987936\n",
      "259 False | 23988464 23988592\n",
      "260 False | 23988336 23987936\n",
      "261 False | 23988464 23988592\n",
      "262 False | 23988336 23987936\n",
      "263 False | 23988464 23988592\n",
      "264 False | 23988336 23987936\n",
      "265 False | 23988464 23988592\n",
      "266 False | 23988336 23987936\n",
      "267 False | 23988464 23988592\n",
      "268 False | 23988336 23987936\n",
      "269 False | 23988464 23988592\n",
      "270 False | 23988336 23987936\n",
      "271 False | 23988464 23988592\n",
      "272 False | 23988336 23987936\n",
      "273 False | 23988464 23988592\n",
      "274 False | 23988336 23987936\n",
      "275 False | 23988464 23988592\n",
      "276 False | 23988336 23987936\n",
      "277 False | 23988464 23988592\n",
      "278 False | 23988336 23987936\n",
      "279 False | 23988464 23988592\n",
      "280 False | 23988336 23987936\n",
      "281 False | 23988464 23988592\n",
      "282 False | 23988336 23987936\n",
      "283 False | 23988464 23988592\n",
      "284 False | 23988336 23987936\n",
      "285 False | 23988464 23988592\n",
      "286 False | 23988336 23987936\n",
      "287 False | 23988464 23988592\n",
      "288 False | 23988336 23987936\n",
      "289 False | 23988464 23988592\n",
      "290 False | 23988336 23987936\n",
      "291 False | 23988464 23988592\n",
      "292 False | 23988336 23987936\n",
      "293 False | 23988464 23988592\n",
      "294 False | 23988336 23987936\n",
      "295 False | 23988464 23988592\n",
      "296 False | 23988336 23987936\n",
      "297 False | 23988464 23988592\n",
      "298 False | 23988336 23987936\n",
      "299 False | 23988464 23988592\n"
     ]
    }
   ],
   "source": [
    "for a,b in zip(range(250,300), range(250,300)) :\n",
    "    print(a, id(a) == id(b),\"|\", id(a), id(b))\n",
    "    "
   ]
  },
  {
   "cell_type": "code",
   "execution_count": null,
   "metadata": {},
   "outputs": [],
   "source": []
  }
 ],
 "metadata": {
  "kernelspec": {
   "display_name": "Python 3",
   "language": "python",
   "name": "python3"
  },
  "language_info": {
   "codemirror_mode": {
    "name": "ipython",
    "version": 3
   },
   "file_extension": ".py",
   "mimetype": "text/x-python",
   "name": "python",
   "nbconvert_exporter": "python",
   "pygments_lexer": "ipython3",
   "version": "3.7.1"
  }
 },
 "nbformat": 4,
 "nbformat_minor": 2
}
