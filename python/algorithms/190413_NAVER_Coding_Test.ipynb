{
 "cells": [
  {
   "cell_type": "code",
   "execution_count": 1,
   "metadata": {},
   "outputs": [],
   "source": [
    "# you can write to stdout for debugging purposes, e.g.\n",
    "# print(\"this is a debug message\")\n",
    "\"\"\"\n",
    "육면체 주사위, 다른 숫자들 (1~6) \n",
    "서로 반대편에 있는 숫자의 합은 7 \n",
    "1-6, 2-5, 3-4\n",
    "\n",
    "N개의 주사위\n",
    "1번에 하나를 굴리고, 원하는 면으로 조정할 수 있다. \n",
    "N개의 주사위가 모두 같은 면을 나타내려고 할 때 최소 이동 횟수 \n",
    "정확성 기준 : 최대한 많은 반례 포함할 것 \n",
    "\n",
    "어떤 면으로 보이게할 것인지. \n",
    "1. 반대값 \n",
    "2. 최빈값 \n",
    "\"\"\"\n",
    "def solution(A):\n",
    "    # write your code in Python 3.6\n",
    "    pass"
   ]
  },
  {
   "cell_type": "markdown",
   "metadata": {},
   "source": [
    "### 최빈값"
   ]
  },
  {
   "cell_type": "code",
   "execution_count": 204,
   "metadata": {},
   "outputs": [],
   "source": [
    "A = [1,1,6]"
   ]
  },
  {
   "cell_type": "markdown",
   "metadata": {},
   "source": [
    "### 반대값"
   ]
  },
  {
   "cell_type": "code",
   "execution_count": 205,
   "metadata": {},
   "outputs": [
    {
     "data": {
      "text/plain": [
       "[(1, 2), (6, 1)]"
      ]
     },
     "execution_count": 205,
     "metadata": {},
     "output_type": "execute_result"
    }
   ],
   "source": [
    "from collections import Counter\n",
    "\n",
    "cnt_A = Counter(A)\n",
    "sorted_A = sorted(cnt_A.items(), key=lambda x : x[1], reverse=True)\n",
    "sorted_A"
   ]
  },
  {
   "cell_type": "code",
   "execution_count": 208,
   "metadata": {},
   "outputs": [],
   "source": [
    "### 최빈값 중에서... \n",
    "### 반대값이 있다면 다음 최빈값 선택\n",
    "face = sorted_A[0][0]\n",
    "\n",
    "for pair in sorted_A[1:] :\n",
    "    is_op = False \n",
    "    \n",
    "    for n in A :\n",
    "        if is_opposite(face, n) == True:\n",
    "            is_op = True\n",
    "            break\n",
    "    \n",
    "    if is_op : \n",
    "        face = pair[0]\n",
    "\n",
    "# 마지막값까지 반대값이라면 최빈값 선택\n",
    "if is_op : \n",
    "    face = sorted_A[0][0]"
   ]
  },
  {
   "cell_type": "code",
   "execution_count": 209,
   "metadata": {},
   "outputs": [
    {
     "data": {
      "text/plain": [
       "1"
      ]
     },
     "execution_count": 209,
     "metadata": {},
     "output_type": "execute_result"
    }
   ],
   "source": [
    "face"
   ]
  },
  {
   "cell_type": "code",
   "execution_count": 193,
   "metadata": {},
   "outputs": [],
   "source": [
    "def is_opposite(face, n):\n",
    "    op = False \n",
    "    \n",
    "    if face == n : \n",
    "        op = 'same'\n",
    "        \n",
    "    else : \n",
    "        if face == 1 : \n",
    "            op = True if n == 6 else False\n",
    "        elif face == 2 : \n",
    "            op = True if n == 5 else False\n",
    "        elif face == 3 : \n",
    "            op = True if n == 4 else False\n",
    "        elif face == 4 : \n",
    "            op = True if n == 3 else False\n",
    "        elif face == 5 : \n",
    "            op = True if n == 2 else False\n",
    "        elif face == 6 : \n",
    "            op = True if n == 1 else False\n",
    "\n",
    "    return op"
   ]
  },
  {
   "cell_type": "code",
   "execution_count": 194,
   "metadata": {},
   "outputs": [],
   "source": [
    "def sum_move(A, face):\n",
    "    \"\"\"\n",
    "    opposite = 2\n",
    "    not opposite = 1\n",
    "    same = 0\n",
    "    \"\"\"\n",
    "    move = 0\n",
    "    \n",
    "    for n in A :\n",
    "        if is_opposite(face, n) == True :\n",
    "            move += 2\n",
    "        elif is_opposite(face, n) == False : \n",
    "            move += 1 \n",
    "        \n",
    "    return move"
   ]
  },
  {
   "cell_type": "code",
   "execution_count": 195,
   "metadata": {},
   "outputs": [],
   "source": [
    "moved_A = sum_move(A, face)"
   ]
  },
  {
   "cell_type": "code",
   "execution_count": 196,
   "metadata": {},
   "outputs": [
    {
     "data": {
      "text/plain": [
       "2"
      ]
     },
     "execution_count": 196,
     "metadata": {},
     "output_type": "execute_result"
    }
   ],
   "source": [
    "moved_A"
   ]
  },
  {
   "cell_type": "code",
   "execution_count": 201,
   "metadata": {},
   "outputs": [],
   "source": [
    "# you can write to stdout for debugging purposes, e.g.\n",
    "# print(\"this is a debug message\")\n",
    "def is_opposite(face, n):\n",
    "    op = False \n",
    "    \n",
    "    if face == n : \n",
    "        op = 'same'\n",
    "        \n",
    "    else : \n",
    "        if face == 1 : \n",
    "            op = True if n == 6 else False\n",
    "        elif face == 2 : \n",
    "            op = True if n == 5 else False\n",
    "        elif face == 3 : \n",
    "            op = True if n == 4 else False\n",
    "        elif face == 4 : \n",
    "            op = True if n == 3 else False\n",
    "        elif face == 5 : \n",
    "            op = True if n == 2 else False\n",
    "        elif face == 6 : \n",
    "            op = True if n == 1 else False\n",
    "\n",
    "    return op\n",
    "\n",
    "def sum_move(A, face):\n",
    "    \"\"\"\n",
    "    opposite = 2\n",
    "    not opposite = 1\n",
    "    same = 0\n",
    "    \"\"\"\n",
    "    move = 0\n",
    "    \n",
    "    for n in A :\n",
    "        if is_opposite(face, n) == True :\n",
    "            move += 2\n",
    "        elif is_opposite(face, n) == False : \n",
    "            move += 1 \n",
    "        \n",
    "    return move\n",
    "    \n",
    "def solution(A):\n",
    "    from collections import Counter\n",
    "\n",
    "    cnt_A = Counter(A)\n",
    "    sorted_A = sorted(cnt_A.items(), key=lambda x : x[1], reverse=True)\n",
    "    \n",
    "    ### 최빈값 중에서... \n",
    "    ### 반대값이 있다면 다음 최빈값 선택\n",
    "    face = sorted_A[0][0]\n",
    "    \n",
    "    for pair in sorted_A[1:] :\n",
    "        is_op = False\n",
    "        \n",
    "        for n in A :\n",
    "            if is_opposite(face, n) == True:\n",
    "                is_op = True\n",
    "                break\n",
    "        \n",
    "        if is_op : \n",
    "            face = pair[0]\n",
    "    # 마지막값까지 반대값이라면 최빈값 선택\n",
    "    if is_op : \n",
    "        face = sorted_A[0][0]  \n",
    "        \n",
    "    sum_A = sum_move(A, face)\n",
    "    \n",
    "    return sum_A"
   ]
  },
  {
   "cell_type": "code",
   "execution_count": 203,
   "metadata": {},
   "outputs": [
    {
     "data": {
      "text/plain": [
       "4"
      ]
     },
     "execution_count": 203,
     "metadata": {},
     "output_type": "execute_result"
    }
   ],
   "source": [
    "A = [1,1,6]\n",
    "solution(A)"
   ]
  },
  {
   "cell_type": "markdown",
   "metadata": {},
   "source": [
    "### 이진트리"
   ]
  },
  {
   "cell_type": "code",
   "execution_count": 210,
   "metadata": {},
   "outputs": [],
   "source": [
    "class Tree:\n",
    "    curr = 0 \n",
    "    l = None\n",
    "    r = None"
   ]
  },
  {
   "cell_type": "code",
   "execution_count": null,
   "metadata": {},
   "outputs": [],
   "source": [
    "def make_tree(node):\n",
    "    node = Tree()\n",
    "    \n",
    "    \n",
    "    "
   ]
  },
  {
   "cell_type": "code",
   "execution_count": 211,
   "metadata": {},
   "outputs": [
    {
     "ename": "ModuleNotFoundError",
     "evalue": "No module named 'extratypes'",
     "output_type": "error",
     "traceback": [
      "\u001b[1;31m---------------------------------------------------------------------------\u001b[0m",
      "\u001b[1;31mModuleNotFoundError\u001b[0m                       Traceback (most recent call last)",
      "\u001b[1;32m<ipython-input-211-754e6be78508>\u001b[0m in \u001b[0;36m<module>\u001b[1;34m\u001b[0m\n\u001b[1;32m----> 1\u001b[1;33m \u001b[1;32mfrom\u001b[0m \u001b[0mextratypes\u001b[0m \u001b[1;32mimport\u001b[0m \u001b[0mTree\u001b[0m\u001b[1;33m\u001b[0m\u001b[1;33m\u001b[0m\u001b[0m\n\u001b[0m",
      "\u001b[1;31mModuleNotFoundError\u001b[0m: No module named 'extratypes'"
     ]
    }
   ],
   "source": [
    "from extratypes import Tree"
   ]
  },
  {
   "cell_type": "code",
   "execution_count": 212,
   "metadata": {},
   "outputs": [
    {
     "ename": "ModuleNotFoundError",
     "evalue": "No module named 'extratypes'",
     "output_type": "error",
     "traceback": [
      "\u001b[1;31m---------------------------------------------------------------------------\u001b[0m",
      "\u001b[1;31mModuleNotFoundError\u001b[0m                       Traceback (most recent call last)",
      "\u001b[1;32m<ipython-input-212-754e6be78508>\u001b[0m in \u001b[0;36m<module>\u001b[1;34m\u001b[0m\n\u001b[1;32m----> 1\u001b[1;33m \u001b[1;32mfrom\u001b[0m \u001b[0mextratypes\u001b[0m \u001b[1;32mimport\u001b[0m \u001b[0mTree\u001b[0m\u001b[1;33m\u001b[0m\u001b[1;33m\u001b[0m\u001b[0m\n\u001b[0m",
      "\u001b[1;31mModuleNotFoundError\u001b[0m: No module named 'extratypes'"
     ]
    }
   ],
   "source": [
    "from extratypes import Tree"
   ]
  },
  {
   "cell_type": "markdown",
   "metadata": {},
   "source": [
    "### shortest winter"
   ]
  },
  {
   "cell_type": "code",
   "execution_count": 322,
   "metadata": {},
   "outputs": [],
   "source": [
    "T = [-5,-42, 6, 12]"
   ]
  },
  {
   "cell_type": "code",
   "execution_count": 309,
   "metadata": {},
   "outputs": [],
   "source": [
    "T = [5, -2, 3, 8, 6, -1,0]"
   ]
  },
  {
   "cell_type": "code",
   "execution_count": 323,
   "metadata": {},
   "outputs": [],
   "source": [
    "T.sort()"
   ]
  },
  {
   "cell_type": "code",
   "execution_count": 324,
   "metadata": {},
   "outputs": [
    {
     "data": {
      "text/plain": [
       "[-42, -5, 6, 12]"
      ]
     },
     "execution_count": 324,
     "metadata": {},
     "output_type": "execute_result"
    }
   ],
   "source": [
    "tmp = T\n",
    "tmp"
   ]
  },
  {
   "cell_type": "code",
   "execution_count": 312,
   "metadata": {},
   "outputs": [],
   "source": [
    "winter = []\n",
    "summer = []\n",
    "winter.append(tmp.pop(0))\n",
    "summer.append(tmp.pop())"
   ]
  },
  {
   "cell_type": "code",
   "execution_count": 313,
   "metadata": {},
   "outputs": [
    {
     "data": {
      "text/plain": [
       "([-2], [8])"
      ]
     },
     "execution_count": 313,
     "metadata": {},
     "output_type": "execute_result"
    }
   ],
   "source": [
    "winter, summer"
   ]
  },
  {
   "cell_type": "code",
   "execution_count": 321,
   "metadata": {},
   "outputs": [
    {
     "name": "stdout",
     "output_type": "stream",
     "text": [
      "-1\n",
      "-1\n",
      "-1\n",
      "-1\n",
      "[True, True, True, True]\n",
      "0\n",
      "0\n",
      "0\n",
      "[True, True, True]\n",
      "3\n",
      "3\n",
      "[True, True]\n",
      "5\n",
      "[True]\n",
      "[]\n"
     ]
    }
   ],
   "source": [
    "for i, t in enumerate(tmp) : \n",
    "    colder = []\n",
    "\n",
    "    for r in tmp[i+1:]:\n",
    "        if t < r :\n",
    "            print(t)\n",
    "            colder.append(True)\n",
    "        else : \n",
    "            colder.append(False)\n",
    "            \n",
    "    print(colder)"
   ]
  },
  {
   "cell_type": "code",
   "execution_count": 316,
   "metadata": {},
   "outputs": [
    {
     "data": {
      "text/plain": [
       "[-1, 0, 3, 5, 6]"
      ]
     },
     "execution_count": 316,
     "metadata": {},
     "output_type": "execute_result"
    }
   ],
   "source": [
    "tmp"
   ]
  },
  {
   "cell_type": "code",
   "execution_count": 295,
   "metadata": {},
   "outputs": [],
   "source": [
    "# if max(winter) >= min(summer): \n",
    "#     winter.append(summer.pop(0))"
   ]
  },
  {
   "cell_type": "code",
   "execution_count": 296,
   "metadata": {},
   "outputs": [
    {
     "data": {
      "text/plain": [
       "[-2, -1, 0, 3]"
      ]
     },
     "execution_count": 296,
     "metadata": {},
     "output_type": "execute_result"
    }
   ],
   "source": [
    "winter"
   ]
  },
  {
   "cell_type": "code",
   "execution_count": 355,
   "metadata": {},
   "outputs": [],
   "source": [
    "def solution(T):\n",
    "    T.sort()\n",
    "    tmp = T\n",
    "    len_T = round((len(T)//2) + 1) \n",
    "    winter = tmp[:len_T]\n",
    "    summer = tmp[len_T:]\n",
    "\n",
    "#     if max(winter) >= min(summer): \n",
    "#         winter.append(summer.pop(0))\n",
    "        \n",
    "    print(winter)\n",
    "    return len(winter)"
   ]
  },
  {
   "cell_type": "code",
   "execution_count": 356,
   "metadata": {},
   "outputs": [
    {
     "name": "stdout",
     "output_type": "stream",
     "text": [
      "[-42, -5, 6]\n"
     ]
    },
    {
     "data": {
      "text/plain": [
       "3"
      ]
     },
     "execution_count": 356,
     "metadata": {},
     "output_type": "execute_result"
    }
   ],
   "source": [
    "T = [-5,-42, 6, 12]\n",
    "solution(T)"
   ]
  },
  {
   "cell_type": "code",
   "execution_count": 357,
   "metadata": {},
   "outputs": [
    {
     "data": {
      "text/plain": [
       "[-2]"
      ]
     },
     "execution_count": 357,
     "metadata": {},
     "output_type": "execute_result"
    }
   ],
   "source": [
    "winter"
   ]
  },
  {
   "cell_type": "code",
   "execution_count": 383,
   "metadata": {},
   "outputs": [],
   "source": [
    "# you can write to stdout for debugging purposes, e.g.\n",
    "# print(\"this is a debug message\")\n",
    "def solution(T):\n",
    "    T.sort()\n",
    "    tmp = T\n",
    "    winter = tmp[:(len(T)//2)+1]\n",
    "    summer = tmp[(len(T)//2)+1:]\n",
    "    part_tmp = winter[-1] \n",
    "\n",
    "    while (part_tmp > min(summer)):\n",
    "        if part_tmp >= min(summer): \n",
    "            winter.append(summer.pop(0))\n",
    "\n",
    "#         if part_tmp <= min(summer):\n",
    "#             summer.append(winter.pop())\n",
    "    \n",
    "    return len(winter)"
   ]
  },
  {
   "cell_type": "code",
   "execution_count": 384,
   "metadata": {},
   "outputs": [
    {
     "data": {
      "text/plain": [
       "3"
      ]
     },
     "execution_count": 384,
     "metadata": {},
     "output_type": "execute_result"
    }
   ],
   "source": [
    "T = [-5, -42, 6, 12]\n",
    "solution(T)"
   ]
  },
  {
   "cell_type": "code",
   "execution_count": null,
   "metadata": {},
   "outputs": [],
   "source": []
  },
  {
   "cell_type": "code",
   "execution_count": null,
   "metadata": {},
   "outputs": [],
   "source": []
  }
 ],
 "metadata": {
  "kernelspec": {
   "display_name": "python3.6",
   "language": "python",
   "name": "py36"
  },
  "language_info": {
   "codemirror_mode": {
    "name": "ipython",
    "version": 3
   },
   "file_extension": ".py",
   "mimetype": "text/x-python",
   "name": "python",
   "nbconvert_exporter": "python",
   "pygments_lexer": "ipython3",
   "version": "3.6.8"
  }
 },
 "nbformat": 4,
 "nbformat_minor": 2
}
