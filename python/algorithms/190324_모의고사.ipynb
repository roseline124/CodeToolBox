{
 "cells": [
  {
   "cell_type": "code",
   "execution_count": 1,
   "metadata": {},
   "outputs": [
    {
     "name": "stdout",
     "output_type": "stream",
     "text": [
      "3\n"
     ]
    }
   ],
   "source": [
    "N = int(input())"
   ]
  },
  {
   "cell_type": "code",
   "execution_count": 55,
   "metadata": {},
   "outputs": [
    {
     "name": "stdout",
     "output_type": "stream",
     "text": [
      "8 5\n",
      "1 100\n",
      "3 5\n"
     ]
    }
   ],
   "source": [
    "# s : 내구도\n",
    "# w : 무게\n",
    "egg_dict = {}\n",
    "\n",
    "for i in range(N) : \n",
    "    s, w = map(int, input().split())\n",
    "    egg_dict[i] = {'s' : s, 'w' : w}"
   ]
  },
  {
   "cell_type": "code",
   "execution_count": 75,
   "metadata": {},
   "outputs": [
    {
     "data": {
      "text/plain": [
       "{0: {'s': 8, 'w': 5}, 1: {'s': 1, 'w': 100}, 2: {'s': 3, 'w': 5}}"
      ]
     },
     "execution_count": 75,
     "metadata": {},
     "output_type": "execute_result"
    }
   ],
   "source": [
    "import copy\n",
    "\n",
    "eggs = copy.deepcopy(egg_dict)\n",
    "eggs"
   ]
  },
  {
   "cell_type": "code",
   "execution_count": 76,
   "metadata": {
    "scrolled": true
   },
   "outputs": [
    {
     "data": {
      "text/plain": [
       "[0, 1, 2]"
      ]
     },
     "execution_count": 76,
     "metadata": {},
     "output_type": "execute_result"
    }
   ],
   "source": [
    "normal_egg = [i for i in eggs if eggs[i]['s'] > 0]\n",
    "normal_egg"
   ]
  },
  {
   "cell_type": "code",
   "execution_count": 79,
   "metadata": {},
   "outputs": [],
   "source": [
    "for i, e in eggs.items() :\n",
    "    norm_e = [k for k in eggs if eggs[k]['s'] > 0]\n",
    "    if i in norm_e : \n",
    "        norm_e.remove(i)\n",
    "        if norm_e : \n",
    "            j = norm_e[0]\n",
    "            e['s'] -= eggs[j]['w']\n",
    "            eggs[j]['s'] -= e['w']\n",
    "    else : \n",
    "        continue"
   ]
  },
  {
   "cell_type": "code",
   "execution_count": 80,
   "metadata": {},
   "outputs": [
    {
     "data": {
      "text/plain": [
       "{0: {'s': -92, 'w': 5}, 1: {'s': -4, 'w': 100}, 2: {'s': 3, 'w': 5}}"
      ]
     },
     "execution_count": 80,
     "metadata": {},
     "output_type": "execute_result"
    }
   ],
   "source": [
    "eggs"
   ]
  },
  {
   "cell_type": "code",
   "execution_count": 61,
   "metadata": {},
   "outputs": [
    {
     "data": {
      "text/plain": [
       "{0: {'s': 8, 'w': 5}, 1: {'s': 1, 'w': 100}, 2: {'s': 3, 'w': 5}}"
      ]
     },
     "execution_count": 61,
     "metadata": {},
     "output_type": "execute_result"
    }
   ],
   "source": [
    "egg_dict"
   ]
  },
  {
   "cell_type": "code",
   "execution_count": 69,
   "metadata": {},
   "outputs": [],
   "source": [
    "s = [1,3,4]"
   ]
  },
  {
   "cell_type": "code",
   "execution_count": 71,
   "metadata": {},
   "outputs": [],
   "source": [
    "s.remove(3)"
   ]
  },
  {
   "cell_type": "code",
   "execution_count": 83,
   "metadata": {},
   "outputs": [
    {
     "name": "stdout",
     "output_type": "stream",
     "text": [
      "{'s': -92, 'w': 5}\n",
      "{'s': -4, 'w': 100}\n",
      "{'s': 3, 'w': 5}\n"
     ]
    }
   ],
   "source": [
    "for d in eggs.values() :\n",
    "    d['']"
   ]
  },
  {
   "cell_type": "code",
   "execution_count": null,
   "metadata": {},
   "outputs": [],
   "source": []
  }
 ],
 "metadata": {
  "kernelspec": {
   "display_name": "Python 3",
   "language": "python",
   "name": "python3"
  },
  "language_info": {
   "codemirror_mode": {
    "name": "ipython",
    "version": 3
   },
   "file_extension": ".py",
   "mimetype": "text/x-python",
   "name": "python",
   "nbconvert_exporter": "python",
   "pygments_lexer": "ipython3",
   "version": "3.7.1"
  }
 },
 "nbformat": 4,
 "nbformat_minor": 2
}
