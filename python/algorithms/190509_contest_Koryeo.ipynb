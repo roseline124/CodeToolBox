{
 "cells": [
  {
   "cell_type": "markdown",
   "metadata": {},
   "source": [
    "### https://www.acmicpc.net/contest/view/373"
   ]
  },
  {
   "cell_type": "markdown",
   "metadata": {},
   "source": [
    "### A : 16673 고려대 공식 와인"
   ]
  },
  {
   "cell_type": "markdown",
   "metadata": {},
   "source": [
    "- c : 와인을 모은 년 수 (0~100) \n",
    "- k : 고려대 애착 정도 (0~1000)\n",
    "- p : 구매 중독 정도 (0~100)"
   ]
  },
  {
   "cell_type": "code",
   "execution_count": 8,
   "metadata": {},
   "outputs": [
    {
     "name": "stdout",
     "output_type": "stream",
     "text": [
      "5 28 27\n"
     ]
    }
   ],
   "source": [
    "c, k, p = map(int, input().split())"
   ]
  },
  {
   "cell_type": "code",
   "execution_count": 9,
   "metadata": {},
   "outputs": [],
   "source": [
    "n_sum = 0 \n",
    "\n",
    "for n in range(1,c+1):\n",
    "    n_sum += k*n + p*(n*n)"
   ]
  },
  {
   "cell_type": "code",
   "execution_count": 10,
   "metadata": {},
   "outputs": [
    {
     "name": "stdout",
     "output_type": "stream",
     "text": [
      "1905\n"
     ]
    }
   ],
   "source": [
    "print(n_sum)"
   ]
  },
  {
   "cell_type": "markdown",
   "metadata": {},
   "source": [
    "### B : 16674 2018년을 되돌아보며"
   ]
  },
  {
   "cell_type": "markdown",
   "metadata": {},
   "source": [
    "- 1 : 관련 있는 수 = 2018로만 이루어져 있다.\n",
    "- 2 : 밀접한 수 = 관련있는 수이면서, 2018을 모두 포함하는 수 \n",
    "- 8 : 묶여있는 수 = 밀접한 수이면서, 2018의 개수가 모두 똑같은 수들\n",
    "- 0 : 관련없는 수 = 2018과 관련 있는 수가 아닌 수 "
   ]
  },
  {
   "cell_type": "code",
   "execution_count": 24,
   "metadata": {},
   "outputs": [],
   "source": [
    "def check_related(N) : \n",
    "    \"관련 있는 수인지 판별한다.\"\n",
    "    for n in N : \n",
    "        if n not in [2, 0, 1, 8] :\n",
    "            return False\n",
    "    \n",
    "    return True"
   ]
  },
  {
   "cell_type": "code",
   "execution_count": 51,
   "metadata": {},
   "outputs": [],
   "source": [
    "def check_closed(N) : \n",
    "    \"밀접한 수인지 판별한다.\"\n",
    "    if check_related(N) == False : # 관련 있는 수  \n",
    "        return False \n",
    "    \n",
    "    unique_n = sorted(list(set(N))) # unique\n",
    "    if unique_n == [0,1,2,8] : \n",
    "        return True\n",
    "    \n",
    "    return False\n",
    "        "
   ]
  },
  {
   "cell_type": "code",
   "execution_count": 66,
   "metadata": {},
   "outputs": [],
   "source": [
    "def check_tied(N):\n",
    "    \"묶여있는 수인지 판별한다.\"\n",
    "    from collections import Counter\n",
    "    \n",
    "    if check_closed(N) == False : \n",
    "        return False \n",
    "    \n",
    "    count_n = Counter(N)\n",
    "    cnt = list(count_n.values())\n",
    "    \n",
    "    for i, _ in enumerate(cnt) : \n",
    "        if (cnt[i] != cnt[i-1]) & (i>=1) : \n",
    "            return False\n",
    "        \n",
    "    return True"
   ]
  },
  {
   "cell_type": "code",
   "execution_count": 71,
   "metadata": {},
   "outputs": [
    {
     "name": "stdout",
     "output_type": "stream",
     "text": [
      "4\n",
      "0\n"
     ]
    }
   ],
   "source": [
    "N = list(map(int, input()))\n",
    "\n",
    "if check_tied(N) : \n",
    "    print(8)\n",
    "elif check_closed(N):\n",
    "    print(2)\n",
    "elif check_related(N):\n",
    "    print(1)\n",
    "else : \n",
    "    print(0)"
   ]
  },
  {
   "cell_type": "code",
   "execution_count": 65,
   "metadata": {},
   "outputs": [
    {
     "data": {
      "text/plain": [
       "dict_values([2, 2, 2, 2])"
      ]
     },
     "execution_count": 65,
     "metadata": {},
     "output_type": "execute_result"
    }
   ],
   "source": [
    "x.values()"
   ]
  },
  {
   "cell_type": "code",
   "execution_count": null,
   "metadata": {},
   "outputs": [],
   "source": [
    "def check_related(N) : \n",
    "    \"관련 있는 수인지 판별한다.\"\n",
    "    for n in N : \n",
    "        if n not in [2, 0, 1, 8] :\n",
    "            return False\n",
    "    \n",
    "    return True\n",
    "\n",
    "def check_closed(N) : \n",
    "    \"밀접한 수인지 판별한다.\"\n",
    "    if check_related(N) == False : # 관련 있는 수  \n",
    "        return False \n",
    "    \n",
    "    unique_n = sorted(list(set(N))) # unique\n",
    "    if unique_n == [0,1,2,8] : \n",
    "        return True\n",
    "    \n",
    "    return False\n",
    "\n",
    "def check_tied(N):\n",
    "    \"묶여있는 수인지 판별한다.\"\n",
    "    from collections import Counter\n",
    "    \n",
    "    if check_closed(N) == False : \n",
    "        return False \n",
    "    \n",
    "    count_n = Counter(N)\n",
    "    cnt = list(count_n.values())\n",
    "    \n",
    "    for i, _ in enumerate(cnt) : \n",
    "        if (cnt[i] != cnt[i-1]) & (i>=1) : \n",
    "            return False\n",
    "        \n",
    "    return True\n",
    "\n",
    "N = list(map(int, input()))\n",
    "\n",
    "if check_tied(N) : \n",
    "    print(8)\n",
    "elif check_closed(N):\n",
    "    print(2)\n",
    "elif check_related(N):\n",
    "    print(1)\n",
    "else : \n",
    "    print(0)"
   ]
  },
  {
   "cell_type": "markdown",
   "metadata": {},
   "source": [
    "### C : 16675 두개의 손 "
   ]
  },
  {
   "cell_type": "markdown",
   "metadata": {},
   "source": [
    "- S : 가위\n",
    "- R : 바위\n",
    "- P : 보 \n",
    "\n",
    "- 민성 왼손, 오른손 / 태경 왼손, 오른손"
   ]
  },
  {
   "cell_type": "code",
   "execution_count": 13,
   "metadata": {},
   "outputs": [
    {
     "name": "stdout",
     "output_type": "stream",
     "text": [
      "P P S S\n"
     ]
    }
   ],
   "source": [
    "ml, mr, tl, tr = input().split()"
   ]
  },
  {
   "cell_type": "code",
   "execution_count": 14,
   "metadata": {},
   "outputs": [
    {
     "data": {
      "text/plain": [
       "(['P', 'P'], ['S', 'S'])"
      ]
     },
     "execution_count": 14,
     "metadata": {},
     "output_type": "execute_result"
    }
   ],
   "source": [
    "m = [ml, mr]\n",
    "t = [tl, tr]\n",
    "m, t"
   ]
  },
  {
   "cell_type": "markdown",
   "metadata": {},
   "source": [
    "두 가지 경우를 보면 된다.\n",
    "\n",
    "민성이 왼손, 민성이 오른손"
   ]
  },
  {
   "cell_type": "code",
   "execution_count": 36,
   "metadata": {},
   "outputs": [],
   "source": [
    "# 민성이가 같은 것을 내었을 때. SS RR PP\n",
    "def check_win(ML,MR, TL, TR):\n",
    "    \"\"\"민성 : 나 / 태경 : 상대\"\"\"\n",
    "    M = [ML, MR]\n",
    "    T = [TL, TR]\n",
    "    if ML == MR : \n",
    "        if ML =='S': # SS\n",
    "            if 'R' in T : \n",
    "                return '상대'\n",
    "        elif ML == 'R':\n",
    "            if 'P' in T :\n",
    "                return '상대'\n",
    "            elif T == ['S', 'S']:\n",
    "                return '나'\n",
    "            else : \n",
    "                return -1\n",
    "        elif ML == 'P':\n",
    "            if 'S' in T :\n",
    "                return '상대'\n",
    "            elif T == ['R', 'R']:\n",
    "                return '나'\n",
    "            \n",
    "    elif M == ['P', 'R']:\n",
    "        if (T == ['S', 'S']) | (T == ['R', 'R']):\n",
    "            return '나'\n",
    "        else : \n",
    "            return -1\n",
    "    else :\n",
    "        return -1"
   ]
  },
  {
   "cell_type": "code",
   "execution_count": 32,
   "metadata": {},
   "outputs": [
    {
     "name": "stdout",
     "output_type": "stream",
     "text": [
      "P R P R\n"
     ]
    }
   ],
   "source": [
    "ml, mr, tl, tr = input().split()"
   ]
  },
  {
   "cell_type": "code",
   "execution_count": 37,
   "metadata": {},
   "outputs": [
    {
     "name": "stdout",
     "output_type": "stream",
     "text": [
      "민성 :  -1\n",
      "태경 :  -1\n"
     ]
    }
   ],
   "source": [
    "print(\"민성 : \", check_win(ml, mr, tl, tr))\n",
    "print(\"태경 : \", check_win(tl, tr, ml, mr))"
   ]
  },
  {
   "cell_type": "code",
   "execution_count": 38,
   "metadata": {},
   "outputs": [
    {
     "name": "stdout",
     "output_type": "stream",
     "text": [
      "?\n"
     ]
    }
   ],
   "source": [
    "result = check_win(ml, mr, tl, tr) # 민성 입장\n",
    "result2 = check_win(tl, tr, ml, mr) # 태경 입장\n",
    "\n",
    "if result == '상대' : \n",
    "    print('TK')\n",
    "elif result == '나' :\n",
    "    print('MS')\n",
    "elif result == -1 : \n",
    "    if result2 == '상대':\n",
    "        print('MS')\n",
    "    elif result2 == '나':\n",
    "        print('TK')\n",
    "    else :\n",
    "        print('?')"
   ]
  },
  {
   "cell_type": "code",
   "execution_count": 59,
   "metadata": {},
   "outputs": [
    {
     "name": "stdout",
     "output_type": "stream",
     "text": [
      "P P R P\n",
      "?\n"
     ]
    }
   ],
   "source": [
    "def check_win(ML,MR, TL, TR):\n",
    "    \"\"\"민성 : 나 / 태경 : 상대\"\"\"\n",
    "    M = [ML, MR]\n",
    "    T = [TL, TR]\n",
    "    if ML == MR : \n",
    "        if ML =='S': # SS\n",
    "            if 'R' in T : \n",
    "                return '상대'\n",
    "            else : \n",
    "                return -1\n",
    "        elif ML == 'R':\n",
    "            if 'P' in T :\n",
    "                return '상대'\n",
    "            elif T == ['S', 'S']:\n",
    "                return '나'\n",
    "            else : \n",
    "                return -1\n",
    "        elif ML == 'P':\n",
    "            if 'S' in T :\n",
    "                return '상대'\n",
    "            elif T == ['R', 'R']:\n",
    "                return '나'\n",
    "            else :\n",
    "                return -1\n",
    "            \n",
    "    elif M == ['P', 'R']:\n",
    "        if (T == ['S', 'S']) | (T == ['R', 'R']):\n",
    "            return '나'\n",
    "        else : \n",
    "            return -1\n",
    "    else :\n",
    "        return -1\n",
    "    \n",
    "ml, mr, tl, tr = input().split()\n",
    "\n",
    "ml, mr = map(lambda x : x, sorted([ml, mr]))\n",
    "tl, tr = map(lambda x : x, sorted([tl, tr]))\n",
    "\n",
    "result = check_win(ml, mr, tl, tr) # 민성 입장\n",
    "result2 = check_win(tl, tr, ml, mr) # 태경 입장\n",
    "\n",
    "if result == '상대' : \n",
    "    print('TK')\n",
    "elif result == '나' :\n",
    "    print('MS')\n",
    "elif result == -1 : \n",
    "    if result2 == '상대':\n",
    "        print('MS')\n",
    "    elif result2 == '나':\n",
    "        print('TK')\n",
    "    else :\n",
    "        print('?')"
   ]
  },
  {
   "cell_type": "code",
   "execution_count": 53,
   "metadata": {},
   "outputs": [
    {
     "data": {
      "text/plain": [
       "'S'"
      ]
     },
     "execution_count": 53,
     "metadata": {},
     "output_type": "execute_result"
    }
   ],
   "source": [
    "ml"
   ]
  },
  {
   "cell_type": "markdown",
   "metadata": {},
   "source": [
    "### D : 16676 근우의 다이어리 꾸미기 "
   ]
  },
  {
   "cell_type": "markdown",
   "metadata": {},
   "source": [
    "1부터 N까지의 수를 모두 표현할 수 있어야 한다.\n",
    "\n",
    "ex) 0 ~ 9876543이면 그 사이에 1111111 이 있으므로 최소 필요한 스티커 팩 개수는 7개\n"
   ]
  },
  {
   "cell_type": "code",
   "execution_count": 115,
   "metadata": {},
   "outputs": [
    {
     "name": "stdout",
     "output_type": "stream",
     "text": [
      "1000000000\n"
     ]
    }
   ],
   "source": [
    "N = input()"
   ]
  },
  {
   "cell_type": "code",
   "execution_count": 116,
   "metadata": {},
   "outputs": [],
   "source": [
    "k = len(N) # 자릿수\n",
    "\n",
    "# 예외 수 구하기 \n",
    "def get_except_num(k, ex_num=0):\n",
    "    if k == 1 :\n",
    "        return ex_num\n",
    "    else : \n",
    "        ex_num += 10**(k-1)\n",
    "        k -= 1\n",
    "        return get_except_num(k, ex_num)"
   ]
  },
  {
   "cell_type": "code",
   "execution_count": 117,
   "metadata": {},
   "outputs": [],
   "source": [
    "e_num = get_except_num(k)"
   ]
  },
  {
   "cell_type": "code",
   "execution_count": 118,
   "metadata": {},
   "outputs": [
    {
     "name": "stdout",
     "output_type": "stream",
     "text": [
      "9\n"
     ]
    }
   ],
   "source": [
    "if int(N) > e_num : \n",
    "    print(k)\n",
    "else : \n",
    "    print(k-1)"
   ]
  },
  {
   "cell_type": "code",
   "execution_count": 121,
   "metadata": {},
   "outputs": [
    {
     "name": "stdout",
     "output_type": "stream",
     "text": [
      "0\n",
      "1\n"
     ]
    }
   ],
   "source": [
    "# 예외 수 구하기 \n",
    "def get_except_num(k, ex_num=0):\n",
    "    if k == 1 :\n",
    "        return ex_num\n",
    "    else : \n",
    "        ex_num += 10**(k-1)\n",
    "        k -= 1\n",
    "        return get_except_num(k, ex_num)\n",
    "\n",
    "N = input()\n",
    "\n",
    "k = len(N) # 자릿수\n",
    "\n",
    "e_num = get_except_num(k)\n",
    "\n",
    "if N == '0':\n",
    "    print(1)\n",
    "elif int(N) > e_num : \n",
    "    print(k)\n",
    "else : \n",
    "    print(k-1)"
   ]
  },
  {
   "cell_type": "markdown",
   "metadata": {},
   "source": [
    "### E : 16677 악마 게임 \n",
    "\n",
    "sys.stdin.readlines() 사용"
   ]
  },
  {
   "cell_type": "code",
   "execution_count": 60,
   "metadata": {},
   "outputs": [],
   "source": [
    "def is_matched(M, word):\n",
    "    mi = 0\n",
    "    wi = 0\n",
    "    check_s = ''\n",
    "\n",
    "    for i, _ in enumerate(word) : \n",
    "        if len(check_s) == len(M):\n",
    "            break\n",
    "        if M[mi] == word[wi] : \n",
    "            check_s += word[wi]\n",
    "            mi += 1\n",
    "\n",
    "        wi += 1\n",
    "    \n",
    "    return True if check_s == M else False"
   ]
  },
  {
   "cell_type": "code",
   "execution_count": 63,
   "metadata": {},
   "outputs": [
    {
     "name": "stdout",
     "output_type": "stream",
     "text": [
      "DEVILIV\n",
      "4\n",
      "DEVILIVI 10\n",
      "DEVILM 11\n",
      "DEVILIVCONFIRMED 66\n",
      "DENVERVILLAINV 70\n"
     ]
    }
   ],
   "source": [
    "M = input()\n",
    "n = int(input())\n",
    "\n",
    "#갑분싸 사전\n",
    "gbs_dict = {}\n",
    "\n",
    "for _ in range(n):\n",
    "    string = input().split()\n",
    "    word, g = string[0], string[1]\n",
    "    if is_matched(M, word) : \n",
    "        gbs_dict[word] = int(g)"
   ]
  },
  {
   "cell_type": "code",
   "execution_count": 65,
   "metadata": {},
   "outputs": [],
   "source": [
    "for k, v in gbs_dict.items() : \n",
    "    gbs = v/(len(k) - len(M))\n",
    "    gbs_dict[k] = gbs"
   ]
  },
  {
   "cell_type": "code",
   "execution_count": 71,
   "metadata": {},
   "outputs": [
    {
     "data": {
      "text/plain": [
       "'DEVILIVI'"
      ]
     },
     "execution_count": 71,
     "metadata": {},
     "output_type": "execute_result"
    }
   ],
   "source": [
    "max_gbs_words = [k for k, v in gbs_dict.items() if max(gbs_dict.values()) == v]"
   ]
  },
  {
   "cell_type": "code",
   "execution_count": 72,
   "metadata": {},
   "outputs": [
    {
     "name": "stdout",
     "output_type": "stream",
     "text": [
      "DEVILIVI\n"
     ]
    }
   ],
   "source": [
    "if max_gbs_words : \n",
    "    print(max_gbs_words[0])\n",
    "else : \n",
    "    print(\"No Jam\")"
   ]
  },
  {
   "cell_type": "code",
   "execution_count": null,
   "metadata": {},
   "outputs": [],
   "source": [
    "def is_matched(M, word):\n",
    "    mi = 0\n",
    "    wi = 0\n",
    "    check_s = ''\n",
    "\n",
    "    for i, _ in enumerate(word) : \n",
    "        if len(check_s) == len(M):\n",
    "            break\n",
    "        if M[mi] == word[wi] : \n",
    "            check_s += word[wi]\n",
    "            mi += 1\n",
    "\n",
    "        wi += 1\n",
    "    \n",
    "    return True if check_s == M else False\n",
    "\n",
    "M = input()\n",
    "n = int(input())\n",
    "\n",
    "#갑분싸 사전\n",
    "gbs_dict = {}\n",
    "\n",
    "for _ in range(n):\n",
    "    string = input().split()\n",
    "    word, g = string[0], string[1]\n",
    "    if is_matched(M, word) : \n",
    "        gbs_dict[word] = int(g)\n",
    "        \n",
    "for k, v in gbs_dict.items() : \n",
    "    gbs = v/(len(k) - len(M))\n",
    "    gbs_dict[k] = gbs\n",
    "    \n",
    "max_gbs_words = [k for k, v in gbs_dict.items() if max(gbs_dict.values()) == v]\n",
    "\n",
    "if max_gbs_words : \n",
    "    print(max_gbs_words[0])\n",
    "else : \n",
    "    print(\"No Jam\")"
   ]
  },
  {
   "cell_type": "markdown",
   "metadata": {},
   "source": [
    "### F 16678 모독\n",
    "\n",
    "하스스톤 모독과 규칙이 같다.\n",
    "\n",
    "- 정렬 \n",
    "- 인덱스(1부터)와 같은 수가 되도록 p만큼씩 빼야 한다."
   ]
  },
  {
   "cell_type": "code",
   "execution_count": 82,
   "metadata": {},
   "outputs": [
    {
     "name": "stdout",
     "output_type": "stream",
     "text": [
      "3\n",
      "1\n",
      "2\n",
      "3\n"
     ]
    }
   ],
   "source": [
    "N = int(input())\n",
    "\n",
    "Reps = []\n",
    "for _ in range(N) : \n",
    "    Reps.append(int(input()))"
   ]
  },
  {
   "cell_type": "code",
   "execution_count": 83,
   "metadata": {},
   "outputs": [
    {
     "data": {
      "text/plain": [
       "[1, 2, 3]"
      ]
     },
     "execution_count": 83,
     "metadata": {},
     "output_type": "execute_result"
    }
   ],
   "source": [
    "Reps.sort()\n",
    "Reps"
   ]
  },
  {
   "cell_type": "code",
   "execution_count": 84,
   "metadata": {},
   "outputs": [],
   "source": [
    "total_p = 0 \n",
    "\n",
    "for i, r in enumerate(Reps) : \n",
    "    i += 1 # 1부터 시작이므로 \n",
    "    p = r - i # 필요한 해커 수 : 현재 명예 - 목표 명예\n",
    "    total_p += p"
   ]
  },
  {
   "cell_type": "code",
   "execution_count": 107,
   "metadata": {},
   "outputs": [
    {
     "name": "stdout",
     "output_type": "stream",
     "text": [
      "7\n",
      "1\n",
      "3\n",
      "3\n",
      "5\n",
      "5\n",
      "5\n",
      "5\n",
      "2\n"
     ]
    }
   ],
   "source": [
    "N = int(input())\n",
    "\n",
    "Reps = []\n",
    "for _ in range(N) : \n",
    "    Reps.append(int(input()))\n",
    "\n",
    "Reps.sort()\n",
    "\n",
    "total_p = 0 \n",
    "\n",
    "for i, r in enumerate(Reps) : \n",
    "    i += 1 # 1부터 시작이므로 \n",
    "    p = r - i # 필요한 해커 수 : 현재 명예 - 목표 명예\n",
    "    if p >= 0 : # 중복 : 1 2 2 \n",
    "        total_p += p\n",
    "    \n",
    "print(total_p)"
   ]
  },
  {
   "cell_type": "code",
   "execution_count": 102,
   "metadata": {},
   "outputs": [
    {
     "data": {
      "text/plain": [
       "[1, 2, 3, 5]"
      ]
     },
     "execution_count": 102,
     "metadata": {},
     "output_type": "execute_result"
    }
   ],
   "source": [
    "list(set(Reps))"
   ]
  },
  {
   "cell_type": "code",
   "execution_count": 80,
   "metadata": {},
   "outputs": [
    {
     "data": {
      "text/plain": [
       "7"
      ]
     },
     "execution_count": 80,
     "metadata": {},
     "output_type": "execute_result"
    }
   ],
   "source": [
    "import sys\n",
    "\n",
    "lines = sys.stdin.read().splitlines() \n",
    "Reps = list(map(int, lines[1:]))\n",
    "\n",
    "Reps = list(set(Reps))\n",
    "Reps.sort()\n",
    "\n",
    "total_p = 0 \n",
    "\n",
    "for i, r in enumerate(Reps) : \n",
    "    i += 1 # 1부터 시작이므로 \n",
    "    p = r - i # 필요한 해커 수 : 현재 명예 - 목표 명예\n",
    "    if p >= 0 : \n",
    "        total_p += p\n",
    "\n",
    "print(total_p)"
   ]
  },
  {
   "cell_type": "code",
   "execution_count": 2,
   "metadata": {},
   "outputs": [
    {
     "name": "stdout",
     "output_type": "stream",
     "text": [
      "7\n",
      "1\n",
      "3\n",
      "3\n",
      "5\n",
      "5\n",
      "5\n",
      "5\n"
     ]
    }
   ],
   "source": [
    "N = int(input())\n",
    "\n",
    "Reps = []\n",
    "for _ in range(N) : \n",
    "    Reps.append(int(input()))"
   ]
  },
  {
   "cell_type": "code",
   "execution_count": 15,
   "metadata": {},
   "outputs": [],
   "source": [
    "curr_n = 1 \n",
    "idx = 0\n",
    "total_p = 0"
   ]
  },
  {
   "cell_type": "code",
   "execution_count": 16,
   "metadata": {},
   "outputs": [
    {
     "data": {
      "text/plain": [
       "[1, 3, 3, 5, 5, 5, 5]"
      ]
     },
     "execution_count": 16,
     "metadata": {},
     "output_type": "execute_result"
    }
   ],
   "source": [
    "Reps.sort()\n",
    "Reps"
   ]
  },
  {
   "cell_type": "code",
   "execution_count": 17,
   "metadata": {},
   "outputs": [],
   "source": [
    "for r in Reps : \n",
    "    p = r - curr_n\n",
    "    if p == 1 :\n",
    "        curr_n += 1\n",
    "    elif p > 1 : \n",
    "        total_p += (p - 1)"
   ]
  },
  {
   "cell_type": "code",
   "execution_count": 18,
   "metadata": {},
   "outputs": [
    {
     "data": {
      "text/plain": [
       "1"
      ]
     },
     "execution_count": 18,
     "metadata": {},
     "output_type": "execute_result"
    }
   ],
   "source": [
    "curr_n"
   ]
  },
  {
   "cell_type": "code",
   "execution_count": 19,
   "metadata": {},
   "outputs": [
    {
     "data": {
      "text/plain": [
       "0"
      ]
     },
     "execution_count": 19,
     "metadata": {},
     "output_type": "execute_result"
    }
   ],
   "source": [
    "total_p"
   ]
  },
  {
   "cell_type": "code",
   "execution_count": null,
   "metadata": {},
   "outputs": [],
   "source": []
  }
 ],
 "metadata": {
  "kernelspec": {
   "display_name": "Python 3",
   "language": "python",
   "name": "python3"
  },
  "language_info": {
   "codemirror_mode": {
    "name": "ipython",
    "version": 3
   },
   "file_extension": ".py",
   "mimetype": "text/x-python",
   "name": "python",
   "nbconvert_exporter": "python",
   "pygments_lexer": "ipython3",
   "version": "3.7.1"
  }
 },
 "nbformat": 4,
 "nbformat_minor": 2
}
