{
 "cells": [
  {
   "cell_type": "markdown",
   "metadata": {},
   "source": [
    "set : 0~9 <br>\n",
    "0 <= room number <= 1,000,000"
   ]
  },
  {
   "cell_type": "code",
   "execution_count": 7,
   "metadata": {},
   "outputs": [],
   "source": [
    "room_num = 1234 "
   ]
  },
  {
   "cell_type": "code",
   "execution_count": 24,
   "metadata": {},
   "outputs": [
    {
     "data": {
      "text/plain": [
       "{0: 0, 1: 1, 2: 2, 3: 3, 4: 4, 5: 5, 6: [6, 9], 7: 7, 8: 8, 9: [9, 6]}"
      ]
     },
     "execution_count": 24,
     "metadata": {},
     "output_type": "execute_result"
    }
   ],
   "source": [
    "k = range(10)\n",
    "v = [0,1,2,3,4,5,[6,9],7,8,[9,6]]\n",
    "num_set = dict(zip(k, v))\n",
    "num_set"
   ]
  },
  {
   "cell_type": "code",
   "execution_count": 28,
   "metadata": {},
   "outputs": [
    {
     "data": {
      "text/plain": [
       "[0, 1, 2, 3, 4, 6, 7, 8, 9]"
      ]
     },
     "execution_count": 28,
     "metadata": {},
     "output_type": "execute_result"
    }
   ],
   "source": [
    "a = list(range(10))\n",
    "a.remove(5)\n",
    "a"
   ]
  },
  {
   "cell_type": "code",
   "execution_count": 64,
   "metadata": {},
   "outputs": [],
   "source": [
    "def get_set():\n",
    "    room_num = list(input())\n",
    "    r_num = [int(rn) for rn in room_num]\n",
    "    pls_set_num = 1\n",
    "\n",
    "    num_set = list(range(10))\n",
    "\n",
    "    for n in r_num :                 \n",
    "        if (n == 6) | (n == 9) :\n",
    "            if n in num_set :\n",
    "                num_set.remove(n)\n",
    "            elif (6 in num_set) & (9 not in num_set) :\n",
    "                num_set.remove(6)          \n",
    "            elif (9 in num_set) & (6 not in num_set) :\n",
    "                num_set.remove(9)\n",
    "            else : \n",
    "                pls_set_num += 1\n",
    "                num_set = list(range(10))  \n",
    "                num_set.remove(n)\n",
    "        else:\n",
    "            if n in num_set :\n",
    "                num_set.remove(n)\n",
    "            \n",
    "            else : \n",
    "                pls_set_num += 1\n",
    "                num_set = list(range(10))\n",
    "    \n",
    "    return pls_set_num"
   ]
  },
  {
   "cell_type": "code",
   "execution_count": 67,
   "metadata": {},
   "outputs": [
    {
     "name": "stdout",
     "output_type": "stream",
     "text": [
      "1111\n"
     ]
    },
    {
     "data": {
      "text/plain": [
       "3"
      ]
     },
     "execution_count": 67,
     "metadata": {},
     "output_type": "execute_result"
    }
   ],
   "source": [
    "result = get_set()\n",
    "result"
   ]
  },
  {
   "cell_type": "code",
   "execution_count": 70,
   "metadata": {},
   "outputs": [
    {
     "data": {
      "text/plain": [
       "{0: 0, 1: 0, 2: 0, 3: 0, 4: 0, 5: 0, 6: 0, 7: 0, 8: 0, 9: 0}"
      ]
     },
     "execution_count": 70,
     "metadata": {},
     "output_type": "execute_result"
    }
   ],
   "source": [
    "\n",
    "max(num_set.values()) # \n",
    "num_set"
   ]
  },
  {
   "cell_type": "code",
   "execution_count": 95,
   "metadata": {},
   "outputs": [
    {
     "data": {
      "text/plain": [
       "1"
      ]
     },
     "execution_count": 95,
     "metadata": {},
     "output_type": "execute_result"
    }
   ],
   "source": [
    "a = 3\n",
    "a %= 2\n",
    "a"
   ]
  },
  {
   "cell_type": "code",
   "execution_count": null,
   "metadata": {},
   "outputs": [],
   "source": [
    "import math\n",
    "\n",
    "room_num = list(map(int, str(input())))\n",
    "\n",
    "k = range(9)\n",
    "v = [0 for _ in k]\n",
    "num_set = dict(zip(k, v))\n",
    "\n",
    "for n in room_num : \n",
    "    if (n==6) | (n==9) :\n",
    "        num_set[6] += 0.5\n",
    "\n",
    "    else:\n",
    "        num_set[n] += 1\n",
    "    \n",
    "answer = math.ceil(max(num_set.values()))\n",
    "print(answer)"
   ]
  },
  {
   "cell_type": "code",
   "execution_count": 106,
   "metadata": {},
   "outputs": [
    {
     "name": "stdout",
     "output_type": "stream",
     "text": [
      "969\n",
      "2\n"
     ]
    }
   ],
   "source": [
    "import math\n",
    "\n",
    "room_num = list(map(int, str(input())))\n",
    "\n",
    "k = range(9)\n",
    "v = [0]*len(k)\n",
    "num_set = dict(zip(k, v))\n",
    "\n",
    "for n in room_num : \n",
    "    if (n==6) | (n==9) :\n",
    "        num_set[6] += 0.5\n",
    "\n",
    "    else:\n",
    "        num_set[n] += 1\n",
    "    \n",
    "answer = math.ceil(max(num_set.values()))\n",
    "print(answer)"
   ]
  },
  {
   "cell_type": "code",
   "execution_count": 108,
   "metadata": {},
   "outputs": [
    {
     "data": {
      "text/plain": [
       "[0, 0, 0, 0, 0, 0, 0, 0, 0]"
      ]
     },
     "execution_count": 108,
     "metadata": {},
     "output_type": "execute_result"
    }
   ],
   "source": [
    "set_num = \n",
    "set_num"
   ]
  },
  {
   "cell_type": "code",
   "execution_count": 109,
   "metadata": {},
   "outputs": [
    {
     "data": {
      "text/plain": [
       "9"
      ]
     },
     "execution_count": 109,
     "metadata": {},
     "output_type": "execute_result"
    }
   ],
   "source": [
    "len(k)"
   ]
  },
  {
   "cell_type": "code",
   "execution_count": 111,
   "metadata": {},
   "outputs": [
    {
     "name": "stdout",
     "output_type": "stream",
     "text": [
      "969\n",
      "2\n"
     ]
    }
   ],
   "source": [
    "import math\n",
    "\n",
    "room_num = list(map(int, str(input())))\n",
    "num_set = [0]*9\n",
    "\n",
    "for n in room_num : \n",
    "    \n",
    "    if (n==6) | (n==9) :\n",
    "        num_set[5] += 0.5\n",
    "    else:\n",
    "        num_set[n] += 1\n",
    "    \n",
    "answer = math.ceil(max(num_set))\n",
    "print(answer)"
   ]
  },
  {
   "cell_type": "code",
   "execution_count": null,
   "metadata": {},
   "outputs": [],
   "source": []
  }
 ],
 "metadata": {
  "kernelspec": {
   "display_name": "Python 3",
   "language": "python",
   "name": "python3"
  },
  "language_info": {
   "codemirror_mode": {
    "name": "ipython",
    "version": 3
   },
   "file_extension": ".py",
   "mimetype": "text/x-python",
   "name": "python",
   "nbconvert_exporter": "python",
   "pygments_lexer": "ipython3",
   "version": "3.7.1"
  }
 },
 "nbformat": 4,
 "nbformat_minor": 2
}
