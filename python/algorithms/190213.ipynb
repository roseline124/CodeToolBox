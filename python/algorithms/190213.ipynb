{
 "cells": [
  {
   "cell_type": "code",
   "execution_count": 34,
   "metadata": {},
   "outputs": [
    {
     "name": "stdout",
     "output_type": "stream",
     "text": [
      "0 10\n"
     ]
    }
   ],
   "source": [
    "x,y = list(map(int, input(\"\").split()))\n",
    "distance = y - x "
   ]
  },
  {
   "cell_type": "code",
   "execution_count": 35,
   "metadata": {},
   "outputs": [],
   "source": [
    "n = 0 \n",
    "k = 1 #first k, last k "
   ]
  },
  {
   "cell_type": "code",
   "execution_count": 33,
   "metadata": {},
   "outputs": [],
   "source": [
    "\"\"\"\n",
    "이동 거리를 k \n",
    "k[n]에서 최소의 n을 구한다. \n",
    "규칙1. 규칙2에 어긋나지 않으면 k는 1씩 커진다.\n",
    "규칙2. distance가 3또는 4인 경우, k = 2\n",
    "\"\"\""
   ]
  },
  {
   "cell_type": "code",
   "execution_count": 9,
   "metadata": {},
   "outputs": [],
   "source": [
    "if (distance==3) or (distance==4) :\n",
    "    k=2"
   ]
  },
  {
   "cell_type": "code",
   "execution_count": 11,
   "metadata": {},
   "outputs": [
    {
     "data": {
      "text/plain": [
       "3"
      ]
     },
     "execution_count": 11,
     "metadata": {},
     "output_type": "execute_result"
    }
   ],
   "source": [
    "while distance != 0 :\n",
    "    \n",
    "    if distance <= 2 : \n",
    "        distance -= k \n",
    "        n += 1 \n",
    "        \n",
    "    elif distance <= 4 : \n",
    "        distance -= k\n",
    "        if distance == 4 : \n",
    "            k \n",
    "    \n",
    "        \n",
    "        \n",
    "    "
   ]
  },
  {
   "cell_type": "code",
   "execution_count": 57,
   "metadata": {},
   "outputs": [],
   "source": [
    "s=input(\"\")\n",
    "\n",
    "dial = {\n",
    "    'ABC' : 3,\n",
    "    'DEF' : 4,\n",
    "    'GHI' : 5,\n",
    "    'JKL' : 6, \n",
    "    'MNO' : 7, \n",
    "    'PQRS': 8,\n",
    "    'TUV' : 9, \n",
    "    'WXYZ': 10, \n",
    "}\n",
    "\n",
    "_list = []\n",
    "for i in range(len(s)) :\n",
    "    for k in dial : \n",
    "        if s[i] in k :\n",
    "            _list.append(dial[k])\n",
    "\n",
    "print(sum(_list))"
   ]
  },
  {
   "cell_type": "code",
   "execution_count": 63,
   "metadata": {},
   "outputs": [
    {
     "name": "stdout",
     "output_type": "stream",
     "text": [
      "3 2\n",
      "1\n"
     ]
    }
   ],
   "source": [
    "a, b = list(map(int, input(\"\").split()))\n",
    "n = (a-b) if a > b else (b-a)\n",
    "print(n)"
   ]
  },
  {
   "cell_type": "code",
   "execution_count": 64,
   "metadata": {},
   "outputs": [
    {
     "name": "stdout",
     "output_type": "stream",
     "text": [
      "3 2\n",
      "1\n"
     ]
    }
   ],
   "source": [
    "a, b = list(map(int, input(\"\").split()))\n",
    "print(a-b)"
   ]
  },
  {
   "cell_type": "code",
   "execution_count": null,
   "metadata": {},
   "outputs": [],
   "source": []
  }
 ],
 "metadata": {
  "kernelspec": {
   "display_name": "Python 3",
   "language": "python",
   "name": "python3"
  },
  "language_info": {
   "codemirror_mode": {
    "name": "ipython",
    "version": 3
   },
   "file_extension": ".py",
   "mimetype": "text/x-python",
   "name": "python",
   "nbconvert_exporter": "python",
   "pygments_lexer": "ipython3",
   "version": "3.7.1"
  }
 },
 "nbformat": 4,
 "nbformat_minor": 2
}
