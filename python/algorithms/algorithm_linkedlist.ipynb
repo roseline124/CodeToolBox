{
 "cells": [
  {
   "cell_type": "code",
   "execution_count": 15,
   "metadata": {},
   "outputs": [],
   "source": [
    "class Node :\n",
    "    \n",
    "    def __init__(self) :\n",
    "        self.data = 0 #노드가 가진 데이터 \n",
    "        self.next_node = 0 #다음 노드\n",
    "    \n",
    "head = Node()\n",
    "\n",
    "head.data = 0\n",
    "\n",
    "node1 = Node()\n",
    "\n",
    "node1.data = 1\n",
    "head.next_node = node1\n",
    "\n",
    "node2 = Node()\n",
    "\n",
    "node2.data = 2\n",
    "node1.next_node = node2\n",
    "\n",
    "tail = Node()\n",
    "\n",
    "tail.data = 3\n",
    "node2.next_node = tail"
   ]
  },
  {
   "cell_type": "code",
   "execution_count": 56,
   "metadata": {},
   "outputs": [],
   "source": [
    "class Node :\n",
    "    \n",
    "    def __init__(self) :\n",
    "        self.data = '' #노드가 가진 데이터 \n",
    "        self.next_node = 0 #다음 노드\n",
    "    \n",
    "head = Node()\n",
    "\n",
    "head.data = 'H'\n",
    "\n",
    "node1 = Node()\n",
    "\n",
    "node1.data = 'E'\n",
    "head.next_node = node1\n",
    "\n",
    "node2 = Node()\n",
    "\n",
    "node2.data = 'LL'\n",
    "node1.next_node = node2\n",
    "\n",
    "tail = Node()\n",
    "\n",
    "tail.data = None\n",
    "node2.next_node = tail"
   ]
  },
  {
   "cell_type": "code",
   "execution_count": 24,
   "metadata": {},
   "outputs": [],
   "source": [
    "\"\"\"\n",
    "읽기 : 특정 인덱스 찾기 \n",
    "\"\"\"\n",
    "\n",
    "def read(idx) :\n",
    "    \n",
    "    curr_node = head \n",
    "    curr_index = 0\n",
    "    \n",
    "    while curr_index < idx : # 같아질 때까지 연결 리스트를 따라간다.\n",
    "        \n",
    "        next_node = curr_node.next_node \n",
    "        curr_node = next_node\n",
    "        curr_index += 1\n",
    "    \n",
    "    return curr_node.data\n",
    "    \n",
    "read(3)"
   ]
  },
  {
   "cell_type": "code",
   "execution_count": 31,
   "metadata": {},
   "outputs": [
    {
     "data": {
      "text/plain": [
       "2"
      ]
     },
     "execution_count": 31,
     "metadata": {},
     "output_type": "execute_result"
    }
   ],
   "source": [
    "\"\"\"\n",
    "검색 : 특정 값을 가진 노드를 찾는다.\n",
    "\"\"\"\n",
    "\n",
    "def search(value) :\n",
    "    \n",
    "    curr_node = head\n",
    "    curr_index = 0\n",
    "    \n",
    "    while curr_node.data != value :  \n",
    "        \n",
    "        next_node = curr_node.next_node\n",
    "        curr_node = next_node\n",
    "        curr_index += 1\n",
    "        \n",
    "    return curr_index\n",
    "    \n",
    "search('LL')"
   ]
  },
  {
   "cell_type": "code",
   "execution_count": 57,
   "metadata": {},
   "outputs": [],
   "source": [
    "\"\"\"\n",
    "중간에 새로운 노드를 삽입한다.\n",
    "1. 노드 생성\n",
    "2. 새로운 노드를 다음 노드에 연결 \n",
    "3. 이전 노드를 새로운 노드로 연결\n",
    "\"\"\"\n",
    "\n",
    "def insert_node(pre_node) : #삽입할 자리의 노드와 그전 노드를 매개변수로 설정.\n",
    "    \n",
    "    new_node = Node()\n",
    "    new_node.data = 'new'\n",
    "    \n",
    "    curr_node = pre_node.next_node\n",
    "    \n",
    "    new_node.next_node = curr_node\n",
    "    pre_node.next_node = new_node \n",
    "\n",
    "    return new_node\n",
    "    \n",
    "new_node = insert_node(node1)\n"
   ]
  },
  {
   "cell_type": "code",
   "execution_count": 63,
   "metadata": {},
   "outputs": [
    {
     "data": {
      "text/plain": [
       "'LL'"
      ]
     },
     "execution_count": 63,
     "metadata": {},
     "output_type": "execute_result"
    }
   ],
   "source": [
    "read(2)"
   ]
  },
  {
   "cell_type": "code",
   "execution_count": 61,
   "metadata": {},
   "outputs": [],
   "source": [
    "def remove_node(pre_node, del_node) :\n",
    "    \n",
    "    pre_node.next_node = del_node.next_node \n",
    "    \n",
    "remove_node(node1,new_node)"
   ]
  },
  {
   "cell_type": "code",
   "execution_count": 64,
   "metadata": {},
   "outputs": [
    {
     "data": {
      "text/plain": [
       "'E'"
      ]
     },
     "execution_count": 64,
     "metadata": {},
     "output_type": "execute_result"
    }
   ],
   "source": [
    "read(1)"
   ]
  },
  {
   "cell_type": "code",
   "execution_count": 1,
   "metadata": {},
   "outputs": [],
   "source": [
    "\"\"\"\n",
    "이중 연결리스트 \n",
    "\"\"\"\n",
    "\n",
    "class DoubleNode :\n",
    "    \n",
    "    def __init__(self) :\n",
    "        self.pre_node = None\n",
    "        self.data = '' #노드가 가진 데이터 \n",
    "        self.next_node = None #다음 노드\n",
    "    \n",
    "head = DoubleNode()\n",
    "\n",
    "head.pre_node = None\n",
    "head.data = 'H'\n",
    "\n",
    "node1 = DoubleNode()\n",
    "\n",
    "node1.pre_node = head\n",
    "node1.data = 'E'\n",
    "head.next_node = node1\n",
    "\n",
    "node2 = DoubleNode()\n",
    "\n",
    "node2.pre_node = node1\n",
    "node2.data = 'L'\n",
    "node1.next_node = node2\n",
    "\n",
    "node3 = DoubleNode()\n",
    "\n",
    "node3.pre_node = node2\n",
    "node3.data = 'L'\n",
    "node2.next_node = node3\n",
    "\n",
    "tail = DoubleNode()\n",
    "\n",
    "tail.pre_node = node3\n",
    "tail.data = 'O'\n",
    "node3.next_node = tail\n",
    "\n",
    "tail.next_node = None\n",
    "\n"
   ]
  },
  {
   "cell_type": "code",
   "execution_count": 2,
   "metadata": {},
   "outputs": [
    {
     "data": {
      "text/plain": [
       "<__main__.DoubleNode at 0x179fa10>"
      ]
     },
     "execution_count": 2,
     "metadata": {},
     "output_type": "execute_result"
    }
   ],
   "source": [
    "node3.pre_node"
   ]
  },
  {
   "cell_type": "code",
   "execution_count": 4,
   "metadata": {},
   "outputs": [],
   "source": [
    "\"\"\"\n",
    "이중 연결리스트 \n",
    "\"\"\"\n",
    "\n",
    "class DoubleNode :\n",
    "    \n",
    "    def __init__(self) :\n",
    "        self.pre_node = None\n",
    "        self.data = '' #노드가 가진 데이터 \n",
    "        self.next_node = None #다음 노드\n",
    "    \n",
    "head = DoubleNode()\n",
    "\n",
    "head.pre_node = None\n",
    "head.data = 'HELLO'\n",
    "\n",
    "middle = DoubleNode()\n",
    "\n",
    "middle.pre_node = head\n",
    "middle.data = 'WORLD'\n",
    "head.next_node = middle\n",
    "\n",
    "tail = DoubleNode()\n",
    "\n",
    "tail.pre_node = middle\n",
    "tail.data = '!'\n",
    "middle.next_node = tail\n",
    "\n",
    "tail.next_node = None\n",
    "\n"
   ]
  },
  {
   "cell_type": "code",
   "execution_count": 10,
   "metadata": {},
   "outputs": [],
   "source": [
    "def push_node(tail) :\n",
    "    \n",
    "    new_node = DoubleNode()\n",
    "    \n",
    "    tail.next_node = new_node\n",
    "    \n",
    "    new_node.data = 'Python'\n",
    "    new_node.pre_node = tail\n",
    "    \n",
    "    return new_node\n",
    "    \n",
    "    "
   ]
  },
  {
   "cell_type": "code",
   "execution_count": 11,
   "metadata": {},
   "outputs": [],
   "source": [
    "new_node=push_node(tail)"
   ]
  },
  {
   "cell_type": "code",
   "execution_count": 13,
   "metadata": {},
   "outputs": [
    {
     "data": {
      "text/plain": [
       "'Python'"
      ]
     },
     "execution_count": 13,
     "metadata": {},
     "output_type": "execute_result"
    }
   ],
   "source": [
    "new_node.data"
   ]
  },
  {
   "cell_type": "code",
   "execution_count": 14,
   "metadata": {},
   "outputs": [],
   "source": [
    "def left_pop(head) : \n",
    "    \n",
    "    next_node = head.next_node\n",
    "    \n",
    "    next_node.pre_node = None\n",
    "    head_next_node = None\n",
    "    \n",
    "    return next_node"
   ]
  },
  {
   "cell_type": "code",
   "execution_count": 16,
   "metadata": {},
   "outputs": [],
   "source": [
    "head = left_pop(head)"
   ]
  },
  {
   "cell_type": "code",
   "execution_count": 17,
   "metadata": {},
   "outputs": [
    {
     "data": {
      "text/plain": [
       "'WORLD'"
      ]
     },
     "execution_count": 17,
     "metadata": {},
     "output_type": "execute_result"
    }
   ],
   "source": [
    "head.data"
   ]
  },
  {
   "cell_type": "code",
   "execution_count": null,
   "metadata": {},
   "outputs": [],
   "source": []
  }
 ],
 "metadata": {
  "kernelspec": {
   "display_name": "Python 3",
   "language": "python",
   "name": "python3"
  },
  "language_info": {
   "codemirror_mode": {
    "name": "ipython",
    "version": 3
   },
   "file_extension": ".py",
   "mimetype": "text/x-python",
   "name": "python",
   "nbconvert_exporter": "python",
   "pygments_lexer": "ipython3",
   "version": "3.7.1"
  }
 },
 "nbformat": 4,
 "nbformat_minor": 2
}
