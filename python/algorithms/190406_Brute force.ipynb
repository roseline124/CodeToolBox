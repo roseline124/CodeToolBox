{
 "cells": [
  {
   "cell_type": "markdown",
   "metadata": {},
   "source": [
    "### 7568번 덩치"
   ]
  },
  {
   "cell_type": "code",
   "execution_count": 1,
   "metadata": {},
   "outputs": [
    {
     "name": "stdout",
     "output_type": "stream",
     "text": [
      "5\n",
      "55 185\n",
      "58 183\n",
      "88 186\n",
      "60 175\n",
      "46 155\n"
     ]
    }
   ],
   "source": [
    "N = int(input())\n",
    "\n",
    "people = []\n",
    "for _ in range(N):\n",
    "    w, h = map(int, input().split())\n",
    "    people.append((w, h))"
   ]
  },
  {
   "cell_type": "code",
   "execution_count": 2,
   "metadata": {},
   "outputs": [
    {
     "data": {
      "text/plain": [
       "[(55, 185), (58, 183), (88, 186), (60, 175), (46, 155)]"
      ]
     },
     "execution_count": 2,
     "metadata": {},
     "output_type": "execute_result"
    }
   ],
   "source": [
    "people"
   ]
  },
  {
   "cell_type": "code",
   "execution_count": 4,
   "metadata": {},
   "outputs": [
    {
     "name": "stdout",
     "output_type": "stream",
     "text": [
      "2\n",
      "2\n",
      "1\n",
      "2\n",
      "5\n"
     ]
    }
   ],
   "source": [
    "for c in people :\n",
    "    rank = 1 # 나보다 덩치 큰 사람 수 + 1\n",
    "    \n",
    "    for n in people:\n",
    "        if (c[0]!=n[0]) & (c[1]!=n[1]): # 자신을 제외하고 비교 \n",
    "            if (c[0]<n[0]) & (c[1]<n[1]): # w, h 모두 큰 경우\n",
    "                rank += 1\n",
    "            \n",
    "    print(rank)"
   ]
  },
  {
   "cell_type": "markdown",
   "metadata": {},
   "source": [
    "### 2231번 분해합"
   ]
  },
  {
   "cell_type": "code",
   "execution_count": 5,
   "metadata": {},
   "outputs": [
    {
     "name": "stdout",
     "output_type": "stream",
     "text": [
      "216\n"
     ]
    }
   ],
   "source": [
    "N = int(input())"
   ]
  },
  {
   "cell_type": "code",
   "execution_count": 9,
   "metadata": {},
   "outputs": [
    {
     "data": {
      "text/plain": [
       "'\\n1의 자리수 생성자의 최대값 : 9\\n10의 자리수 생성자의 최대값 : 99 + 9 + 9 = 117\\n100의 자리수 생성자의 최대값 : 999 + 9 + 9 + 9 = 1026\\n10**n 자리수 생성자의 최대값 : ((10**(n+1)) -1) + 9 *len(10**n)\\n'"
      ]
     },
     "execution_count": 9,
     "metadata": {},
     "output_type": "execute_result"
    }
   ],
   "source": [
    "\"\"\"\n",
    "1의 자리수 생성자의 최대값 : 9\n",
    "10의 자리수 생성자의 최대값 : 99 + 9 + 9 = 117\n",
    "100의 자리수 생성자의 최대값 : 999 + 9 + 9 + 9 = 1026\n",
    "10**n 자리수 생성자의 최대값 : ((10**(n+1)) -1) + 9 *len(10**n)\n",
    "\"\"\""
   ]
  },
  {
   "cell_type": "code",
   "execution_count": 38,
   "metadata": {},
   "outputs": [],
   "source": [
    "def max_devided_sum(N):\n",
    "    _max = (10**(N+1) -1) + 9*len(str(10**N)) \n",
    "    return _max\n",
    "\n",
    "def low_bound(N): # 하한선\n",
    "    s = 0\n",
    "    _max = 0\n",
    "    \n",
    "    while _max < N :\n",
    "        _max = max_devided_sum(s)\n",
    "        s += 1 \n",
    "    \n",
    "    return max_devided_sum(s-2)"
   ]
  },
  {
   "cell_type": "code",
   "execution_count": 39,
   "metadata": {},
   "outputs": [
    {
     "name": "stdout",
     "output_type": "stream",
     "text": [
      "0\n",
      "1\n",
      "2\n"
     ]
    },
    {
     "data": {
      "text/plain": [
       "117"
      ]
     },
     "execution_count": 39,
     "metadata": {},
     "output_type": "execute_result"
    }
   ],
   "source": [
    "low = low_bound(N)\n",
    "low"
   ]
  },
  {
   "cell_type": "code",
   "execution_count": 47,
   "metadata": {},
   "outputs": [],
   "source": [
    "def get_devided_num(low_n):\n",
    "    \n",
    "    e = list(map(int, str(low_n)))\n",
    "    devided_num = low_n + sum(e)\n",
    "    \n",
    "    return devided_num"
   ]
  },
  {
   "cell_type": "code",
   "execution_count": 49,
   "metadata": {},
   "outputs": [
    {
     "data": {
      "text/plain": [
       "198"
      ]
     },
     "execution_count": 49,
     "metadata": {},
     "output_type": "execute_result"
    }
   ],
   "source": [
    "while get_devided_num(low) != N:\n",
    "    low += 1\n",
    "\n",
    "low"
   ]
  },
  {
   "cell_type": "code",
   "execution_count": 44,
   "metadata": {},
   "outputs": [
    {
     "data": {
      "text/plain": [
       "[1, 9, 3]"
      ]
     },
     "execution_count": 44,
     "metadata": {},
     "output_type": "execute_result"
    }
   ],
   "source": [
    "list(map(int, st))"
   ]
  },
  {
   "cell_type": "code",
   "execution_count": 50,
   "metadata": {},
   "outputs": [
    {
     "name": "stdout",
     "output_type": "stream",
     "text": [
      "216\n",
      "198\n"
     ]
    }
   ],
   "source": [
    "N = int(input()) # 목표 분해합\n",
    "\n",
    "def max_devided_sum(N):\n",
    "    _max = (10**(N+1) - 1) + 9*len(str(10**N)) \n",
    "    return _max\n",
    "\n",
    "def low_bound(N): # 하한선\n",
    "    s = 0\n",
    "    _max = 0\n",
    "    \n",
    "    while _max < N :\n",
    "        _max = max_devided_sum(s)\n",
    "        s += 1 \n",
    "    \n",
    "    return max_devided_sum(s-2)\n",
    "\n",
    "def get_devided_num(low_n):\n",
    "    e = list(map(int, str(low_n)))\n",
    "    devided_num = low_n + sum(e)\n",
    "    \n",
    "    return devided_num\n",
    "\n",
    "while get_devided_num(low) != N:\n",
    "    low += 1\n",
    "\n",
    "print(low)"
   ]
  },
  {
   "cell_type": "code",
   "execution_count": 51,
   "metadata": {},
   "outputs": [
    {
     "name": "stdout",
     "output_type": "stream",
     "text": [
      "216\n",
      "198\n"
     ]
    }
   ],
   "source": [
    "import sys \n",
    "\n",
    "N = int(sys.stdin.read()) # 목표 분해합\n",
    "low = 0\n",
    "\n",
    "def get_devided_num(low_n):\n",
    "    e = list(map(int, str(low_n)))\n",
    "    devided_num = low_n + sum(e)\n",
    "    \n",
    "    return devided_num\n",
    "\n",
    "while get_devided_num(low) != N:\n",
    "    low += 1\n",
    "\n",
    "print(low)"
   ]
  },
  {
   "cell_type": "markdown",
   "metadata": {},
   "source": [
    "### 정답"
   ]
  },
  {
   "cell_type": "code",
   "execution_count": 64,
   "metadata": {},
   "outputs": [
    {
     "name": "stdout",
     "output_type": "stream",
     "text": [
      "11\n",
      "10\n"
     ]
    }
   ],
   "source": [
    "N = int(input()) # 목표 분해합\n",
    "low = 0\n",
    "\n",
    "def get_devided_num(low_n):\n",
    "    e = list(map(int, str(low_n)))\n",
    "    devided_num = low_n + sum(e)\n",
    "    \n",
    "    return devided_num\n",
    "\n",
    "while get_devided_num(low) != N:\n",
    "    if low == N :\n",
    "        low = 0\n",
    "        break\n",
    "    else : \n",
    "        low += 1\n",
    "\n",
    "print(low)"
   ]
  },
  {
   "cell_type": "code",
   "execution_count": null,
   "metadata": {},
   "outputs": [],
   "source": []
  }
 ],
 "metadata": {
  "kernelspec": {
   "display_name": "Python 3",
   "language": "python",
   "name": "python3"
  },
  "language_info": {
   "codemirror_mode": {
    "name": "ipython",
    "version": 3
   },
   "file_extension": ".py",
   "mimetype": "text/x-python",
   "name": "python",
   "nbconvert_exporter": "python",
   "pygments_lexer": "ipython3",
   "version": "3.7.1"
  }
 },
 "nbformat": 4,
 "nbformat_minor": 2
}
