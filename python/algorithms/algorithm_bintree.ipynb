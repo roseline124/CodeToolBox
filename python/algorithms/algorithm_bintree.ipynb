{
 "cells": [
  {
   "cell_type": "code",
   "execution_count": 1,
   "metadata": {},
   "outputs": [
    {
     "data": {
      "text/plain": [
       "'\\n이중노드로 이진트리를 구현하자! ^0^ 오홍홍\\n'"
      ]
     },
     "execution_count": 1,
     "metadata": {},
     "output_type": "execute_result"
    }
   ],
   "source": [
    "\"\"\"\n",
    "이진트리를 구현하자! ^0^ 오홍홍\n",
    "\"\"\""
   ]
  },
  {
   "cell_type": "code",
   "execution_count": 53,
   "metadata": {},
   "outputs": [],
   "source": [
    "class treeNode : \n",
    "    \n",
    "    def __init__(self, data, left=None, right=None) :\n",
    "        self.data = data\n",
    "        self.left = left\n",
    "        self.right = right"
   ]
  },
  {
   "cell_type": "code",
   "execution_count": 86,
   "metadata": {},
   "outputs": [],
   "source": [
    "def search(data, root) :\n",
    "\n",
    "    currNode = root\n",
    "\n",
    "    if data == currNode.data : \n",
    "        return currNode\n",
    "    \n",
    "    else : \n",
    "        if data > currNode.data : \n",
    "            currNode = currNode.right\n",
    "\n",
    "        elif data < currNode.data : \n",
    "            currNode = currNode.left\n",
    "        \n",
    "        currNode = search(data, currNode)\n",
    "        \n",
    "    return currNode  \n",
    "        \n",
    "def insert(data, root) :\n",
    "    newNode = treeNode(data)\n",
    "    currNode = root\n",
    "    \n",
    "    if data > currNode.data : \n",
    "        if currNode.right is None : \n",
    "            currNode.right = newNode\n",
    "        else : \n",
    "            insert(data, currNode.right)\n",
    "        \n",
    "    elif data < currNode.data : \n",
    "        if currNode.left is None : \n",
    "            currNode.left = newNode\n",
    "        else : \n",
    "            insert(data, currNode.left)\n",
    "            \n",
    "def lift(currNode, delNode) :\n",
    "\n",
    "    if currNode.left!=None : #후속자 노드 찾기 \n",
    "        currNode.left = lift(currNode.left, delNode)\n",
    "        return currNode\n",
    "    else : \n",
    "        delNode.data = currNode.data #후속자 값으로 교체 \n",
    "        return currNode.right #후속자 노드에 오른쪽 자식이 있다면, 자신의 부모의 왼쪽 자식으로 쓰이도록 반환. \n",
    "    \n",
    "    \n",
    "    \n",
    "def delete(data, root) :\n",
    "    delNode = search(data, root)\n",
    "    \n",
    "    if delNode == None : \n",
    "        return None \n",
    "    \n",
    "    else :\n",
    "        if (delNode.left == None) & (delNode.right == None) : \n",
    "            delNode = None \n",
    "            \n",
    "        elif (delNode.left!=None) & (delNode.right == None) :\n",
    "            delNode = delNode.left \n",
    "            \n",
    "        elif (delNode.left == None) & (delNode.right!=None) :\n",
    "            delNode = delNode.right\n",
    "            \n",
    "        elif (delNode.left!=None) & (delNode.right!=None) :\n",
    "            delNode.left = lift(delNode.right,delNode)\n",
    "            \n",
    "        \n"
   ]
  },
  {
   "cell_type": "code",
   "execution_count": 87,
   "metadata": {},
   "outputs": [],
   "source": [
    "node6=treeNode(55)\n",
    "node5=treeNode(52,None,node6)\n",
    "node4= treeNode(89)\n",
    "node3= treeNode(60,node5)\n",
    "node2 = treeNode(75,node3,node4)\n",
    "node1 = treeNode(25)\n",
    "root = treeNode(50, node1, node2)"
   ]
  },
  {
   "cell_type": "code",
   "execution_count": 88,
   "metadata": {},
   "outputs": [],
   "source": [
    "delete(50, root)"
   ]
  },
  {
   "cell_type": "code",
   "execution_count": 91,
   "metadata": {},
   "outputs": [
    {
     "data": {
      "text/plain": [
       "52"
      ]
     },
     "execution_count": 91,
     "metadata": {},
     "output_type": "execute_result"
    }
   ],
   "source": [
    "root.data"
   ]
  },
  {
   "cell_type": "code",
   "execution_count": 35,
   "metadata": {},
   "outputs": [],
   "source": [
    "HEAD_DATA = 100\n",
    "\n",
    "class binTree(doubleNode) :\n",
    "    \n",
    "    def __init__(self) :\n",
    "        self.head = doubleNode()\n",
    "        self.head.data = HEAD_DATA            \n",
    "        \n",
    "    def search(self, data) : #return lastNode\n",
    "        self.currNode = self.head\n",
    "\n",
    "        while self.currNode.data != data : \n",
    "            if self.currNode.leftNode == None : \n",
    "                if self.currNode.rightNode != None :\n",
    "                    self.currNode = self.currNode.rightNode \n",
    "                \n",
    "                else : \n",
    "                    print(\"there's no data such like that\")\n",
    "                    return None\n",
    "                \n",
    "            else : \n",
    "                self.currNode = self.currNode.leftNode\n",
    "            \n",
    "        return self.currNode\n",
    "    \n",
    "    def makeNewNode(self, data) :\n",
    "        \n",
    "        if data == 0 : \n",
    "            print(\"0 is default. please choose other number\")\n",
    "        \n",
    "        else : \n",
    "            self.newNode = doubleNode()\n",
    "            self.newNode.data = data \n",
    "        \n",
    "        return self.newNode\n",
    "        \n",
    "        \n",
    "    def insert(self, newNode) :\n",
    "        self.currNode = self.head\n",
    "        \n",
    "        while (self.currNode.leftNode != None) | (self.currNode.leftNode != None) : \n",
    "            if newNode.data > self.currNode.data : \n",
    "                if self.currNode.rightNode != None :\n",
    "                    self.currNode = self.currNode.rightNode\n",
    "                else : \n",
    "                    self.currNode = self.currNode.leftNode\n",
    "                \n",
    "            elif newNode.data < self.currNode.data : \n",
    "                self.currNode = self.currNode.leftNode\n",
    "                \n",
    "            else : \n",
    "                print(\"new Node data must be different from other data\")\n",
    "                \n",
    "        self.currNode = newNode\n",
    "        return self.currNode\n",
    "        \n",
    "    \n",
    "\n",
    "        "
   ]
  },
  {
   "cell_type": "code",
   "execution_count": 36,
   "metadata": {},
   "outputs": [],
   "source": [
    "tree = binTree()"
   ]
  },
  {
   "cell_type": "code",
   "execution_count": 37,
   "metadata": {},
   "outputs": [
    {
     "name": "stdout",
     "output_type": "stream",
     "text": [
      "<__main__.doubleNode object at 0x016BE750>\n"
     ]
    }
   ],
   "source": [
    "print(tree.search(100))"
   ]
  },
  {
   "cell_type": "code",
   "execution_count": 37,
   "metadata": {},
   "outputs": [
    {
     "ename": "NameError",
     "evalue": "name 'tree' is not defined",
     "output_type": "error",
     "traceback": [
      "\u001b[1;31m---------------------------------------------------------------------------\u001b[0m",
      "\u001b[1;31mNameError\u001b[0m                                 Traceback (most recent call last)",
      "\u001b[1;32m<ipython-input-37-c23b5ae26150>\u001b[0m in \u001b[0;36m<module>\u001b[1;34m\u001b[0m\n\u001b[1;32m----> 1\u001b[1;33m \u001b[0mnewNode\u001b[0m \u001b[1;33m=\u001b[0m \u001b[0mtree\u001b[0m\u001b[1;33m.\u001b[0m\u001b[0mmakeNewNode\u001b[0m\u001b[1;33m(\u001b[0m\u001b[1;36m125\u001b[0m\u001b[1;33m)\u001b[0m\u001b[1;33m\u001b[0m\u001b[1;33m\u001b[0m\u001b[0m\n\u001b[0m",
      "\u001b[1;31mNameError\u001b[0m: name 'tree' is not defined"
     ]
    }
   ],
   "source": [
    "newNode = tree.makeNewNode(125)"
   ]
  },
  {
   "cell_type": "code",
   "execution_count": 39,
   "metadata": {},
   "outputs": [],
   "source": [
    "e = 1"
   ]
  },
  {
   "cell_type": "raw",
   "metadata": {},
   "source": [
    "def test() : \n",
    "    if e : \n",
    "    print(\"hello\")"
   ]
  },
  {
   "cell_type": "code",
   "execution_count": 40,
   "metadata": {},
   "outputs": [
    {
     "ename": "NameError",
     "evalue": "name 'test' is not defined",
     "output_type": "error",
     "traceback": [
      "\u001b[1;31m---------------------------------------------------------------------------\u001b[0m",
      "\u001b[1;31mNameError\u001b[0m                                 Traceback (most recent call last)",
      "\u001b[1;32m<ipython-input-40-fbd55f77ab7c>\u001b[0m in \u001b[0;36m<module>\u001b[1;34m\u001b[0m\n\u001b[1;32m----> 1\u001b[1;33m \u001b[0mtest\u001b[0m\u001b[1;33m(\u001b[0m\u001b[1;33m)\u001b[0m\u001b[1;33m\u001b[0m\u001b[1;33m\u001b[0m\u001b[0m\n\u001b[0m",
      "\u001b[1;31mNameError\u001b[0m: name 'test' is not defined"
     ]
    }
   ],
   "source": [
    "test()"
   ]
  },
  {
   "cell_type": "code",
   "execution_count": null,
   "metadata": {},
   "outputs": [],
   "source": []
  }
 ],
 "metadata": {
  "kernelspec": {
   "display_name": "Python 3",
   "language": "python",
   "name": "python3"
  },
  "language_info": {
   "codemirror_mode": {
    "name": "ipython",
    "version": 3
   },
   "file_extension": ".py",
   "mimetype": "text/x-python",
   "name": "python",
   "nbconvert_exporter": "python",
   "pygments_lexer": "ipython3",
   "version": "3.7.1"
  }
 },
 "nbformat": 4,
 "nbformat_minor": 2
}
