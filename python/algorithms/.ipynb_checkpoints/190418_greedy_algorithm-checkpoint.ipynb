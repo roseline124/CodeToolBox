{
 "cells": [
  {
   "cell_type": "code",
   "execution_count": 11,
   "metadata": {},
   "outputs": [
    {
     "name": "stdout",
     "output_type": "stream",
     "text": [
      "5\n"
     ]
    }
   ],
   "source": [
    "N = int(input())"
   ]
  },
  {
   "cell_type": "code",
   "execution_count": 2,
   "metadata": {},
   "outputs": [
    {
     "name": "stdout",
     "output_type": "stream",
     "text": [
      "3 1 4 3 2\n"
     ]
    }
   ],
   "source": [
    "nums = list(map(int, input().split()))"
   ]
  },
  {
   "cell_type": "code",
   "execution_count": 3,
   "metadata": {},
   "outputs": [
    {
     "data": {
      "text/plain": [
       "[3, 1, 4, 3, 2]"
      ]
     },
     "execution_count": 3,
     "metadata": {},
     "output_type": "execute_result"
    }
   ],
   "source": [
    "nums"
   ]
  },
  {
   "cell_type": "code",
   "execution_count": 4,
   "metadata": {},
   "outputs": [
    {
     "data": {
      "text/plain": [
       "[1, 2, 3, 3, 4]"
      ]
     },
     "execution_count": 4,
     "metadata": {},
     "output_type": "execute_result"
    }
   ],
   "source": [
    "nums.sort"
   ]
  },
  {
   "cell_type": "code",
   "execution_count": 5,
   "metadata": {},
   "outputs": [],
   "source": [
    "def accum_sum(idx, nums, sum_n=0):\n",
    "    if idx < 0 :\n",
    "        return sum_n \n",
    "    \n",
    "    sum_n += nums[idx]\n",
    "    sum_n = accum_sum(idx-1, sum_n=sum_n)\n",
    "    \n",
    "    return sum_n"
   ]
  },
  {
   "cell_type": "code",
   "execution_count": 10,
   "metadata": {},
   "outputs": [
    {
     "data": {
      "text/plain": [
       "1"
      ]
     },
     "execution_count": 10,
     "metadata": {},
     "output_type": "execute_result"
    }
   ],
   "source": [
    "accum_sum(0)"
   ]
  },
  {
   "cell_type": "code",
   "execution_count": 21,
   "metadata": {},
   "outputs": [
    {
     "name": "stdout",
     "output_type": "stream",
     "text": [
      "5\n",
      "3 1 4 3 2\n",
      "32\n"
     ]
    }
   ],
   "source": [
    "def accum_sum(idx, nums, sum_n=0):\n",
    "    if idx < 0 :\n",
    "        return sum_n \n",
    "    \n",
    "    sum_n += nums[idx]\n",
    "    sum_n = accum_sum(idx-1, nums, sum_n=sum_n)\n",
    "    \n",
    "    return sum_n\n",
    "\n",
    "N = int(input())\n",
    "nums = list(map(int, input().split()))\n",
    "\n",
    "min_sum = 0\n",
    "nums.sort()\n",
    "\n",
    "if N == 1:\n",
    "    print(nums[0])\n",
    "else : \n",
    "    for i in range(N):\n",
    "        min_sum += accum_sum(i, nums)\n",
    "\n",
    "    print(min_sum)"
   ]
  },
  {
   "cell_type": "code",
   "execution_count": 22,
   "metadata": {},
   "outputs": [
    {
     "name": "stdout",
     "output_type": "stream",
     "text": [
      "5\n",
      "3 1 4 3 2\n"
     ]
    }
   ],
   "source": [
    "N = int(input())\n",
    "nums = list(map(int, input().split()))"
   ]
  },
  {
   "cell_type": "code",
   "execution_count": 23,
   "metadata": {},
   "outputs": [],
   "source": [
    "nums.sort()"
   ]
  },
  {
   "cell_type": "code",
   "execution_count": 24,
   "metadata": {},
   "outputs": [
    {
     "data": {
      "text/plain": [
       "[1, 2, 3, 3, 4]"
      ]
     },
     "execution_count": 24,
     "metadata": {},
     "output_type": "execute_result"
    }
   ],
   "source": [
    "nums"
   ]
  },
  {
   "cell_type": "code",
   "execution_count": 25,
   "metadata": {},
   "outputs": [],
   "source": [
    "i_sum = 0 \n",
    "min_sum = 0\n",
    "\n",
    "for i in range(N): \n",
    "    min_sum += (i_sum + nums[i])\n",
    "    i_sum += nums[i]"
   ]
  },
  {
   "cell_type": "code",
   "execution_count": 30,
   "metadata": {},
   "outputs": [
    {
     "name": "stdout",
     "output_type": "stream",
     "text": [
      "5\n",
      "3 1 4 3 2\n",
      "32\n"
     ]
    }
   ],
   "source": [
    "N = int(input())\n",
    "nums = list(map(int, input().split()))\n",
    "\n",
    "if N ==1 : \n",
    "    print(nums[0])\n",
    "else : \n",
    "    nums.sort()\n",
    "\n",
    "    i_sum = 0 \n",
    "    min_sum = 0\n",
    "\n",
    "    for i in range(N): \n",
    "        min_sum += (i_sum + nums[i])\n",
    "        i_sum += nums[i]\n",
    "        \n",
    "    print(min_sum)"
   ]
  },
  {
   "cell_type": "markdown",
   "metadata": {},
   "source": [
    "### 11047번 동전 0"
   ]
  },
  {
   "cell_type": "code",
   "execution_count": 33,
   "metadata": {},
   "outputs": [
    {
     "name": "stdout",
     "output_type": "stream",
     "text": [
      "3 10\n",
      "1\n",
      "5\n",
      "10\n"
     ]
    }
   ],
   "source": [
    "N, K = map(int, input().split())\n",
    "coins = [int(input()) for _ in range(N)]\n",
    "\n",
    "coin_num = 0\n",
    "\n",
    "for i in range(1,N+1):\n",
    "    coin = coins[-i]\n",
    "    \n",
    "    if K >= coin : \n",
    "        num = K//coin\n",
    "        K -= coin*num\n",
    "        coin_num += num\n",
    "        \n",
    "print(coin_num)"
   ]
  },
  {
   "cell_type": "code",
   "execution_count": 32,
   "metadata": {},
   "outputs": [
    {
     "data": {
      "text/plain": [
       "[1, 2]"
      ]
     },
     "execution_count": 32,
     "metadata": {},
     "output_type": "execute_result"
    }
   ],
   "source": [
    "l[:2]"
   ]
  },
  {
   "cell_type": "markdown",
   "metadata": {},
   "source": [
    "### 4307번 개미"
   ]
  },
  {
   "cell_type": "markdown",
   "metadata": {},
   "source": [
    "\"\"문제\n",
    "개미 여러 마리가 길이가 lcm인 막대 위에 있다. 각 개미의 이동 속도는 모두 일정하며, 1cm/s이다. 개미가 막대의 마지막까지 걸어간다면, 개미는 그 즉시 떨어지게 된다. 또, 두 개미가 만나게 된다면, 방향을 반대로 바꾸어 걸어가게 된다.\n",
    "\n",
    "가장 처음에 막대 상에서 개미의 위치를 알고 있다. 하지만, 개미가 어느 방향으로 움직이는 지는 알 수가 없다. 이때, 모든 개미가 땅으로 떨어질 때까지 가능한 시간 중 가장 빠른 시간과 느린 시간을 구하는 프로그램을 작성하시오.\n",
    "\n",
    "입력\n",
    "첫째 줄에 테스트 케이스의 개수가 주어진다. 각 테스트 케이스의 첫째 줄에는 막대의 길이와 개미의 수 n이 주어진다. 다음 n개 줄에는 숫자가 하나씩 주어지며, 이 숫자는 개미의 초기 위치를 나타낸다. 입력으로 주어지는 모든 수는 1,000,000보다 작거나 같으며, 공백으로 구분되어져 있다.\n",
    "\n",
    "출력\n",
    "각 테스트 케이스에 대해서, 두 숫자를 출력한다. 첫 번째 숫자는 개미가 모두 땅으로 떨어지는 가능한 시간 중 가장 빠른 시간, 두 번째 숫자는 가장 늦은 시간이다.\"\""
   ]
  },
  {
   "cell_type": "code",
   "execution_count": 41,
   "metadata": {},
   "outputs": [
    {
     "name": "stdout",
     "output_type": "stream",
     "text": [
      "214 7\n",
      "11\n",
      "12\n",
      "7\n",
      "13\n",
      "176\n",
      "23\n",
      "191\n"
     ]
    }
   ],
   "source": [
    "T = int(input())\n",
    "\n",
    "for _ in range(T):\n",
    "    bar_len, n = map(int, input().split())\n",
    "    \n",
    "    positions = []\n",
    "    for _ in range(n):\n",
    "        positions.append(int(input()))"
   ]
  },
  {
   "cell_type": "markdown",
   "metadata": {},
   "source": [
    "가장 빠른 시간"
   ]
  },
  {
   "cell_type": "code",
   "execution_count": 9,
   "metadata": {},
   "outputs": [],
   "source": [
    "def get_narrow_offset(bar_len, p):\n",
    "    \"\"\"가장 가까운 거리 반환\"\"\"\n",
    "    if (bar_len/2) >= p :\n",
    "        return p \n",
    "    else : \n",
    "        return bar_len - p\n",
    "    \n",
    "def min_time(bar_len, positions):\n",
    "    offset = []\n",
    "    for p in positions : \n",
    "        offset.append(get_narrow_offset(bar_len, p))\n",
    "        \n",
    "    return max(offset)"
   ]
  },
  {
   "cell_type": "markdown",
   "metadata": {},
   "source": [
    "가장 늦은 시간"
   ]
  },
  {
   "cell_type": "code",
   "execution_count": 45,
   "metadata": {},
   "outputs": [
    {
     "data": {
      "text/plain": [
       "[7, 11, 12, 13, 23, 176, 191]"
      ]
     },
     "execution_count": 45,
     "metadata": {},
     "output_type": "execute_result"
    }
   ],
   "source": [
    "positions.sort()\n",
    "positions"
   ]
  },
  {
   "cell_type": "code",
   "execution_count": 66,
   "metadata": {},
   "outputs": [],
   "source": [
    "def get_far_offset(bar_len, p):\n",
    "    if (bar_len/2) >= p :\n",
    "        return bar_len - p\n",
    "    else :\n",
    "        return p\n",
    "    \n",
    "def max_time(bar_len, positions):\n",
    "    offset = []\n",
    "    for p in positions : \n",
    "        offset.append(get_far_offset(bar_len, p))\n",
    "        \n",
    "    return max(offset)"
   ]
  },
  {
   "cell_type": "code",
   "execution_count": 59,
   "metadata": {},
   "outputs": [],
   "source": [
    "def crashed_ants(bar_len, positions):\n",
    "    \"\"\"충돌할 개미들을 찾는다.\"\"\"\n",
    "    ants_dir = [ direction(bar_len, p) for p in positions ]\n",
    "    \n",
    "    for i, d in enumerate(ants_dir) : \n",
    "        if (i >= 1) & (ants_dir[i] != ants_dir[i-1]) :\n",
    "            return positions[i-1], positions[i]\n",
    "\n",
    "def crashed_time(left, right):\n",
    "    \"\"\"충돌이 일어나기까지의 시간 반환\"\"\"\n",
    "    crash_point = (left + right)/2 \n",
    "    seconds = crash_point - left\n",
    "    return seconds\n",
    "\n",
    "def move_pos(bar_len, positions, sec):\n",
    "    \"\"\"seconds의 시간 만큼 움직인 후의 위치 반환\"\"\"\n",
    "\n",
    "    moved_positions = []\n",
    "    for p in positions : \n",
    "        ant_dir = direction(bar_len, p)\n",
    "        \n",
    "        if ant_dir == \"to_right\":\n",
    "            moved_positions.append(p + sec)\n",
    "        elif ant_dir == \"to_left\":\n",
    "            moved_positions.append(p - sec) \n",
    "            \n",
    "    return moved_positions\n",
    "\n",
    "def change_dir(positions):\n",
    "    for i, p in enumerate(positions):\n",
    "        if (i>=1) & (positions[i-1] == positions[i]):\n",
    "            "
   ]
  },
  {
   "cell_type": "code",
   "execution_count": 52,
   "metadata": {},
   "outputs": [
    {
     "data": {
      "text/plain": [
       "[83, 87, 88, 89, 99, 100, 115]"
      ]
     },
     "execution_count": 52,
     "metadata": {},
     "output_type": "execute_result"
    }
   ],
   "source": [
    "move_pos(bar_len, positions, 76)"
   ]
  },
  {
   "cell_type": "code",
   "execution_count": 54,
   "metadata": {},
   "outputs": [
    {
     "data": {
      "text/plain": [
       "(23, 176)"
      ]
     },
     "execution_count": 54,
     "metadata": {},
     "output_type": "execute_result"
    }
   ],
   "source": [
    "crashed_ants(bar_len, positions)"
   ]
  },
  {
   "cell_type": "code",
   "execution_count": 61,
   "metadata": {},
   "outputs": [
    {
     "data": {
      "text/plain": [
       "76.5"
      ]
     },
     "execution_count": 61,
     "metadata": {},
     "output_type": "execute_result"
    }
   ],
   "source": [
    "time = crashed_time(23, 176)\n",
    "time"
   ]
  },
  {
   "cell_type": "code",
   "execution_count": 67,
   "metadata": {},
   "outputs": [
    {
     "data": {
      "text/plain": [
       "207"
      ]
     },
     "execution_count": 67,
     "metadata": {},
     "output_type": "execute_result"
    }
   ],
   "source": [
    "max_time(bar_len, positions)"
   ]
  },
  {
   "cell_type": "code",
   "execution_count": 84,
   "metadata": {},
   "outputs": [
    {
     "name": "stdout",
     "output_type": "stream",
     "text": [
      "1\n",
      "10 1\n",
      "0\n",
      "0 10\n"
     ]
    }
   ],
   "source": [
    "def get_narrow_offset(bar_len, p):\n",
    "    \"\"\"가장 가까운 거리 반환\"\"\"\n",
    "    if (bar_len/2) >= p :\n",
    "        return p \n",
    "    else : \n",
    "        return bar_len - p\n",
    "    \n",
    "def min_time(bar_len, positions):\n",
    "    offset = [ get_narrow_offset(bar_len, p) for p in positions]\n",
    "        \n",
    "    return max(offset)\n",
    "\n",
    "def get_far_offset(bar_len, p):\n",
    "    if (bar_len/2) >= p :\n",
    "        return bar_len - p\n",
    "    else :\n",
    "        return p\n",
    "    \n",
    "def max_time(bar_len, positions):\n",
    "    offset = [ get_far_offset(bar_len, p) for p in positions]\n",
    "\n",
    "    return max(offset)\n",
    "\n",
    "T = int(input())\n",
    "\n",
    "for _ in range(T):\n",
    "    bar_len, n = map(int, input().split())\n",
    "    \n",
    "    if n == 0 : \n",
    "        print(0, bar_len)\n",
    "    else : \n",
    "        positions = []\n",
    "        for _ in range(n):\n",
    "            positions.append(int(input()))\n",
    "\n",
    "        min_t = min_time(bar_len, positions)\n",
    "        max_t = max_time(bar_len, positions)\n",
    "        print(min_t, max_t)"
   ]
  },
  {
   "cell_type": "code",
   "execution_count": null,
   "metadata": {},
   "outputs": [],
   "source": [
    "def get_narrow_offset(bar_len, p):\n",
    "    \"\"\"가장 가까운 거리 반환\"\"\"\n",
    "    if (bar_len/2) >= p :\n",
    "        return p \n",
    "    else : \n",
    "        return bar_len - p\n",
    "    \n",
    "def min_time(bar_len, positions):\n",
    "    offset = [ get_narrow_offset(bar_len, p) for p in positions]\n",
    "        \n",
    "    return max(offset)\n",
    "\n",
    "def get_far_offset(bar_len, p):\n",
    "    if (bar_len/2) >= p :\n",
    "        return bar_len - p\n",
    "    else :\n",
    "        return p\n",
    "    \n",
    "def max_time(bar_len, positions):\n",
    "    offset = [ get_far_offset(bar_len, p) for p in positions]\n",
    "\n",
    "    return max(offset)\n",
    "\n",
    "import sys \n",
    "T = int(sys.stdin.readline())\n",
    "\n",
    "for _ in range(T):\n",
    "    bar_len, n = map(int, sys.stdin.readline().split())\n",
    "    \n",
    "    if n == 0 : \n",
    "        print(0, bar_len)\n",
    "    else : \n",
    "        positions = [int(sys.stdin.readline()) for _ in range(n)]\n",
    "\n",
    "        min_t = min_time(bar_len, positions)\n",
    "        max_t = max_time(bar_len, positions)\n",
    "        print(min_t, max_t)    "
   ]
  },
  {
   "cell_type": "code",
   "execution_count": 69,
   "metadata": {},
   "outputs": [],
   "source": [
    "lists = [1,2,3,4,5,6,7]"
   ]
  },
  {
   "cell_type": "code",
   "execution_count": 73,
   "metadata": {},
   "outputs": [
    {
     "data": {
      "text/plain": [
       "[3, 4, 5]"
      ]
     },
     "execution_count": 73,
     "metadata": {},
     "output_type": "execute_result"
    }
   ],
   "source": [
    "lists[2:5]"
   ]
  },
  {
   "cell_type": "code",
   "execution_count": null,
   "metadata": {},
   "outputs": [],
   "source": []
  }
 ],
 "metadata": {
  "kernelspec": {
   "display_name": "Python 3",
   "language": "python",
   "name": "python3"
  },
  "language_info": {
   "codemirror_mode": {
    "name": "ipython",
    "version": 3
   },
   "file_extension": ".py",
   "mimetype": "text/x-python",
   "name": "python",
   "nbconvert_exporter": "python",
   "pygments_lexer": "ipython3",
   "version": "3.7.1"
  }
 },
 "nbformat": 4,
 "nbformat_minor": 2
}
