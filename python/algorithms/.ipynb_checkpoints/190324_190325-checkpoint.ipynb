{
 "cells": [
  {
   "cell_type": "code",
   "execution_count": 1,
   "metadata": {},
   "outputs": [
    {
     "name": "stdout",
     "output_type": "stream",
     "text": [
      "3\n"
     ]
    }
   ],
   "source": [
    "N = int(input())"
   ]
  },
  {
   "cell_type": "code",
   "execution_count": 55,
   "metadata": {},
   "outputs": [
    {
     "name": "stdout",
     "output_type": "stream",
     "text": [
      "8 5\n",
      "1 100\n",
      "3 5\n"
     ]
    }
   ],
   "source": [
    "# s : 내구도\n",
    "# w : 무게\n",
    "egg_dict = {}\n",
    "\n",
    "for i in range(N) : \n",
    "    s, w = map(int, input().split())\n",
    "    egg_dict[i] = {'s' : s, 'w' : w}"
   ]
  },
  {
   "cell_type": "code",
   "execution_count": 75,
   "metadata": {},
   "outputs": [
    {
     "data": {
      "text/plain": [
       "{0: {'s': 8, 'w': 5}, 1: {'s': 1, 'w': 100}, 2: {'s': 3, 'w': 5}}"
      ]
     },
     "execution_count": 75,
     "metadata": {},
     "output_type": "execute_result"
    }
   ],
   "source": [
    "import copy\n",
    "\n",
    "eggs = copy.deepcopy(egg_dict)\n",
    "eggs"
   ]
  },
  {
   "cell_type": "code",
   "execution_count": 76,
   "metadata": {
    "scrolled": true
   },
   "outputs": [
    {
     "data": {
      "text/plain": [
       "[0, 1, 2]"
      ]
     },
     "execution_count": 76,
     "metadata": {},
     "output_type": "execute_result"
    }
   ],
   "source": [
    "normal_egg = [i for i in eggs if eggs[i]['s'] > 0]\n",
    "normal_egg"
   ]
  },
  {
   "cell_type": "code",
   "execution_count": 79,
   "metadata": {},
   "outputs": [],
   "source": [
    "for i, e in eggs.items() :\n",
    "    norm_e = [k for k in eggs if eggs[k]['s'] > 0]\n",
    "    if i in norm_e : \n",
    "        norm_e.remove(i)\n",
    "        if norm_e : \n",
    "            j = norm_e[0]\n",
    "            e['s'] -= eggs[j]['w']\n",
    "            eggs[j]['s'] -= e['w']\n",
    "    else : \n",
    "        continue"
   ]
  },
  {
   "cell_type": "code",
   "execution_count": 80,
   "metadata": {},
   "outputs": [
    {
     "data": {
      "text/plain": [
       "{0: {'s': -92, 'w': 5}, 1: {'s': -4, 'w': 100}, 2: {'s': 3, 'w': 5}}"
      ]
     },
     "execution_count": 80,
     "metadata": {},
     "output_type": "execute_result"
    }
   ],
   "source": [
    "eggs"
   ]
  },
  {
   "cell_type": "code",
   "execution_count": 61,
   "metadata": {},
   "outputs": [
    {
     "data": {
      "text/plain": [
       "{0: {'s': 8, 'w': 5}, 1: {'s': 1, 'w': 100}, 2: {'s': 3, 'w': 5}}"
      ]
     },
     "execution_count": 61,
     "metadata": {},
     "output_type": "execute_result"
    }
   ],
   "source": [
    "egg_dict"
   ]
  },
  {
   "cell_type": "code",
   "execution_count": 69,
   "metadata": {},
   "outputs": [],
   "source": [
    "s = [1,3,4]"
   ]
  },
  {
   "cell_type": "code",
   "execution_count": 71,
   "metadata": {},
   "outputs": [],
   "source": [
    "s.remove(3)"
   ]
  },
  {
   "cell_type": "code",
   "execution_count": 83,
   "metadata": {},
   "outputs": [
    {
     "name": "stdout",
     "output_type": "stream",
     "text": [
      "{'s': -92, 'w': 5}\n",
      "{'s': -4, 'w': 100}\n",
      "{'s': 3, 'w': 5}\n"
     ]
    }
   ],
   "source": [
    "for d in eggs.values() :\n",
    "    d['']"
   ]
  },
  {
   "cell_type": "markdown",
   "metadata": {},
   "source": [
    "### 1924번 : 2007년"
   ]
  },
  {
   "cell_type": "code",
   "execution_count": null,
   "metadata": {},
   "outputs": [],
   "source": [
    "x, y = map(int,input().split()) #x월 y일\n",
    "\n",
    "days = ['MON', 'TUE', 'WED', 'THU', 'FRI', 'SAT', 'SUN']\n",
    "\n",
    "thirtyOne = [1, 3, 5, 7, 8, 10]\n",
    "thiry = [4, 6, 9, 11]\n",
    "\n",
    "if x in thirtyOne : \n",
    "\n",
    "if (x == 1) | (x == 10) : \n",
    "    if y % 7 == 1 : \n",
    "        print(days[1])\n",
    "\n",
    "elif (x == 3) | (x == 11) : \n",
    "    if y % 7 == 5 :\n",
    "        print(days[1])\n",
    "\n",
    "elif (x == 2) | (x == 5) : \n",
    "    if y % 7 == 0 :\n",
    "        print(days[1])\n",
    "\n",
    "elif x == 6 : \n",
    "    if y % 7 == 4 :\n",
    "        print(days[1])\n",
    "\n",
    "elif (x == 7) | (x == 4) : \n",
    "    if y % 7 == 2 :\n",
    "        print(days[1])\n",
    "\n",
    "elif x == 8 : \n",
    "    if y % 7 == 6 :\n",
    "        print(days[1])\n",
    "\n",
    "elif (x == 9) | (x == 12) : \n",
    "    if y % 7 == 3 :\n",
    "        print(days[1])  "
   ]
  },
  {
   "cell_type": "markdown",
   "metadata": {},
   "source": [
    "### 정답"
   ]
  },
  {
   "cell_type": "code",
   "execution_count": 34,
   "metadata": {},
   "outputs": [
    {
     "name": "stdout",
     "output_type": "stream",
     "text": [
      "1 1\n",
      "MON\n"
     ]
    }
   ],
   "source": [
    "# 첼러의 공식 \n",
    "yb = 7\n",
    "ya = 20\n",
    "\n",
    "m, d = map(int,input().split()) #x월 y일\n",
    "\n",
    "if (m == 1) | (m == 2) :\n",
    "    m += 12\n",
    "    yb -= 1\n",
    "\n",
    "h = (d +  int(((m+1)*13)/5) + yb + int(yb/4) + int(ya/4) - 2*ya ) % 7\n",
    "\n",
    "days = {1:'SUN' , 2:'MON', \n",
    "        3:'TUE', 4:'WED', \n",
    "        5:'THU', 6:'FRI', 0:'SAT'}\n",
    "\n",
    "print(days[h])"
   ]
  },
  {
   "cell_type": "code",
   "execution_count": 27,
   "metadata": {},
   "outputs": [],
   "source": [
    "def Zeller(y) : \n",
    "    #첼러의 공식 \n",
    "    ya = 20\n",
    "    yb = y % 2000\n",
    "    h = ( d + int((13*(m+1))/5) + yb + int(yb/4) +int(20/4) -2*20 ) % 7\n",
    "    \n",
    "    return h"
   ]
  },
  {
   "cell_type": "code",
   "execution_count": 28,
   "metadata": {},
   "outputs": [
    {
     "data": {
      "text/plain": [
       "1"
      ]
     },
     "execution_count": 28,
     "metadata": {},
     "output_type": "execute_result"
    }
   ],
   "source": [
    "h = Zeller(2013)\n",
    "\n",
    "h"
   ]
  },
  {
   "cell_type": "code",
   "execution_count": 17,
   "metadata": {},
   "outputs": [],
   "source": [
    "# Doom's day \n",
    "\n",
    "def get_dooms(y) :\n",
    "    # 2000년부터 2099까지는 둠스데이 계산 기점이 화요일\n",
    "    days = {0:'SUN' , 1:'MON', \n",
    "            2:'TUE', 3:'WED', \n",
    "            4:'THU', 5:'FRI', 6:'SAT'}    \n",
    "\n",
    "    by = (y % 2000) \n",
    "    a = by // 12\n",
    "    b = by % 12\n",
    "    c = b // 4\n",
    "    offset = (a + b + c) % 7\n",
    "    i = 2 + offset\n",
    "    \n",
    "    day = days[i]\n",
    "    \n",
    "    return day\n",
    "    "
   ]
  },
  {
   "cell_type": "code",
   "execution_count": 21,
   "metadata": {},
   "outputs": [
    {
     "data": {
      "text/plain": [
       "'WED'"
      ]
     },
     "execution_count": 21,
     "metadata": {},
     "output_type": "execute_result"
    }
   ],
   "source": [
    "get_dooms(2007) # 2007년의 둠스데이는 모두 수요일이 된다. "
   ]
  },
  {
   "cell_type": "code",
   "execution_count": null,
   "metadata": {},
   "outputs": [],
   "source": [
    "if (x == 1) | (x == 10) : \n",
    "    if y % 7 == 1 : \n",
    "        print(days[1])\n",
    "\n",
    "elif (x == 3) | (x == 11) : \n",
    "    if y % 7 == 5 :\n",
    "        print(days[1])\n",
    "\n",
    "elif (x == 2) | (x == 5) : \n",
    "    if y % 7 == 0 :\n",
    "        print(days[1])\n",
    "\n",
    "elif x == 6 : \n",
    "    if y % 7 == 4 :\n",
    "        print(days[1])\n",
    "\n",
    "elif (x == 7) | (x == 4) : \n",
    "    if y % 7 == 2 :\n",
    "        print(days[1])\n",
    "\n",
    "elif x == 8 : \n",
    "    if y % 7 == 6 :\n",
    "        print(days[1])\n",
    "\n",
    "elif (x == 9) | (x == 12) : \n",
    "    if y % 7 == 3 :\n",
    "        print(days[1])  "
   ]
  },
  {
   "cell_type": "markdown",
   "metadata": {},
   "source": [
    "### 합 구하기"
   ]
  },
  {
   "cell_type": "code",
   "execution_count": 1,
   "metadata": {},
   "outputs": [
    {
     "name": "stdout",
     "output_type": "stream",
     "text": [
      "5\n"
     ]
    }
   ],
   "source": []
  },
  {
   "cell_type": "code",
   "execution_count": 2,
   "metadata": {},
   "outputs": [],
   "source": [
    "s = '54321'"
   ]
  },
  {
   "cell_type": "code",
   "execution_count": 4,
   "metadata": {},
   "outputs": [],
   "source": [
    "n = int(input())\n",
    "s = input()\n",
    "\n",
    "n_sum = 0\n",
    "\n",
    "for i in range(n) : \n",
    "    n_sum += int(s[i])\n",
    "    \n",
    "print(n_sum)    "
   ]
  },
  {
   "cell_type": "markdown",
   "metadata": {},
   "source": [
    "### 11721 10개씩 끊어 출력"
   ]
  },
  {
   "cell_type": "code",
   "execution_count": 44,
   "metadata": {},
   "outputs": [
    {
     "name": "stdout",
     "output_type": "stream",
     "text": [
      "hello\n",
      "hello\n"
     ]
    }
   ],
   "source": [
    "s = input()\n",
    "a = len(s)//10\n",
    "b = len(s)%10\n",
    "\n",
    "if a > 0 : \n",
    "    for i in range(a) : \n",
    "        j = i*10\n",
    "        print( s[j:j+10])\n",
    "    if b > 0 : \n",
    "        print(s[j+10:])\n",
    "else : \n",
    "    print(s[:len(s)])"
   ]
  },
  {
   "cell_type": "code",
   "execution_count": 32,
   "metadata": {},
   "outputs": [
    {
     "name": "stdout",
     "output_type": "stream",
     "text": [
      "\n"
     ]
    },
    {
     "data": {
      "text/plain": [
       "[None]"
      ]
     },
     "execution_count": 32,
     "metadata": {},
     "output_type": "execute_result"
    }
   ],
   "source": [
    "map(lambda x : print(s[i*10:i*20]), range(a)  )"
   ]
  },
  {
   "cell_type": "code",
   "execution_count": 38,
   "metadata": {},
   "outputs": [
    {
     "data": {
      "text/plain": [
       "range(0, 0)"
      ]
     },
     "execution_count": 38,
     "metadata": {},
     "output_type": "execute_result"
    }
   ],
   "source": [
    "hello"
   ]
  },
  {
   "cell_type": "markdown",
   "metadata": {},
   "source": [
    "### 빠른 출력\n",
    "\n",
    "Python을 사용하고 있다면, input 대신 sys.stdin.readline을 사용할 수 있다. 단, 이때는 맨 끝의 개행문자까지 같이 입력받기 때문에 문자열을 저장하고 싶을 경우 .rstrip()을 추가로 해 주는 것이 좋다."
   ]
  },
  {
   "cell_type": "code",
   "execution_count": 45,
   "metadata": {},
   "outputs": [
    {
     "ename": "ValueError",
     "evalue": "not enough values to unpack (expected 2, got 0)",
     "output_type": "error",
     "traceback": [
      "\u001b[1;31m---------------------------------------------------------------------------\u001b[0m",
      "\u001b[1;31mValueError\u001b[0m                                Traceback (most recent call last)",
      "\u001b[1;32m<ipython-input-45-466f8b76ac7e>\u001b[0m in \u001b[0;36m<module>\u001b[1;34m\u001b[0m\n\u001b[0;32m      1\u001b[0m \u001b[1;32mimport\u001b[0m \u001b[0msys\u001b[0m\u001b[1;33m\u001b[0m\u001b[1;33m\u001b[0m\u001b[0m\n\u001b[0;32m      2\u001b[0m \u001b[1;33m\u001b[0m\u001b[0m\n\u001b[1;32m----> 3\u001b[1;33m \u001b[0ma\u001b[0m\u001b[1;33m,\u001b[0m \u001b[0mb\u001b[0m \u001b[1;33m=\u001b[0m \u001b[0mmap\u001b[0m\u001b[1;33m(\u001b[0m\u001b[0mint\u001b[0m\u001b[1;33m,\u001b[0m \u001b[0msys\u001b[0m\u001b[1;33m.\u001b[0m\u001b[0mstdin\u001b[0m\u001b[1;33m.\u001b[0m\u001b[0mread\u001b[0m\u001b[1;33m(\u001b[0m\u001b[1;33m)\u001b[0m\u001b[1;33m.\u001b[0m\u001b[0msplitlines\u001b[0m\u001b[1;33m(\u001b[0m\u001b[1;33m)\u001b[0m\u001b[1;33m)\u001b[0m\u001b[1;33m\u001b[0m\u001b[1;33m\u001b[0m\u001b[0m\n\u001b[0m\u001b[0;32m      4\u001b[0m \u001b[1;33m\u001b[0m\u001b[0m\n\u001b[0;32m      5\u001b[0m \u001b[1;32mfor\u001b[0m \u001b[0m_\u001b[0m \u001b[1;32min\u001b[0m \u001b[0mrange\u001b[0m\u001b[1;33m(\u001b[0m\u001b[0mlen\u001b[0m\u001b[1;33m(\u001b[0m\u001b[0ma\u001b[0m\u001b[1;33m)\u001b[0m\u001b[1;33m)\u001b[0m \u001b[1;33m:\u001b[0m\u001b[1;33m\u001b[0m\u001b[1;33m\u001b[0m\u001b[0m\n",
      "\u001b[1;31mValueError\u001b[0m: not enough values to unpack (expected 2, got 0)"
     ]
    }
   ],
   "source": [
    "import sys\n",
    "\n",
    "strings = sys.stdin.read().splitlines() \n",
    "\n",
    "n = strings[0]\n",
    "nums = strings[1:]\n",
    "\n",
    "for n in nums : \n",
    "    a, b = map(int, n.split(\" \"))\n",
    "    print( a + b)"
   ]
  },
  {
   "cell_type": "markdown",
   "metadata": {},
   "source": [
    "### 9498번 : 학점 출력기"
   ]
  },
  {
   "cell_type": "code",
   "execution_count": null,
   "metadata": {},
   "outputs": [],
   "source": [
    "s = int(input())\n",
    "\n",
    "if s < 60 : \n",
    "    print('F')\n",
    "elif s < 70 : 1\n",
    "    print('D')\n",
    "elif s < 80 : \n",
    "    print('C')\n",
    "elif s < 90 : \n",
    "    print('B')\n",
    "elif s <= 100 : \n",
    "    print('A')"
   ]
  },
  {
   "cell_type": "code",
   "execution_count": 48,
   "metadata": {},
   "outputs": [
    {
     "name": "stdout",
     "output_type": "stream",
     "text": [
      "20 30 10\n",
      "20\n"
     ]
    }
   ],
   "source": [
    "nums = list(map(int, input().split()))\n",
    "nums = sorted(nums, reverse=True)\n",
    "print(nums[1])"
   ]
  },
  {
   "cell_type": "code",
   "execution_count": null,
   "metadata": {},
   "outputs": [],
   "source": []
  }
 ],
 "metadata": {
  "kernelspec": {
   "display_name": "Python 3",
   "language": "python",
   "name": "python3"
  },
  "language_info": {
   "codemirror_mode": {
    "name": "ipython",
    "version": 3
   },
   "file_extension": ".py",
   "mimetype": "text/x-python",
   "name": "python",
   "nbconvert_exporter": "python",
   "pygments_lexer": "ipython3",
   "version": "3.7.1"
  }
 },
 "nbformat": 4,
 "nbformat_minor": 2
}
