{
 "cells": [
  {
   "cell_type": "markdown",
   "metadata": {},
   "source": [
    "### 1149번 : RGB 거리"
   ]
  },
  {
   "cell_type": "code",
   "execution_count": 1,
   "metadata": {},
   "outputs": [
    {
     "name": "stdout",
     "output_type": "stream",
     "text": [
      "3\n",
      "26 40 83\n",
      "49 60 57\n",
      "13 89 99\n"
     ]
    }
   ],
   "source": [
    "N = int(input())\n",
    "\n",
    "houses = []\n",
    "for _ in range(N):\n",
    "    houses.append(list(map(int, input().split())))"
   ]
  },
  {
   "cell_type": "code",
   "execution_count": 2,
   "metadata": {},
   "outputs": [
    {
     "data": {
      "text/plain": [
       "[[26, 40, 83], [49, 60, 57], [13, 89, 99]]"
      ]
     },
     "execution_count": 2,
     "metadata": {},
     "output_type": "execute_result"
    }
   ],
   "source": [
    "houses"
   ]
  },
  {
   "cell_type": "code",
   "execution_count": null,
   "metadata": {},
   "outputs": [],
   "source": [
    "sum_cost = 0\n",
    "prev_color = None\n",
    "\n",
    "for h in houses:\n",
    "    if prev_color != h.index(min(h)): # house 1에서 인덱스 0일 때 기각. 인덱스 1일 때로 넘어가야 하는 코드 삽입. \n",
    "        cost = min(h)\n",
    "        prev_color = h.index(cost) # 0:R, 1:G, 2:B\n",
    "\n",
    "        sum_cost += cost\n",
    "        \n"
   ]
  },
  {
   "cell_type": "code",
   "execution_count": 3,
   "metadata": {},
   "outputs": [
    {
     "data": {
      "text/plain": [
       "0"
      ]
     },
     "execution_count": 3,
     "metadata": {},
     "output_type": "execute_result"
    }
   ],
   "source": [
    "houses[0].index(26)"
   ]
  },
  {
   "cell_type": "code",
   "execution_count": 4,
   "metadata": {},
   "outputs": [
    {
     "data": {
      "text/plain": [
       "False"
      ]
     },
     "execution_count": 4,
     "metadata": {},
     "output_type": "execute_result"
    }
   ],
   "source": [
    "for costs in houses:\n",
    "    for i, c in enumerate(costs):\n",
    "        if prev_color != i"
   ]
  },
  {
   "cell_type": "code",
   "execution_count": 10,
   "metadata": {},
   "outputs": [],
   "source": [
    "def get_min(prev_color_index, costs):\n",
    "    for i, c in enumerate(costs) :\n",
    "        if (prev_color_index != i) :\n",
    "            if tmp[0]==c:\n",
    "                prev_color_index = i \n",
    "                return i, c\n",
    "            elif tmp[1]==c: \n",
    "                prev_color_index = i \n",
    "                return i, c"
   ]
  },
  {
   "cell_type": "code",
   "execution_count": 9,
   "metadata": {},
   "outputs": [
    {
     "data": {
      "text/plain": [
       "[49, 57, 60]"
      ]
     },
     "execution_count": 9,
     "metadata": {},
     "output_type": "execute_result"
    }
   ],
   "source": [
    "tmp = order_costs(houses[1])\n",
    "tmp"
   ]
  },
  {
   "cell_type": "code",
   "execution_count": null,
   "metadata": {},
   "outputs": [],
   "source": [
    "tmp[0]"
   ]
  },
  {
   "cell_type": "code",
   "execution_count": 5,
   "metadata": {},
   "outputs": [],
   "source": [
    "def order_costs(costs):\n",
    "    return sorted(costs)"
   ]
  },
  {
   "cell_type": "code",
   "execution_count": 6,
   "metadata": {},
   "outputs": [],
   "source": [
    "tmp = order_costs"
   ]
  },
  {
   "cell_type": "code",
   "execution_count": null,
   "metadata": {},
   "outputs": [],
   "source": [
    "def paint(house_costs[i], sum_costs, prev_color_index):\n",
    "    if i == N : \n",
    "        return sum_costs\n",
    "    \n",
    "    \n",
    "    \"\"\"재귀 호출하면서 칠한다.\"\"\"\n",
    "    if i == 0:\n",
    "        first = house_costs[0]\n",
    "        curr_color_index = first.index(min(first))\n",
    "        sum_costs += min(first)\n",
    "        \n",
    "        return sum_costs\n",
    "    \n",
    "    else : \n",
    "        house = house_costs[i]\n",
    "        \n",
    "        if prev_color_index\n",
    "        paint(house_colors[i+1], sum_costs, prev_color_index=curr_color_index)\n",
    "    "
   ]
  }
 ],
 "metadata": {
  "kernelspec": {
   "display_name": "Python 3",
   "language": "python",
   "name": "python3"
  },
  "language_info": {
   "codemirror_mode": {
    "name": "ipython",
    "version": 3
   },
   "file_extension": ".py",
   "mimetype": "text/x-python",
   "name": "python",
   "nbconvert_exporter": "python",
   "pygments_lexer": "ipython3",
   "version": "3.7.1"
  }
 },
 "nbformat": 4,
 "nbformat_minor": 2
}
