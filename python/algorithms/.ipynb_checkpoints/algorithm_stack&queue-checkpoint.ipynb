{
 "cells": [
  {
   "cell_type": "code",
   "execution_count": 65,
   "metadata": {},
   "outputs": [],
   "source": [
    "def pylint(code) : \n",
    "\n",
    "    stack = []\n",
    "    code = list(code)\n",
    "    bracket = {'{':'}',\n",
    "               '[':']',\n",
    "               '(':')',}\n",
    "\n",
    "    while code != [] : #pop code one by one \n",
    "        a = code.pop()\n",
    "        if a in bracket :\n",
    "            stack.append(a)\n",
    "            \n",
    "    return stack "
   ]
  },
  {
   "cell_type": "code",
   "execution_count": 63,
   "metadata": {},
   "outputs": [],
   "source": [
    "code = 'int main(void) { return 0; }'"
   ]
  },
  {
   "cell_type": "code",
   "execution_count": 74,
   "metadata": {},
   "outputs": [],
   "source": [
    "bracket = {'{':'}',\n",
    "           '[':']',\n",
    "           '(':')',\n",
    "           '}':'{',\n",
    "           ']':'[',\n",
    "           ')':'(',}"
   ]
  },
  {
   "cell_type": "code",
   "execution_count": null,
   "metadata": {},
   "outputs": [],
   "source": [
    "\"\"\"\n",
    "stack\n",
    "push : stack.append(element)\n",
    "pop : stack.pop()\n",
    "\"\"\""
   ]
  },
  {
   "cell_type": "code",
   "execution_count": 1,
   "metadata": {},
   "outputs": [],
   "source": [
    "stack = []"
   ]
  },
  {
   "cell_type": "code",
   "execution_count": 5,
   "metadata": {},
   "outputs": [],
   "source": [
    "stack.append('3')"
   ]
  },
  {
   "cell_type": "code",
   "execution_count": null,
   "metadata": {},
   "outputs": [],
   "source": [
    "\"\"\"\n",
    "rewind function of word processor\n",
    "\n",
    "descryption : rewind text by word \n",
    "argument : None\n",
    "return : string\n",
    "\"\"\"\n",
    "\n",
    "def rewind_text() :\n",
    "    \n",
    "    global string # 변경된 문자열을 반영하기 위해 \n",
    "    \n",
    "    #문자열을 음절 단위로 분리하여 스택에 쌓는다.\n",
    "    stack = string.split()\n",
    "    \n",
    "    if stack != [] :\n",
    "        #빈 문자가 아니라면, 되감기 시 마지막 음절을 꺼낸다. \n",
    "        stack.pop()\n",
    "        \n",
    "    string = ' '.join(stack)\n",
    "    \n",
    "    #음절 사이에 공백을 넣고 문자열로 되돌린다.     \n",
    "    return string\n",
    "\n",
    "string = input(\"write something : \")\n",
    "\n",
    "rewind_text()"
   ]
  },
  {
   "cell_type": "code",
   "execution_count": 72,
   "metadata": {},
   "outputs": [],
   "source": [
    "string = '그녀는 내 앞으로 지나갔다'"
   ]
  },
  {
   "cell_type": "code",
   "execution_count": 79,
   "metadata": {},
   "outputs": [
    {
     "name": "stdout",
     "output_type": "stream",
     "text": [
      "write something : sdfdsf\n"
     ]
    }
   ],
   "source": [
    "string = input(\"write something : \")"
   ]
  },
  {
   "cell_type": "code",
   "execution_count": 81,
   "metadata": {},
   "outputs": [
    {
     "data": {
      "text/plain": [
       "str"
      ]
     },
     "execution_count": 81,
     "metadata": {},
     "output_type": "execute_result"
    }
   ],
   "source": [
    "type(string)"
   ]
  },
  {
   "cell_type": "code",
   "execution_count": 82,
   "metadata": {},
   "outputs": [],
   "source": [
    "\"\"\"\n",
    "queue : FIFO\n",
    "\n",
    "It's the way CVS displays their products. \n",
    "\n",
    "\"\"\""
   ]
  },
  {
   "cell_type": "code",
   "execution_count": null,
   "metadata": {},
   "outputs": [],
   "source": [
    "from collections import deque\n",
    "\n",
    "refrigerator = deque([]) \n",
    "\n",
    "def push_food(ingredients) :\n",
    "    refrigerator.append(ingredients)\n",
    "        \n",
    "    return refrigerator\n",
    "\n",
    "def pop_food() :\n",
    "    refrigerator.popleft()\n",
    "    "
   ]
  },
  {
   "cell_type": "code",
   "execution_count": 94,
   "metadata": {},
   "outputs": [
    {
     "data": {
      "text/plain": [
       "deque(['토마토'])"
      ]
     },
     "execution_count": 94,
     "metadata": {},
     "output_type": "execute_result"
    }
   ],
   "source": [
    "push_food('토마토')"
   ]
  },
  {
   "cell_type": "code",
   "execution_count": 95,
   "metadata": {},
   "outputs": [],
   "source": [
    "pop_food()"
   ]
  },
  {
   "cell_type": "code",
   "execution_count": 97,
   "metadata": {},
   "outputs": [
    {
     "data": {
      "text/plain": [
       "collections.deque"
      ]
     },
     "execution_count": 97,
     "metadata": {},
     "output_type": "execute_result"
    }
   ],
   "source": []
  },
  {
   "cell_type": "markdown",
   "metadata": {},
   "source": [
    "### 9012번 괄호\n",
    "\n",
    "문제\n",
    "괄호 문자열(Parenthesis String, PS)은 두 개의 괄호 기호인 ‘(’ 와 ‘)’ 만으로 구성되어 있는 문자열이다. 그 중에서 괄호의 모양이 바르게 구성된 문자열을 올바른 괄호 문자열(Valid PS, VPS)이라고 부른다. 한 쌍의 괄호 기호로 된 “( )” 문자열은 기본 VPS 이라고 부른다. 만일 x 가 VPS 라면 이것을 하나의 괄호에 넣은 새로운 문자열 “(x)”도 VPS 가 된다. 그리고 두 VPS x 와 y를 접합(concatenation)시킨 새로운 문자열 xy도 VPS 가 된다. 예를 들어 “(())()”와 “((()))” 는 VPS 이지만 “(()(”, “(())()))” , 그리고 “(()” 는 모두 VPS 가 아닌 문자열이다. \n",
    "\n",
    "여러분은 입력으로 주어진 괄호 문자열이 VPS 인지 아닌지를 판단해서 그 결과를 YES 와 NO 로 나타내어야 한다. \n",
    "\n",
    "입력\n",
    "입력 데이터는 표준 입력을 사용한다. 입력은 T개의 테스트 데이터로 주어진다. 입력의 첫 번째 줄에는 입력 데이터의 수를 나타내는 정수 T가 주어진다. 각 테스트 데이터의 첫째 줄에는 괄호 문자열이 한 줄에 주어진다. 하나의 괄호 문자열의 길이는 2 이상 50 이하이다. \n",
    "\n",
    "출력\n",
    "출력은 표준 출력을 사용한다. 만일 입력 괄호 문자열이 올바른 괄호 문자열(VPS)이면 “YES”, 아니면 “NO”를 한 줄에 하나씩 차례대로 출력해야 한다. "
   ]
  },
  {
   "cell_type": "code",
   "execution_count": 1,
   "metadata": {},
   "outputs": [
    {
     "name": "stdout",
     "output_type": "stream",
     "text": [
      "6\n",
      "(())())\n",
      "(((()())()\n",
      "(()())((()))\n",
      "((()()(()))(((())))()\n",
      "()()()()(()()())()\n",
      "(()((())()(\n"
     ]
    }
   ],
   "source": [
    "n = int(input())\n",
    "\n",
    "PS = []\n",
    "\n",
    "for _ in range(n):\n",
    "    PS.append(input())"
   ]
  },
  {
   "cell_type": "code",
   "execution_count": 13,
   "metadata": {},
   "outputs": [
    {
     "data": {
      "text/plain": [
       "'(()())((()))'"
      ]
     },
     "execution_count": 13,
     "metadata": {},
     "output_type": "execute_result"
    }
   ],
   "source": [
    "stack = PS[2]\n",
    "stack"
   ]
  },
  {
   "cell_type": "code",
   "execution_count": 16,
   "metadata": {},
   "outputs": [],
   "source": [
    "def is_VPS(stack):\n",
    "    while ('()' in stack) : \n",
    "        stack = stack.replace('()','')\n",
    "    \n",
    "    result = 'NO' if stack else 'YES'\n",
    "    \n",
    "    return result"
   ]
  },
  {
   "cell_type": "code",
   "execution_count": 18,
   "metadata": {},
   "outputs": [
    {
     "name": "stdout",
     "output_type": "stream",
     "text": [
      "NO\n",
      "NO\n",
      "YES\n",
      "NO\n",
      "YES\n",
      "NO\n"
     ]
    }
   ],
   "source": [
    "n = int(input())\n",
    "\n",
    "PS = []\n",
    "\n",
    "for _ in range(n):\n",
    "    PS.append(input())\n",
    "\n",
    "for stack in PS : \n",
    "    print(is_VPS(stack))"
   ]
  },
  {
   "cell_type": "markdown",
   "metadata": {},
   "source": [
    "### 정답"
   ]
  },
  {
   "cell_type": "code",
   "execution_count": 20,
   "metadata": {},
   "outputs": [],
   "source": [
    "def is_VPS(stack):\n",
    "    while ('()' in stack) : \n",
    "        stack = stack.replace('()','')\n",
    "    \n",
    "    result = 'NO' if stack else 'YES'\n",
    "    \n",
    "    return result\n",
    "\n",
    "import sys\n",
    "\n",
    "PS = sys.stdin.read().splitlines()\n",
    "\n",
    "for stack in PS[1:] : \n",
    "    print(is_VPS(stack))"
   ]
  },
  {
   "cell_type": "code",
   "execution_count": null,
   "metadata": {},
   "outputs": [],
   "source": []
  }
 ],
 "metadata": {
  "kernelspec": {
   "display_name": "Python 3",
   "language": "python",
   "name": "python3"
  },
  "language_info": {
   "codemirror_mode": {
    "name": "ipython",
    "version": 3
   },
   "file_extension": ".py",
   "mimetype": "text/x-python",
   "name": "python",
   "nbconvert_exporter": "python",
   "pygments_lexer": "ipython3",
   "version": "3.7.1"
  }
 },
 "nbformat": 4,
 "nbformat_minor": 2
}
