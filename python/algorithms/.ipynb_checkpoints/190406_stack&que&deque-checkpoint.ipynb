{
 "cells": [
  {
   "cell_type": "markdown",
   "metadata": {},
   "source": [
    "### 10828번 스택"
   ]
  },
  {
   "cell_type": "code",
   "execution_count": 34,
   "metadata": {},
   "outputs": [
    {
     "name": "stdout",
     "output_type": "stream",
     "text": [
      "7\n",
      "pop\n",
      "top\n",
      "push123\n",
      "top\n",
      "pop\n",
      "top\n",
      "pop\n"
     ]
    }
   ],
   "source": [
    "N = int(input())\n",
    "\n",
    "statements = []\n",
    "for _ in range(N):\n",
    "    statements.append(input())"
   ]
  },
  {
   "cell_type": "code",
   "execution_count": 2,
   "metadata": {},
   "outputs": [
    {
     "data": {
      "text/plain": [
       "['push 1',\n",
       " 'push 2',\n",
       " 'top',\n",
       " 'size',\n",
       " 'empty',\n",
       " 'pop',\n",
       " 'pop',\n",
       " 'pop',\n",
       " 'size',\n",
       " 'empty',\n",
       " 'pop',\n",
       " 'push 3',\n",
       " 'empty',\n",
       " 'top']"
      ]
     },
     "execution_count": 2,
     "metadata": {},
     "output_type": "execute_result"
    }
   ],
   "source": [
    "import sys \n",
    "\n",
    "statements = sys.stdin.read().splitlines()\n",
    "statements = statements[1:]"
   ]
  },
  {
   "cell_type": "code",
   "execution_count": 39,
   "metadata": {},
   "outputs": [],
   "source": [
    "stack = []\n",
    "\n",
    "def mypush(stack, x): \n",
    "    stack.append(x)\n",
    "    \n",
    "def mypop(stack):\n",
    "    r = stack.pop() if stack else -1\n",
    "    print(r)\n",
    "\n",
    "def size(stack):\n",
    "    print(len(stack))\n",
    "\n",
    "def empty(stack):\n",
    "    r = 0 if stack else 1\n",
    "    print(r)\n",
    "    \n",
    "def top(stack):\n",
    "    r = stack[-1] if stack else -1\n",
    "    print(r)"
   ]
  },
  {
   "cell_type": "code",
   "execution_count": 41,
   "metadata": {},
   "outputs": [
    {
     "name": "stdout",
     "output_type": "stream",
     "text": [
      "-1\n",
      "-1\n",
      "123\n",
      "123\n",
      "-1\n",
      "-1\n"
     ]
    }
   ],
   "source": [
    "for s in statements : \n",
    "    if s.find('push') != -1 : \n",
    "        mypush(stack, int(s[4:]))\n",
    "        \n",
    "    elif s == 'pop':\n",
    "        mypop(stack)\n",
    "    \n",
    "    else:\n",
    "        eval(s+\"(stack)\")"
   ]
  },
  {
   "cell_type": "markdown",
   "metadata": {},
   "source": [
    "### 정답"
   ]
  },
  {
   "cell_type": "code",
   "execution_count": 44,
   "metadata": {},
   "outputs": [],
   "source": [
    "import sys \n",
    "\n",
    "statements = sys.stdin.read().splitlines()\n",
    "statements = statements[1:]\n",
    "\n",
    "stack = []\n",
    "    \n",
    "def size(stack):\n",
    "    print(len(stack))\n",
    "\n",
    "def empty(stack):\n",
    "    r = 0 if stack else 1\n",
    "    print(r)\n",
    "    \n",
    "def top(stack):\n",
    "    r = stack[-1] if stack else -1\n",
    "    print(r)\n",
    "    \n",
    "for s in statements : \n",
    "    if s.find('push') != -1 : \n",
    "        stack.append(int(s[4:]))\n",
    "        \n",
    "    elif s == 'pop':\n",
    "        r = stack.pop() if stack else -1\n",
    "        print(r)\n",
    "    \n",
    "    else:\n",
    "        eval(s+\"(stack)\")"
   ]
  },
  {
   "cell_type": "code",
   "execution_count": 43,
   "metadata": {},
   "outputs": [
    {
     "data": {
      "text/plain": [
       "123"
      ]
     },
     "execution_count": 43,
     "metadata": {},
     "output_type": "execute_result"
    }
   ],
   "source": [
    "s = 'push 123'\n",
    "int(s[4:])"
   ]
  },
  {
   "cell_type": "code",
   "execution_count": 20,
   "metadata": {},
   "outputs": [
    {
     "name": "stdout",
     "output_type": "stream",
     "text": [
      "dsf\n"
     ]
    }
   ],
   "source": [
    "if stack :\n",
    "    print(\"d\")\n",
    "else : \n",
    "    print(\"dsf\")"
   ]
  },
  {
   "cell_type": "markdown",
   "metadata": {},
   "source": [
    "### 10845번 큐"
   ]
  },
  {
   "cell_type": "code",
   "execution_count": null,
   "metadata": {},
   "outputs": [],
   "source": [
    "import sys \n",
    "\n",
    "statements = sys.stdin.read().splitlines()\n",
    "statements = statements[1:]\n",
    "\n",
    "que = []\n",
    "    \n",
    "def size(que):\n",
    "    print(len(que))\n",
    "\n",
    "def empty(que):\n",
    "    r = 0 if que else 1\n",
    "    print(r)\n",
    "    \n",
    "def top(que):\n",
    "    r = que[-1] if que else -1\n",
    "    print(r)\n",
    "\n",
    "def front(que):\n",
    "    r = que[0] if que else -1\n",
    "    print(r)\n",
    "    \n",
    "def back(que):\n",
    "    r = que[-1] if que else -1\n",
    "    print(r)\n",
    "    \n",
    "for s in statements : \n",
    "    if s.find('push') != -1 : \n",
    "        que.append(int(s[4:]))\n",
    "        \n",
    "    elif s == 'pop':\n",
    "        r = que.pop(0) if que else -1\n",
    "        print(r)\n",
    "    \n",
    "    else:\n",
    "        eval(s+\"(que)\")"
   ]
  },
  {
   "cell_type": "code",
   "execution_count": 45,
   "metadata": {},
   "outputs": [
    {
     "data": {
      "text/plain": [
       "1"
      ]
     },
     "execution_count": 45,
     "metadata": {},
     "output_type": "execute_result"
    }
   ],
   "source": [
    "que = [1,2,3]\n",
    "\n",
    "que.pop(0)"
   ]
  },
  {
   "cell_type": "markdown",
   "metadata": {},
   "source": [
    "### 1021번 회전하는 큐"
   ]
  },
  {
   "cell_type": "code",
   "execution_count": 155,
   "metadata": {},
   "outputs": [
    {
     "name": "stdout",
     "output_type": "stream",
     "text": [
      "10 10 \n",
      "1 6 3 2 7 9 8 4 10 5\n"
     ]
    }
   ],
   "source": [
    "n, m = map(int, input().split())\n",
    "idx = list(map(int, input().split()))"
   ]
  },
  {
   "cell_type": "code",
   "execution_count": 156,
   "metadata": {},
   "outputs": [],
   "source": [
    "step = 0 \n",
    "\n",
    "def move_left(que): # push back\n",
    "    global step\n",
    "    step += 1\n",
    "    \n",
    "    tmp = que.pop(0)\n",
    "    que.append(tmp)\n",
    "\n",
    "def move_right(que): # push front\n",
    "    global step\n",
    "    step += 1\n",
    "    \n",
    "    tmp = [que.pop(-1)]\n",
    "    tmp.extend(que)\n",
    "    que = tmp\n",
    "    \n",
    "    return que"
   ]
  },
  {
   "cell_type": "code",
   "execution_count": 157,
   "metadata": {},
   "outputs": [],
   "source": [
    "que = list(range(1, n+1))"
   ]
  },
  {
   "cell_type": "code",
   "execution_count": 158,
   "metadata": {},
   "outputs": [],
   "source": [
    "while idx : \n",
    "    if que[0] == idx[0]: \n",
    "        que.pop(0)\n",
    "        idx.pop(0)\n",
    "    else : \n",
    "        # move left or right \n",
    "        if que.index(idx[0]) <= len(que)//2:\n",
    "            while que[0] != idx[0]: move_left(que)\n",
    "        else : \n",
    "            while que[0] != idx[0]: que = move_right(que)"
   ]
  },
  {
   "cell_type": "code",
   "execution_count": 159,
   "metadata": {},
   "outputs": [
    {
     "data": {
      "text/plain": [
       "14"
      ]
     },
     "execution_count": 159,
     "metadata": {},
     "output_type": "execute_result"
    }
   ],
   "source": [
    "step"
   ]
  },
  {
   "cell_type": "code",
   "execution_count": 119,
   "metadata": {},
   "outputs": [
    {
     "data": {
      "text/plain": [
       "5"
      ]
     },
     "execution_count": 119,
     "metadata": {},
     "output_type": "execute_result"
    }
   ],
   "source": [
    "len(nums)//2"
   ]
  },
  {
   "cell_type": "code",
   "execution_count": null,
   "metadata": {},
   "outputs": [],
   "source": [
    "n, m = map(int, input().split())\n",
    "idx = list(map(int, input().split()))\n",
    "\n",
    "step = 0 \n",
    "\n",
    "def move_left(que): # push back\n",
    "    global step\n",
    "    step += 1\n",
    "    \n",
    "    tmp = que.pop(0)\n",
    "    que.append(tmp)\n",
    "\n",
    "def move_right(que): # push front\n",
    "    global step\n",
    "    step += 1\n",
    "    \n",
    "    tmp = [que.pop(-1)]\n",
    "    tmp.extend(que)\n",
    "    que = tmp\n",
    "    \n",
    "    return que\n",
    "\n",
    "# que 만들기 \n",
    "que = list(range(1, n+1))\n",
    "\n",
    "# 원하는 수를 다 뽑을 때까지 반복\n",
    "while idx : \n",
    "    if que[0] == idx[0]: \n",
    "        que.pop(0)\n",
    "        idx.pop(0)\n",
    "    else : \n",
    "        # move left or right \n",
    "        if que.index(idx[0]) <= len(que)//2:\n",
    "            while que[0] != idx[0]: move_left(que)\n",
    "        else : \n",
    "            while que[0] != idx[0]: que = move_right(que)\n",
    "                \n",
    "print(step)"
   ]
  },
  {
   "cell_type": "code",
   "execution_count": 1,
   "metadata": {},
   "outputs": [
    {
     "name": "stdout",
     "output_type": "stream",
     "text": [
      "8\n"
     ]
    }
   ],
   "source": [
    "eval('print(3+5)')"
   ]
  },
  {
   "cell_type": "markdown",
   "metadata": {},
   "source": [
    "### 5430번 AC\n",
    "\n",
    "**문제**\n",
    "\n",
    "선영이는 주말에 할 일이 없어서 새로운 언어 AC를 만들었다. AC는 정수 배열에 연산을 하기 위해 만든 언어이다. 이 언어에는 두 가지 함수 R(뒤집기)과 D(버리기)가 있다.\n",
    "\n",
    "함수 R은 배열에 있는 숫자의 순서를 뒤집는 함수이고, D는 첫 번째 숫자를 버리는 함수이다. 배열이 비어있는데 D를 사용한 경우에는 에러가 발생한다.\n",
    "\n",
    "함수는 조합해서 한 번에 사용할 수 있다. 예를 들어, \"AB\"는 A를 수행한 다음에 바로 이어서 B를 수행하는 함수이다. 예를 들어, \"RDD\"는 배열을 뒤집은 다음 처음 두 숫자를 버리는 함수이다.\n",
    "\n",
    "배열의 초기값과 수행할 함수가 주어졌을 때, 최종 결과를 구하는 프로그램을 작성하시오.\n",
    "\n",
    "**입력**\n",
    "\n",
    "첫째 줄에 테스트 케이스의 개수 T가 주어진다. T는 최대 100이다.\n",
    "\n",
    "각 테스트 케이스의 첫째 줄에는 수행할 함수 p가 주어진다. p의 길이는 1보다 크거나 같고, 100,000보다 작거나 같다.\n",
    "\n",
    "다음 줄에는 배열에 들어있는 수의 개수 n이 주어진다. (0 ≤ n ≤ 100,000)\n",
    "\n",
    "다음 줄에는 [x1,...,xn]과 같은 형태로 배열에 들어있는 수가 주어진다. (1 ≤ xi ≤ 100)\n",
    "\n",
    "전체 테스트 케이스에 주어지는 p의 길이의 합과 n의 합은 70만을 넘지 않는다.\n",
    "\n",
    "**출력**\n",
    "\n",
    "각 테스트 케이스에 대해서, 입력으로 주어진 정수 배열에 함수를 수행한 결과를 출력한다. 만약, 에러가 발생한 경우에는 error를 출력한다."
   ]
  },
  {
   "cell_type": "code",
   "execution_count": 41,
   "metadata": {},
   "outputs": [],
   "source": [
    "def R(arr):\n",
    "    return arr[::-1]\n",
    "\n",
    "def D(arr):\n",
    "    arr.pop(0)\n",
    "    return arr"
   ]
  },
  {
   "cell_type": "code",
   "execution_count": 44,
   "metadata": {},
   "outputs": [
    {
     "data": {
      "text/plain": [
       "'RRD'"
      ]
     },
     "execution_count": 44,
     "metadata": {},
     "output_type": "execute_result"
    }
   ],
   "source": [
    "statements"
   ]
  },
  {
   "cell_type": "code",
   "execution_count": 48,
   "metadata": {},
   "outputs": [],
   "source": [
    "def implement(stmt, arr):\n",
    "    \"\"\"stmt(statements) 실행\"\"\"\n",
    "\n",
    "    for f in stmt :\n",
    "        if f == 'R':\n",
    "            arr = R(arr)\n",
    "        elif f == 'D':\n",
    "            try:\n",
    "                arr = D(arr)\n",
    "            except:\n",
    "                print(\"error\")\n",
    "                return\n",
    "    return arr "
   ]
  },
  {
   "cell_type": "code",
   "execution_count": 49,
   "metadata": {},
   "outputs": [
    {
     "name": "stdout",
     "output_type": "stream",
     "text": [
      "error\n"
     ]
    }
   ],
   "source": [
    "arr = implement(statements, arr)\n",
    "arr"
   ]
  },
  {
   "cell_type": "code",
   "execution_count": 25,
   "metadata": {},
   "outputs": [],
   "source": [
    "T = int(input())\n",
    "\n",
    "statements = []\n",
    "len_s = 0\n",
    "arr = []\n",
    "\n",
    "# error handling : try-except\n",
    "for _ in range(T):\n",
    "    statements = input()\n",
    "    len_s = int(input())\n",
    "    arr = eval(input()) # 문자열 -> 리스트"
   ]
  },
  {
   "cell_type": "code",
   "execution_count": 2,
   "metadata": {},
   "outputs": [
    {
     "name": "stdout",
     "output_type": "stream",
     "text": [
      "4\n",
      "RDD\n",
      "4\n",
      "[1,2,3,4]\n",
      "[2, 1]\n",
      "DD\n",
      "1\n",
      "[42]\n",
      "error\n",
      "RRD\n",
      "6\n",
      "[1,1,2,3,5,8]\n",
      "[1, 2, 3, 5, 8]\n",
      "D\n",
      "0\n",
      "[]\n",
      "error\n"
     ]
    }
   ],
   "source": [
    "# 명령문 실행\n",
    "def implement(stmt, arr):\n",
    "    \"\"\"stmt(statements) 실행\"\"\"\n",
    "    for f in stmt :\n",
    "        if f == 'R':\n",
    "            arr = arr[::-1]\n",
    "        elif f == 'D':\n",
    "            arr.pop(0)\n",
    "    return arr \n",
    "\n",
    "# 입력 받기\n",
    "T = int(input())\n",
    "\n",
    "for _ in range(T):\n",
    "    statements = input()\n",
    "    len_s = int(input())\n",
    "    arr = eval(input()) # 문자열 -> 리스트\n",
    "    \n",
    "    # 실행\n",
    "    # error handling : try-except\n",
    "    try:\n",
    "        arr = implement(statements, arr)\n",
    "        print(arr)\n",
    "    except:\n",
    "        print(\"error\")"
   ]
  },
  {
   "cell_type": "code",
   "execution_count": 7,
   "metadata": {},
   "outputs": [
    {
     "name": "stdout",
     "output_type": "stream",
     "text": [
      "4\n",
      "RDD\n",
      "4\n",
      "[1,2,3,4]\n",
      "DD\n",
      "1\n",
      "[42]\n",
      "RRD\n",
      "6\n",
      "[1,1,2,3,5,8]\n",
      "D\n",
      "0\n",
      "[]\n"
     ]
    }
   ],
   "source": [
    "T = int(input())\n",
    "\n",
    "statements = []\n",
    "len_s = []\n",
    "arrs = []\n",
    "\n",
    "for _ in range(T):\n",
    "    statements.append(input())\n",
    "    len_s.append(int(input()))\n",
    "    arrs.append(eval(input())) # 문자열 -> 리스트"
   ]
  },
  {
   "cell_type": "code",
   "execution_count": 8,
   "metadata": {},
   "outputs": [
    {
     "name": "stdout",
     "output_type": "stream",
     "text": [
      "[2, 1]\n",
      "error\n",
      "[1, 2, 3, 5, 8]\n",
      "error\n"
     ]
    }
   ],
   "source": [
    "for i in range(T):\n",
    "    # 실행\n",
    "    # error handling : try-except\n",
    "    try:\n",
    "        arr = implement(statements[i], arrs[i])\n",
    "        print(arr)\n",
    "    except:\n",
    "        print(\"error\")\n"
   ]
  },
  {
   "cell_type": "code",
   "execution_count": null,
   "metadata": {},
   "outputs": [],
   "source": [
    "from collections import Counter\n",
    "\n",
    "# 명령문 실행\n",
    "def implement(stmt, arr):\n",
    "    \"\"\"stmt(statements) 실행\"\"\"\n",
    "    stmt_dict = Counter(stmt)\n",
    "    for f in stmt :\n",
    "        # reverse 가 홀수인 경우만 실행\n",
    "        if (f == 'R') & (stmt_dict['R']%2==1):\n",
    "            arr = arr[::-1]\n",
    "        elif f == 'D':\n",
    "            arr.pop(0)\n",
    "    return arr \n",
    "\n",
    "T = int(input())\n",
    "\n",
    "statements = []\n",
    "len_s = []\n",
    "arrs = []\n",
    "\n",
    "# 입력\n",
    "for _ in range(T):\n",
    "    statements.append(input())\n",
    "    len_s.append(int(input()))\n",
    "    arrs.append(eval(input())) # 문자열 -> 리스트\n",
    "\n",
    "# 출력\n",
    "for i in range(T):\n",
    "    # 실행\n",
    "    # error handling : try-except\n",
    "    try:\n",
    "        arr = implement(statements[i], arrs[i])\n",
    "        print(arr)\n",
    "    except:\n",
    "        print(\"error\")"
   ]
  },
  {
   "cell_type": "code",
   "execution_count": 10,
   "metadata": {},
   "outputs": [
    {
     "ename": "AttributeError",
     "evalue": "'builtin_function_or_method' object has no attribute 'splitness'",
     "output_type": "error",
     "traceback": [
      "\u001b[1;31m---------------------------------------------------------------------------\u001b[0m",
      "\u001b[1;31mAttributeError\u001b[0m                            Traceback (most recent call last)",
      "\u001b[1;32m<ipython-input-10-0bd616617881>\u001b[0m in \u001b[0;36m<module>\u001b[1;34m\u001b[0m\n\u001b[0;32m      5\u001b[0m \u001b[1;33m\u001b[0m\u001b[0m\n\u001b[0;32m      6\u001b[0m \u001b[1;31m# 입력\u001b[0m\u001b[1;33m\u001b[0m\u001b[1;33m\u001b[0m\u001b[1;33m\u001b[0m\u001b[0m\n\u001b[1;32m----> 7\u001b[1;33m \u001b[0mstrings\u001b[0m \u001b[1;33m=\u001b[0m \u001b[0msys\u001b[0m\u001b[1;33m.\u001b[0m\u001b[0mstdin\u001b[0m\u001b[1;33m.\u001b[0m\u001b[0mread\u001b[0m\u001b[1;33m.\u001b[0m\u001b[0msplitness\u001b[0m\u001b[1;33m(\u001b[0m\u001b[1;33m)\u001b[0m\u001b[1;33m\u001b[0m\u001b[1;33m\u001b[0m\u001b[0m\n\u001b[0m\u001b[0;32m      8\u001b[0m \u001b[1;33m\u001b[0m\u001b[0m\n\u001b[0;32m      9\u001b[0m \u001b[0mT\u001b[0m \u001b[1;33m=\u001b[0m \u001b[0mint\u001b[0m\u001b[1;33m(\u001b[0m\u001b[0mstrings\u001b[0m\u001b[1;33m[\u001b[0m\u001b[1;36m0\u001b[0m\u001b[1;33m]\u001b[0m\u001b[1;33m)\u001b[0m\u001b[1;33m\u001b[0m\u001b[1;33m\u001b[0m\u001b[0m\n",
      "\u001b[1;31mAttributeError\u001b[0m: 'builtin_function_or_method' object has no attribute 'splitness'"
     ]
    }
   ],
   "source": [
    "import sys \n",
    "\n",
    "statements = []\n",
    "arrs = []\n",
    "\n",
    "# 입력\n",
    "strings = sys.stdin.read().splitness()\n",
    "\n",
    "T = int(strings[0])\n",
    "strings = strings[1:]\n",
    "\n",
    "for i in range(T*3):\n",
    "    if i%3 == 0 : statements.append(input())\n",
    "    elif i%3 == 2 : arrs.append(eval(input())) # 문자열 -> 리스트\n",
    "\n",
    "# 명령문 실행\n",
    "def implement(stmt, arr):\n",
    "    \"\"\"stmt(statements) 실행\"\"\"\n",
    "    for f in stmt :\n",
    "        if f == 'R':\n",
    "            arr = arr[::-1]\n",
    "        elif f == 'D':\n",
    "            arr.pop(0)\n",
    "    return arr     \n",
    "\n",
    "for i in range(T):\n",
    "    # 실행\n",
    "    try:\n",
    "        arr = implement(statements[i], arrs[i])\n",
    "        print(arr)\n",
    "    except:\n",
    "        print(\"error\")"
   ]
  },
  {
   "cell_type": "markdown",
   "metadata": {},
   "source": [
    "**시간 초과 에러**\n",
    "\n",
    "reverse 연산을 할 때 numbers[::-1]을 해버리면 number 배열의 길이 만큼 연산이 필요합니다 "
   ]
  },
  {
   "cell_type": "code",
   "execution_count": 13,
   "metadata": {},
   "outputs": [
    {
     "name": "stdout",
     "output_type": "stream",
     "text": [
      "1\n",
      "RDD\n",
      "4\n",
      "[1,2,3,4]\n"
     ]
    },
    {
     "data": {
      "text/plain": [
       "'    # 실행\\n    # error handling : try-except\\n    try:\\n        arr = implement(statements, arr)\\n        print(arr)\\n    except:\\n        print(\"error\")'"
      ]
     },
     "execution_count": 13,
     "metadata": {},
     "output_type": "execute_result"
    }
   ],
   "source": [
    "# 명령문 실행\n",
    "def implement(stmt, arr):\n",
    "    \"\"\"stmt(statements) 실행\"\"\"\n",
    "    for f in stmt :\n",
    "        if f == 'R':\n",
    "            arr = arr[::-1]\n",
    "        elif f == 'D':\n",
    "            arr.pop(0)\n",
    "    return arr \n",
    "\n",
    "# 입력 받기\n",
    "T = int(input())\n",
    "\n",
    "for _ in range(T):\n",
    "    statements = input()\n",
    "    len_s = int(input())\n",
    "    arr = eval(input()) # 문자열 -> 리스트\n",
    "    \n",
    "\"\"\"    # 실행\n",
    "    # error handling : try-except\n",
    "    try:\n",
    "        arr = implement(statements, arr)\n",
    "        print(arr)\n",
    "    except:\n",
    "        print(\"error\")\"\"\""
   ]
  },
  {
   "cell_type": "code",
   "execution_count": 17,
   "metadata": {},
   "outputs": [
    {
     "data": {
      "text/plain": [
       "'RDD'"
      ]
     },
     "execution_count": 17,
     "metadata": {},
     "output_type": "execute_result"
    }
   ],
   "source": [
    "statements"
   ]
  },
  {
   "cell_type": "code",
   "execution_count": 18,
   "metadata": {},
   "outputs": [
    {
     "data": {
      "text/plain": [
       "Counter({'R': 1, 'D': 2})"
      ]
     },
     "execution_count": 18,
     "metadata": {},
     "output_type": "execute_result"
    }
   ],
   "source": [
    "from collections import Counter\n",
    "\n",
    "stmt_dic = Counter(statements)\n",
    "stmt_dic"
   ]
  },
  {
   "cell_type": "code",
   "execution_count": null,
   "metadata": {},
   "outputs": [],
   "source": []
  }
 ],
 "metadata": {
  "kernelspec": {
   "display_name": "Python 3",
   "language": "python",
   "name": "python3"
  },
  "language_info": {
   "codemirror_mode": {
    "name": "ipython",
    "version": 3
   },
   "file_extension": ".py",
   "mimetype": "text/x-python",
   "name": "python",
   "nbconvert_exporter": "python",
   "pygments_lexer": "ipython3",
   "version": "3.7.1"
  }
 },
 "nbformat": 4,
 "nbformat_minor": 2
}
