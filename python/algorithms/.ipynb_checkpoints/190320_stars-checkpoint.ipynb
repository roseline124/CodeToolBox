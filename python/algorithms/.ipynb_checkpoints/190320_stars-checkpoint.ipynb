{
 "cells": [
  {
   "cell_type": "markdown",
   "metadata": {},
   "source": [
    "### 2438번 - 별찍기1"
   ]
  },
  {
   "cell_type": "code",
   "execution_count": 4,
   "metadata": {},
   "outputs": [
    {
     "name": "stdout",
     "output_type": "stream",
     "text": [
      "5\n",
      "*\n",
      "**\n",
      "***\n",
      "****\n",
      "*****\n"
     ]
    }
   ],
   "source": [
    "num_star = int(input())\n",
    "\n",
    "for n in range(1,num_star+1):\n",
    "    print(\"*\"*n)"
   ]
  },
  {
   "cell_type": "markdown",
   "metadata": {},
   "source": [
    "### 1193번 - 분수 찾기"
   ]
  },
  {
   "cell_type": "code",
   "execution_count": 5,
   "metadata": {},
   "outputs": [],
   "source": [
    "stack = []"
   ]
  },
  {
   "cell_type": "code",
   "execution_count": 6,
   "metadata": {},
   "outputs": [],
   "source": [
    "degree = []"
   ]
  },
  {
   "cell_type": "code",
   "execution_count": 7,
   "metadata": {},
   "outputs": [
    {
     "name": "stdout",
     "output_type": "stream",
     "text": [
      "14\n"
     ]
    }
   ],
   "source": [
    "num = int(input())"
   ]
  },
  {
   "cell_type": "code",
   "execution_count": 8,
   "metadata": {},
   "outputs": [
    {
     "name": "stdout",
     "output_type": "stream",
     "text": [
      "5/5\n",
      "5/5\n",
      "5/5\n",
      "5/5\n",
      "5/5\n",
      "5/5\n",
      "5/5\n",
      "5/5\n",
      "5/5\n",
      "5/5\n",
      "5/5\n",
      "5/5\n",
      "5/5\n",
      "5/5\n"
     ]
    }
   ],
   "source": [
    "while num > 0 :\n",
    "    num -= 1\n",
    "    degree = str(n)+\"/\"+str(n)\n",
    "    print(degree)"
   ]
  },
  {
   "cell_type": "code",
   "execution_count": 9,
   "metadata": {},
   "outputs": [
    {
     "name": "stdout",
     "output_type": "stream",
     "text": [
      "1/1\n"
     ]
    }
   ],
   "source": [
    "n=1\n",
    "degree1=str(n)+\"/\"+str(n)\n",
    "print(degree1)"
   ]
  },
  {
   "cell_type": "code",
   "execution_count": 12,
   "metadata": {},
   "outputs": [
    {
     "name": "stdout",
     "output_type": "stream",
     "text": [
      "1/2\n",
      "2/1\n"
     ]
    }
   ],
   "source": [
    "n=2\n",
    "degree2= \"1\"+\"/\"+str(n)\n",
    "degree2_1= str(n)+\"/\"+\"1\"\n",
    "print(degree2)\n",
    "print(degree2_1)"
   ]
  },
  {
   "cell_type": "code",
   "execution_count": 15,
   "metadata": {},
   "outputs": [],
   "source": [
    "def get_degree(idx) :\n",
    "    num = 1\n",
    "\n",
    "    while idx > 0 :\n",
    "        idx -= num\n",
    "        num += 1 \n",
    "\n",
    "    return num-1"
   ]
  },
  {
   "cell_type": "code",
   "execution_count": 16,
   "metadata": {},
   "outputs": [
    {
     "name": "stdout",
     "output_type": "stream",
     "text": [
      "15\n",
      "1/5\n"
     ]
    }
   ],
   "source": [
    "idx = int(input())\n",
    "\n",
    "num = get_degree(idx)\n",
    "\n",
    "stack = []\n",
    "\n",
    "for n in range(1,num+1) :\n",
    "    degree = []\n",
    "\n",
    "    if n % 2 == 1 :\n",
    "        degree = [ f'{n-(d-1)}/{d}' for d in range(1,n+1) ] #d : denominator\n",
    "    else : \n",
    "        degree = [ f'{m}/{n-(m-1)}' for m in range(1,n+1) ] #m : molecule \n",
    "        \n",
    "    stack.extend(degree)\n",
    "    \n",
    "print(stack[idx-1])"
   ]
  },
  {
   "cell_type": "code",
   "execution_count": 18,
   "metadata": {},
   "outputs": [
    {
     "name": "stdout",
     "output_type": "stream",
     "text": [
      "15\n",
      "15/-14\n"
     ]
    }
   ],
   "source": [
    "idx=int(input())\n",
    "\n",
    "degree=0\n",
    "degree_sum=0\n",
    "\n",
    "while(result<idx):\n",
    "    degree+=1\n",
    "    degree_sum+=degree\n",
    "\n",
    "gap=degree_sum - idx\n",
    "\n",
    "if(degree%2==1):\n",
    "    denom = degree - gap\n",
    "    numer= degree+1 - denom\n",
    "else:\n",
    "    numer = degree - gap\n",
    "    denom = degree+1 - numer\n",
    "    \n",
    "print(\"{}/{}\".format(numer,denom))"
   ]
  },
  {
   "cell_type": "code",
   "execution_count": 35,
   "metadata": {},
   "outputs": [
    {
     "data": {
      "text/plain": [
       "15"
      ]
     },
     "execution_count": 35,
     "metadata": {},
     "output_type": "execute_result"
    }
   ],
   "source": [
    "sum(range(1,6))"
   ]
  },
  {
   "cell_type": "code",
   "execution_count": null,
   "metadata": {},
   "outputs": [],
   "source": []
  }
 ],
 "metadata": {
  "kernelspec": {
   "display_name": "Python 3",
   "language": "python",
   "name": "python3"
  },
  "language_info": {
   "codemirror_mode": {
    "name": "ipython",
    "version": 3
   },
   "file_extension": ".py",
   "mimetype": "text/x-python",
   "name": "python",
   "nbconvert_exporter": "python",
   "pygments_lexer": "ipython3",
   "version": "3.7.1"
  }
 },
 "nbformat": 4,
 "nbformat_minor": 2
}
