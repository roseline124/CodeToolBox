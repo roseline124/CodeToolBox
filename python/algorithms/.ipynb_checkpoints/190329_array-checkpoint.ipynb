{
 "cells": [
  {
   "cell_type": "code",
   "execution_count": 31,
   "metadata": {},
   "outputs": [
    {
     "name": "stdout",
     "output_type": "stream",
     "text": [
      " sdf sdf \n",
      "2\n"
     ]
    }
   ],
   "source": [
    "# import sys \n",
    "\n",
    "# string = sys.stdin.readline()\n",
    "string = input(\"\")\n",
    "if string == \" \": # 문장 자체가 공백인 경우 \n",
    "    print(0)\n",
    "else : \n",
    "    words = string.split(\" \") \n",
    "    \n",
    "    while '' in words : #문장 양쪽에 있는 공백이 없어질 때까지 반복\n",
    "        words.remove('')\n",
    "        \n",
    "print(len(words))"
   ]
  },
  {
   "cell_type": "code",
   "execution_count": 37,
   "metadata": {},
   "outputs": [
    {
     "name": "stdout",
     "output_type": "stream",
     "text": [
      " \n",
      "0\n"
     ]
    }
   ],
   "source": [
    "string = input(\"\")\n",
    "words = string.split(\" \")\n",
    "words = [w for w in words if w != \"\"]\n",
    "print(len(words))\n"
   ]
  },
  {
   "cell_type": "code",
   "execution_count": 8,
   "metadata": {},
   "outputs": [
    {
     "data": {
      "text/plain": [
       "['Teullinika', 'Teullyeotzi']"
      ]
     },
     "execution_count": 8,
     "metadata": {},
     "output_type": "execute_result"
    }
   ],
   "source": [
    "words"
   ]
  },
  {
   "cell_type": "code",
   "execution_count": 14,
   "metadata": {},
   "outputs": [],
   "source": [
    "s = \" \""
   ]
  },
  {
   "cell_type": "code",
   "execution_count": 17,
   "metadata": {},
   "outputs": [],
   "source": [
    "s.split(\" \").remove('')"
   ]
  },
  {
   "cell_type": "code",
   "execution_count": 19,
   "metadata": {},
   "outputs": [
    {
     "data": {
      "text/plain": [
       "1"
      ]
     },
     "execution_count": 19,
     "metadata": {},
     "output_type": "execute_result"
    }
   ],
   "source": [
    "len(s)"
   ]
  },
  {
   "cell_type": "markdown",
   "metadata": {},
   "source": [
    "### 2577번"
   ]
  },
  {
   "cell_type": "code",
   "execution_count": null,
   "metadata": {},
   "outputs": [],
   "source": [
    "import sys \n",
    "from collections import Counter\n",
    "\n",
    "numbers = sys.stdin.read().splitlines()\n",
    "a, b, c = map(int, numbers)\n",
    "\n",
    "num = a*b*c\n",
    "\n",
    "string = str(num)\n",
    "\n",
    "Counter(string) \n",
    "    "
   ]
  },
  {
   "cell_type": "code",
   "execution_count": 4,
   "metadata": {},
   "outputs": [
    {
     "name": "stdout",
     "output_type": "stream",
     "text": [
      "150\n",
      "266\n",
      "427\n",
      "1\n",
      "1\n",
      "7\n",
      "2\n",
      "0\n",
      "3\n",
      "3\n",
      "2\n"
     ]
    }
   ],
   "source": [
    "from collections import Counter\n",
    "\n",
    "a = int(input())\n",
    "b = int(input())\n",
    "c = int(input())\n",
    "\n",
    "string = str(a*b*c)\n",
    "counters = Counter(string) \n",
    "\n",
    "for n in range(10) :\n",
    "    if f'{n}' in counters.keys() :\n",
    "        print(counters[f'{n}'])\n",
    "    else : \n",
    "        print(0) "
   ]
  },
  {
   "cell_type": "markdown",
   "metadata": {},
   "source": [
    "### 8958번"
   ]
  },
  {
   "cell_type": "code",
   "execution_count": 33,
   "metadata": {},
   "outputs": [
    {
     "name": "stdout",
     "output_type": "stream",
     "text": [
      "5\n",
      "OOXXOXXOOO\n",
      "OOXXOOXXOO\n",
      "OXOXOXOXOXOXOX\n",
      "OOOOOOOOOO\n",
      "OOOOXOOOOXOOOOX\n"
     ]
    }
   ],
   "source": [
    "n = int(input())\n",
    "quiz = []\n",
    "\n",
    "for _ in range(n) :\n",
    "    quiz.append(input())"
   ]
  },
  {
   "cell_type": "code",
   "execution_count": 41,
   "metadata": {},
   "outputs": [
    {
     "name": "stdout",
     "output_type": "stream",
     "text": [
      "10\n",
      "9\n",
      "7\n",
      "55\n",
      "30\n"
     ]
    }
   ],
   "source": [
    "for ox in quiz : \n",
    "    Os = [ o for o in ox.split('X') if o != '']\n",
    "    O_sums = list(map(lambda x : sum(range(1, len(x)+1)), Os ))\n",
    "    total = sum(O_sums)\n",
    "    print(total)"
   ]
  },
  {
   "cell_type": "code",
   "execution_count": 26,
   "metadata": {},
   "outputs": [],
   "source": [
    "oxox = ox[0].split('X')"
   ]
  },
  {
   "cell_type": "code",
   "execution_count": 36,
   "metadata": {},
   "outputs": [
    {
     "data": {
      "text/plain": [
       "[3, 1, 6]"
      ]
     },
     "execution_count": 36,
     "metadata": {},
     "output_type": "execute_result"
    }
   ],
   "source": [
    "s = [s for s in oxox if s !='']\n",
    "sums = list(map(lambda x : sum(range(1, len(x)+1)), s ))\n",
    "sums"
   ]
  },
  {
   "cell_type": "code",
   "execution_count": 31,
   "metadata": {},
   "outputs": [
    {
     "data": {
      "text/plain": [
       "6"
      ]
     },
     "execution_count": 31,
     "metadata": {},
     "output_type": "execute_result"
    }
   ],
   "source": [
    "OOXXOXXOOO\n",
    "OOXXOOXXOO\n",
    "OXOXOXOXOXOXOX\n",
    "OOOOOOOOOO\n",
    "OOOOXOOOOXOOOOX"
   ]
  },
  {
   "cell_type": "code",
   "execution_count": 38,
   "metadata": {},
   "outputs": [
    {
     "data": {
      "text/plain": [
       "['OOXXOXXOOO', 'OOXXOOXXOO', 'OXOXOXOXOXOXOX', 'OOOOOOOOOO', 'OOOOXOOOOXOOOOX']"
      ]
     },
     "execution_count": 38,
     "metadata": {},
     "output_type": "execute_result"
    }
   ],
   "source": [
    "quiz"
   ]
  },
  {
   "cell_type": "markdown",
   "metadata": {},
   "source": [
    "### 2920번"
   ]
  },
  {
   "cell_type": "code",
   "execution_count": 77,
   "metadata": {},
   "outputs": [
    {
     "name": "stdout",
     "output_type": "stream",
     "text": [
      "1 2 3 4 5 6 7 8\n"
     ]
    },
    {
     "data": {
      "text/plain": [
       "[1, 2, 3, 4, 5, 6, 7, 8]"
      ]
     },
     "execution_count": 77,
     "metadata": {},
     "output_type": "execute_result"
    }
   ],
   "source": [
    "scale = list(map(int, input().split(\" \")))\n",
    "scale"
   ]
  },
  {
   "cell_type": "markdown",
   "metadata": {},
   "source": [
    "any, all \n",
    "\n",
    "any : 어느 하나라도 참이면 True 리턴 <br>\n",
    "all : 모두 참이어야 True 리턴 "
   ]
  },
  {
   "cell_type": "code",
   "execution_count": 78,
   "metadata": {},
   "outputs": [],
   "source": [
    "bool_scale = []\n",
    "\n",
    "for i, s in enumerate(scale) :\n",
    "    if (i > 0) & (scale[i] > scale[i-1]) : \n",
    "        bool_scale.append(True)      \n",
    "        \n",
    "    elif (i > 0) & (scale[i] < scale[i-1]) : \n",
    "        bool_scale.append(False)\n",
    "    \n",
    "    elif (i == 0) & (s == 1) : \n",
    "        bool_scale.append(True)\n",
    "    \n",
    "    elif (i == 0) & (s == 8) : \n",
    "        bool_scale.append(False)  "
   ]
  },
  {
   "cell_type": "code",
   "execution_count": 79,
   "metadata": {},
   "outputs": [
    {
     "data": {
      "text/plain": [
       "[True, True, True, True, True, True, True, True]"
      ]
     },
     "execution_count": 79,
     "metadata": {},
     "output_type": "execute_result"
    }
   ],
   "source": [
    "bool_scale"
   ]
  },
  {
   "cell_type": "code",
   "execution_count": 80,
   "metadata": {},
   "outputs": [
    {
     "name": "stdout",
     "output_type": "stream",
     "text": [
      "ascending\n"
     ]
    }
   ],
   "source": [
    "if all(bool_scale) :\n",
    "    print(\"ascending\")\n",
    "    \n",
    "elif (all(bool_scale) == False) & (any(bool_scale) == False) :\n",
    "    print(\"descending\")\n",
    "    \n",
    "else : \n",
    "    print(\"mixed\")"
   ]
  },
  {
   "cell_type": "code",
   "execution_count": 70,
   "metadata": {},
   "outputs": [
    {
     "data": {
      "text/plain": [
       "True"
      ]
     },
     "execution_count": 70,
     "metadata": {},
     "output_type": "execute_result"
    }
   ],
   "source": [
    "any(bool_scale)"
   ]
  },
  {
   "cell_type": "code",
   "execution_count": null,
   "metadata": {},
   "outputs": [],
   "source": [
    "scale = list(map(int, input().split(\" \")))\n",
    "\n",
    "bool_scale = []\n",
    "\n",
    "for i, s in enumerate(scale) :\n",
    "    if (i > 0) & (scale[i] > scale[i-1]) : \n",
    "        bool_scale.append(True)      \n",
    "        \n",
    "    elif (i > 0) & (scale[i] < scale[i-1]) : \n",
    "        bool_scale.append(False)\n",
    "    \n",
    "    elif (i == 0) & (s == 1) : \n",
    "        bool_scale.append(True)\n",
    "    \n",
    "    elif (i == 0) & (s == 8) : \n",
    "        bool_scale.append(False)  \n",
    "        \n",
    "        \n",
    "if all(bool_scale) :\n",
    "    print(\"ascending\")\n",
    "    \n",
    "elif (all(bool_scale) == False) & (any(bool_scale) == False) :\n",
    "    print(\"descending\")\n",
    "    \n",
    "else : \n",
    "    print(\"mixed\")"
   ]
  },
  {
   "cell_type": "markdown",
   "metadata": {},
   "source": [
    "### 10039번"
   ]
  },
  {
   "cell_type": "code",
   "execution_count": 82,
   "metadata": {},
   "outputs": [
    {
     "name": "stdout",
     "output_type": "stream",
     "text": [
      "10\n",
      "65\n",
      "100\n",
      "30\n",
      "85\n"
     ]
    },
    {
     "data": {
      "text/plain": [
       "[10, 65, 100, 30, 85]"
      ]
     },
     "execution_count": 82,
     "metadata": {},
     "output_type": "execute_result"
    }
   ],
   "source": [
    "numbers = []\n",
    "\n",
    "for _ in range(5) : \n",
    "    numbers.append(int(input()))\n",
    "\n"
   ]
  },
  {
   "cell_type": "code",
   "execution_count": 84,
   "metadata": {},
   "outputs": [
    {
     "data": {
      "text/plain": [
       "66.0"
      ]
     },
     "execution_count": 84,
     "metadata": {},
     "output_type": "execute_result"
    }
   ],
   "source": [
    "numbers = []\n",
    "\n",
    "for _ in range(5) : \n",
    "    numbers.append(int(input()))\n",
    "\n",
    "for i, n in enumerate(numbers) : \n",
    "    if n < 40 : \n",
    "        numbers[i] = 40\n",
    "        \n",
    "mean = sum(numbers)/5\n",
    "\n",
    "print(int(mean))"
   ]
  },
  {
   "cell_type": "code",
   "execution_count": null,
   "metadata": {},
   "outputs": [],
   "source": [
    "import sys \n",
    "\n",
    "students = sys.stdin.read().splitness()\n",
    "numbers = list(map(int, students))\n"
   ]
  }
 ],
 "metadata": {
  "kernelspec": {
   "display_name": "Python 3",
   "language": "python",
   "name": "python3"
  },
  "language_info": {
   "codemirror_mode": {
    "name": "ipython",
    "version": 3
   },
   "file_extension": ".py",
   "mimetype": "text/x-python",
   "name": "python",
   "nbconvert_exporter": "python",
   "pygments_lexer": "ipython3",
   "version": "3.7.1"
  }
 },
 "nbformat": 4,
 "nbformat_minor": 2
}
