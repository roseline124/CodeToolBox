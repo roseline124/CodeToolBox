{
 "cells": [
  {
   "cell_type": "markdown",
   "metadata": {},
   "source": [
    "정수를 저장하는 덱(Deque)를 구현한 다음, 입력으로 주어지는 명령을 처리하는 프로그램을 작성하시오.\n",
    "\n",
    "명령은 총 여덟 가지이다.\n",
    "\n",
    "push_front X: 정수 X를 덱의 앞에 넣는다.\n",
    "\n",
    "push_back X: 정수 X를 덱의 뒤에 넣는다.\n",
    "\n",
    "pop_front: 덱의 가장 앞에 있는 수를 빼고, 그 수를 출력한다. 만약, 덱에 들어있는 정수가 없는 경우에는 -1을 출력한다.\n",
    "\n",
    "pop_back: 덱의 가장 뒤에 있는 수를 빼고, 그 수를 출력한다. 만약, 덱에 들어있는 정수가 없는 경우에는 -1을 출력한다.\n",
    "\n",
    "size: 덱에 들어있는 정수의 개수를 출력한다.\n",
    "\n",
    "empty: 덱이 비어있으면 1을, 아니면 0을 출력한다.\n",
    "\n",
    "front: 덱의 가장 앞에 있는 정수를 출력한다. 만약 덱에 들어있는 정수가 없는 경우에는 -1을 출력한다.\n",
    "\n",
    "back: 덱의 가장 뒤에 있는 정수를 출력한다. 만약 덱에 들어있는 정수가 없는 경우에는 -1을 출력한다."
   ]
  },
  {
   "cell_type": "markdown",
   "metadata": {},
   "source": [
    "첫째 줄에 주어지는 명령의 수 N (1 ≤ N ≤ 10,000)이 주어진다. 둘째 줄부터 N개의 줄에는 명령이 하나씩 주어진다. 주어지는 정수는 1보다 크거나 같고, 100,000보다 작거나 같다. 문제에 나와있지 않은 명령이 주어지는 경우는 없다."
   ]
  },
  {
   "cell_type": "code",
   "execution_count": 55,
   "metadata": {},
   "outputs": [],
   "source": [
    "def push_front(x, deq):\n",
    "    tmp = [x]\n",
    "    tmp.extend(deq)\n",
    "    deq = tmp\n",
    "    return deq\n",
    "\n",
    "def push_back(x, deq):\n",
    "    deq.append(x)\n",
    "    return deq\n",
    "\n",
    "def pop_front(deq):\n",
    "    if deq : \n",
    "        print(deq.pop(0))\n",
    "    else : #빈 리스트 == False\n",
    "        print(-1)\n",
    "    \n",
    "def pop_back(deq):\n",
    "    if deq :\n",
    "        print(deq.pop())\n",
    "    else :\n",
    "        print(-1)\n",
    "\n",
    "def size(deq):\n",
    "    print(len(deq))\n",
    "\n",
    "def empty(deq) :\n",
    "    if not deq : \n",
    "        print(1)\n",
    "    else : \n",
    "        print(0)\n",
    "    \n",
    "def front(deq) :\n",
    "    if deq :\n",
    "        print(deq[0])\n",
    "    else :\n",
    "        print(-1)\n",
    "    \n",
    "def back(deq) :\n",
    "    if deq :\n",
    "        print(deq[-1])\n",
    "    else :\n",
    "        print(-1)"
   ]
  },
  {
   "cell_type": "code",
   "execution_count": 56,
   "metadata": {},
   "outputs": [],
   "source": [
    "statements_dict = {\n",
    "    'push_front' : push_front,\n",
    "    'push_back' : push_back,\n",
    "    'pop_front' : pop_front,\n",
    "    'pop_back' : pop_back,\n",
    "    'size' : size,\n",
    "    'empty' : empty, \n",
    "    'front' : front,\n",
    "    'back' : back\n",
    "}"
   ]
  },
  {
   "cell_type": "code",
   "execution_count": 61,
   "metadata": {},
   "outputs": [
    {
     "name": "stdout",
     "output_type": "stream",
     "text": [
      "15\n"
     ]
    }
   ],
   "source": [
    "N = int(input())"
   ]
  },
  {
   "cell_type": "code",
   "execution_count": 62,
   "metadata": {},
   "outputs": [
    {
     "name": "stdout",
     "output_type": "stream",
     "text": [
      "push_back 1\n",
      "push_front 2\n",
      "front\n",
      "2\n",
      "back\n",
      "1\n",
      "size\n",
      "2\n",
      "empty\n",
      "0\n",
      "pop_front\n",
      "2\n",
      "pop_back\n",
      "1\n",
      "pop_front\n",
      "-1\n",
      "size\n",
      "0\n",
      "empty\n",
      "1\n",
      "pop_back\n",
      "-1\n",
      "push_front 3\n",
      "empty\n",
      "0\n",
      "front\n",
      "3\n"
     ]
    }
   ],
   "source": [
    "N = int(input())\n",
    "\n",
    "deq = []\n",
    "\n",
    "for _ in range(N) :\n",
    "    statement = input().split(\" \")\n",
    "    \n",
    "    if len(statement) == 1 : \n",
    "        command = statement[0]\n",
    "        statements_dict[command](deq)\n",
    "    else :\n",
    "        command, x = statement\n",
    "        deq = statements_dict[command](x, deq)"
   ]
  },
  {
   "cell_type": "code",
   "execution_count": null,
   "metadata": {},
   "outputs": [],
   "source": []
  }
 ],
 "metadata": {
  "kernelspec": {
   "display_name": "Python 3",
   "language": "python",
   "name": "python3"
  },
  "language_info": {
   "codemirror_mode": {
    "name": "ipython",
    "version": 3
   },
   "file_extension": ".py",
   "mimetype": "text/x-python",
   "name": "python",
   "nbconvert_exporter": "python",
   "pygments_lexer": "ipython3",
   "version": "3.7.1"
  }
 },
 "nbformat": 4,
 "nbformat_minor": 2
}
