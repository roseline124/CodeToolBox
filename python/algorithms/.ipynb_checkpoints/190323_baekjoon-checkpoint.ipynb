{
 "cells": [
  {
   "cell_type": "markdown",
   "metadata": {},
   "source": [
    "### 7287번 "
   ]
  },
  {
   "cell_type": "code",
   "execution_count": 1,
   "metadata": {},
   "outputs": [
    {
     "name": "stdout",
     "output_type": "stream",
     "text": [
      "14\n",
      "guseod24\n"
     ]
    }
   ],
   "source": [
    "print(14)\n",
    "print(\"guseod24\")"
   ]
  },
  {
   "cell_type": "markdown",
   "metadata": {},
   "source": [
    "### 10172번 : 개"
   ]
  },
  {
   "cell_type": "code",
   "execution_count": 25,
   "metadata": {},
   "outputs": [
    {
     "name": "stdout",
     "output_type": "stream",
     "text": [
      "|\\_/|\n",
      "|q p|   /}\n",
      "( 0 )\"\"\"\\\n",
      "|\"^\"`     |\n",
      "||_/=\\\\__|"
     ]
    }
   ],
   "source": [
    "dog = \"\"\"|\\_/|\n",
    "|q p|   /}\n",
    "( 0 )\\\"\\\"\\\"\\\\\n",
    "|\"^\"`     |\n",
    "||_/=\\\\\\__|\"\"\"\n",
    "\n",
    "print(dog, end=\"\")"
   ]
  },
  {
   "cell_type": "code",
   "execution_count": 30,
   "metadata": {},
   "outputs": [
    {
     "name": "stdout",
     "output_type": "stream",
     "text": [
      "|\\_/|\n",
      "|q p|   /}\n",
      "( 0 )\"\"\"\\\n",
      "|\"^\"`    |\n",
      "||_/=\\\\__|\n"
     ]
    }
   ],
   "source": [
    "print(\"|\\_/|\")\n",
    "print(\"|q p|   /}\")\n",
    "print(\"( 0 )\\\"\\\"\\\"\\\\\")\n",
    "print(\"|\\\"^\\\"`    |\")\n",
    "print(\"||_/=\\\\\\__|\")"
   ]
  },
  {
   "cell_type": "markdown",
   "metadata": {},
   "source": [
    "### 11718번, 11719번 : 그대로 출력하기\n",
    "\n",
    "파이썬에서 input()으로 입력을 받으면 시간이 상당히 오래 걸린다고 한다. 따라서 readline을 쓰자."
   ]
  },
  {
   "cell_type": "markdown",
   "metadata": {},
   "source": [
    "여러줄을 한 번에 입력받을 수 있다.\n",
    "\n",
    "공백에서 빈줄도 문제 없이 처리한다."
   ]
  },
  {
   "cell_type": "code",
   "execution_count": 41,
   "metadata": {},
   "outputs": [],
   "source": [
    "import sys\n",
    "\n",
    "strings = sys.stdin.read().splitlines() \n",
    "\n",
    "for s in strings : \n",
    "    print(s)"
   ]
  },
  {
   "cell_type": "markdown",
   "metadata": {},
   "source": [
    "### 1008번 "
   ]
  },
  {
   "cell_type": "markdown",
   "metadata": {},
   "source": [
    "소숫점 55자리까지 표현\n",
    "\n",
    "`%precision 55`   \n",
    "\n",
    "다시 복구하려면 \n",
    "\n",
    "`%precision %r`\n",
    "\n",
    "[데이터 사이언스 스쿨 참고](https://datascienceschool.net/view-notebook/148fc57f684c4dc48eeb5048ab0d45f2/)"
   ]
  },
  {
   "cell_type": "code",
   "execution_count": 68,
   "metadata": {},
   "outputs": [
    {
     "data": {
      "text/plain": [
       "'%r'"
      ]
     },
     "execution_count": 68,
     "metadata": {},
     "output_type": "execute_result"
    }
   ],
   "source": [
    "%precision %r"
   ]
  },
  {
   "cell_type": "code",
   "execution_count": 55,
   "metadata": {},
   "outputs": [
    {
     "data": {
      "text/plain": [
       "0.333333333333333314829616256247391"
      ]
     },
     "execution_count": 55,
     "metadata": {},
     "output_type": "execute_result"
    }
   ],
   "source": [
    "1/3"
   ]
  },
  {
   "cell_type": "code",
   "execution_count": 59,
   "metadata": {},
   "outputs": [
    {
     "data": {
      "text/plain": [
       "False"
      ]
     },
     "execution_count": 59,
     "metadata": {},
     "output_type": "execute_result"
    }
   ],
   "source": [
    "import math\n",
    "\n",
    "math.isclose(1, 3, rel_tol=0.1e-9, abs_tol=0.1e-9)"
   ]
  },
  {
   "cell_type": "code",
   "execution_count": 64,
   "metadata": {},
   "outputs": [],
   "source": [
    "def isclose(a, b, rel_tol=1e-09, abs_tol=0.0):\n",
    "    if a/b <= max(rel_tol * max(abs(a), abs(b)), abs_tol) :\n",
    "        return a/b"
   ]
  },
  {
   "cell_type": "code",
   "execution_count": 66,
   "metadata": {},
   "outputs": [],
   "source": [
    "r = isclose(1, 3, rel_tol=0.1e-9, abs_tol=0.1e-9)"
   ]
  },
  {
   "cell_type": "code",
   "execution_count": 69,
   "metadata": {},
   "outputs": [
    {
     "name": "stdout",
     "output_type": "stream",
     "text": [
      "1 3\n",
      "0.333333333\n"
     ]
    }
   ],
   "source": [
    "a,b=map(int,input().split())\n",
    "print('%0.9f'%(a/b))"
   ]
  },
  {
   "cell_type": "markdown",
   "metadata": {},
   "source": [
    "### 10869번 : 사칙연산"
   ]
  },
  {
   "cell_type": "code",
   "execution_count": 70,
   "metadata": {},
   "outputs": [
    {
     "name": "stdout",
     "output_type": "stream",
     "text": [
      "7 3\n",
      "10\n",
      "4\n",
      "21\n",
      "2\n",
      "1\n"
     ]
    }
   ],
   "source": [
    "x, y=map(int,input().split())\n",
    "\n",
    "print(x+y)\n",
    "print(x-y)\n",
    "print(x*y)\n",
    "print(x//y)\n",
    "print(x%y)"
   ]
  },
  {
   "cell_type": "markdown",
   "metadata": {},
   "source": [
    "### 10430번 : 나머지"
   ]
  },
  {
   "cell_type": "code",
   "execution_count": 72,
   "metadata": {},
   "outputs": [
    {
     "name": "stdout",
     "output_type": "stream",
     "text": [
      "5 8 4\n",
      "1\n",
      "1\n",
      "0\n",
      "0\n"
     ]
    }
   ],
   "source": [
    "a, b, c = map(int,input().split())\n",
    "\n",
    "print((a+b)%c)\n",
    "print(( (a%c) + (b%c) )%c)\n",
    "print((a*b)%c)\n",
    "print(( (a%c) * (b%c) )%c)"
   ]
  },
  {
   "cell_type": "markdown",
   "metadata": {},
   "source": [
    "### 2558번 : A + B"
   ]
  },
  {
   "cell_type": "code",
   "execution_count": null,
   "metadata": {},
   "outputs": [],
   "source": [
    "import sys\n",
    "\n",
    "a, b = map(int, sys.stdin.read().splitlines())\n",
    "print(a+b)"
   ]
  },
  {
   "cell_type": "markdown",
   "metadata": {},
   "source": [
    "### 2839번 : 설탕 배달"
   ]
  },
  {
   "cell_type": "code",
   "execution_count": 91,
   "metadata": {},
   "outputs": [
    {
     "name": "stdout",
     "output_type": "stream",
     "text": [
      "18\n",
      "4\n"
     ]
    }
   ],
   "source": [
    "def sugar(N) :\n",
    "    for y in range( (N//3)+1) :\n",
    "        for x in range( (N//5)+1 ) :\n",
    "            if ((5*x + 3*y) == N) :\n",
    "                return x+y\n",
    "            \n",
    "    return -1\n",
    "\n",
    "N = int(input()) #배달해야할 설탕 킬로그램         \n",
    "print(sugar(N))"
   ]
  },
  {
   "cell_type": "code",
   "execution_count": 77,
   "metadata": {},
   "outputs": [
    {
     "data": {
      "text/plain": [
       "6"
      ]
     },
     "execution_count": 77,
     "metadata": {},
     "output_type": "execute_result"
    }
   ],
   "source": [
    "answer"
   ]
  },
  {
   "cell_type": "markdown",
   "metadata": {},
   "source": [
    "### 2741번 : N찍기"
   ]
  },
  {
   "cell_type": "code",
   "execution_count": 96,
   "metadata": {},
   "outputs": [
    {
     "name": "stdout",
     "output_type": "stream",
     "text": [
      "5\n",
      "1\n",
      "2\n",
      "3\n",
      "4\n",
      "5\n"
     ]
    }
   ],
   "source": [
    "N = int(input())  \n",
    "\n",
    "for n in range(1, N+1):\n",
    "    print(n)"
   ]
  },
  {
   "cell_type": "markdown",
   "metadata": {},
   "source": [
    "### 2742번 : 기찍 N"
   ]
  },
  {
   "cell_type": "code",
   "execution_count": 106,
   "metadata": {},
   "outputs": [
    {
     "name": "stdout",
     "output_type": "stream",
     "text": [
      "5\n",
      "5\n",
      "4\n",
      "3\n",
      "2\n",
      "1\n"
     ]
    }
   ],
   "source": [
    "N = int(input())  \n",
    "\n",
    "for n in list(range(N,0,-1)):\n",
    "    print(n)"
   ]
  },
  {
   "cell_type": "markdown",
   "metadata": {},
   "source": [
    "### 2739번 : 구구단"
   ]
  },
  {
   "cell_type": "code",
   "execution_count": 107,
   "metadata": {},
   "outputs": [
    {
     "name": "stdout",
     "output_type": "stream",
     "text": [
      "2\n",
      "2 * 1 = 2\n",
      "2 * 2 = 4\n",
      "2 * 3 = 6\n",
      "2 * 4 = 8\n",
      "2 * 5 = 10\n",
      "2 * 6 = 12\n",
      "2 * 7 = 14\n",
      "2 * 8 = 16\n",
      "2 * 9 = 18\n"
     ]
    }
   ],
   "source": [
    "n = int(input())  \n",
    "\n",
    "for x in range(1, 10):\n",
    "    print(f'{n} * {x} = {n*x}')"
   ]
  },
  {
   "cell_type": "markdown",
   "metadata": {},
   "source": [
    "### 2439번 : 별 찍기 -2"
   ]
  },
  {
   "cell_type": "code",
   "execution_count": 108,
   "metadata": {},
   "outputs": [
    {
     "name": "stdout",
     "output_type": "stream",
     "text": [
      "5\n",
      "    *\n",
      "   **\n",
      "  ***\n",
      " ****\n",
      "*****\n"
     ]
    }
   ],
   "source": [
    "n = int(input())  \n",
    "\n",
    "for i in range(1, n+1) :\n",
    "    print(\" \"*(n-i) + \"*\"*i)"
   ]
  },
  {
   "cell_type": "markdown",
   "metadata": {},
   "source": [
    "### 2440번 : 별 찍기 -3"
   ]
  },
  {
   "cell_type": "code",
   "execution_count": 113,
   "metadata": {},
   "outputs": [
    {
     "name": "stdout",
     "output_type": "stream",
     "text": [
      "5\n",
      "*****\n",
      "****\n",
      "***\n",
      "**\n",
      "*\n"
     ]
    }
   ],
   "source": [
    "n = int(input())  \n",
    "\n",
    "for i in range(n) :\n",
    "    print(\"*\"*(n-i))"
   ]
  },
  {
   "cell_type": "markdown",
   "metadata": {},
   "source": [
    "### 2441번 : 별 찍기 -4"
   ]
  },
  {
   "cell_type": "code",
   "execution_count": 114,
   "metadata": {},
   "outputs": [
    {
     "name": "stdout",
     "output_type": "stream",
     "text": [
      "5\n",
      "*****\n",
      " ****\n",
      "  ***\n",
      "   **\n",
      "    *\n"
     ]
    }
   ],
   "source": [
    "n = int(input())  \n",
    "\n",
    "for i in range(n) :\n",
    "    print( \" \"*i + \"*\"*(n-i))"
   ]
  },
  {
   "cell_type": "markdown",
   "metadata": {},
   "source": [
    "### 1924번 : 2007년 x월 y일은 무슨 요일?"
   ]
  },
  {
   "cell_type": "code",
   "execution_count": null,
   "metadata": {},
   "outputs": [],
   "source": [
    "x, y = map(int,input().split()) #x월 y일\n",
    "\n",
    "days = ['MON', 'TUE', 'WED', 'THU', 'FRI', 'SAT', 'SUN']\n",
    "\n",
    "if (x == 1) | (x == 10) : \n",
    "    if y % 7 == 1 : \n",
    "        print(days[1])\n",
    "\n",
    "elif (x == 3) | (x == 11) : \n",
    "    if y % 7 == 5 :\n",
    "        print(days[1])\n",
    "\n",
    "elif (x == 2) | (x == 5) : \n",
    "    if y % 7 == 0 :\n",
    "        print(days[1])\n",
    "\n",
    "elif x == 6 : \n",
    "    if y % 7 == 4 :\n",
    "        print(days[1])\n",
    "\n",
    "elif (x == 7) | (x == 4) : \n",
    "    if y % 7 == 2 :\n",
    "        print(days[1])\n",
    "\n",
    "elif x == 8 : \n",
    "    if y % 7 == 6 :\n",
    "        print(days[1])\n",
    "\n",
    "elif (x == 9) | (x == 12) : \n",
    "    if y % 7 == 3 :\n",
    "        print(days[1])  "
   ]
  }
 ],
 "metadata": {
  "kernelspec": {
   "display_name": "Python 3",
   "language": "python",
   "name": "python3"
  },
  "language_info": {
   "codemirror_mode": {
    "name": "ipython",
    "version": 3
   },
   "file_extension": ".py",
   "mimetype": "text/x-python",
   "name": "python",
   "nbconvert_exporter": "python",
   "pygments_lexer": "ipython3",
   "version": "3.7.1"
  }
 },
 "nbformat": 4,
 "nbformat_minor": 2
}
