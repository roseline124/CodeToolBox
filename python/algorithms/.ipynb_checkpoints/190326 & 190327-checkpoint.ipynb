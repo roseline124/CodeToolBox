{
 "cells": [
  {
   "cell_type": "markdown",
   "metadata": {},
   "source": [
    "### 10872번"
   ]
  },
  {
   "cell_type": "code",
   "execution_count": 10,
   "metadata": {},
   "outputs": [
    {
     "name": "stdout",
     "output_type": "stream",
     "text": [
      "1 4 2 3 "
     ]
    }
   ],
   "source": [
    "n, x = map(int, input().split())\n",
    "\n",
    "nums = list(map(int, input().split()))\n",
    "\n",
    "for n in nums : \n",
    "    if n < x : \n",
    "        print(n, end=\" \")"
   ]
  },
  {
   "cell_type": "markdown",
   "metadata": {},
   "source": [
    "### 1546번 : 새로운 평균"
   ]
  },
  {
   "cell_type": "code",
   "execution_count": 6,
   "metadata": {},
   "outputs": [],
   "source": [
    "N = int(input())\n",
    "scores = list(map(int, input().split()))\n",
    "\n",
    "M = max(scores)\n",
    "\n",
    "re_scores = [ s/M*100 for s in scores]\n",
    "new_mean = round(sum(re_scores) / len(re_scores), 2)\n",
    "\n",
    "print(new_mean)"
   ]
  },
  {
   "cell_type": "markdown",
   "metadata": {},
   "source": [
    "### 4344번 : 평균은 넘겠지"
   ]
  },
  {
   "cell_type": "code",
   "execution_count": 13,
   "metadata": {},
   "outputs": [],
   "source": [
    "import sys\n",
    "\n",
    "N = input()\n",
    "strings = sys.stdin.read().splitlines()\n",
    "\n",
    "students = strings[1:]\n",
    "\n",
    "for s in students :\n",
    "    tmp = map(int, s.split(\" \"))\n",
    "    scores = tmp[1:]\n",
    "    \n",
    "    print(round(sum(students)/len(scores),3))"
   ]
  },
  {
   "cell_type": "code",
   "execution_count": 14,
   "metadata": {},
   "outputs": [
    {
     "name": "stdout",
     "output_type": "stream",
     "text": [
      "3\n"
     ]
    }
   ],
   "source": [
    "import sys\n",
    "\n",
    "N = input()\n",
    "studnets = sys.stdin.read().splitlines()\n",
    "\n",
    "for s in students :\n",
    "    tmp = map(int, s.split(\" \"))\n",
    "    scores = tmp[1:]\n",
    "    \n",
    "    print(round(sum(students)/len(scores),3))"
   ]
  },
  {
   "cell_type": "code",
   "execution_count": 6,
   "metadata": {},
   "outputs": [
    {
     "name": "stdout",
     "output_type": "stream",
     "text": [
      "1\n",
      "7 100 95 90 80 70 60 50\n",
      "57.143%\n"
     ]
    }
   ],
   "source": [
    "C = int(input())\n",
    "\n",
    "for _ in range(C) : \n",
    "    tmp = list(map(int, input().split(\" \")))\n",
    "    n = tmp[0]\n",
    "    scores = tmp[1:]\n",
    "    mean = sum(scores)/n\n",
    "    over_mean = [ s for s in scores if s > mean ]\n",
    "    if over_mean != 0 :\n",
    "        p = (len(over_mean)/n)*100\n",
    "        print('%.3f' % p + '%')\n",
    "    else : \n",
    "        print(0)"
   ]
  },
  {
   "cell_type": "code",
   "execution_count": 7,
   "metadata": {},
   "outputs": [
    {
     "name": "stdout",
     "output_type": "stream",
     "text": [
      "1\n",
      "1\n",
      "0.000%\n"
     ]
    }
   ],
   "source": [
    "C = int(input())\n",
    "\n",
    "for _ in range(C) : \n",
    "    scores = list(map(int, input().split(\" \")))\n",
    "    mean = sum(scores[1:])/scores[0]\n",
    "    \n",
    "    over_mean = [ s for s in scores[1:] if s > mean ]\n",
    "    \n",
    "    if over_mean != 0 :\n",
    "        p = (len(over_mean)/n)*100\n",
    "        print('%.3f' % p + '%')\n",
    "    else : \n",
    "        print(0)"
   ]
  },
  {
   "cell_type": "markdown",
   "metadata": {},
   "source": [
    "### 1110번 : 더하기 싸이클"
   ]
  },
  {
   "cell_type": "code",
   "execution_count": 3,
   "metadata": {},
   "outputs": [
    {
     "name": "stdout",
     "output_type": "stream",
     "text": [
      "26\n",
      "68\n",
      "84\n",
      "42\n",
      "26\n",
      "4\n"
     ]
    }
   ],
   "source": [
    "n = input()\n",
    "\n",
    "if len(n) == 1 : \n",
    "    a = 0 \n",
    "    b = int(n)\n",
    "    \n",
    "else : \n",
    "    a, b = int(n[0]), int(n[1])\n",
    "    \n",
    "cycle = 0    \n",
    "    \n",
    "while True :\n",
    "    cycle += 1\n",
    "    \n",
    "    if a+b < 10 : \n",
    "        a, b = b, (a+b)\n",
    "    else : \n",
    "        a, b = b, (a+b)%10\n",
    "    \n",
    "    new = str(b) if a==0 else str(a)+str(b)\n",
    "\n",
    "    if new == n : \n",
    "        break\n",
    "\n",
    "print(cycle)"
   ]
  },
  {
   "cell_type": "code",
   "execution_count": 21,
   "metadata": {},
   "outputs": [
    {
     "data": {
      "text/plain": [
       "4"
      ]
     },
     "execution_count": 21,
     "metadata": {},
     "output_type": "execute_result"
    }
   ],
   "source": [
    "cycle"
   ]
  },
  {
   "cell_type": "code",
   "execution_count": null,
   "metadata": {},
   "outputs": [],
   "source": []
  }
 ],
 "metadata": {
  "kernelspec": {
   "display_name": "Python 3",
   "language": "python",
   "name": "python3"
  },
  "language_info": {
   "codemirror_mode": {
    "name": "ipython",
    "version": 3
   },
   "file_extension": ".py",
   "mimetype": "text/x-python",
   "name": "python",
   "nbconvert_exporter": "python",
   "pygments_lexer": "ipython3",
   "version": "3.7.1"
  }
 },
 "nbformat": 4,
 "nbformat_minor": 2
}
