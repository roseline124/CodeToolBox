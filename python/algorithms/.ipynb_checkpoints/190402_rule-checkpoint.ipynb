{
 "cells": [
  {
   "cell_type": "markdown",
   "metadata": {},
   "source": [
    "### 1011번\n",
    "\n",
    "1. x와 y의 거리 : y - x\n",
    "2. 처음과 마지막 k = 1\n",
    "3. kx가 half를 넘었을 때 k+1을 하면 \n",
    "4. k+1에서 k-1이 0,1,2에 속하지 않는다면\n",
    "5. kx 다음 k는 k+1이 아니라 k-1이 되어야 한다."
   ]
  },
  {
   "cell_type": "code",
   "execution_count": 12,
   "metadata": {},
   "outputs": [],
   "source": [
    "x = 0\n",
    "y = 10"
   ]
  },
  {
   "cell_type": "code",
   "execution_count": 13,
   "metadata": {},
   "outputs": [
    {
     "data": {
      "text/plain": [
       "10"
      ]
     },
     "execution_count": 13,
     "metadata": {},
     "output_type": "execute_result"
    }
   ],
   "source": [
    "d = y - x \n",
    "d"
   ]
  },
  {
   "cell_type": "code",
   "execution_count": 8,
   "metadata": {},
   "outputs": [],
   "source": [
    "k1 = 1\n",
    "kn = 1"
   ]
  },
  {
   "cell_type": "code",
   "execution_count": 11,
   "metadata": {},
   "outputs": [
    {
     "data": {
      "text/plain": [
       "True"
      ]
     },
     "execution_count": 11,
     "metadata": {},
     "output_type": "execute_result"
    }
   ],
   "source": [
    "2 in range(3)"
   ]
  },
  {
   "cell_type": "code",
   "execution_count": null,
   "metadata": {},
   "outputs": [],
   "source": [
    "step = 0 \n",
    "sum_k = 0\n",
    "k = 0\n",
    "next_k = 1\n",
    "\n",
    "while sum_k != d :     \n",
    "    step += 1\n",
    "    k+= 1\n",
    "    next_k = K+1\n",
    "    \n",
    "    if (sum_k + (k+1)) > round(d/2 + 1) :\n",
    "        \n"
   ]
  },
  {
   "cell_type": "markdown",
   "metadata": {},
   "source": [
    "### 1193번"
   ]
  },
  {
   "cell_type": "code",
   "execution_count": 27,
   "metadata": {},
   "outputs": [
    {
     "name": "stdout",
     "output_type": "stream",
     "text": [
      "3\n"
     ]
    }
   ],
   "source": [
    "N = int(input())"
   ]
  },
  {
   "cell_type": "code",
   "execution_count": 28,
   "metadata": {},
   "outputs": [],
   "source": [
    "# N번째 마지막 인덱스 구하기 \n",
    "def get_floor(N):\n",
    "    # 인덱스 N을 찾기 위해 가야할 층 F를 반환한다.\n",
    "    F= 0\n",
    "    F_idx = 0 \n",
    "    \n",
    "    while F_idx < N : \n",
    "        F += 1\n",
    "        F_idx += F\n",
    "    \n",
    "    return F    "
   ]
  },
  {
   "cell_type": "code",
   "execution_count": 29,
   "metadata": {},
   "outputs": [],
   "source": [
    "F = get_floor(14)"
   ]
  },
  {
   "cell_type": "code",
   "execution_count": 30,
   "metadata": {},
   "outputs": [],
   "source": [
    "def get_fracs(F):\n",
    "    \"F층까지의 분수들 리스트를 만든다.\"\n",
    "    \n",
    "    frac_list = []\n",
    "    for num in range(1,F+1) : \n",
    "        mom = num\n",
    "        son = 1\n",
    "        for n in range(1, num+1) :  \n",
    "            frac_list.append(f'{son}/{mom}')\n",
    "            mom -= 1 #분모\n",
    "            son += 1 #분자\n",
    "            \n",
    "    return frac_list\n",
    "            \n",
    "            \n",
    "        "
   ]
  },
  {
   "cell_type": "code",
   "execution_count": 31,
   "metadata": {},
   "outputs": [
    {
     "data": {
      "text/plain": [
       "'2/1'"
      ]
     },
     "execution_count": 31,
     "metadata": {},
     "output_type": "execute_result"
    }
   ],
   "source": [
    "get_fracs(F)[N-1]"
   ]
  },
  {
   "cell_type": "code",
   "execution_count": 42,
   "metadata": {},
   "outputs": [
    {
     "name": "stdout",
     "output_type": "stream",
     "text": [
      "10000000\n",
      "2844/1629\n"
     ]
    }
   ],
   "source": [
    "def get_floor(N):\n",
    "    # 인덱스 N을 찾기 위해 가야할 층 F를 반환한다.\n",
    "    F= 0\n",
    "    F_idx = 0 \n",
    "    \n",
    "    while F_idx < N : \n",
    "        F += 1\n",
    "        F_idx += F\n",
    "    \n",
    "    return F    \n",
    "\n",
    "def get_fracs(F):\n",
    "    \"F층까지의 분수들 리스트를 만든다.\"\n",
    "    \n",
    "    frac_list = []\n",
    "    for num in range(1,F+1) : \n",
    "        mom = num\n",
    "        son = 1\n",
    "        for n in range(1, num+1) :  \n",
    "            frac_list.append(f'{son}/{mom}')\n",
    "            mom -= 1 #분모\n",
    "            son += 1 #분자\n",
    "            \n",
    "    return frac_list\n",
    "             \n",
    "N = int(input())\n",
    "F = get_floor(N)\n",
    "print(get_fracs(F)[N-1])"
   ]
  },
  {
   "cell_type": "markdown",
   "metadata": {},
   "source": [
    "### 다른 풀이"
   ]
  },
  {
   "cell_type": "code",
   "execution_count": 47,
   "metadata": {},
   "outputs": [
    {
     "name": "stdout",
     "output_type": "stream",
     "text": [
      "14\n",
      "2/4\n"
     ]
    }
   ],
   "source": [
    "N = int(input())\n",
    "i = 0\n",
    "\n",
    "while N > 0:\n",
    "    N -= i\n",
    "    i += 1\n",
    "    \n",
    "N += i-1\n",
    "frac = f'{N}/{i-N}'\n",
    "\n",
    "if i % 2 == 0: # 짝수인 경우 \n",
    "    frac = f'{i-N}/{N}'\n",
    "\n",
    "print(frac)"
   ]
  },
  {
   "cell_type": "markdown",
   "metadata": {},
   "source": [
    "### 1011번"
   ]
  },
  {
   "cell_type": "code",
   "execution_count": 48,
   "metadata": {},
   "outputs": [
    {
     "name": "stdout",
     "output_type": "stream",
     "text": [
      "45 50\n"
     ]
    }
   ],
   "source": [
    "# D : 남은 거리 \n",
    "# K : 이동 거리 \n",
    "# N : 작동 횟수 \n",
    "\n",
    "x, y = map(int, input().split())"
   ]
  },
  {
   "cell_type": "code",
   "execution_count": 49,
   "metadata": {},
   "outputs": [
    {
     "data": {
      "text/plain": [
       "5"
      ]
     },
     "execution_count": 49,
     "metadata": {},
     "output_type": "execute_result"
    }
   ],
   "source": [
    "D = y - x\n",
    "D"
   ]
  },
  {
   "cell_type": "markdown",
   "metadata": {},
   "source": [
    "참고 : https://wondy1128.tistory.com/164"
   ]
  },
  {
   "cell_type": "code",
   "execution_count": 50,
   "metadata": {},
   "outputs": [
    {
     "name": "stdout",
     "output_type": "stream",
     "text": [
      "1\n",
      "45 50\n",
      "4\n"
     ]
    }
   ],
   "source": [
    "import math\n",
    "TT = int(input())\n",
    "for t in range(TT):\n",
    "    a, b = map(int,input().split())\n",
    "    print( int((b-a-.5)**.5*2) )"
   ]
  },
  {
   "cell_type": "code",
   "execution_count": null,
   "metadata": {},
   "outputs": [],
   "source": []
  }
 ],
 "metadata": {
  "kernelspec": {
   "display_name": "Python 3",
   "language": "python",
   "name": "python3"
  },
  "language_info": {
   "codemirror_mode": {
    "name": "ipython",
    "version": 3
   },
   "file_extension": ".py",
   "mimetype": "text/x-python",
   "name": "python",
   "nbconvert_exporter": "python",
   "pygments_lexer": "ipython3",
   "version": "3.7.1"
  }
 },
 "nbformat": 4,
 "nbformat_minor": 2
}
