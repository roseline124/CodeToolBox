{
 "cells": [
  {
   "cell_type": "markdown",
   "metadata": {},
   "source": [
    "https://www.acmicpc.net/category/418"
   ]
  },
  {
   "cell_type": "markdown",
   "metadata": {},
   "source": [
    "### Problem A"
   ]
  },
  {
   "cell_type": "code",
   "execution_count": 1,
   "metadata": {},
   "outputs": [
    {
     "name": "stdout",
     "output_type": "stream",
     "text": [
      "I'm Sexy\n"
     ]
    }
   ],
   "source": [
    "print(\"I'm Sexy\")"
   ]
  },
  {
   "cell_type": "markdown",
   "metadata": {},
   "source": [
    "### Problem B"
   ]
  },
  {
   "cell_type": "markdown",
   "metadata": {},
   "source": [
    "- 두 수가 같지 않을 때 : 왼쪽 오른쪽 중 더 적은 곳에 A를 넣는다. 더 작은 수에 맞춰 방출한다.\n",
    "- 두 수가 같을 때 : A 배분 후 A를 2로 나눈 나머지를 방출한다."
   ]
  },
  {
   "cell_type": "code",
   "execution_count": 16,
   "metadata": {},
   "outputs": [
    {
     "name": "stdout",
     "output_type": "stream",
     "text": [
      "1 0 3\n"
     ]
    }
   ],
   "source": [
    "L, R, A = map(int, input().split())"
   ]
  },
  {
   "cell_type": "code",
   "execution_count": 17,
   "metadata": {},
   "outputs": [
    {
     "name": "stdout",
     "output_type": "stream",
     "text": [
      "4\n"
     ]
    }
   ],
   "source": [
    "if L == R : \n",
    "    print(L+R+(A//2)*2)\n",
    "else :\n",
    "    if (L+A < R)|(R+A < L) :\n",
    "        print(L+R)\n",
    "    elif (L+A == R)|(R+A == L):\n",
    "        print(L+R+A)\n",
    "    elif (L+A > R)|(R+A > L) :\n",
    "        if L<R :\n",
    "            A -= R-L\n",
    "            print(2*R + (A//2)*2) \n",
    "        elif L>R : \n",
    "            A -= L-R\n",
    "            print(2*L + (A//2)*2)  "
   ]
  },
  {
   "cell_type": "markdown",
   "metadata": {},
   "source": [
    "#### 정답"
   ]
  },
  {
   "cell_type": "code",
   "execution_count": null,
   "metadata": {},
   "outputs": [],
   "source": [
    "L, R, A = map(int, input().split())\n",
    "\n",
    "if L == R : \n",
    "    print(L+R+(A//2)*2)\n",
    "else :\n",
    "    if (L+A < R)|(R+A < L) :\n",
    "        print(L+R)\n",
    "    elif (L+A == R)|(R+A == L):\n",
    "        print(L+R+A)\n",
    "    elif (L+A > R)|(R+A > L) :\n",
    "        if L<R :\n",
    "            A -= R-L\n",
    "            print(2*R + (A//2)*2) \n",
    "        elif L>R : \n",
    "            A -= L-R\n",
    "            print(2*L + (A//2)*2)  "
   ]
  },
  {
   "cell_type": "markdown",
   "metadata": {},
   "source": [
    "### Problem C"
   ]
  },
  {
   "cell_type": "code",
   "execution_count": 84,
   "metadata": {},
   "outputs": [],
   "source": [
    "def is_unique(matrix):\n",
    "    unique_set = []\n",
    "    for m in matrix :\n",
    "        unique_set.extend(m)\n",
    "    len_set = len(unique_set)\n",
    "    len_unique_set = len(set(unique_set))\n",
    "    if len_set == len_unique_set :\n",
    "        return True\n",
    "    else :\n",
    "        return False"
   ]
  },
  {
   "cell_type": "code",
   "execution_count": 85,
   "metadata": {},
   "outputs": [],
   "source": [
    "def check_rows(matrix):\n",
    "    for m in matrix:\n",
    "        if sum(m) != magic_sum:\n",
    "            return False\n",
    "    \n",
    "    return True"
   ]
  },
  {
   "cell_type": "code",
   "execution_count": 86,
   "metadata": {},
   "outputs": [],
   "source": [
    "def check_cols(matrix):\n",
    "    for i in range(N):\n",
    "        col = [ m[i] for m in matrix ] \n",
    "        if sum(col) != magic_sum : \n",
    "            return False\n",
    "        \n",
    "    return True "
   ]
  },
  {
   "cell_type": "code",
   "execution_count": 87,
   "metadata": {},
   "outputs": [],
   "source": [
    "def check_cross(matrix):\n",
    "    l_cross = []\n",
    "    r_cross = []\n",
    "    for i in range(N):\n",
    "        l_cross.append(matrix[i][i])\n",
    "        r_cross.append(matrix[i][-i-1])\n",
    "    \n",
    "    if (sum(l_cross) == sum(r_cross) == magic_sum) :\n",
    "        return True\n",
    "    else :\n",
    "        return False "
   ]
  },
  {
   "cell_type": "code",
   "execution_count": 92,
   "metadata": {},
   "outputs": [
    {
     "name": "stdout",
     "output_type": "stream",
     "text": [
      "5\n",
      "11 24 7 20 3\n",
      "4 12 25 8 16\n",
      "17 5 13 21 9\n",
      "10 18 1 14 22\n",
      "23 6 19 2 15\n",
      "TRUE\n"
     ]
    }
   ],
   "source": [
    "# input\n",
    "N = int(input())\n",
    "\n",
    "magic_sum = N*(N*N + 1)/2\n",
    "\n",
    "magic = []\n",
    "for _ in range(N):\n",
    "    magic.append(list(map(int, input().split())))\n",
    "\n",
    "# check\n",
    "if (is_unique(magic) & check_rows(magic) & check_cols(magic) & check_cross(magic)) : \n",
    "    print('TRUE')\n",
    "else : \n",
    "    print('FALSE')"
   ]
  },
  {
   "cell_type": "code",
   "execution_count": null,
   "metadata": {},
   "outputs": [],
   "source": [
    "def is_unique(matrix):\n",
    "    unique_set = []\n",
    "    for m in matrix :\n",
    "        unique_set.extend(m)\n",
    "    len_set = len(unique_set)\n",
    "    len_unique_set = len(set(unique_set))\n",
    "    if len_set == len_unique_set :\n",
    "        return True\n",
    "    else :\n",
    "        return False\n",
    "    \n",
    "def check_rows(matrix):\n",
    "    for m in matrix:\n",
    "        if sum(m) != magic_sum:\n",
    "            return False\n",
    "    \n",
    "    return True\n",
    "\n",
    "def check_cols(matrix):\n",
    "    for i in range(N):\n",
    "        col = [ m[i] for m in matrix ] \n",
    "        if sum(col) != magic_sum : \n",
    "            return False\n",
    "        \n",
    "    return True \n",
    "\n",
    "def check_cross(matrix):\n",
    "    l_cross = []\n",
    "    r_cross = []\n",
    "    for i in range(N):\n",
    "        l_cross.append(matrix[i][i])\n",
    "        r_cross.append(matrix[i][-i-1])\n",
    "    \n",
    "    if (sum(l_cross) == sum(r_cross) == magic_sum) :\n",
    "        return True\n",
    "    else :\n",
    "        return False \n",
    "    \n",
    "# input\n",
    "N = int(input())\n",
    "\n",
    "magic_sum = N*(N*N + 1)/2\n",
    "\n",
    "magic = []\n",
    "for _ in range(N):\n",
    "    magic.append(list(map(int, input().split())))\n",
    "\n",
    "# check\n",
    "if (is_unique(magic) & check_rows(magic) & check_cols(magic) & check_cross(magic)) : \n",
    "    print('TRUE')\n",
    "else : \n",
    "    print('FALSE')"
   ]
  },
  {
   "cell_type": "markdown",
   "metadata": {},
   "source": [
    "### Problem D"
   ]
  },
  {
   "cell_type": "markdown",
   "metadata": {},
   "source": [
    "- N이 짝수일 때 : n(n+2)(2n+1)/8\n",
    "- N이 홀수일 때 : (n+1)(2n*n+3n-1)/8\n",
    "\n",
    "[참고](https://blog.naver.com/alwaysneoi/100155502982)"
   ]
  },
  {
   "cell_type": "code",
   "execution_count": 87,
   "metadata": {},
   "outputs": [
    {
     "name": "stdout",
     "output_type": "stream",
     "text": [
      "3\n"
     ]
    }
   ],
   "source": [
    "N = int(input())"
   ]
  },
  {
   "cell_type": "code",
   "execution_count": 89,
   "metadata": {},
   "outputs": [
    {
     "name": "stdout",
     "output_type": "stream",
     "text": [
      "13\n"
     ]
    }
   ],
   "source": [
    "N = int(input())\n",
    "\n",
    "if N%2 == 0 : # 짝수 \n",
    "    print(int(N*(N+2)*(2*N+1)/8))\n",
    "else : \n",
    "    print(int((N+1)*(2*N*N+3*N-1)/8))"
   ]
  },
  {
   "cell_type": "markdown",
   "metadata": {},
   "source": [
    "### Problem E : 15736번 청기백기 \n",
    "\n",
    "청 = 0\n",
    "백 = 1"
   ]
  },
  {
   "cell_type": "code",
   "execution_count": 133,
   "metadata": {},
   "outputs": [
    {
     "name": "stdout",
     "output_type": "stream",
     "text": [
      "24\n"
     ]
    },
    {
     "data": {
      "text/plain": [
       "[0, 0, 0, 0, 0, 0, 0, 0, 0, 0, 0, 0, 0, 0, 0, 0, 0, 0, 0, 0, 0, 0, 0, 0]"
      ]
     },
     "execution_count": 133,
     "metadata": {},
     "output_type": "execute_result"
    }
   ],
   "source": [
    "N = int(input())\n",
    "flags = N*[0]\n",
    "flags"
   ]
  },
  {
   "cell_type": "code",
   "execution_count": 134,
   "metadata": {},
   "outputs": [],
   "source": [
    "for i in range(1,N+1):\n",
    "    for j in range(1, N+1):\n",
    "        if j%i == 0 :\n",
    "            flags[j-1] = 1 if flags[j-1] == 0 else 0"
   ]
  },
  {
   "cell_type": "code",
   "execution_count": 136,
   "metadata": {},
   "outputs": [
    {
     "data": {
      "text/plain": [
       "4"
      ]
     },
     "execution_count": 136,
     "metadata": {},
     "output_type": "execute_result"
    }
   ],
   "source": [
    "sum(flags)"
   ]
  },
  {
   "cell_type": "code",
   "execution_count": 22,
   "metadata": {},
   "outputs": [
    {
     "name": "stdout",
     "output_type": "stream",
     "text": [
      "21000\n"
     ]
    },
    {
     "ename": "KeyboardInterrupt",
     "evalue": "",
     "output_type": "error",
     "traceback": [
      "\u001b[1;31m---------------------------------------------------------------------------\u001b[0m",
      "\u001b[1;31mKeyboardInterrupt\u001b[0m                         Traceback (most recent call last)",
      "\u001b[1;32m<ipython-input-22-0dce36083b44>\u001b[0m in \u001b[0;36m<module>\u001b[1;34m\u001b[0m\n\u001b[0;32m      3\u001b[0m \u001b[1;33m\u001b[0m\u001b[0m\n\u001b[0;32m      4\u001b[0m \u001b[1;32mfor\u001b[0m \u001b[0mi\u001b[0m \u001b[1;32min\u001b[0m \u001b[0mrange\u001b[0m\u001b[1;33m(\u001b[0m\u001b[1;36m1\u001b[0m\u001b[1;33m,\u001b[0m\u001b[0mN\u001b[0m\u001b[1;33m+\u001b[0m\u001b[1;36m1\u001b[0m\u001b[1;33m)\u001b[0m\u001b[1;33m:\u001b[0m\u001b[1;33m\u001b[0m\u001b[1;33m\u001b[0m\u001b[0m\n\u001b[1;32m----> 5\u001b[1;33m     \u001b[1;32mfor\u001b[0m \u001b[0mj\u001b[0m \u001b[1;32min\u001b[0m \u001b[0mrange\u001b[0m\u001b[1;33m(\u001b[0m\u001b[0mi\u001b[0m\u001b[1;33m,\u001b[0m \u001b[0mN\u001b[0m\u001b[1;33m+\u001b[0m\u001b[1;36m1\u001b[0m\u001b[1;33m)\u001b[0m\u001b[1;33m:\u001b[0m\u001b[1;33m\u001b[0m\u001b[1;33m\u001b[0m\u001b[0m\n\u001b[0m\u001b[0;32m      6\u001b[0m         \u001b[1;32mif\u001b[0m \u001b[0mj\u001b[0m\u001b[1;33m%\u001b[0m\u001b[0mi\u001b[0m \u001b[1;33m==\u001b[0m \u001b[1;36m0\u001b[0m \u001b[1;33m:\u001b[0m\u001b[1;33m\u001b[0m\u001b[1;33m\u001b[0m\u001b[0m\n\u001b[0;32m      7\u001b[0m             \u001b[0mflags\u001b[0m\u001b[1;33m[\u001b[0m\u001b[0mj\u001b[0m\u001b[1;33m-\u001b[0m\u001b[1;36m1\u001b[0m\u001b[1;33m]\u001b[0m \u001b[1;33m=\u001b[0m \u001b[1;36m1\u001b[0m \u001b[1;32mif\u001b[0m \u001b[0mflags\u001b[0m\u001b[1;33m[\u001b[0m\u001b[0mj\u001b[0m\u001b[1;33m-\u001b[0m\u001b[1;36m1\u001b[0m\u001b[1;33m]\u001b[0m \u001b[1;33m==\u001b[0m \u001b[1;36m0\u001b[0m \u001b[1;32melse\u001b[0m \u001b[1;36m0\u001b[0m\u001b[1;33m\u001b[0m\u001b[1;33m\u001b[0m\u001b[0m\n",
      "\u001b[1;31mKeyboardInterrupt\u001b[0m: "
     ]
    }
   ],
   "source": [
    "N = int(input())\n",
    "flags = N*[0]\n",
    "\n",
    "for i in range(1,N+1):\n",
    "    for j in range(i, N+1):\n",
    "        if j%i == 0 :\n",
    "            flags[j-1] = 1 if flags[j-1] == 0 else 0\n",
    "            \n",
    "print(sum(flags))"
   ]
  },
  {
   "cell_type": "markdown",
   "metadata": {},
   "source": [
    "#### 더 빨리"
   ]
  },
  {
   "cell_type": "code",
   "execution_count": 71,
   "metadata": {},
   "outputs": [
    {
     "name": "stdout",
     "output_type": "stream",
     "text": [
      "24\n",
      "4\n"
     ]
    }
   ],
   "source": [
    "N = int(input())\n",
    "flags = N*[0]\n",
    "\n",
    "for i in range(1, N+1):\n",
    "    j = 1\n",
    "    while j <= N//i : \n",
    "        flags[(j*i)-1] = 1 if flags[(j*i)-1] == 0 else 0\n",
    "        j+=1\n",
    "        \n",
    "print(sum(flags))"
   ]
  },
  {
   "cell_type": "markdown",
   "metadata": {},
   "source": [
    "### 정답"
   ]
  },
  {
   "cell_type": "markdown",
   "metadata": {},
   "source": [
    "- step이 너무 오래 걸리면 이미 찾은 코드로 하나씩 실행시키면서 규칙 찾기 "
   ]
  },
  {
   "cell_type": "code",
   "execution_count": 70,
   "metadata": {},
   "outputs": [
    {
     "name": "stdout",
     "output_type": "stream",
     "text": [
      "24\n",
      "4\n"
     ]
    }
   ],
   "source": [
    "import math \n",
    "\n",
    "N = int(input())\n",
    "\n",
    "print(int(math.sqrt(N)))"
   ]
  },
  {
   "cell_type": "markdown",
   "metadata": {},
   "source": [
    "# 2017 ERICA Programming Contest League B (초보)\n",
    "\n",
    "https://www.acmicpc.net/category/detail/1856"
   ]
  },
  {
   "cell_type": "markdown",
   "metadata": {},
   "source": [
    "### 14909번"
   ]
  },
  {
   "cell_type": "code",
   "execution_count": 8,
   "metadata": {},
   "outputs": [
    {
     "data": {
      "text/plain": [
       "['A', 'C', 'O', 'Z']"
      ]
     },
     "execution_count": 8,
     "metadata": {},
     "output_type": "execute_result"
    }
   ],
   "source": [
    "nums = map(int, input().split())\n",
    "print(len([n for n in nums if n > 0 ]))"
   ]
  },
  {
   "cell_type": "markdown",
   "metadata": {},
   "source": [
    "### 14910번 오르막"
   ]
  },
  {
   "cell_type": "code",
   "execution_count": 16,
   "metadata": {},
   "outputs": [
    {
     "name": "stdout",
     "output_type": "stream",
     "text": [
      "Good\n"
     ]
    }
   ],
   "source": [
    "nums = list(map(int, input().split()))\n",
    "sorted_nums = sorted(nums)\n",
    "\n",
    "if nums ==  sorted_nums : \n",
    "    print(\"Good\")\n",
    "else :\n",
    "    print(\"Bad\")"
   ]
  },
  {
   "cell_type": "markdown",
   "metadata": {},
   "source": [
    "### 14911번 궁합 쌍 찾기"
   ]
  },
  {
   "cell_type": "code",
   "execution_count": 53,
   "metadata": {},
   "outputs": [
    {
     "name": "stdout",
     "output_type": "stream",
     "text": [
      "15 16 17\n",
      "123\n",
      "0\n"
     ]
    }
   ],
   "source": [
    "nums = list(map(int, input().split()))\n",
    "K = int(input())\n",
    "\n",
    "nums.sort()\n",
    "\n",
    "pairs = []\n",
    "\n",
    "for i, n in enumerate(nums) :\n",
    "    if (K - n) in nums[i+1:] :\n",
    "        pairs.append(f\"{n} {K-n}\")        \n",
    "        \n",
    "pairs = list(set(pairs))\n",
    "pairs.sort()\n",
    "\n",
    "for p in pairs : \n",
    "    print(p)\n",
    "\n",
    "print(len(pairs))"
   ]
  },
  {
   "cell_type": "markdown",
   "metadata": {},
   "source": [
    "### 14912번 숫자 빈도 수 "
   ]
  },
  {
   "cell_type": "code",
   "execution_count": 11,
   "metadata": {},
   "outputs": [
    {
     "name": "stdout",
     "output_type": "stream",
     "text": [
      "100 3\n"
     ]
    }
   ],
   "source": [
    "from collections import Counter \n",
    "N, d = map(int, input().split())\n",
    "\n",
    "cnt_sum = 0\n",
    "for i in range(1, N+1):\n",
    "    cnt = Counter(str(i))\n",
    "    \n",
    "    if cnt[f'{d}']:\n",
    "        cnt_sum += cnt[f'{d}']\n",
    "        \n",
    "print(cnt_sum)"
   ]
  },
  {
   "cell_type": "markdown",
   "metadata": {},
   "source": [
    "### 14913번 등차수열에서 항 번호 찾기"
   ]
  },
  {
   "cell_type": "code",
   "execution_count": 13,
   "metadata": {},
   "outputs": [
    {
     "name": "stdout",
     "output_type": "stream",
     "text": [
      "1 2 9\n"
     ]
    }
   ],
   "source": [
    "a, d, k = map(int, input().split())"
   ]
  },
  {
   "cell_type": "code",
   "execution_count": 14,
   "metadata": {},
   "outputs": [],
   "source": [
    "N = ((k-a)/d) + 1 "
   ]
  },
  {
   "cell_type": "code",
   "execution_count": 20,
   "metadata": {},
   "outputs": [
    {
     "name": "stdout",
     "output_type": "stream",
     "text": [
      "-1 -1 3\n",
      "X\n"
     ]
    }
   ],
   "source": [
    "a, d, k = map(int, input().split())\n",
    "\n",
    "N = ((k-a)/d) + 1 \n",
    "if N <= 0 :\n",
    "    \"\"\"-1 -1 3\"\"\"\n",
    "    print(\"X\")\n",
    "elif N%1 == 0 : \n",
    "    print(int(N))\n",
    "else : \n",
    "    print(\"X\")"
   ]
  },
  {
   "cell_type": "code",
   "execution_count": 19,
   "metadata": {},
   "outputs": [
    {
     "data": {
      "text/plain": [
       "-3.0"
      ]
     },
     "execution_count": 19,
     "metadata": {},
     "output_type": "execute_result"
    }
   ],
   "source": [
    "N"
   ]
  },
  {
   "cell_type": "markdown",
   "metadata": {},
   "source": [
    "### 14914번 사과와 바나나 나눠주기\n",
    "\n",
    "- 약수 구하기 : $\\sqrt{N}$까지\n",
    "- a > b, b < a, a = b\n",
    "- 약수 개수 구하기 = $a^m * b^n -> (m+1)(n+1)$"
   ]
  },
  {
   "cell_type": "code",
   "execution_count": null,
   "metadata": {},
   "outputs": [],
   "source": [
    "a, b = map(int, input().split())\n",
    "\n",
    "small = a if a <= b else b\n",
    "\n",
    "for n in range(1, small + 1):\n",
    "    if (a%n==0) & (b%n==0) : \n",
    "        print(f\"{n} {int(a/n)} {int(b/n)}\")"
   ]
  },
  {
   "cell_type": "markdown",
   "metadata": {},
   "source": [
    "### 14916번 거스름돈\n",
    "\n",
    "- N = 5\\*m + 2\\*n  \n",
    "- 5로 줬을 때 나머지가 2의 배수가 되는 최대값 m"
   ]
  },
  {
   "cell_type": "code",
   "execution_count": 79,
   "metadata": {},
   "outputs": [
    {
     "name": "stdout",
     "output_type": "stream",
     "text": [
      "13\n"
     ]
    }
   ],
   "source": [
    "N = int(input())"
   ]
  },
  {
   "cell_type": "code",
   "execution_count": 80,
   "metadata": {},
   "outputs": [
    {
     "data": {
      "text/plain": [
       "2"
      ]
     },
     "execution_count": 80,
     "metadata": {},
     "output_type": "execute_result"
    }
   ],
   "source": [
    "m = N//5"
   ]
  },
  {
   "cell_type": "code",
   "execution_count": 87,
   "metadata": {},
   "outputs": [],
   "source": [
    "for mm in range(1,m+1):\n",
    "    res = N-(5*mm)\n",
    "\n",
    "    if res%2 ==0 : \n",
    "        max_m = mm"
   ]
  },
  {
   "cell_type": "code",
   "execution_count": 92,
   "metadata": {},
   "outputs": [
    {
     "data": {
      "text/plain": [
       "4"
      ]
     },
     "execution_count": 92,
     "metadata": {},
     "output_type": "execute_result"
    }
   ],
   "source": [
    "max_n = (N - 5*max_m)//2"
   ]
  },
  {
   "cell_type": "code",
   "execution_count": 93,
   "metadata": {},
   "outputs": [
    {
     "name": "stdout",
     "output_type": "stream",
     "text": [
      "5\n"
     ]
    }
   ],
   "source": [
    "print(max_m + max_n)"
   ]
  },
  {
   "cell_type": "code",
   "execution_count": 107,
   "metadata": {},
   "outputs": [
    {
     "name": "stdout",
     "output_type": "stream",
     "text": [
      "12\n",
      "3\n"
     ]
    }
   ],
   "source": [
    "N = int(input())\n",
    "\n",
    "m = N//5\n",
    "max_m = -1\n",
    "for mm in range(1,m+1):\n",
    "    res = N-(5*mm)\n",
    "\n",
    "    if res%2 ==0 : \n",
    "        max_m = mm\n",
    "\n",
    "if max_m != -1 : \n",
    "    max_n = (N - 5*max_m)//2        \n",
    "    print(max_m + max_n)\n",
    "elif N%2 == 0 : \n",
    "    print(N//2)\n",
    "else : \n",
    "    print(-1)"
   ]
  },
  {
   "cell_type": "markdown",
   "metadata": {},
   "source": [
    "### 14915번 진수 변환기\n",
    "\n",
    "10진수 m을 n진수로 변환 "
   ]
  },
  {
   "cell_type": "code",
   "execution_count": 166,
   "metadata": {},
   "outputs": [],
   "source": [
    "def get_scale(m,n, scale=[]):\n",
    "    \"\"\"진수 변환.\"\"\"\n",
    "    \n",
    "    if m // n <= 0 : \n",
    "        scale.append(m)\n",
    "        return scale\n",
    "    \n",
    "    else : \n",
    "        next_m = m//n \n",
    "        scale.append(m%n)\n",
    "        \n",
    "        return get_res(next_m,n, scale=scale)"
   ]
  },
  {
   "cell_type": "code",
   "execution_count": 167,
   "metadata": {},
   "outputs": [
    {
     "name": "stdout",
     "output_type": "stream",
     "text": [
      "248 16\n"
     ]
    },
    {
     "data": {
      "text/plain": [
       "[8, 15]"
      ]
     },
     "execution_count": 167,
     "metadata": {},
     "output_type": "execute_result"
    }
   ],
   "source": [
    "m, n = map(int, input().split())\n",
    "\n",
    "scale = get_scale(m,n)\n",
    "scale"
   ]
  },
  {
   "cell_type": "code",
   "execution_count": 164,
   "metadata": {},
   "outputs": [],
   "source": [
    "if n >= 11 :\n",
    "    for i, s in enumerate(scale) :\n",
    "        if s >= 10 :\n",
    "            scale[i] = chr(s + 55)"
   ]
  },
  {
   "cell_type": "code",
   "execution_count": 165,
   "metadata": {},
   "outputs": [
    {
     "name": "stdout",
     "output_type": "stream",
     "text": [
      "33\n"
     ]
    }
   ],
   "source": [
    "scale = list(map(str, scale))\n",
    "scale_num = ''.join(scale[::-1])\n",
    "print(scale_num)"
   ]
  },
  {
   "cell_type": "code",
   "execution_count": 5,
   "metadata": {},
   "outputs": [
    {
     "name": "stdout",
     "output_type": "stream",
     "text": [
      "28234 15\n",
      "8574\n"
     ]
    }
   ],
   "source": [
    "def get_scale(m,n, scale=[]):\n",
    "    if m // n <= 0 : \n",
    "        scale.append(m)\n",
    "        return scale\n",
    "    \n",
    "    else : \n",
    "        scale.append(m%n)\n",
    "        next_m = m//n \n",
    "        return get_scale(next_m, n, scale=scale)\n",
    "    \n",
    "m, n = map(int, input().split())\n",
    "\n",
    "scale = get_scale(m,n)\n",
    "\n",
    "if n >= 11 :\n",
    "    for i, s in enumerate(scale) :\n",
    "        if s >= 10 :\n",
    "            scale[i] = chr(s + 55)\n",
    "\n",
    "scale = list(map(str, scale))\n",
    "scale_num = ''.join(scale[::-1])\n",
    "print(scale_num)"
   ]
  },
  {
   "cell_type": "code",
   "execution_count": 1,
   "metadata": {},
   "outputs": [
    {
     "ename": "NameError",
     "evalue": "name 'scale' is not defined",
     "output_type": "error",
     "traceback": [
      "\u001b[1;31m---------------------------------------------------------------------------\u001b[0m",
      "\u001b[1;31mNameError\u001b[0m                                 Traceback (most recent call last)",
      "\u001b[1;32m<ipython-input-1-30df1bd21586>\u001b[0m in \u001b[0;36m<module>\u001b[1;34m\u001b[0m\n\u001b[1;32m----> 1\u001b[1;33m \u001b[0mscale\u001b[0m\u001b[1;33m\u001b[0m\u001b[1;33m\u001b[0m\u001b[0m\n\u001b[0m",
      "\u001b[1;31mNameError\u001b[0m: name 'scale' is not defined"
     ]
    }
   ],
   "source": [
    "scale"
   ]
  },
  {
   "cell_type": "markdown",
   "metadata": {},
   "source": [
    "# 2018 ERICA Software-Up Programming Contest League A"
   ]
  },
  {
   "cell_type": "markdown",
   "metadata": {},
   "source": [
    "### 26495번 열 순서\n",
    "\n",
    "- 1~ 26 = A~Z"
   ]
  },
  {
   "cell_type": "code",
   "execution_count": null,
   "metadata": {},
   "outputs": [],
   "source": [
    "column = list(input())\n",
    "\n",
    "alphas = list(map(chr, range(65, 91)))\n",
    "alpha_dict = dict(zip(alphas, range(1, 27)))\n",
    "\n",
    "idx = 0\n",
    "for i, k in enumerate(column[::-1]):\n",
    "    idx += alpha_dict[k]*(26**i)\n",
    "    \n",
    "print(idx)"
   ]
  },
  {
   "cell_type": "markdown",
   "metadata": {},
   "source": [
    "### 16493번 : 최대 페이지 수 \n",
    "\n",
    "- N : 남은 기간 / M : 챕터 수\n",
    "- 독서 소요 일 수, 페이지 수 \n",
    "- 최대 페이지 수 "
   ]
  },
  {
   "cell_type": "code",
   "execution_count": 100,
   "metadata": {},
   "outputs": [
    {
     "name": "stdout",
     "output_type": "stream",
     "text": [
      "8 2\n"
     ]
    }
   ],
   "source": [
    "N, M = map(int, input().split())"
   ]
  },
  {
   "cell_type": "code",
   "execution_count": 101,
   "metadata": {},
   "outputs": [
    {
     "name": "stdout",
     "output_type": "stream",
     "text": [
      "4 321\n",
      "5 600\n"
     ]
    }
   ],
   "source": [
    "day_page = []\n",
    "for _ in range(M):\n",
    "    day, page = map(int, input().split())\n",
    "    day_page.append((day, page))"
   ]
  },
  {
   "cell_type": "code",
   "execution_count": 102,
   "metadata": {},
   "outputs": [
    {
     "data": {
      "text/plain": [
       "[(5, 600), (4, 321)]"
      ]
     },
     "execution_count": 102,
     "metadata": {},
     "output_type": "execute_result"
    }
   ],
   "source": [
    "# 내림차순, page순으로 정리 \n",
    "sorted_day_page = sorted(day_page, key=lambda x : x[1], reverse=True)\n",
    "sorted_day_page = sorted(sorted_day_page, key=lambda x : (x[0],x[1]))\n",
    "sorted_day_page = sorted(sorted_day_page, key=lambda x : x[1], reverse=True)\n",
    "sorted_day_page"
   ]
  },
  {
   "cell_type": "code",
   "execution_count": 103,
   "metadata": {},
   "outputs": [],
   "source": [
    "max_page = 0\n",
    "max_days = 0\n",
    "for d, p in sorted_day_page:\n",
    "    max_days += d\n",
    "    if max_days > N :\n",
    "        break\n",
    "        \n",
    "    if d <= N :  \n",
    "        max_page += p        "
   ]
  },
  {
   "cell_type": "code",
   "execution_count": 104,
   "metadata": {},
   "outputs": [
    {
     "name": "stdout",
     "output_type": "stream",
     "text": [
      "600\n"
     ]
    }
   ],
   "source": [
    "print(max_page)"
   ]
  },
  {
   "cell_type": "code",
   "execution_count": null,
   "metadata": {
    "scrolled": true
   },
   "outputs": [
    {
     "name": "stdout",
     "output_type": "stream",
     "text": [
      "4 260\n",
      "3 250\n",
      "1 90\n",
      "1 50\n",
      "1 50\n"
     ]
    }
   ],
   "source": [
    "N, M = map(int, input().split())\n",
    "\n",
    "day_page = []\n",
    "for _ in range(M):\n",
    "    day, page = map(int, input().split())\n",
    "    day_page.append((day, page))\n",
    "    \n",
    "sorted_day_page = sorted(day_page, key=lambda x : x[1], reverse=True)\n",
    "sorted_day_page = sorted(sorted_day_page, key=lambda x : (x[0],x[1]))\n",
    "sorted_day_page = sorted(sorted_day_page, key=lambda x : x[1], reverse=True)\n",
    "\n",
    "max_page = 0\n",
    "max_days = 0\n",
    "for d, p in sorted_day_page:\n",
    "    if max_days > N :\n",
    "        break\n",
    "        \n",
    "    if (d <= N) & (max_days+d <= N) :  \n",
    "        max_page += p\n",
    "        max_days += d\n",
    "        \n",
    "print(max_page)"
   ]
  },
  {
   "cell_type": "markdown",
   "metadata": {},
   "source": [
    "# 2017 ERICA Programming Contest League A (일반)"
   ]
  },
  {
   "cell_type": "markdown",
   "metadata": {},
   "source": [
    "### 14906번 스러피 \n",
    "\n",
    "정규 표현식 : http://blog.naver.com/PostView.nhn?blogId=dudwo567890&logNo=130162403749"
   ]
  },
  {
   "cell_type": "markdown",
   "metadata": {},
   "source": [
    "**스럼프**\n",
    "- initial : D or E\n",
    "- initial 다음 문자 : F 가 하나 이상\n",
    "- 그 다음 : 스럼프나 'G'\n",
    "\n",
    "**스림프**\n",
    "- initial : A\n",
    "- len == 2 라면, initial 다음 문자 : 'H'\n",
    "- len >= 3 라면, AB, 스림프, C 또는 A 스럼프 C\n",
    "\n",
    "**스러피** \n",
    "- 스림프 + 스럼프"
   ]
  },
  {
   "cell_type": "code",
   "execution_count": 118,
   "metadata": {},
   "outputs": [
    {
     "data": {
      "text/plain": [
       "True"
      ]
     },
     "execution_count": 118,
     "metadata": {},
     "output_type": "execute_result"
    }
   ],
   "source": [
    "import re\n",
    "\n",
    "def check_slump(word):\n",
    "    \"\"\"단어의 스럼프 여부 확인\"\"\"\n",
    "    r = re.match('^E|^DF+G$',word)\n",
    "    return True if r else False\n",
    "\n",
    "def mini_slump(word):\n",
    "    \"\"\"스럼프 안의 스럼프인지 확인\"\"\"\n",
    "    r = re.search('(E|D)F+G$', word)\n",
    "    return True if r else False\n",
    "\n",
    "def make_slump(word):\n",
    "    \"\"\"스럼프를 줄이고 스럼프가 맞는지 확인\"\"\"\n",
    "    while check_slump(word) == False :\n",
    "        if mini_slump(word) == False: \n",
    "            return False \n",
    "        else : \n",
    "            word = re.sub('(E|D)F+G$','G', word)\n",
    "\n",
    "    if check_slump(word) & mini_slump(word): \n",
    "        return True\n",
    "    else :\n",
    "        return False\n",
    "            \n",
    "word = 'DFEFFFFFG'\n",
    "make_slump(word)"
   ]
  },
  {
   "cell_type": "code",
   "execution_count": 110,
   "metadata": {},
   "outputs": [
    {
     "data": {
      "text/plain": [
       "True"
      ]
     },
     "execution_count": 110,
     "metadata": {},
     "output_type": "execute_result"
    }
   ],
   "source": [
    "def check_slimp(word):\n",
    "    \"\"\"단어의 스림프 여부 확인\"\"\"\n",
    "    "
   ]
  },
  {
   "cell_type": "code",
   "execution_count": 108,
   "metadata": {},
   "outputs": [
    {
     "data": {
      "text/plain": [
       "'EFFFFDFG'"
      ]
     },
     "execution_count": 108,
     "metadata": {},
     "output_type": "execute_result"
    }
   ],
   "source": [
    "word = 'A'\n",
    "\n",
    "if (len(word)==1) & (word=='A'):\n",
    "    return True\n",
    "elif (len(word)==2) & (word=='AH'):\n",
    "    return True\n",
    "elif len(word)==3 :\n",
    "    r = re.search('^AB*.*C$','ASDFC' )"
   ]
  },
  {
   "cell_type": "code",
   "execution_count": 134,
   "metadata": {},
   "outputs": [
    {
     "data": {
      "text/plain": [
       "<re.Match object; span=(0, 5), match='ASDFC'>"
      ]
     },
     "execution_count": 134,
     "metadata": {},
     "output_type": "execute_result"
    }
   ],
   "source": [
    "re.search('^AB*.*C$','ASDFC' )"
   ]
  },
  {
   "cell_type": "code",
   "execution_count": null,
   "metadata": {},
   "outputs": [],
   "source": []
  }
 ],
 "metadata": {
  "kernelspec": {
   "display_name": "Python 3",
   "language": "python",
   "name": "python3"
  },
  "language_info": {
   "codemirror_mode": {
    "name": "ipython",
    "version": 3
   },
   "file_extension": ".py",
   "mimetype": "text/x-python",
   "name": "python",
   "nbconvert_exporter": "python",
   "pygments_lexer": "ipython3",
   "version": "3.7.1"
  }
 },
 "nbformat": 4,
 "nbformat_minor": 2
}
