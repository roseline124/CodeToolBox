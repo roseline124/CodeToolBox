{
 "cells": [
  {
   "cell_type": "markdown",
   "metadata": {},
   "source": [
    "### 4673번 : 셀프 넘버"
   ]
  },
  {
   "cell_type": "code",
   "execution_count": 10,
   "metadata": {},
   "outputs": [],
   "source": [
    "def d(n) :\n",
    "    strings = str(n)\n",
    "    numbers = [int(s) for s in strings]\n",
    "    \n",
    "    _next = sum(numbers) + n \n",
    "    \n",
    "    return _next"
   ]
  },
  {
   "cell_type": "code",
   "execution_count": 26,
   "metadata": {},
   "outputs": [],
   "source": [
    "def selfNumber(num) :\n",
    "    createdNum = [ d(n) for n in range(num)]\n",
    "    selfNum = [n for n in range(num) if n not in createdNum]\n",
    "    \n",
    "    for sn in selfNum : \n",
    "        print(sn)\n",
    "        \n",
    "selfNumber(10000)"
   ]
  },
  {
   "cell_type": "markdown",
   "metadata": {},
   "source": [
    "### 1065번"
   ]
  },
  {
   "cell_type": "markdown",
   "metadata": {},
   "source": [
    "https://www.acmicpc.net/board/view/25689"
   ]
  },
  {
   "cell_type": "code",
   "execution_count": 15,
   "metadata": {},
   "outputs": [],
   "source": [
    "num = int(input())\n",
    "hansu = 0\n",
    "\n",
    "for n in range(1, num+1) :\n",
    "    if n <= 99 :\n",
    "        hansu += 1\n",
    "    \n",
    "    else :     \n",
    "        nums = list(map(int, str(n)))\n",
    "        if nums[0] - nums[1] == nums[1] - nums[2] : \n",
    "            hansu+=1"
   ]
  },
  {
   "cell_type": "code",
   "execution_count": 16,
   "metadata": {},
   "outputs": [
    {
     "data": {
      "text/plain": [
       "99"
      ]
     },
     "execution_count": 16,
     "metadata": {},
     "output_type": "execute_result"
    }
   ],
   "source": [
    "hansu"
   ]
  },
  {
   "cell_type": "code",
   "execution_count": 11,
   "metadata": {},
   "outputs": [
    {
     "data": {
      "text/plain": [
       "['100']"
      ]
     },
     "execution_count": 11,
     "metadata": {},
     "output_type": "execute_result"
    }
   ],
   "source": [
    "str(100).split()"
   ]
  },
  {
   "cell_type": "code",
   "execution_count": 9,
   "metadata": {},
   "outputs": [
    {
     "ename": "IndexError",
     "evalue": "list index out of range",
     "output_type": "error",
     "traceback": [
      "\u001b[1;31m---------------------------------------------------------------------------\u001b[0m",
      "\u001b[1;31mIndexError\u001b[0m                                Traceback (most recent call last)",
      "\u001b[1;32m<ipython-input-9-efd87b1ba152>\u001b[0m in \u001b[0;36m<module>\u001b[1;34m\u001b[0m\n\u001b[0;32m      1\u001b[0m \u001b[1;32mfor\u001b[0m \u001b[0mi\u001b[0m\u001b[1;33m,\u001b[0m\u001b[0mn\u001b[0m \u001b[1;32min\u001b[0m \u001b[0menumerate\u001b[0m\u001b[1;33m(\u001b[0m\u001b[0msl\u001b[0m\u001b[1;33m)\u001b[0m \u001b[1;33m:\u001b[0m\u001b[1;33m\u001b[0m\u001b[1;33m\u001b[0m\u001b[0m\n\u001b[1;32m----> 2\u001b[1;33m     \u001b[0msl\u001b[0m\u001b[1;33m[\u001b[0m\u001b[0mi\u001b[0m\u001b[1;33m]\u001b[0m \u001b[1;33m-\u001b[0m \u001b[0msl\u001b[0m\u001b[1;33m[\u001b[0m\u001b[0mi\u001b[0m\u001b[1;33m+\u001b[0m\u001b[1;36m1\u001b[0m\u001b[1;33m]\u001b[0m\u001b[1;33m\u001b[0m\u001b[1;33m\u001b[0m\u001b[0m\n\u001b[0m",
      "\u001b[1;31mIndexError\u001b[0m: list index out of range"
     ]
    }
   ],
   "source": [
    "for i,n in enumerate(sl) : \n",
    "    sl[i] - sl[i+1]"
   ]
  },
  {
   "cell_type": "markdown",
   "metadata": {},
   "source": [
    "### 2448번"
   ]
  },
  {
   "cell_type": "code",
   "execution_count": 15,
   "metadata": {},
   "outputs": [
    {
     "name": "stdout",
     "output_type": "stream",
     "text": [
      "*\n",
      " *\n",
      "***\n"
     ]
    }
   ],
   "source": [
    "print('*')\n",
    "print(' *')\n",
    "print('***')"
   ]
  },
  {
   "cell_type": "code",
   "execution_count": 25,
   "metadata": {},
   "outputs": [
    {
     "data": {
      "text/plain": [
       "49"
      ]
     },
     "execution_count": 25,
     "metadata": {},
     "output_type": "execute_result"
    }
   ],
   "source": [
    "len(\"                       *                         \")"
   ]
  },
  {
   "cell_type": "code",
   "execution_count": 19,
   "metadata": {},
   "outputs": [
    {
     "name": "stdout",
     "output_type": "stream",
     "text": [
      "24\n"
     ]
    }
   ],
   "source": [
    "n = int(input())\n",
    "space = n*2"
   ]
  },
  {
   "cell_type": "code",
   "execution_count": 29,
   "metadata": {},
   "outputs": [
    {
     "name": "stdout",
     "output_type": "stream",
     "text": [
      "                        *                        \n",
      "                       * *                       \n",
      "                      *****                      \n"
     ]
    }
   ],
   "source": [
    "print(n*' ' + '*' + n*' ')\n",
    "print((n-1)*' ' + '*' +' '+ '*'+ (n-1)*' ')\n",
    "print((n-2)*' ' + '*'*5 + (n-2)*' ')"
   ]
  },
  {
   "cell_type": "code",
   "execution_count": 32,
   "metadata": {},
   "outputs": [
    {
     "name": "stdout",
     "output_type": "stream",
     "text": [
      "                        *                        \n",
      "                       * *                       \n",
      "                      *****                      \n"
     ]
    }
   ],
   "source": [
    "def reStar(n) : \n",
    "    print(n*' ' + '*' + n*' ')\n",
    "    print((n-1)*' ' + '*' +' '+ '*'+ (n-1)*' ')\n",
    "    print((n-2)*' ' + '*'*5 + (n-2)*' ')  \n",
    "reStar(24)"
   ]
  },
  {
   "cell_type": "code",
   "execution_count": 34,
   "metadata": {},
   "outputs": [
    {
     "name": "stdout",
     "output_type": "stream",
     "text": [
      "                     *                     \n",
      "                    * *                    \n",
      "                   *****                   \n",
      "                     *                     \n",
      "                    * *                    \n",
      "                   *****                   \n",
      "None None"
     ]
    }
   ],
   "source": [
    "print(reStar(21), reStar(21), end=\"\")"
   ]
  },
  {
   "cell_type": "code",
   "execution_count": 49,
   "metadata": {},
   "outputs": [
    {
     "name": "stdout",
     "output_type": "stream",
     "text": [
      "                     *\n",
      "                    * *\n",
      "                   *****\n",
      "                  *\n",
      "                 * *\n",
      "                ******                         \n",
      "                        * *\n",
      "                       *****\n"
     ]
    }
   ],
   "source": [
    "n=21\n",
    "print(n*' ' + '*')\n",
    "print((n-1)*' ' + '* *')\n",
    "print((n-2)*' ' + '*'*5 )  \n",
    "star1 = n*' ' + '*'\n",
    "star2 = (n-1)*' ' + '* *'\n",
    "star3 = (n-2)*' ' + '*'*5\n",
    "\n",
    "\n",
    "n = 18\n",
    "print(n*' ' + '*')\n",
    "print((n-1)*' ' + '* *')\n",
    "print((n-2)*' ' + '*'*5 , end=\"\") \n",
    "\n",
    "n = 25\n",
    "print('*'+n*' ' )\n",
    "print((n-1)*' ' + '* *')\n",
    "print((n-2)*' ' + '*'*5 ) "
   ]
  },
  {
   "cell_type": "code",
   "execution_count": 66,
   "metadata": {},
   "outputs": [
    {
     "ename": "TypeError",
     "evalue": "unsupported operand type(s) for +: 'int' and 'str'",
     "output_type": "error",
     "traceback": [
      "\u001b[1;31m---------------------------------------------------------------------------\u001b[0m",
      "\u001b[1;31mTypeError\u001b[0m                                 Traceback (most recent call last)",
      "\u001b[1;32m<ipython-input-66-49ef4da6693b>\u001b[0m in \u001b[0;36m<module>\u001b[1;34m\u001b[0m\n\u001b[1;32m----> 1\u001b[1;33m \u001b[0mstar1\u001b[0m \u001b[1;33m=\u001b[0m \u001b[0mn\u001b[0m\u001b[1;33m+\u001b[0m\u001b[1;36m3\u001b[0m\u001b[1;33m*\u001b[0m\u001b[1;34m' '\u001b[0m \u001b[1;33m+\u001b[0m \u001b[1;34m'*'\u001b[0m\u001b[1;33m\u001b[0m\u001b[1;33m\u001b[0m\u001b[0m\n\u001b[0m\u001b[0;32m      2\u001b[0m \u001b[0mstar2\u001b[0m \u001b[1;33m=\u001b[0m \u001b[1;33m(\u001b[0m\u001b[0mn\u001b[0m\u001b[1;33m-\u001b[0m\u001b[1;36m4\u001b[0m\u001b[1;33m)\u001b[0m\u001b[1;33m*\u001b[0m\u001b[1;34m' '\u001b[0m \u001b[1;33m+\u001b[0m \u001b[1;34m'* *'\u001b[0m\u001b[1;33m\u001b[0m\u001b[1;33m\u001b[0m\u001b[0m\n\u001b[0;32m      3\u001b[0m \u001b[0mstar3\u001b[0m \u001b[1;33m=\u001b[0m \u001b[1;33m(\u001b[0m\u001b[0mn\u001b[0m\u001b[1;33m-\u001b[0m\u001b[1;36m5\u001b[0m\u001b[1;33m)\u001b[0m\u001b[1;33m*\u001b[0m\u001b[1;34m' '\u001b[0m \u001b[1;33m+\u001b[0m \u001b[1;34m'*'\u001b[0m\u001b[1;33m*\u001b[0m\u001b[1;36m5\u001b[0m\u001b[1;33m\u001b[0m\u001b[1;33m\u001b[0m\u001b[0m\n",
      "\u001b[1;31mTypeError\u001b[0m: unsupported operand type(s) for +: 'int' and 'str'"
     ]
    }
   ],
   "source": [
    "star1 = n+3*' ' + '*'\n",
    "star2 = (n-4)*' ' + '* *'\n",
    "star3 = (n-5)*' ' + '*'*5"
   ]
  },
  {
   "cell_type": "code",
   "execution_count": 47,
   "metadata": {},
   "outputs": [
    {
     "name": "stdout",
     "output_type": "stream",
     "text": [
      "                         *\n",
      "                        * *\n",
      "                       *****\n"
     ]
    }
   ],
   "source": [
    "print(star1)\n",
    "print(star2)\n",
    "print(star3)"
   ]
  },
  {
   "cell_type": "code",
   "execution_count": 102,
   "metadata": {},
   "outputs": [
    {
     "name": "stdout",
     "output_type": "stream",
     "text": [
      "                            *\n",
      "                           * *\n",
      "                          *****\n",
      "                         *     *                         \n",
      "                        * *   * *                          \n",
      "                       ***** *****                       \n",
      "                      *           *                      \n",
      "                     * *         * *                             \n",
      "                    *****       *****                    \n",
      "                   *     *                   \n",
      "                  * *   * *                                \n",
      "                 ***** *****                 \n",
      "                *     *                \n",
      "               * *   * *                                   \n",
      "              ***** *****              \n"
     ]
    }
   ],
   "source": [
    "print(' '*6, star1)\n",
    "print(' '*6, star2)\n",
    "print(' '*6, star3)\n",
    "\n",
    "print(n*' ' + '*', end=\" \"*5)\n",
    "print('*'+ n*' ')\n",
    "\n",
    "print((n-1)*' ' + '* *', end=\" \"*3)\n",
    "print('* *'+(n+1)*' ')\n",
    "\n",
    "print((n-2)*' ' + '*'*5, end=\" \") \n",
    "print('*'*5 + (n-2)*' ') \n",
    "\n",
    "\n",
    "\n",
    "\n",
    "print((n-3)*' ' + '*', end=\" \"*11)\n",
    "print('*'+ (n-3)*' ')\n",
    "\n",
    "print((n-4)*' ' + '* *', end=\" \"*9)\n",
    "print('* *'+(n+4)*' ')\n",
    "\n",
    "print((n-5)*' ' + '*'*5, end=\" \"*7) \n",
    "print('*'*5 + (n-5)*' ') \n",
    "\n",
    "\n",
    "print((n-6)*' ' + '*', end=\" \"*5)\n",
    "print('*'+ (n-6)*' ')\n",
    "\n",
    "print((n-7)*' ' + '* *', end=\" \"*3)\n",
    "print('* *'+(n+7)*' ')\n",
    "\n",
    "print((n-8)*' ' + '*'*5, end=\" \") \n",
    "print('*'*5 + (n-8)*' ') \n",
    "\n",
    "\n",
    "print((n-9)*' ' + '*', end=\" \"*5)\n",
    "print('*'+ (n-9)*' ')\n",
    "\n",
    "print((n-10)*' ' + '* *', end=\" \"*3)\n",
    "print('* *'+(n+10)*' ')\n",
    "\n",
    "print((n-11)*' ' + '*'*5, end=\" \") \n",
    "print('*'*5 + (n-11)*' ') "
   ]
  },
  {
   "cell_type": "code",
   "execution_count": 135,
   "metadata": {},
   "outputs": [],
   "source": [
    "def reStar(n) :    \n",
    " \n",
    "    print(n*' ' + '*', end=\" \"*5)\n",
    "    print('*'+ n*' ')\n",
    "\n",
    "    print((n-1)*' ' + '* *', end=\" \"*3)\n",
    "    print('* *'+(n+1)*' ')\n",
    "\n",
    "    print((n-2)*' ' + '*'*5, end=\" \") \n",
    "    print('*'*5 + (n-2)*' ') \n",
    "    n -= 1\n",
    "\n",
    "    if n > 0 :\n",
    "        reStar(n-3)"
   ]
  },
  {
   "cell_type": "code",
   "execution_count": 136,
   "metadata": {},
   "outputs": [
    {
     "name": "stdout",
     "output_type": "stream",
     "text": [
      "      *     *      \n",
      "     * *   * *       \n",
      "    ***** *****    \n",
      "  *     *  \n",
      " * *   * *   \n",
      "***** *****\n",
      "*     *\n",
      "* *   * *\n",
      "***** *****\n"
     ]
    }
   ],
   "source": [
    "reStar(6)"
   ]
  },
  {
   "cell_type": "code",
   "execution_count": 24,
   "metadata": {},
   "outputs": [],
   "source": [
    "f1 = \"  *  \"\n",
    "f2 = \" * * \"\n",
    "f3 = \"*****\""
   ]
  },
  {
   "cell_type": "code",
   "execution_count": 25,
   "metadata": {},
   "outputs": [
    {
     "name": "stdout",
     "output_type": "stream",
     "text": [
      "  *  \n",
      " * * \n",
      "*****\n"
     ]
    }
   ],
   "source": [
    "print(f1)\n",
    "print(f2)\n",
    "print(f3)"
   ]
  },
  {
   "cell_type": "code",
   "execution_count": 46,
   "metadata": {},
   "outputs": [],
   "source": [
    "def star(n):\n",
    "    f1 = \"  *  \"\n",
    "    f2 = \" * * \"\n",
    "    f3 = \"*****\"\n",
    "    stars = [f1, f2, f3]\n",
    "    \n",
    "    for s in stars :\n",
    "        print(n*\" \"+s+\" \"*n)"
   ]
  },
  {
   "cell_type": "code",
   "execution_count": 47,
   "metadata": {},
   "outputs": [
    {
     "name": "stdout",
     "output_type": "stream",
     "text": [
      "                          *                          \n",
      "                         * *                         \n",
      "                        *****                        \n"
     ]
    }
   ],
   "source": [
    "star(24)"
   ]
  },
  {
   "cell_type": "code",
   "execution_count": 101,
   "metadata": {},
   "outputs": [],
   "source": [
    "def star(n):\n",
    "    f1 = \"*\"\n",
    "    f2 = \"* *\"\n",
    "    f3 = \"*****\"\n",
    "    \n",
    "    star1 = (\" \"*n + f1)\n",
    "    star2 = (\" \"*(n-1) + f2)   \n",
    "    star3 = (\" \"*(n-2) + f3)  \n",
    "    m = len(f3)\n",
    "    print(star1, end=\" \"*m)\n",
    "    print(f1)\n",
    "    print(star2, end=\" \"*(m-2)) \n",
    "    print(f2)\n",
    "    print(star3, end=\" \"*(m-4))\n",
    "    print(f3)"
   ]
  },
  {
   "cell_type": "code",
   "execution_count": 1,
   "metadata": {},
   "outputs": [],
   "source": [
    "# k = list(map(lambda x : (3*(2**(x)) +1 ), range(10) ))\n",
    "k = list(map(lambda x : 2**(x), range(1, 11) ))\n",
    "def star(n , i):\n",
    "    if n != 0 : \n",
    "        f1 = \"*\"\n",
    "        f2 = \"* *\" \n",
    "        f3 = \"*****\"\n",
    "        m = len(f3)\n",
    "\n",
    "#         if i in k :\n",
    "        star1 = (\" \"*n + f1 + \" \"*m + f1)\n",
    "        star2 = (\" \"*(n-1) +f2+ \" \"*(m-2) + f2)   \n",
    "        star3 = (\" \"*(n-2) +f3+ \" \"*(m-4) +f3) \n",
    "#         else :\n",
    "#             star1 = (\" \"*n + f1 + \" \"*m )\n",
    "#             star2 = (\" \"*(n-1) +f2+ \" \"*(m-2))   \n",
    "#             star3 = (\" \"*(n-2) +f3+ \" \"*(m-4) )             \n",
    "        print(star1)\n",
    "        print(star2)\n",
    "        print(star3)\n",
    "\n",
    "        n -= 3\n",
    "        i += 1\n",
    "        star(n , i)"
   ]
  },
  {
   "cell_type": "code",
   "execution_count": 2,
   "metadata": {},
   "outputs": [
    {
     "name": "stdout",
     "output_type": "stream",
     "text": [
      "                        *     *\n",
      "                       * *   * *\n",
      "                      ***** *****\n",
      "                     *     *\n",
      "                    * *   * *\n",
      "                   ***** *****\n",
      "                  *     *\n",
      "                 * *   * *\n",
      "                ***** *****\n",
      "               *     *\n",
      "              * *   * *\n",
      "             ***** *****\n",
      "            *     *\n",
      "           * *   * *\n",
      "          ***** *****\n",
      "         *     *\n",
      "        * *   * *\n",
      "       ***** *****\n",
      "      *     *\n",
      "     * *   * *\n",
      "    ***** *****\n",
      "   *     *\n",
      "  * *   * *\n",
      " ***** *****\n"
     ]
    }
   ],
   "source": [
    "star(24, 1)"
   ]
  },
  {
   "cell_type": "code",
   "execution_count": 88,
   "metadata": {},
   "outputs": [
    {
     "data": {
      "text/plain": [
       "[4, 7, 13, 25, 49, 97, 193, 385, 769, 1537]"
      ]
     },
     "execution_count": 88,
     "metadata": {},
     "output_type": "execute_result"
    }
   ],
   "source": [
    "k = list(map(lambda x : (3*(2**(x)) +1 ), range(10) ))\n",
    "k"
   ]
  },
  {
   "cell_type": "code",
   "execution_count": 78,
   "metadata": {},
   "outputs": [
    {
     "data": {
      "text/plain": [
       "[2, 4, 8, 16, 32, 64, 128, 256, 512, 1024]"
      ]
     },
     "execution_count": 78,
     "metadata": {},
     "output_type": "execute_result"
    }
   ],
   "source": [
    "k = list(map(lambda x : 2**(x), range(1, 11) ))\n",
    "k"
   ]
  },
  {
   "cell_type": "code",
   "execution_count": 8,
   "metadata": {},
   "outputs": [],
   "source": [
    "def star(n) :\n",
    "    f1 = \"  *  \"\n",
    "    f2 = \" * * \"    \n",
    "    f3 = \"*****\"\n",
    "    print( \" \"*(n-2) + f1 + \" \"*(n-2))\n",
    "    print( \" \"*(n-2) + f2 + \" \"*(n-2))\n",
    "    print( \" \"*(n-2) + f3 + \" \"*(n-2))"
   ]
  },
  {
   "cell_type": "code",
   "execution_count": 9,
   "metadata": {},
   "outputs": [
    {
     "name": "stdout",
     "output_type": "stream",
     "text": [
      "                        *                        \n",
      "                       * *                       \n",
      "                      *****                      \n"
     ]
    }
   ],
   "source": [
    "star(24)"
   ]
  },
  {
   "cell_type": "code",
   "execution_count": 10,
   "metadata": {},
   "outputs": [],
   "source": [
    "def re_star(n) :\n",
    "    f1 = \"  *  \"\n",
    "    f2 = \" * * \"    \n",
    "    f3 = \"*****\"\n",
    "    print( \" \"*(n-5) + f1 + \" \"*(n-5))\n",
    "    print( \" \"*(n-5) + f2 + \" \"*(n-5))\n",
    "    print( \" \"*(n-5) + f3 + \" \"*(n-5))\n",
    "\n",
    "    \n",
    "    "
   ]
  },
  {
   "cell_type": "code",
   "execution_count": 12,
   "metadata": {},
   "outputs": [
    {
     "name": "stdout",
     "output_type": "stream",
     "text": [
      "                        *                        \n",
      "                       * *                       \n",
      "                      *****                      \n",
      "                     *                     \n",
      "                    * *                    \n",
      "                   *****                   \n"
     ]
    }
   ],
   "source": [
    "star(24)\n",
    "re_star(24)"
   ]
  },
  {
   "cell_type": "code",
   "execution_count": null,
   "metadata": {},
   "outputs": [],
   "source": []
  }
 ],
 "metadata": {
  "kernelspec": {
   "display_name": "Python 3",
   "language": "python",
   "name": "python3"
  },
  "language_info": {
   "codemirror_mode": {
    "name": "ipython",
    "version": 3
   },
   "file_extension": ".py",
   "mimetype": "text/x-python",
   "name": "python",
   "nbconvert_exporter": "python",
   "pygments_lexer": "ipython3",
   "version": "3.7.1"
  }
 },
 "nbformat": 4,
 "nbformat_minor": 2
}
