{
 "cells": [
  {
   "cell_type": "markdown",
   "metadata": {},
   "source": [
    "# First Class Function\n",
    "\n",
    "함수 자체를 **인자 (argument) 로써 다른 함수에 전달**하거나 <br>\n",
    "**다른 함수의 결과값으로 리턴**할수도 있고, <br>\n",
    "**함수를 변수에 할당하거나 데이터 구조안에 저장**할 수 있는 함수\n",
    "\n",
    "\n",
    "<hr>\n",
    "\n",
    "파이썬의 함수는 first class 이다.\n",
    "프로그래밍 언어 이론가들은 다음과 같은 작업을 수행할 수 있으면 프로그램 개체를 first-class 로 정의한다.\n",
    "- 런타임에 생성할 수 있다\n",
    "- 데이터 구조체의 변수나 요소에 할당할 수 있다.\n",
    "- 함수 인수로 전달할 수 있다.\n",
    "- 함수 결과로 리턴할 수 있다.\n",
    "\n",
    "'first class object 로서의 함수' 를 줄여서 'first class function' 이라는 용어가 널리 사용되지만,\n",
    "사실상 파이썬에서 모든 함수는 first-class 이다.\n",
    "\n",
    "from Fluent-Python\n",
    "\n",
    "<hr>\n",
    "\n",
    "\"\"\"\n",
    "first class function 이 따로 있는것이 아니라,\n",
    "모든 python function 이 first class 이며, 그 성질로서 사용이 가능하다\n",
    "\"\"\""
   ]
  },
  {
   "cell_type": "code",
   "execution_count": 1,
   "metadata": {},
   "outputs": [
    {
     "name": "stdout",
     "output_type": "stream",
     "text": [
      "25\n",
      "<function square at 0x000001E7E127F950>\n",
      "<function square at 0x000001E7E127F950>\n"
     ]
    }
   ],
   "source": [
    "def square(x):\n",
    "    return x * x\n",
    "\n",
    "print(square(5))\n",
    "\n",
    "f = square\n",
    "\n",
    "print(square)\n",
    "print(f)"
   ]
  },
  {
   "cell_type": "code",
   "execution_count": 2,
   "metadata": {},
   "outputs": [
    {
     "data": {
      "text/plain": [
       "25"
      ]
     },
     "execution_count": 2,
     "metadata": {},
     "output_type": "execute_result"
    }
   ],
   "source": [
    "f(5)"
   ]
  },
  {
   "cell_type": "code",
   "execution_count": 3,
   "metadata": {},
   "outputs": [
    {
     "data": {
      "text/plain": [
       "[0, 1, 4, 9, 16, 25, 36, 49, 64, 81]"
      ]
     },
     "execution_count": 3,
     "metadata": {},
     "output_type": "execute_result"
    }
   ],
   "source": [
    "def my_map(func, args) :\n",
    "    result = []\n",
    "    \n",
    "    for i in args :\n",
    "        result.append(func(i)) #인자로 함수를 전달할 수 있다.\n",
    "    \n",
    "    return result\n",
    "\n",
    "num_list = list(range(10))\n"
   ]
  },
  {
   "cell_type": "markdown",
   "metadata": {},
   "source": [
    "### First Class Function 을 활용하면 좋은 점\n",
    "\n",
    "다양한 함수를 인자로 넣어 재활용할 수 있다.\n",
    "\n",
    "apply, map, sort 의 key 옵션 등 "
   ]
  },
  {
   "cell_type": "code",
   "execution_count": 4,
   "metadata": {},
   "outputs": [
    {
     "name": "stdout",
     "output_type": "stream",
     "text": [
      "square : [0, 1, 4, 9, 16, 25, 36, 49, 64, 81]\n",
      "cube : [0, 1, 8, 27, 64, 125, 216, 343, 512, 729]\n",
      "quad : [0, 1, 16, 81, 256, 625, 1296, 2401, 4096, 6561]\n"
     ]
    }
   ],
   "source": [
    "def square(x):\n",
    "    return x * x\n",
    "\n",
    "def cube(x):\n",
    "    return x * x * x\n",
    "\n",
    "def quad(x):\n",
    "    return x * x * x * x\n",
    "\n",
    "\n",
    "square_list = my_map(square, num_list)\n",
    "print(\"square :\",square_list)\n",
    "\n",
    "cube_list = my_map(cube, num_list)\n",
    "print(\"cube :\",cube_list)\n",
    "\n",
    "quad_list = my_map(quad, num_list)\n",
    "print(\"quad :\",quad_list)"
   ]
  },
  {
   "cell_type": "markdown",
   "metadata": {},
   "source": [
    "### Closure Function\n",
    "\n",
    "클로저는 다른 함수의 지역변수를 그 함수가 종료된 이후에도 기억한다"
   ]
  },
  {
   "cell_type": "code",
   "execution_count": 7,
   "metadata": {},
   "outputs": [
    {
     "name": "stdout",
     "output_type": "stream",
     "text": [
      "<function logger.<locals>.log_message at 0x000001E7E127F620>\n",
      "Log:  Hi\n",
      "NameError: logger는 존재하지 않습니다.\n",
      "Log:  Hi\n"
     ]
    }
   ],
   "source": [
    "def logger(msg):\n",
    "    \n",
    "    def log_message(): #1\n",
    "        print('Log: ', msg)\n",
    "    \n",
    "    return log_message\n",
    "\n",
    "log_hi = logger('Hi')\n",
    "print(log_hi) # log_message 오브젝트 출력\n",
    "log_hi() # \"Log: Hi\"\n",
    "\n",
    "del logger #logger 함수 삭제.\n",
    "\n",
    "# logger 오브젝트의 존재를 확인\n",
    "try:\n",
    "    print(logger)\n",
    "except NameError:\n",
    "    print('NameError: logger는 존재하지 않습니다.')\n",
    "\n",
    "log_hi() # logger가 지워진 뒤에도 Log: Hi\"가 출력된다."
   ]
  },
  {
   "cell_type": "markdown",
   "metadata": {},
   "source": [
    "함수를 마치 클래스처럼 사용하여 생산성을 높일 수 있다."
   ]
  },
  {
   "cell_type": "code",
   "execution_count": 9,
   "metadata": {},
   "outputs": [
    {
     "name": "stdout",
     "output_type": "stream",
     "text": [
      "<h1>심플 헤딩 타이틀<h1>\n",
      "------------------------------\n",
      "<function html_tag.<locals>.wrap_text at 0x000001E7E12BE620>\n",
      "<h1>첫 번째 헤딩 타이틀<h1>\n",
      "<h1>두 번째 헤딩 타이틀<h1>\n",
      "<p>이것은 패러그래프 입니다.<p>\n"
     ]
    }
   ],
   "source": [
    "# -*- coding: utf-8 -*-\n",
    "# 단순한 일반 함수\n",
    "def simple_html_tag(tag, msg):\n",
    "    print('<{0}>{1}<{0}>'.format(tag, msg))\n",
    "    \n",
    "simple_html_tag('h1', '심플 헤딩 타이틀')\n",
    "\n",
    "print('-'*30)\n",
    "\n",
    "#######################\n",
    "\n",
    "# 함수를 리턴하는 함수\n",
    "def html_tag(tag):\n",
    "    \n",
    "    def wrap_text(msg):\n",
    "        print('<{0}>{1}<{0}>'.format(tag, msg))\n",
    "        \n",
    "    return wrap_text\n",
    "\n",
    "print_h1 = html_tag('h1') #1\n",
    "print(print_h1) #2\n",
    "print_h1('첫 번째 헤딩 타이틀') #3\n",
    "print_h1('두 번째 헤딩 타이틀') #4\n",
    "\n",
    "print_p = html_tag('p')\n",
    "print_p('이것은 패러그래프 입니다.')"
   ]
  },
  {
   "cell_type": "markdown",
   "metadata": {},
   "source": [
    "# Closure function\n",
    "\n",
    "[클로저 함수 - 스쿨오브웹](http://schoolofweb.net/blog/posts/%ED%8C%8C%EC%9D%B4%EC%8D%AC-%ED%81%B4%EB%A1%9C%EC%A0%80-closure/)"
   ]
  },
  {
   "cell_type": "code",
   "execution_count": 12,
   "metadata": {},
   "outputs": [
    {
     "name": "stdout",
     "output_type": "stream",
     "text": [
      "<function outer_func.<locals>.inner_func at 0x000001E7E1559EA0>\n",
      "\n",
      "['__annotations__', '__call__', '__class__', '__closure__', '__code__', '__defaults__', '__delattr__', '__dict__', '__dir__', '__doc__', '__eq__', '__format__', '__ge__', '__get__', '__getattribute__', '__globals__', '__gt__', '__hash__', '__init__', '__init_subclass__', '__kwdefaults__', '__le__', '__lt__', '__module__', '__name__', '__ne__', '__new__', '__qualname__', '__reduce__', '__reduce_ex__', '__repr__', '__setattr__', '__sizeof__', '__str__', '__subclasshook__']\n",
      "\n",
      "<class 'tuple'>\n",
      "\n",
      "(<cell at 0x000001E7E13D89A8: str object at 0x000001E7E1626EA0>,)\n",
      "\n",
      "<cell at 0x000001E7E13D89A8: str object at 0x000001E7E1626EA0>\n",
      "\n",
      "['__class__', '__delattr__', '__dir__', '__doc__', '__eq__', '__format__', '__ge__', '__getattribute__', '__gt__', '__hash__', '__init__', '__init_subclass__', '__le__', '__lt__', '__ne__', '__new__', '__reduce__', '__reduce_ex__', '__repr__', '__setattr__', '__sizeof__', '__str__', '__subclasshook__', 'cell_contents']\n",
      "\n",
      "Hi\n"
     ]
    }
   ],
   "source": [
    "def outer_func():  #1\n",
    "    message = 'Hi'  #3\n",
    "\n",
    "    def inner_func():  #4\n",
    "        print(message)  #6\n",
    "\n",
    "    return inner_func  #5\n",
    "\n",
    "my_func = outer_func()  #2\n",
    "\n",
    "print(my_func)  #7\n",
    "print()\n",
    "print(dir(my_func))  #8\n",
    "print()\n",
    "print(type(my_func.__closure__)) #9\n",
    "print()\n",
    "print(my_func.__closure__)  #10\n",
    "print()\n",
    "print(my_func.__closure__[0])  #11\n",
    "print()\n",
    "print(dir(my_func.__closure__[0]))  #12\n",
    "print()\n",
    "print(my_func.__closure__[0].cell_contents)  #13"
   ]
  },
  {
   "cell_type": "code",
   "execution_count": 13,
   "metadata": {},
   "outputs": [
    {
     "name": "stdout",
     "output_type": "stream",
     "text": [
      "<h1>Some text<h1>\n",
      "<p>Some text<p>\n"
     ]
    }
   ],
   "source": [
    "def outer_func(tag):  #1\n",
    "    text = 'Some text'  #5\n",
    "    tag = tag  #6\n",
    "\n",
    "    def inner_func():  #7\n",
    "        print('<{0}>{1}<{0}>'.format(tag, text))  #9\n",
    "\n",
    "    return inner_func  #8\n",
    "\n",
    "h1_func = outer_func('h1')  #2\n",
    "p_func = outer_func('p')  #3\n",
    "\n",
    "h1_func()  #4\n",
    "p_func()  #10"
   ]
  },
  {
   "cell_type": "code",
   "execution_count": 14,
   "metadata": {},
   "outputs": [
    {
     "name": "stdout",
     "output_type": "stream",
     "text": [
      "<h1>h1태그의 안입니다.<h1>\n",
      "<p>p태그의 안입니다.<p>\n"
     ]
    }
   ],
   "source": [
    "def outer_func(tag):  #1\n",
    "    tag = tag  #5\n",
    "\n",
    "    def inner_func(txt):  #6\n",
    "        text = txt  #8\n",
    "        print('<{0}>{1}<{0}>'.format(tag, text))  #9\n",
    "\n",
    "    return inner_func  #7\n",
    "\n",
    "h1_func = outer_func('h1')  #2\n",
    "p_func = outer_func('p')  #3\n",
    "\n",
    "h1_func('h1태그의 안입니다.')  #4\n",
    "p_func('p태그의 안입니다.')  #10"
   ]
  },
  {
   "cell_type": "code",
   "execution_count": null,
   "metadata": {},
   "outputs": [],
   "source": []
  }
 ],
 "metadata": {
  "kernelspec": {
   "display_name": "Python 3",
   "language": "python",
   "name": "python3"
  },
  "language_info": {
   "codemirror_mode": {
    "name": "ipython",
    "version": 3
   },
   "file_extension": ".py",
   "mimetype": "text/x-python",
   "name": "python",
   "nbconvert_exporter": "python",
   "pygments_lexer": "ipython3",
   "version": "3.7.1"
  }
 },
 "nbformat": 4,
 "nbformat_minor": 2
}
