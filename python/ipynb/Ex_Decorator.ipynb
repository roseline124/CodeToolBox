{
 "cells": [
  {
   "cell_type": "markdown",
   "metadata": {},
   "source": [
    "### 데코레이터 만들기"
   ]
  },
  {
   "cell_type": "code",
   "execution_count": 16,
   "metadata": {},
   "outputs": [],
   "source": [
    "def oil(func) : \n",
    "    def fire() :\n",
    "        print(\"불이야~!\")\n",
    "        \n",
    "        return func() \n",
    "\n",
    "    return fire\n",
    "\n",
    "\n",
    "@oil \n",
    "def firefire(): \n",
    "    print(\"활활\")"
   ]
  },
  {
   "cell_type": "code",
   "execution_count": 17,
   "metadata": {
    "scrolled": true
   },
   "outputs": [
    {
     "name": "stdout",
     "output_type": "stream",
     "text": [
      "불이야~!\n",
      "활활\n"
     ]
    }
   ],
   "source": [
    "firefire()"
   ]
  },
  {
   "cell_type": "markdown",
   "metadata": {},
   "source": [
    "### wraps"
   ]
  },
  {
   "cell_type": "code",
   "execution_count": 4,
   "metadata": {},
   "outputs": [],
   "source": [
    "from functools import wraps\n",
    "\n",
    "def my_kitty(func) : \n",
    "    @wraps(func)\n",
    "    def wrapper():\n",
    "        print(\"나비야~\")\n",
    "        \n",
    "        return func()\n",
    "        \n",
    "    return wrapper\n",
    "\n",
    "@my_kitty\n",
    "def cat():\n",
    "    \"\"\"야옹이가 대답한다.\"\"\"\n",
    "    print(\"냐옹.\")"
   ]
  },
  {
   "cell_type": "code",
   "execution_count": 5,
   "metadata": {},
   "outputs": [
    {
     "name": "stdout",
     "output_type": "stream",
     "text": [
      "나비야~\n",
      "냐옹.\n"
     ]
    }
   ],
   "source": [
    "cat()"
   ]
  },
  {
   "cell_type": "code",
   "execution_count": 13,
   "metadata": {},
   "outputs": [
    {
     "data": {
      "text/plain": [
       "'ex'"
      ]
     },
     "execution_count": 13,
     "metadata": {},
     "output_type": "execute_result"
    }
   ],
   "source": [
    "ex.__name__"
   ]
  },
  {
   "cell_type": "code",
   "execution_count": 6,
   "metadata": {},
   "outputs": [
    {
     "data": {
      "text/plain": [
       "'야옹이가 대답한다.'"
      ]
     },
     "execution_count": 6,
     "metadata": {},
     "output_type": "execute_result"
    }
   ],
   "source": [
    "cat.__doc__"
   ]
  },
  {
   "cell_type": "markdown",
   "metadata": {},
   "source": [
    "### singledispatch"
   ]
  },
  {
   "cell_type": "code",
   "execution_count": 34,
   "metadata": {},
   "outputs": [],
   "source": [
    "from functools import singledispatch\n",
    "\n",
    "@singledispatch\n",
    "def fun(x) : \n",
    "    print(\"this is basic action :\", x)\n",
    "    \n",
    "@fun.register(str)\n",
    "def _(x) :\n",
    "    print(\"thih is string :\", x)\n",
    "    \n",
    "@fun.register(int)\n",
    "def _(x) :\n",
    "    print(\"this is integer :\", x)\n",
    "    \n",
    "@fun.register(object)\n",
    "def _(x) :\n",
    "    print(\"this is object :\", x)"
   ]
  },
  {
   "cell_type": "code",
   "execution_count": 35,
   "metadata": {},
   "outputs": [
    {
     "name": "stdout",
     "output_type": "stream",
     "text": [
      "this is object : 10\n"
     ]
    }
   ],
   "source": [
    "a = 10\n",
    "\n",
    "_(a)"
   ]
  },
  {
   "cell_type": "markdown",
   "metadata": {},
   "source": [
    "### 파라미터를 전달하려면?"
   ]
  },
  {
   "cell_type": "code",
   "execution_count": 36,
   "metadata": {},
   "outputs": [],
   "source": [
    "def my_deco(func):\n",
    "    def wrapper(*args, **kwargs) : \n",
    "        print(f'{func.__name__} 함수 실행 전입니다.')\n",
    "    \n",
    "        return func(*args, **kwargs)\n",
    "    \n",
    "    return wrapper\n",
    "\n",
    "@my_deco\n",
    "def display__info(name, age) : \n",
    "    print(f'{name}의 나이는 {age}살입니다.')\n",
    "    \n",
    "display__info('John', 35)    "
   ]
  },
  {
   "cell_type": "code",
   "execution_count": 37,
   "metadata": {
    "scrolled": true
   },
   "outputs": [
    {
     "name": "stdout",
     "output_type": "stream",
     "text": [
      "display__info 함수 실행 전입니다.\n",
      "John의 나이는 35살입니다.\n"
     ]
    }
   ],
   "source": []
  },
  {
   "cell_type": "code",
   "execution_count": 38,
   "metadata": {},
   "outputs": [
    {
     "ename": "NameError",
     "evalue": "name 'wrapper' is not defined",
     "output_type": "error",
     "traceback": [
      "\u001b[1;31m---------------------------------------------------------------------------\u001b[0m",
      "\u001b[1;31mNameError\u001b[0m                                 Traceback (most recent call last)",
      "\u001b[1;32m<ipython-input-38-8e6e29f4cf6b>\u001b[0m in \u001b[0;36m<module>\u001b[1;34m\u001b[0m\n\u001b[1;32m----> 1\u001b[1;33m \u001b[0mwrapper\u001b[0m\u001b[1;33m.\u001b[0m\u001b[0m__doc__\u001b[0m\u001b[1;33m\u001b[0m\u001b[1;33m\u001b[0m\u001b[0m\n\u001b[0m",
      "\u001b[1;31mNameError\u001b[0m: name 'wrapper' is not defined"
     ]
    }
   ],
   "source": []
  },
  {
   "cell_type": "code",
   "execution_count": null,
   "metadata": {},
   "outputs": [],
   "source": []
  }
 ],
 "metadata": {
  "kernelspec": {
   "display_name": "Python 3",
   "language": "python",
   "name": "python3"
  },
  "language_info": {
   "codemirror_mode": {
    "name": "ipython",
    "version": 3
   },
   "file_extension": ".py",
   "mimetype": "text/x-python",
   "name": "python",
   "nbconvert_exporter": "python",
   "pygments_lexer": "ipython3",
   "version": "3.7.1"
  }
 },
 "nbformat": 4,
 "nbformat_minor": 2
}
