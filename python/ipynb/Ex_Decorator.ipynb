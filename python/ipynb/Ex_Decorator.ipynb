{
 "cells": [
  {
   "cell_type": "markdown",
   "metadata": {},
   "source": [
    "### 데코레이터 만들기"
   ]
  },
  {
   "cell_type": "code",
   "execution_count": 16,
   "metadata": {},
   "outputs": [],
   "source": [
    "def oil(func) : #first class function\n",
    "    def fire() :\n",
    "        print(\"불이야~!\")\n",
    "        \n",
    "        return func() # closure 함수\n",
    "\n",
    "    return fire\n",
    "\n",
    "\n",
    "@oil #decorator\n",
    "def firefire(): \n",
    "    print(\"활활\")"
   ]
  },
  {
   "cell_type": "code",
   "execution_count": 17,
   "metadata": {
    "scrolled": true
   },
   "outputs": [
    {
     "name": "stdout",
     "output_type": "stream",
     "text": [
      "불이야~!\n",
      "활활\n"
     ]
    }
   ],
   "source": [
    "firefire()"
   ]
  },
  {
   "cell_type": "markdown",
   "metadata": {},
   "source": [
    "### wraps"
   ]
  },
  {
   "cell_type": "code",
   "execution_count": 11,
   "metadata": {},
   "outputs": [],
   "source": [
    "from functools import wraps\n",
    "\n",
    "def my_deco(func) : \n",
    "    @wraps(func)\n",
    "    def wrapper():\n",
    "        \"\"\"what it this?\"\"\"\n",
    "        print(\"calling my_deco\")\n",
    "        \n",
    "        return func()\n",
    "        \n",
    "    return wrapper\n",
    "\n",
    "@my_deco\n",
    "def ex():\n",
    "    \"\"\"ex 함수다.\"\"\"\n",
    "    print(\"calling ex\")"
   ]
  },
  {
   "cell_type": "code",
   "execution_count": 12,
   "metadata": {},
   "outputs": [
    {
     "name": "stdout",
     "output_type": "stream",
     "text": [
      "calling my_deco\n",
      "calling ex\n"
     ]
    }
   ],
   "source": [
    "ex()"
   ]
  },
  {
   "cell_type": "code",
   "execution_count": 13,
   "metadata": {},
   "outputs": [
    {
     "data": {
      "text/plain": [
       "'ex'"
      ]
     },
     "execution_count": 13,
     "metadata": {},
     "output_type": "execute_result"
    }
   ],
   "source": [
    "ex.__name__"
   ]
  },
  {
   "cell_type": "code",
   "execution_count": 14,
   "metadata": {},
   "outputs": [
    {
     "data": {
      "text/plain": [
       "'ex 함수다.'"
      ]
     },
     "execution_count": 14,
     "metadata": {},
     "output_type": "execute_result"
    }
   ],
   "source": [
    "ex.__doc__"
   ]
  },
  {
   "cell_type": "markdown",
   "metadata": {},
   "source": [
    "### singledispatch"
   ]
  },
  {
   "cell_type": "code",
   "execution_count": 34,
   "metadata": {},
   "outputs": [],
   "source": [
    "from functools import singledispatch\n",
    "\n",
    "@singledispatch\n",
    "def fun(x) : \n",
    "    print(\"this is basic action :\", x)\n",
    "    \n",
    "@fun.register(str)\n",
    "def _(x) :\n",
    "    print(\"thih is string :\", x)\n",
    "    \n",
    "@fun.register(int)\n",
    "def _(x) :\n",
    "    print(\"this is integer :\", x)\n",
    "    \n",
    "@fun.register(object)\n",
    "def _(x) :\n",
    "    print(\"this is object :\", x)"
   ]
  },
  {
   "cell_type": "code",
   "execution_count": 35,
   "metadata": {},
   "outputs": [
    {
     "name": "stdout",
     "output_type": "stream",
     "text": [
      "this is object : 10\n"
     ]
    }
   ],
   "source": [
    "a = 10\n",
    "\n",
    "_(a)"
   ]
  },
  {
   "cell_type": "markdown",
   "metadata": {},
   "source": [
    "### 파라미터를 전달하려면?"
   ]
  },
  {
   "cell_type": "code",
   "execution_count": null,
   "metadata": {},
   "outputs": [],
   "source": [
    "def my_deco(func):\n",
    "    def wrapper(*args, **kwargs) : \n",
    "        print(f'{func.__name__} 함수 실행 전입니다.')\n",
    "    \n",
    "        return func(*args, **kwargs)\n",
    "    \n",
    "    return wrapper\n",
    "\n",
    "@my_deco\n",
    "def display__info(name, age) : \n",
    "    print()"
   ]
  }
 ],
 "metadata": {
  "kernelspec": {
   "display_name": "Python 3",
   "language": "python",
   "name": "python3"
  },
  "language_info": {
   "codemirror_mode": {
    "name": "ipython",
    "version": 3
   },
   "file_extension": ".py",
   "mimetype": "text/x-python",
   "name": "python",
   "nbconvert_exporter": "python",
   "pygments_lexer": "ipython3",
   "version": "3.7.1"
  }
 },
 "nbformat": 4,
 "nbformat_minor": 2
}
