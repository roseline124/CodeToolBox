{
 "cells": [
  {
   "cell_type": "code",
   "execution_count": 9,
   "metadata": {},
   "outputs": [
    {
     "name": "stdout",
     "output_type": "stream",
     "text": [
      "1\n",
      "(()((())()(\n",
      "NO\n"
     ]
    }
   ],
   "source": [
    "T = int(input())\n",
    "\n",
    "while T != 0 : \n",
    "    T -=1 \n",
    "\n",
    "    stack = []\n",
    "    ps = input()\n",
    "    answer = ''\n",
    "    for i in range(len(ps)) : \n",
    "        if ps[i] == '(' :\n",
    "            stack.append(ps[i]) \n",
    "            if (i == (len(ps) -1)) & (stack!=[]) :\n",
    "                answer = \"NO\"\n",
    "        else : # s== ')'\n",
    "            if stack!= []:\n",
    "                stack.pop()\n",
    "                if (i == (len(ps) -1)) & (stack!=[]) :\n",
    "                    answer = \"NO\"\n",
    "                if stack == [] :\n",
    "                    if i == (len(ps) -1) :\n",
    "                        answer = \"YES\"\n",
    "                    else : \n",
    "                        answer = \"NO\"\n",
    "            else : \n",
    "                answer = \"No\"\n",
    "            \n",
    "    print(answer)"
   ]
  },
  {
   "cell_type": "code",
   "execution_count": 10,
   "metadata": {},
   "outputs": [
    {
     "name": "stdout",
     "output_type": "stream",
     "text": [
      "6\n",
      "(())())\n",
      "No\n",
      "(((()())()\n",
      "NO\n",
      "(()())((()))\n",
      "YES\n",
      "((()()(()))(((())))()\n",
      "NO\n",
      "()()()()(()()())()\n",
      "YES\n",
      "(()((())()(\n",
      "NO\n"
     ]
    }
   ],
   "source": [
    "T = int(input())\n",
    "\n",
    "while T != 0 : \n",
    "    T -=1 \n",
    "\n",
    "    stack = []\n",
    "    ps = input()\n",
    "    answer = ''\n",
    "    \n",
    "    for i in range(len(ps)) : \n",
    "        if ps[i] == '(' :\n",
    "            \n",
    "            stack.append(ps[i]) \n",
    "            if (i == (len(ps) -1)) & (stack!=[]) :\n",
    "                answer = \"NO\"\n",
    "                \n",
    "        else : # s== ')'\n",
    "            if stack!= []:\n",
    "                stack.pop()\n",
    "                if (i == (len(ps) -1)) & (stack!=[]) :\n",
    "                    answer = \"NO\"\n",
    "                if stack == [] :\n",
    "                    if i == (len(ps) -1) :\n",
    "                        answer = \"YES\"\n",
    "                    else : \n",
    "                        answer = \"NO\"\n",
    "            else : \n",
    "                answer = \"No\"\n",
    "            \n",
    "    print(answer)"
   ]
  },
  {
   "cell_type": "code",
   "execution_count": null,
   "metadata": {},
   "outputs": [],
   "source": []
  }
 ],
 "metadata": {
  "kernelspec": {
   "display_name": "Python 3",
   "language": "python",
   "name": "python3"
  },
  "language_info": {
   "codemirror_mode": {
    "name": "ipython",
    "version": 3
   },
   "file_extension": ".py",
   "mimetype": "text/x-python",
   "name": "python",
   "nbconvert_exporter": "python",
   "pygments_lexer": "ipython3",
   "version": "3.7.1"
  }
 },
 "nbformat": 4,
 "nbformat_minor": 2
}
