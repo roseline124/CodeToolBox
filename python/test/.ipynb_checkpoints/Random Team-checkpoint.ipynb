{
 "cells": [
  {
   "cell_type": "markdown",
   "metadata": {},
   "source": [
    "# <font color=\"#ff8104\">Let's make random team</font>"
   ]
  },
  {
   "cell_type": "markdown",
   "metadata": {},
   "source": [
    "1. 팀장 선정\n",
    "2. 팀원 할당"
   ]
  },
  {
   "cell_type": "code",
   "execution_count": 37,
   "metadata": {},
   "outputs": [],
   "source": [
    "import numpy as np\n",
    "import pandas as pd"
   ]
  },
  {
   "cell_type": "code",
   "execution_count": 12,
   "metadata": {},
   "outputs": [],
   "source": [
    "df = pd.read_csv('students.csv')"
   ]
  },
  {
   "cell_type": "code",
   "execution_count": 20,
   "metadata": {},
   "outputs": [
    {
     "data": {
      "text/html": [
       "<div>\n",
       "<style scoped>\n",
       "    .dataframe tbody tr th:only-of-type {\n",
       "        vertical-align: middle;\n",
       "    }\n",
       "\n",
       "    .dataframe tbody tr th {\n",
       "        vertical-align: top;\n",
       "    }\n",
       "\n",
       "    .dataframe thead th {\n",
       "        text-align: right;\n",
       "    }\n",
       "</style>\n",
       "<table border=\"1\" class=\"dataframe\">\n",
       "  <thead>\n",
       "    <tr style=\"text-align: right;\">\n",
       "      <th></th>\n",
       "      <th>학번</th>\n",
       "      <th>이름</th>\n",
       "    </tr>\n",
       "  </thead>\n",
       "  <tbody>\n",
       "    <tr>\n",
       "      <th>6</th>\n",
       "      <td>2014123462</td>\n",
       "      <td>정형돈</td>\n",
       "    </tr>\n",
       "    <tr>\n",
       "      <th>9</th>\n",
       "      <td>2014123465</td>\n",
       "      <td>김윤아</td>\n",
       "    </tr>\n",
       "    <tr>\n",
       "      <th>8</th>\n",
       "      <td>2014123464</td>\n",
       "      <td>홍광희</td>\n",
       "    </tr>\n",
       "    <tr>\n",
       "      <th>17</th>\n",
       "      <td>2014123473</td>\n",
       "      <td>김기춘</td>\n",
       "    </tr>\n",
       "    <tr>\n",
       "      <th>16</th>\n",
       "      <td>2014123472</td>\n",
       "      <td>정기형</td>\n",
       "    </tr>\n",
       "  </tbody>\n",
       "</table>\n",
       "</div>"
      ],
      "text/plain": [
       "            학번   이름\n",
       "6   2014123462  정형돈\n",
       "9   2014123465  김윤아\n",
       "8   2014123464  홍광희\n",
       "17  2014123473  김기춘\n",
       "16  2014123472  정기형"
      ]
     },
     "execution_count": 20,
     "metadata": {},
     "output_type": "execute_result"
    }
   ],
   "source": [
    "df.sample(frac=1).head()"
   ]
  },
  {
   "cell_type": "markdown",
   "metadata": {},
   "source": [
    "<pre>\n",
    "In [37]: df\n",
    "Out[37]: \n",
    "   A  B  C  D\n",
    "0  1  0  2  2\n",
    "1  2  2  0  3\n",
    "2  3  0  0  3\n",
    "3  0  2  3  1\n",
    "\n",
    "In [38]: df.where(np.random.uniform(size=df.shape) > 0.3, None)\n",
    "Out[38]: \n",
    "      A  B     C     D\n",
    "0     1  0     2  None\n",
    "1     2  2     0     3\n",
    "2     3  0  None  None\n",
    "3  None  2     3  None\n",
    "</pre>"
   ]
  },
  {
   "cell_type": "code",
   "execution_count": 34,
   "metadata": {},
   "outputs": [],
   "source": [
    "df['groups'] = np.random.uniform(size=19)"
   ]
  },
  {
   "cell_type": "code",
   "execution_count": 35,
   "metadata": {},
   "outputs": [
    {
     "data": {
      "text/html": [
       "<div>\n",
       "<style scoped>\n",
       "    .dataframe tbody tr th:only-of-type {\n",
       "        vertical-align: middle;\n",
       "    }\n",
       "\n",
       "    .dataframe tbody tr th {\n",
       "        vertical-align: top;\n",
       "    }\n",
       "\n",
       "    .dataframe thead th {\n",
       "        text-align: right;\n",
       "    }\n",
       "</style>\n",
       "<table border=\"1\" class=\"dataframe\">\n",
       "  <thead>\n",
       "    <tr style=\"text-align: right;\">\n",
       "      <th></th>\n",
       "      <th>학번</th>\n",
       "      <th>이름</th>\n",
       "      <th>groups</th>\n",
       "    </tr>\n",
       "  </thead>\n",
       "  <tbody>\n",
       "    <tr>\n",
       "      <th>0</th>\n",
       "      <td>2014123456</td>\n",
       "      <td>김철수</td>\n",
       "      <td>0.577282</td>\n",
       "    </tr>\n",
       "    <tr>\n",
       "      <th>1</th>\n",
       "      <td>2014123457</td>\n",
       "      <td>김영희</td>\n",
       "      <td>0.473840</td>\n",
       "    </tr>\n",
       "    <tr>\n",
       "      <th>2</th>\n",
       "      <td>2014123458</td>\n",
       "      <td>김갑수</td>\n",
       "      <td>0.209103</td>\n",
       "    </tr>\n",
       "    <tr>\n",
       "      <th>3</th>\n",
       "      <td>2014123459</td>\n",
       "      <td>유재석</td>\n",
       "      <td>0.645421</td>\n",
       "    </tr>\n",
       "    <tr>\n",
       "      <th>4</th>\n",
       "      <td>2014123460</td>\n",
       "      <td>박명수</td>\n",
       "      <td>0.774638</td>\n",
       "    </tr>\n",
       "    <tr>\n",
       "      <th>5</th>\n",
       "      <td>2014123461</td>\n",
       "      <td>정준하</td>\n",
       "      <td>0.897341</td>\n",
       "    </tr>\n",
       "    <tr>\n",
       "      <th>6</th>\n",
       "      <td>2014123462</td>\n",
       "      <td>정형돈</td>\n",
       "      <td>0.819782</td>\n",
       "    </tr>\n",
       "    <tr>\n",
       "      <th>7</th>\n",
       "      <td>2014123463</td>\n",
       "      <td>길성준</td>\n",
       "      <td>0.065172</td>\n",
       "    </tr>\n",
       "    <tr>\n",
       "      <th>8</th>\n",
       "      <td>2014123464</td>\n",
       "      <td>홍광희</td>\n",
       "      <td>0.293726</td>\n",
       "    </tr>\n",
       "    <tr>\n",
       "      <th>9</th>\n",
       "      <td>2014123465</td>\n",
       "      <td>김윤아</td>\n",
       "      <td>0.735690</td>\n",
       "    </tr>\n",
       "    <tr>\n",
       "      <th>10</th>\n",
       "      <td>2014123466</td>\n",
       "      <td>정채연</td>\n",
       "      <td>0.942705</td>\n",
       "    </tr>\n",
       "    <tr>\n",
       "      <th>11</th>\n",
       "      <td>2014123467</td>\n",
       "      <td>김태연</td>\n",
       "      <td>0.003642</td>\n",
       "    </tr>\n",
       "    <tr>\n",
       "      <th>12</th>\n",
       "      <td>2014123468</td>\n",
       "      <td>김현우</td>\n",
       "      <td>0.005651</td>\n",
       "    </tr>\n",
       "    <tr>\n",
       "      <th>13</th>\n",
       "      <td>2014123469</td>\n",
       "      <td>이희현</td>\n",
       "      <td>0.911285</td>\n",
       "    </tr>\n",
       "    <tr>\n",
       "      <th>14</th>\n",
       "      <td>2014123470</td>\n",
       "      <td>김남홍</td>\n",
       "      <td>0.947684</td>\n",
       "    </tr>\n",
       "    <tr>\n",
       "      <th>15</th>\n",
       "      <td>2014123471</td>\n",
       "      <td>박연오</td>\n",
       "      <td>0.427217</td>\n",
       "    </tr>\n",
       "    <tr>\n",
       "      <th>16</th>\n",
       "      <td>2014123472</td>\n",
       "      <td>정기형</td>\n",
       "      <td>0.923557</td>\n",
       "    </tr>\n",
       "    <tr>\n",
       "      <th>17</th>\n",
       "      <td>2014123473</td>\n",
       "      <td>김기춘</td>\n",
       "      <td>0.643491</td>\n",
       "    </tr>\n",
       "    <tr>\n",
       "      <th>18</th>\n",
       "      <td>2014123474</td>\n",
       "      <td>김준희</td>\n",
       "      <td>0.394494</td>\n",
       "    </tr>\n",
       "  </tbody>\n",
       "</table>\n",
       "</div>"
      ],
      "text/plain": [
       "            학번   이름    groups\n",
       "0   2014123456  김철수  0.577282\n",
       "1   2014123457  김영희  0.473840\n",
       "2   2014123458  김갑수  0.209103\n",
       "3   2014123459  유재석  0.645421\n",
       "4   2014123460  박명수  0.774638\n",
       "5   2014123461  정준하  0.897341\n",
       "6   2014123462  정형돈  0.819782\n",
       "7   2014123463  길성준  0.065172\n",
       "8   2014123464  홍광희  0.293726\n",
       "9   2014123465  김윤아  0.735690\n",
       "10  2014123466  정채연  0.942705\n",
       "11  2014123467  김태연  0.003642\n",
       "12  2014123468  김현우  0.005651\n",
       "13  2014123469  이희현  0.911285\n",
       "14  2014123470  김남홍  0.947684\n",
       "15  2014123471  박연오  0.427217\n",
       "16  2014123472  정기형  0.923557\n",
       "17  2014123473  김기춘  0.643491\n",
       "18  2014123474  김준희  0.394494"
      ]
     },
     "execution_count": 35,
     "metadata": {},
     "output_type": "execute_result"
    }
   ],
   "source": [
    "df"
   ]
  },
  {
   "cell_type": "markdown",
   "metadata": {},
   "source": [
    "# <font color=\"#ff8104\">Without Pandas, Numpy</font>"
   ]
  },
  {
   "cell_type": "code",
   "execution_count": 38,
   "metadata": {},
   "outputs": [],
   "source": [
    "import random"
   ]
  },
  {
   "cell_type": "code",
   "execution_count": 39,
   "metadata": {},
   "outputs": [
    {
     "name": "stdout",
     "output_type": "stream",
     "text": [
      "팀장들 : 정형돈 김윤아 홍광희 김기춘 정기형\n"
     ]
    },
    {
     "data": {
      "text/plain": [
       "'\\n6\\t2014123462\\t정형돈\\n9\\t2014123465\\t김윤아\\n8\\t2014123464\\t홍광희\\n17\\t2014123473\\t김기춘\\n16\\t2014123472\\t정기형\\n'"
      ]
     },
     "execution_count": 39,
     "metadata": {},
     "output_type": "execute_result"
    }
   ],
   "source": [
    "팀장 = input(\"팀장들 : \")"
   ]
  },
  {
   "cell_type": "code",
   "execution_count": 42,
   "metadata": {},
   "outputs": [
    {
     "data": {
      "text/plain": [
       "['정형돈', '김윤아', '홍광희', '김기춘', '정기형']"
      ]
     },
     "execution_count": 42,
     "metadata": {},
     "output_type": "execute_result"
    }
   ],
   "source": [
    "팀장.split(' ')"
   ]
  },
  {
   "cell_type": "code",
   "execution_count": 47,
   "metadata": {},
   "outputs": [],
   "source": [
    "teams = {\n",
    "    'Leader' : ['mate1','mate2', 'mate3', 'mate4'],\n",
    "}"
   ]
  },
  {
   "cell_type": "code",
   "execution_count": 50,
   "metadata": {},
   "outputs": [
    {
     "name": "stdout",
     "output_type": "stream",
     "text": [
      "팀원들 : 김규식 최혜원\n",
      "팀원들 : 송현지 박재한\n",
      "팀원들 : 정홍진 홍진호\n",
      "팀원들 : 김송이 정지원\n",
      "팀원들 : 압둘라 만수르\n",
      "팀원들 : 냥냥\n",
      "팀원들 : ㅇ\n",
      "팀원들 : ㅇ\n",
      "팀원들 : ㅇ\n",
      "팀원들 : ㅇ\n",
      "팀원들 : ㅇ\n",
      "팀원들 : \n",
      "팀원들 : ㅇ\n",
      "팀원들 : ㅇ\n",
      "팀원들 : ㅇ\n",
      "팀원들 : ㅇ\n",
      "팀원들 : ㅇ\n",
      "팀원들 : ㅇ\n",
      "팀원들 : ㅇ\n"
     ]
    }
   ],
   "source": [
    "for leader in 팀장 :\n",
    "    teams[leader] = []\n",
    "    mates = input(\"팀원들 : \").split(' ')    \n",
    "    teams[leader].extend(mates)    "
   ]
  },
  {
   "cell_type": "code",
   "execution_count": 51,
   "metadata": {},
   "outputs": [
    {
     "data": {
      "text/plain": [
       "{'Leader': ['mate1', 'mate2', 'mate3', 'mate4'],\n",
       " '정': ['ㅇ'],\n",
       " '형': ['ㅇ'],\n",
       " '돈': ['정홍진', '홍진호'],\n",
       " ' ': ['ㅇ'],\n",
       " '김': ['ㅇ'],\n",
       " '윤': ['냥냥'],\n",
       " '아': ['ㅇ'],\n",
       " '홍': ['ㅇ'],\n",
       " '광': ['ㅇ'],\n",
       " '희': ['ㅇ'],\n",
       " '기': ['ㅇ'],\n",
       " '춘': ['ㅇ']}"
      ]
     },
     "execution_count": 51,
     "metadata": {},
     "output_type": "execute_result"
    }
   ],
   "source": [
    "teams"
   ]
  },
  {
   "cell_type": "code",
   "execution_count": null,
   "metadata": {},
   "outputs": [],
   "source": []
  }
 ],
 "metadata": {
  "kernelspec": {
   "display_name": "Python 3",
   "language": "python",
   "name": "python3"
  },
  "language_info": {
   "codemirror_mode": {
    "name": "ipython",
    "version": 3
   },
   "file_extension": ".py",
   "mimetype": "text/x-python",
   "name": "python",
   "nbconvert_exporter": "python",
   "pygments_lexer": "ipython3",
   "version": "3.7.1"
  }
 },
 "nbformat": 4,
 "nbformat_minor": 2
}
