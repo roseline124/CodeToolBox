{
 "cells": [
  {
   "cell_type": "code",
   "execution_count": 12,
   "metadata": {},
   "outputs": [],
   "source": [
    "\"\"\"bubble\"\"\"\n",
    "\"\"\"\n",
    "key function : sorted()\n",
    "\"\"\"\n",
    "\n",
    "\n",
    "array = [1, 5, 2, 6, 3, 7, 4]\n",
    "i = 2\n",
    "j = 5\n",
    "k = 3"
   ]
  },
  {
   "cell_type": "code",
   "execution_count": 13,
   "metadata": {},
   "outputs": [],
   "source": [
    "copy = array[i-1:j]"
   ]
  },
  {
   "cell_type": "code",
   "execution_count": 17,
   "metadata": {},
   "outputs": [],
   "source": [
    "def bubble_sort(arr) :\n",
    "    ordered = False \n",
    "    \n",
    "    while ordered == False : \n",
    "        ordered = True \n",
    "        \n",
    "        for i in range(len(arr)-1) : \n",
    "            if arr[i] > arr[i+1] :\n",
    "                ordered = False \n",
    "                arr[i], arr[i+1] = arr[i+1], arr[i]\n",
    "                \n",
    "    return arr"
   ]
  },
  {
   "cell_type": "code",
   "execution_count": 18,
   "metadata": {},
   "outputs": [],
   "source": [
    "def select_sort(arr) :\n",
    "    \n",
    "    n=len(arr)\n",
    "    \n",
    "    tmp = arr[round(n/2)]\n",
    "    \n",
    "    for i in range(len(arr)):"
   ]
  },
  {
   "cell_type": "code",
   "execution_count": 19,
   "metadata": {},
   "outputs": [
    {
     "data": {
      "text/plain": [
       "[1, 2, 3, 4, 5, 6, 7]"
      ]
     },
     "execution_count": 19,
     "metadata": {},
     "output_type": "execute_result"
    }
   ],
   "source": [
    "array = [1, 5, 2, 6, 3, 7, 4]\n",
    "i = 1\n",
    "j = 7\n",
    "k = 3\n",
    "\n",
    "copy = array[i-1:j]"
   ]
  },
  {
   "cell_type": "code",
   "execution_count": 20,
   "metadata": {},
   "outputs": [
    {
     "ename": "SyntaxError",
     "evalue": "invalid syntax (<ipython-input-20-84b9786f4d52>, line 1)",
     "output_type": "error",
     "traceback": [
      "\u001b[1;36m  File \u001b[1;32m\"<ipython-input-20-84b9786f4d52>\"\u001b[1;36m, line \u001b[1;32m1\u001b[0m\n\u001b[1;33m    배열 array의 i번째 숫자부터 j번째 숫자까지 자르고 정렬했을 때, k번째에 있는 수를 구하려 합니다.\u001b[0m\n\u001b[1;37m            ^\u001b[0m\n\u001b[1;31mSyntaxError\u001b[0m\u001b[1;31m:\u001b[0m invalid syntax\n"
     ]
    }
   ],
   "source": [
    "배열 array의 i번째 숫자부터 j번째 숫자까지 자르고 정렬했을 때, k번째에 있는 수를 구하려 합니다.\n",
    "\n",
    "예를 들어 array가 [1, 5, 2, 6, 3, 7, 4], i = 2, j = 5, k = 3이라면\n",
    "\n",
    "array의 2번째부터 5번째까지 자르면 [5, 2, 6, 3]입니다.\n",
    "1에서 나온 배열을 정렬하면 [2, 3, 5, 6]입니다.\n",
    "2에서 나온 배열의 3번째 숫자는 5입니다.\n",
    "배열 array, [i, j, k]를 원소로 가진 2차원 배열 commands가 매개변수로 주어질 때, commands의 모든 원소에 대해 앞서 설명한 연산을 적용했을 때 나온 결과를 배열에 담아 return 하도록 solution 함수를 작성해주세요."
   ]
  },
  {
   "cell_type": "code",
   "execution_count": 29,
   "metadata": {},
   "outputs": [
    {
     "name": "stdout",
     "output_type": "stream",
     "text": [
      "[5]\n",
      "[5, 6]\n",
      "[5, 6, 3]\n"
     ]
    }
   ],
   "source": [
    "commands = [[2, 5, 3], [4, 4, 1], [1, 7, 3]]\n",
    "ordered_arr = []\n",
    "for a in range(len(commands)) :\n",
    "\n",
    "    i, j, k = commands[a]\n",
    "\n",
    "    copy = arr[i-1:j]\n",
    "    \n",
    "    ordered_arr.append(sorted(copy)[k-1])\n",
    "    \n",
    "    print(ordered_arr)\n"
   ]
  },
  {
   "cell_type": "code",
   "execution_count": 30,
   "metadata": {},
   "outputs": [],
   "source": [
    "array = [1, 5, 2, 6, 3, 7, 4]\n",
    "commands = [[2, 5, 3], [4, 4, 1], [1, 7, 3]]\n"
   ]
  },
  {
   "cell_type": "code",
   "execution_count": 31,
   "metadata": {},
   "outputs": [],
   "source": [
    "answer=list( map( lambda a : sorted(arr[a[0]-1:a[1]])[a[2]-1], commands  ) )"
   ]
  },
  {
   "cell_type": "code",
   "execution_count": 32,
   "metadata": {},
   "outputs": [
    {
     "data": {
      "text/plain": [
       "[5, 6, 3]"
      ]
     },
     "execution_count": 32,
     "metadata": {},
     "output_type": "execute_result"
    }
   ],
   "source": [
    "answer"
   ]
  },
  {
   "cell_type": "code",
   "execution_count": 33,
   "metadata": {},
   "outputs": [],
   "source": [
    "\"\"\"\n",
    "백준 알고리즘 \n",
    "벌집\n",
    "\"\"\"\n",
    "dest = 58 \n"
   ]
  },
  {
   "cell_type": "code",
   "execution_count": 34,
   "metadata": {},
   "outputs": [
    {
     "data": {
      "text/plain": [
       "9"
      ]
     },
     "execution_count": 34,
     "metadata": {},
     "output_type": "execute_result"
    }
   ],
   "source": [
    "dest//6"
   ]
  },
  {
   "cell_type": "code",
   "execution_count": 35,
   "metadata": {},
   "outputs": [],
   "source": [
    "# 6*8 < dest < 6*10\n",
    "\n",
    "# 6*9는 last += 6*n 이라는 등비수열에서 몇번째 인덱스에 속하는가. "
   ]
  },
  {
   "cell_type": "code",
   "execution_count": 58,
   "metadata": {},
   "outputs": [
    {
     "name": "stdout",
     "output_type": "stream",
     "text": [
      "4\n"
     ]
    }
   ],
   "source": [
    "dest = 21\n",
    "\n",
    "_list = []\n",
    "last = 1\n",
    "for n in range(10) :\n",
    "    last += 6*n\n",
    "    _list.append(last)\n",
    "    if dest <= last :\n",
    "        break\n",
    "        \n",
    "print(_list.index(last)+1)"
   ]
  },
  {
   "cell_type": "code",
   "execution_count": 69,
   "metadata": {},
   "outputs": [
    {
     "name": "stdout",
     "output_type": "stream",
     "text": [
      "1000000\n",
      "578\n"
     ]
    }
   ],
   "source": [
    "dest = int(input(\"\"))\n",
    "몫 = dest//6\n",
    "last = 1\n",
    "degree = 0\n",
    "\n",
    "for n in range(몫+1) :\n",
    "    last += 6*n\n",
    "    degree+=1\n",
    "    if dest <= last :\n",
    "        break\n",
    "        \n",
    "print(degree)"
   ]
  },
  {
   "cell_type": "code",
   "execution_count": 71,
   "metadata": {},
   "outputs": [],
   "source": [
    "def solution() :\n",
    "    dest=int(input(\"\"))\n",
    "    r = dest//6\n",
    "    last = 1\n",
    "    degree = 0\n",
    "    \n",
    "    for n in range(r+1) :\n",
    "        last += 6*n\n",
    "        degree+= 1\n",
    "        if dest <= last : \n",
    "            break\n",
    "\n",
    "    return degree"
   ]
  },
  {
   "cell_type": "code",
   "execution_count": 10,
   "metadata": {},
   "outputs": [
    {
     "name": "stdout",
     "output_type": "stream",
     "text": [
      "100\n",
      "7\n"
     ]
    }
   ],
   "source": [
    "dest=int(input(\"\"))\n",
    "r = dest//6\n",
    "last = 1\n",
    "degree = 0\n",
    "for n in range(r+1) :\n",
    "    first = last + 1 \n",
    "    last += 6*n\n",
    "    degree+= 1\n",
    "    if (first <= dest) & (dest <= last) : \n",
    "        break\n",
    "\n",
    "print(degree)\n",
    "    "
   ]
  },
  {
   "cell_type": "code",
   "execution_count": 91,
   "metadata": {},
   "outputs": [],
   "source": [
    "\"\"\"for문 쓰지 않고 하기 \"\"\"\n",
    "\n",
    "m=range(1,100,6)"
   ]
  },
  {
   "cell_type": "code",
   "execution_count": 11,
   "metadata": {},
   "outputs": [
    {
     "name": "stdout",
     "output_type": "stream",
     "text": [
      "37\n",
      "4\n"
     ]
    }
   ],
   "source": [
    "dest=int(input(\"\"))\n",
    "last = 1\n",
    "degree = 0\n",
    "\n",
    "while True : \n",
    "    first = last + 1 \n",
    "    last += 6*degree\n",
    "    degree+= 1\n",
    "    if (first <= dest) & (dest <= last) : \n",
    "        break\n",
    "\n",
    "print(degree)\n",
    "    "
   ]
  },
  {
   "cell_type": "code",
   "execution_count": 13,
   "metadata": {},
   "outputs": [
    {
     "name": "stdout",
     "output_type": "stream",
     "text": [
      "37\n",
      "4\n"
     ]
    }
   ],
   "source": [
    "dest=int(input(\"\"))\n",
    "last = 1\n",
    "degree = 0\n",
    "\n",
    "while True : \n",
    "    first = last + 1 \n",
    "    last += 6*degree\n",
    "    degree += 1\n",
    "    if (first <= dest) & (dest <= last) : \n",
    "        break\n",
    "\n",
    "print(degree)"
   ]
  },
  {
   "cell_type": "code",
   "execution_count": null,
   "metadata": {},
   "outputs": [],
   "source": [
    "dest=int(input(\"\"))\n",
    "last = 1\n",
    "degree = 1\n",
    "\n",
    "while True : \n",
    "    first = last + 1 \n",
    "    last += 6*degree\n",
    "    degree += 1\n",
    "    if (first <= dest) & (dest <= last) : \n",
    "        break\n",
    "\n",
    "print(degree)"
   ]
  },
  {
   "cell_type": "code",
   "execution_count": null,
   "metadata": {},
   "outputs": [],
   "source": []
  }
 ],
 "metadata": {
  "kernelspec": {
   "display_name": "Python 3",
   "language": "python",
   "name": "python3"
  },
  "language_info": {
   "codemirror_mode": {
    "name": "ipython",
    "version": 3
   },
   "file_extension": ".py",
   "mimetype": "text/x-python",
   "name": "python",
   "nbconvert_exporter": "python",
   "pygments_lexer": "ipython3",
   "version": "3.7.1"
  }
 },
 "nbformat": 4,
 "nbformat_minor": 2
}
