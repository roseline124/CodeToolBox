{
 "cells": [
  {
   "cell_type": "code",
   "execution_count": 1,
   "metadata": {},
   "outputs": [],
   "source": [
    "import random\n",
    "\n",
    "\n",
    "\"\"\"\n",
    "Users\n",
    "\"\"\"\n",
    "class User :\n",
    "\n",
    "    win_count = 0\n",
    "    lose_count = 0 \n",
    "    \n",
    "    def __init__(self, capital) :\n",
    "        self.capital = capital\n",
    "    \n",
    "player = User(100*10000)\n",
    "banker=User(1000*10000)"
   ]
  },
  {
   "cell_type": "code",
   "execution_count": 57,
   "metadata": {
    "scrolled": true
   },
   "outputs": [
    {
     "data": {
      "text/plain": [
       "1000000"
      ]
     },
     "execution_count": 57,
     "metadata": {},
     "output_type": "execute_result"
    }
   ],
   "source": [
    "class counter :\n",
    "    \n",
    "    def pl_counting(self, deck) :\n",
    "        \n",
    "        self.deck_sum = sum(deck)%10\n",
    "        \n",
    "        if self.deck_sum <= 5 : \n",
    "            print(\"One more card!\")\n",
    "            self.deck.append(random.ranrange(1, 14))\n",
    "    \n",
    "        elif (self.deck_sum == 6) | (self.deck_sum==7) :\n",
    "            print(\"Stand!\")\n",
    "        \n",
    "        else : \n",
    "            print(\"Natural!\")\n",
    "        \n",
    "        self.deck_sum = sum(deck)%10\n",
    "        \n",
    "        return self.deck_sum\n",
    "\n",
    "    \n",
    "    def ba_counting(self, pl_deck, ba_deck) :\n",
    "        \n",
    "        if len(self.pl_deck) == 3\n",
    "        \n",
    "            self.deck_sum = sum(ba_deck)%10\n",
    "\n",
    "            if self.deck_sum <= 2 : \n",
    "                print(\"One more card!\")\n",
    "                self.deck.append(random.ranrange(1, 14))\n",
    "\n",
    "            elif (self.deck_sum == 3) & (self.pl_deck[2] != 8) :\n",
    "                print(\"One more card!\")\n",
    "                self.deck.append(random.ranrange(1, 14))\n",
    "                \n",
    "            elif (self.deck_sum == 4) & (self.pl_deck[2] in range(2,8)) :\n",
    "                print(\"One more card!\")\n",
    "                self.deck.append(random.ranrange(1, 14))\n",
    "            \n",
    "            elif (self.deck_sum == 5) & (self.pl_deck[2] in range(4,8)) :\n",
    "                print(\"One more card!\")\n",
    "                self.deck.append(random.ranrange(1, 14))\n",
    "                \n",
    "            elif (self.deck_sum == 6) & (self.pl_deck[2] in range(6,8)) :\n",
    "                print(\"One more card!\")\n",
    "                self.deck.append(random.ranrange(1, 14))\n",
    "            \n",
    "            elif (self.deck_sum == 7) :\n",
    "                print(\"Stand!\")\n",
    "\n",
    "            else :  \n",
    "                print(\"Natural!\")\n",
    "                \n",
    "        self.deck_sum = sum(deck)%10\n",
    "\n",
    "        return self.deck_sum\n",
    "    \n",
    "\"\"\"\n",
    "tie, pair 도 세야함. -> card_status \n",
    "score에 반영 \n",
    "\"\"\""
   ]
  },
  {
   "cell_type": "code",
   "execution_count": 37,
   "metadata": {},
   "outputs": [
    {
     "data": {
      "text/plain": [
       "[3, 2]"
      ]
     },
     "execution_count": 37,
     "metadata": {},
     "output_type": "execute_result"
    }
   ],
   "source": [
    "class score(counter) :\n",
    "    \n",
    "    def __init(self, pl_deck, ba_deck) :\n",
    "        score_table = {\n",
    "            'pl_score' : super().pl_counting(self.pl_deck)[0],\n",
    "            'pl_status' : super().pl_counting(self.pl_deck)[1],\n",
    "\n",
    "            'ba_score' : super().ba_counting(self.ba_deck)[0],\n",
    "            'ba_status' : super().bl_counting(self.ba_deck)[1],\n",
    "        }\n",
    "\n",
    "        return score_table\n",
    "\n",
    "    def winner(self, score_table) :\n",
    "        \n",
    "        winner = ''\n",
    "        \n",
    "        if score_table['pl_score'] > score_table['ba_score'] :\n",
    "            print(\"Player Win ★\")\n",
    "            winner = 'player'\n",
    "            \n",
    "        elif score_table['pl_score'] < score_table['ba_score'] :\n",
    "            print(\"Banker Win ★\")          \n",
    "            winner = 'banker'\n",
    "            \n",
    "        elif score_table['pl_score'] == score_table['ba_score'] :\n",
    "            winner = 'tie'          \n",
    "        \n",
    "        elif score_table['pl_score'] == score_table['ba_score'] :\n",
    "            winner = 'pair'           \n",
    "        \n",
    "        return winner\n",
    "\n"
   ]
  },
  {
   "cell_type": "code",
   "execution_count": 12,
   "metadata": {},
   "outputs": [],
   "source": [
    "class baccarat(score) : \n",
    "\n",
    "    def betting(self) :\n",
    "        \n",
    "        #Player's betting\n",
    "        print(\"Your Capital : %d\\n\" %player.capital,\n",
    "              \"Please bet your money(>= 5000) \\n> \")\n",
    "        \n",
    "        self.pl_bet_money = int(input(\"\"))\n",
    "        \n",
    "        #Player's side-bet\n",
    "        print(\"Do you want to side-bet? y/n\")\n",
    "        self.pl_answer = input(\"\")\n",
    "        \n",
    "        if self.pl_answer == 'y' : \n",
    "            print(\"[1. Tie(8 to 1) | 2. Pair(11 to 1)]\\n\",\n",
    "                  \"-------------------------------------------\\n\",\n",
    "                  \"Your Capital : %d\\n\" %(player.capital-self.pl_bet_money),\n",
    "                  \"Please bet your money(>= 5000) (ex. 1, 5000)\")\n",
    "\n",
    "            self.pl_input = input(\"\")\n",
    "            self.pl_input = self.pl_input.split(\",\") if ',' in self.pl_input else self.pl_input.split()\n",
    "\n",
    "            self.pl_side_bet = self.pl_input[0] #Type : str # 1,2 또는 tie, Tie, pair, Pair\n",
    "            self.pl_side_bet_money = int(self.pl_input[1]) # 자본금 이상 베팅 못하게. \n",
    "            \n",
    "        else : \n",
    "            self.pl_side_bet = 0  \n",
    "            self.pl_side_bet_money = 0\n",
    "            \n",
    "            \n",
    "        #Banker's betting \n",
    "        self.ba_bet_money = random.randrange(5000,round(banker.capital/5), 5000)\n",
    "        \n",
    "        #Banker's side-bet\n",
    "        self.ba_side_bet = random.randrange(1,3)\n",
    "        self.ba_side_bet_money = random.randrange(0,round((banker.capital-self.ba_bet_money)/10), 5000)\n",
    "                \n",
    "        return self.pl_bet_money, self.pl_side_bet, self.pl_side_bet_money, self.ba_bet_money, self.ba_side_bet, self.ba_side_bet_money\n",
    "    \n",
    "    def dealing(self) :\n",
    "        \n",
    "        #print(\"-------------------------------------------\\n\",\"Dealing Start\") #함수 밖에서 정의해야 할 듯. \n",
    "        \n",
    "        #2 cards\n",
    "        self.deck = random.sample(range(1,14), 2) \n",
    "        \n",
    "        for i in range(len(self.deck)) :\n",
    "            if self.deck[i] > 10 :\n",
    "                self.deck[i] = self.deck[i]%10\n",
    "\n",
    "        return self.deck\n",
    "    \n",
    "    def \n",
    "        \n",
    "        \n",
    "\n",
    "pl_game = player_baccarat()\n"
   ]
  },
  {
   "cell_type": "code",
   "execution_count": 13,
   "metadata": {},
   "outputs": [
    {
     "data": {
      "text/plain": [
       "[1, 2, 3]"
      ]
     },
     "execution_count": 13,
     "metadata": {},
     "output_type": "execute_result"
    }
   ],
   "source": [
    "test['a']"
   ]
  },
  {
   "cell_type": "code",
   "execution_count": null,
   "metadata": {},
   "outputs": [],
   "source": []
  }
 ],
 "metadata": {
  "kernelspec": {
   "display_name": "Python 3",
   "language": "python",
   "name": "python3"
  },
  "language_info": {
   "codemirror_mode": {
    "name": "ipython",
    "version": 3
   },
   "file_extension": ".py",
   "mimetype": "text/x-python",
   "name": "python",
   "nbconvert_exporter": "python",
   "pygments_lexer": "ipython3",
   "version": "3.7.1"
  }
 },
 "nbformat": 4,
 "nbformat_minor": 2
}
