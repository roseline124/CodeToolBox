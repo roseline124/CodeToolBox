{
 "cells": [
  {
   "cell_type": "code",
   "execution_count": 132,
   "metadata": {},
   "outputs": [],
   "source": [
    "# 축의금 \n",
    "congraturatory_money = 5"
   ]
  },
  {
   "cell_type": "code",
   "execution_count": 133,
   "metadata": {},
   "outputs": [],
   "source": [
    "class Question :\n",
    "    extra = 0 \n",
    "    def __init__(self, Y_cost, N_cost, question) :\n",
    "        self.Y_cost = Y_cost\n",
    "        self.N_cost = N_cost\n",
    "        self.question = question\n",
    "    \n",
    "    def link_next(self,Y_next, N_next) : \n",
    "        self.Y_next = Y_next\n",
    "        self.N_next = N_next\n",
    "        \n",
    "    def ask(self):\n",
    "        while True : \n",
    "            self.answer = input(f\"{self.question} (Y/N)\").upper()\n",
    "            \n",
    "            if self.answer == \"Y\" :\n",
    "                Question.extra += self.Y_cost\n",
    "                return self.Y_next\n",
    "            elif self.answer == \"N\" :\n",
    "                Question.extra += self.N_cost\n",
    "                return self.N_next\n",
    "            else : \n",
    "                print(\"'Y' 또는 'N'으로 입력해주세요\")"
   ]
  },
  {
   "cell_type": "code",
   "execution_count": 134,
   "metadata": {},
   "outputs": [],
   "source": [
    "Q1 = Question(1, 0, \"최근 1년 간 청첩장이 아닌 이유로 만난 적이 있다.\")  \n",
    "Q2 = Question(1, 0, \"청첩장을 직접 받았다.\")  \n",
    "Q3 = Question(-1, 0, \"청첩장을 모바일로 받았다.\")\n",
    "Q4 = Question(0, 0, \"인연을 맺은 지 5년 이상이다.\")  \n",
    "Q5 = Question(0, 0, \"직장 동료다.\") \n",
    "Q6 = Question(0, 0, \"SNS 친구다.\")  \n",
    "Q7 = Question(1, 0, \"자주 보는 사이다.\")  \n",
    "Q8 = Question(-2, 0, \"이번이 재혼이다.\")  \n",
    "Q9 = Question(2, 0, \"식장이 호텔이다.\")  \n",
    "Q10 = Question(-2, 0, \"그로부터 상처를 받은 적이 있다.\")  \n",
    "Q11 = Question(-1, 0, \"결혼 성수기다. \") \n",
    "Q12 = Question(-1, 0, \"식장이 지방이다.\") #  -> 봉투만 전해도 OK\n",
    "Q13 = Question(2, 0, \"나도 2년 안에 결혼할 예정이다.\") # -> 필참\n",
    "Q14 = Question(1, 0, \"액수를 정했는데 뭔가 불안하다.\") # -> 봉투만 전해도 OK"
   ]
  },
  {
   "cell_type": "code",
   "execution_count": 135,
   "metadata": {},
   "outputs": [],
   "source": [
    "Q1.link_next(Q2, Q3)\n",
    "Q2.link_next(Q5, Q3)\n",
    "Q3.link_next(Q6, Q5)\n",
    "Q4.link_next(Q7, Q9)\n",
    "Q5.link_next(Q7, Q4)\n",
    "Q6.link_next(Q11, Q5)\n",
    "Q7.link_next(Q8, Q9)\n",
    "Q8.link_next(Q10, Q11)\n",
    "Q9.link_next(Q13, Q12)\n",
    "Q10.link_next(Q12, Q11)\n",
    "Q11.link_next(Q9, Q13)\n",
    "Q12.link_next(\"봉투만 전해도 OK\", Q13)\n",
    "Q13.link_next(\"필참\", Q14)\n",
    "Q14.link_next(\"필참\", \"봉투만 전해도 OK\")"
   ]
  },
  {
   "cell_type": "code",
   "execution_count": 136,
   "metadata": {},
   "outputs": [
    {
     "name": "stdout",
     "output_type": "stream",
     "text": [
      "최근 1년 간 청첩장이 아닌 이유로 만난 적이 있다. (Y/N)y\n",
      "청첩장을 직접 받았다. (Y/N)y\n",
      "직장 동료다. (Y/N)y\n",
      "자주 보는 사이다. (Y/N)y\n",
      "이번이 재혼이다. (Y/N)y\n",
      "그로부터 상처를 받은 적이 있다. (Y/N)y\n",
      "식장이 지방이다. (Y/N)y\n",
      "내야할 돈은 3!\n",
      "봉투만 전해도 OK\n"
     ]
    }
   ],
   "source": [
    "next_Q = Q1.ask()\n",
    "while ((next_Q != \"필참\") & (next_Q != \"봉투만 전해도 OK\")):\n",
    "    next_Q = next_Q.ask()\n",
    "\n",
    "congraturatory_money += Question.extra\n",
    "print(f\"내야할 돈은 {congraturatory_money}!\")\n",
    "print(next_Q)"
   ]
  },
  {
   "cell_type": "code",
   "execution_count": 130,
   "metadata": {},
   "outputs": [
    {
     "data": {
      "text/plain": [
       "-2"
      ]
     },
     "execution_count": 130,
     "metadata": {},
     "output_type": "execute_result"
    }
   ],
   "source": []
  },
  {
   "cell_type": "markdown",
   "metadata": {},
   "source": [
    "### 정리"
   ]
  },
  {
   "cell_type": "code",
   "execution_count": 139,
   "metadata": {},
   "outputs": [
    {
     "name": "stdout",
     "output_type": "stream",
     "text": [
      "최근 1년 간 청첩장이 아닌 이유로 만난 적이 있다. (Y/N)y\n",
      "청첩장을 직접 받았다. (Y/N)y\n",
      "직장 동료다. (Y/N)\n",
      "'Y' 또는 'N'으로 입력해주세요\n",
      "직장 동료다. (Y/N)n\n",
      "인연을 맺은 지 5년 이상이다. (Y/N)y\n",
      "자주 보는 사이다. (Y/N)n\n",
      "식장이 호텔이다. (Y/N)y\n",
      "나도 2년 안에 결혼할 예정이다. (Y/N)n\n",
      "액수를 정했는데 뭔가 불안하다. (Y/N)y\n",
      "=============================================\n",
      "내야할 돈은 10만 원!\n",
      "필참\n",
      "=============================================\n"
     ]
    }
   ],
   "source": [
    "# 축의금 \n",
    "congraturatory_money = 5\n",
    "\n",
    "class Question :\n",
    "    extra = 0 \n",
    "    def __init__(self, Y_cost, N_cost, question) :\n",
    "        self.Y_cost = Y_cost\n",
    "        self.N_cost = N_cost\n",
    "        self.question = question\n",
    "    \n",
    "    def link_next(self,Y_next, N_next) : \n",
    "        self.Y_next = Y_next\n",
    "        self.N_next = N_next\n",
    "        \n",
    "    def ask(self):\n",
    "        while True : \n",
    "            self.answer = input(f\"{self.question} (Y/N)\").upper()\n",
    "            \n",
    "            if self.answer == \"Y\" :\n",
    "                Question.extra += self.Y_cost\n",
    "                return self.Y_next\n",
    "            elif self.answer == \"N\" :\n",
    "                Question.extra += self.N_cost\n",
    "                return self.N_next\n",
    "            else : \n",
    "                print(\"'Y' 또는 'N'으로 입력해주세요\")\n",
    "                \n",
    "Q1 = Question(1, 0, \"최근 1년 간 청첩장이 아닌 이유로 만난 적이 있다.\")  \n",
    "Q2 = Question(1, 0, \"청첩장을 직접 받았다.\")  \n",
    "Q3 = Question(-1, 0, \"청첩장을 모바일로 받았다.\")\n",
    "Q4 = Question(0, 0, \"인연을 맺은 지 5년 이상이다.\")  \n",
    "Q5 = Question(0, 0, \"직장 동료다.\") \n",
    "Q6 = Question(0, 0, \"SNS 친구다.\")  \n",
    "Q7 = Question(1, 0, \"자주 보는 사이다.\")  \n",
    "Q8 = Question(-2, 0, \"이번이 재혼이다.\")  \n",
    "Q9 = Question(2, 0, \"식장이 호텔이다.\")  \n",
    "Q10 = Question(-2, 0, \"그로부터 상처를 받은 적이 있다.\")  \n",
    "Q11 = Question(-1, 0, \"결혼 성수기다. \") \n",
    "Q12 = Question(-1, 0, \"식장이 지방이다.\") #  -> 봉투만 전해도 OK\n",
    "Q13 = Question(2, 0, \"나도 2년 안에 결혼할 예정이다.\") # -> 필참\n",
    "Q14 = Question(1, 0, \"액수를 정했는데 뭔가 불안하다.\") # -> 봉투만 전해도 OK\n",
    "\n",
    "Q1.link_next(Q2, Q3)\n",
    "Q2.link_next(Q5, Q3)\n",
    "Q3.link_next(Q6, Q5)\n",
    "Q4.link_next(Q7, Q9)\n",
    "Q5.link_next(Q7, Q4)\n",
    "Q6.link_next(Q11, Q5)\n",
    "Q7.link_next(Q8, Q9)\n",
    "Q8.link_next(Q10, Q11)\n",
    "Q9.link_next(Q13, Q12)\n",
    "Q10.link_next(Q12, Q11)\n",
    "Q11.link_next(Q9, Q13)\n",
    "Q12.link_next(\"봉투만 전해도 OK\", Q13)\n",
    "Q13.link_next(\"필참\", Q14)\n",
    "Q14.link_next(\"필참\", \"봉투만 전해도 OK\")\n",
    "\n",
    "next_Q = Q1.ask()\n",
    "while ((next_Q != \"필참\") & (next_Q != \"봉투만 전해도 OK\")):\n",
    "    next_Q = next_Q.ask()\n",
    "\n",
    "congraturatory_money += Question.extra\n",
    "\n",
    "print(\"=============================================\")\n",
    "print(f\"내야할 돈은 {congraturatory_money}만 원!\")\n",
    "print(next_Q)\n",
    "print(\"=============================================\")"
   ]
  },
  {
   "cell_type": "code",
   "execution_count": null,
   "metadata": {},
   "outputs": [],
   "source": []
  }
 ],
 "metadata": {
  "kernelspec": {
   "display_name": "python3.6",
   "language": "python",
   "name": "py36"
  },
  "language_info": {
   "codemirror_mode": {
    "name": "ipython",
    "version": 3
   },
   "file_extension": ".py",
   "mimetype": "text/x-python",
   "name": "python",
   "nbconvert_exporter": "python",
   "pygments_lexer": "ipython3",
   "version": "3.6.8"
  }
 },
 "nbformat": 4,
 "nbformat_minor": 2
}
