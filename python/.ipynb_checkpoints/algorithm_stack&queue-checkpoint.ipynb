{
 "cells": [
  {
   "cell_type": "code",
   "execution_count": 65,
   "metadata": {},
   "outputs": [],
   "source": [
    "def pylint(code) : \n",
    "\n",
    "    stack = []\n",
    "    code = list(code)\n",
    "    bracket = {'{':'}',\n",
    "               '[':']',\n",
    "               '(':')',}\n",
    "\n",
    "    while code != [] : #pop code one by one \n",
    "        a = code.pop()\n",
    "        if a in bracket :\n",
    "            stack.append(a)\n",
    "            \n",
    "    return stack "
   ]
  },
  {
   "cell_type": "code",
   "execution_count": 63,
   "metadata": {},
   "outputs": [],
   "source": [
    "code = 'int main(void) { return 0; }'"
   ]
  },
  {
   "cell_type": "code",
   "execution_count": 74,
   "metadata": {},
   "outputs": [],
   "source": [
    "bracket = {'{':'}',\n",
    "           '[':']',\n",
    "           '(':')',\n",
    "           '}':'{',\n",
    "           ']':'[',\n",
    "           ')':'(',}"
   ]
  },
  {
   "cell_type": "code",
   "execution_count": null,
   "metadata": {},
   "outputs": [],
   "source": [
    "\"\"\"\n",
    "stack\n",
    "push : stack.append(element)\n",
    "pop : stack.pop()\n",
    "\"\"\""
   ]
  },
  {
   "cell_type": "code",
   "execution_count": 1,
   "metadata": {},
   "outputs": [],
   "source": [
    "stack = []"
   ]
  },
  {
   "cell_type": "code",
   "execution_count": 5,
   "metadata": {},
   "outputs": [],
   "source": [
    "stack.append('3')"
   ]
  },
  {
   "cell_type": "code",
   "execution_count": null,
   "metadata": {},
   "outputs": [],
   "source": [
    "\"\"\"\n",
    "rewind function of word processor\n",
    "\n",
    "descryption : rewind text by word \n",
    "argument : None\n",
    "return : string\n",
    "\"\"\"\n",
    "\n",
    "def rewind_text() :\n",
    "    \n",
    "    global string # 변경된 문자열을 반영하기 위해 \n",
    "    \n",
    "    #문자열을 음절 단위로 분리하여 스택에 쌓는다.\n",
    "    stack = string.split()\n",
    "    \n",
    "    if stack != [] :\n",
    "        #빈 문자가 아니라면, 되감기 시 마지막 음절을 꺼낸다. \n",
    "        stack.pop()\n",
    "        \n",
    "    string = ' '.join(stack)\n",
    "    \n",
    "    #음절 사이에 공백을 넣고 문자열로 되돌린다.     \n",
    "    return string\n",
    "\n",
    "string = input(\"write something : \")\n",
    "\n",
    "rewind_text()"
   ]
  },
  {
   "cell_type": "code",
   "execution_count": 72,
   "metadata": {},
   "outputs": [],
   "source": [
    "string = '그녀는 내 앞으로 지나갔다'"
   ]
  },
  {
   "cell_type": "code",
   "execution_count": 79,
   "metadata": {},
   "outputs": [
    {
     "name": "stdout",
     "output_type": "stream",
     "text": [
      "write something : sdfdsf\n"
     ]
    }
   ],
   "source": [
    "string = input(\"write something : \")"
   ]
  },
  {
   "cell_type": "code",
   "execution_count": 81,
   "metadata": {},
   "outputs": [
    {
     "data": {
      "text/plain": [
       "str"
      ]
     },
     "execution_count": 81,
     "metadata": {},
     "output_type": "execute_result"
    }
   ],
   "source": [
    "type(string)"
   ]
  },
  {
   "cell_type": "code",
   "execution_count": 82,
   "metadata": {},
   "outputs": [],
   "source": [
    "\"\"\"\n",
    "queue : FIFO\n",
    "\n",
    "It's the way CVS displays their products. \n",
    "\n",
    "\"\"\""
   ]
  },
  {
   "cell_type": "code",
   "execution_count": null,
   "metadata": {},
   "outputs": [],
   "source": [
    "from collections import deque\n",
    "\n",
    "refrigerator = deque([]) \n",
    "\n",
    "def push_food(ingredients) :\n",
    "    refrigerator.append(ingredients)\n",
    "        \n",
    "    return refrigerator\n",
    "\n",
    "def pop_food() :\n",
    "    refrigerator.popleft()\n",
    "    "
   ]
  },
  {
   "cell_type": "code",
   "execution_count": 94,
   "metadata": {},
   "outputs": [
    {
     "data": {
      "text/plain": [
       "deque(['토마토'])"
      ]
     },
     "execution_count": 94,
     "metadata": {},
     "output_type": "execute_result"
    }
   ],
   "source": [
    "push_food('토마토')"
   ]
  },
  {
   "cell_type": "code",
   "execution_count": 95,
   "metadata": {},
   "outputs": [],
   "source": [
    "pop_food()"
   ]
  },
  {
   "cell_type": "code",
   "execution_count": 97,
   "metadata": {},
   "outputs": [
    {
     "data": {
      "text/plain": [
       "collections.deque"
      ]
     },
     "execution_count": 97,
     "metadata": {},
     "output_type": "execute_result"
    }
   ],
   "source": []
  },
  {
   "cell_type": "code",
   "execution_count": null,
   "metadata": {},
   "outputs": [],
   "source": []
  }
 ],
 "metadata": {
  "kernelspec": {
   "display_name": "Python 3",
   "language": "python",
   "name": "python3"
  },
  "language_info": {
   "codemirror_mode": {
    "name": "ipython",
    "version": 3
   },
   "file_extension": ".py",
   "mimetype": "text/x-python",
   "name": "python",
   "nbconvert_exporter": "python",
   "pygments_lexer": "ipython3",
   "version": "3.7.1"
  }
 },
 "nbformat": 4,
 "nbformat_minor": 2
}
