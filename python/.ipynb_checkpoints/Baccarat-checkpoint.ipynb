{
 "cells": [
  {
   "cell_type": "code",
   "execution_count": 293,
   "metadata": {},
   "outputs": [],
   "source": [
    "import random\n",
    "\n",
    "\"\"\"\n",
    "Users\n",
    "\"\"\"\n",
    "class User :\n",
    "    \n",
    "    def __init__(self, seed_money) :\n",
    "        self.earnings = 0 \n",
    "        self.seed_money = seed_money \n",
    "        self.grade = 'Bronze'\n",
    "        self.score = int(round(self.earnings))\n",
    "        \n",
    "    def rank(self) :\n",
    "        if self.score <= 1000000 :\n",
    "            self.grade = 'Bronze'\n",
    "        elif self.score <= 5000000 : \n",
    "            self.grade = 'Platinum'\n",
    "        elif self.score <= 10000000 : \n",
    "            self.grade = 'Diamond'\n",
    "        elif self.score <= 25000000 : \n",
    "            self.grade = 'Master'\n",
    "        elif self.score > 50000000 : \n",
    "            self.grade = 'Grand Master'\n",
    "            \n",
    "        return self.grade\n",
    "\n",
    "\"\"\"\n",
    "Players\n",
    "\"\"\"\n",
    "class Player : \n",
    "    \n",
    "    def __init__(self, name) :\n",
    "        \n",
    "        self.name = name\n",
    "        self.cards = []\n",
    "        self.score = 0\n",
    "        self.value = 'Nothing'\n",
    "        self.record = {'win' : 0, 'lose' : 0, 'pair' : 0, 'tie' : 0 }\n",
    "\n",
    "#users\n",
    "user = User(100*10000)\n",
    "\n",
    "#players\n",
    "player = Player('player')\n",
    "banker = Player('banker')"
   ]
  },
  {
   "cell_type": "code",
   "execution_count": 265,
   "metadata": {},
   "outputs": [
    {
     "name": "stdout",
     "output_type": "stream",
     "text": [
      "[1. Player 2. Player pair 3. Banker 4. Banker pair 5. Tie]\n",
      " -------------------------------------------\n",
      " Your Capital : 1000000 원\n",
      " Please bet your money\n",
      "player :50000\n",
      "player_pair :5000\n",
      "banker :0\n",
      "banker_pair :0\n",
      "tie :0\n"
     ]
    },
    {
     "data": {
      "text/plain": [
       "({'player': 50000,\n",
       "  'player_pair': 5000,\n",
       "  'banker': 0,\n",
       "  'banker_pair': 0,\n",
       "  'tie': 0},\n",
       " 945000)"
      ]
     },
     "execution_count": 265,
     "metadata": {},
     "output_type": "execute_result"
    }
   ],
   "source": [
    "class Betting_table :\n",
    "    \n",
    "    def __init__(self) :\n",
    "        self.bet_table = {'player' : 0,\n",
    "                          'player_pair' : 0, \n",
    "                          'banker' : 0,\n",
    "                          'banker_pair' : 0,\n",
    "                          'tie' : 0,} \n",
    "\n",
    "    def bet(self, user) :\n",
    "        #user betting \n",
    "        print(\"[1. Player 2. Player pair 3. Banker 4. Banker pair 5. Tie]\\n\",\n",
    "                  \"-------------------------------------------\\n\",\n",
    "                  \"Your Capital : %d 원\\n\" %(user.seed_money),\n",
    "                  \"Please bet your money\")\n",
    "        \n",
    "        for k in self.bet_table :\n",
    "            self.bet_table[k] = int(input(\"%s :\" %k))\n",
    "            user.seed_money -= self.bet_table[k] \n",
    "            \n",
    "        return self.bet_table, user.seed_money\n",
    "    \n",
    "btb = Betting_table()\n",
    "btb.bet(user)"
   ]
  },
  {
   "cell_type": "code",
   "execution_count": 292,
   "metadata": {
    "scrolled": false
   },
   "outputs": [
    {
     "name": "stdout",
     "output_type": "stream",
     "text": [
      "Draw!\n",
      "[4]\n",
      "Draw!\n",
      "[5]\n",
      "Draw!\n",
      "[4, 7]\n",
      "Draw!\n",
      "[5, 'K']\n"
     ]
    },
    {
     "data": {
      "text/plain": [
       "([4, 7], [5, 'K'])"
      ]
     },
     "execution_count": 292,
     "metadata": {},
     "output_type": "execute_result"
    }
   ],
   "source": [
    "class Card_table : \n",
    "    \n",
    "    def __init__(self) :\n",
    "        self.deck = {'Ace' : 1, \n",
    "                    2:2, 3:3, 4:4, 5:5, 6:6, 7:7, 8:8, 9:9, \n",
    "                    10:0, 'J':0, 'Q':0, 'K':0}\n",
    "\n",
    "    def draw(self, player) :\n",
    "        print(\"Draw!\")\n",
    "        \n",
    "        self.card = random.sample(self.deck.keys(), 1)\n",
    "        player.cards.append(self.card[0])\n",
    "\n",
    "        print(player.cards)\n",
    "        \n",
    "        return player.cards \n",
    "\n",
    "    #game class로 옮기기 \n",
    "    def one_more(self, player, banker) :\n",
    "        \n",
    "        #player's 'one more card'\n",
    "        self.draw(player)\n",
    "\n",
    "        #banker's 'one more card'\n",
    "        if banker.score <= 2 : \n",
    "            self.draw(banker)\n",
    "\n",
    "        elif (banker.score == 3) & (player.cards[2] != 8) :\n",
    "            self.draw(banker)\n",
    "\n",
    "        elif (banker.score == 4) & (player.cards[2] in range(2,8)) :\n",
    "            self.draw(banker)\n",
    "\n",
    "        elif (banker.score == 5) & (player.cards[2] in range(4,8)) :\n",
    "            self.draw(banker)\n",
    "\n",
    "        elif (banker.score == 6) & (player.cards[2] in range(6,8)) :\n",
    "            self.draw(banker)\n",
    "        \n",
    "        return player.cards, banker.cards\n",
    "        \n",
    "ctb=Card_table()\n",
    "ctb.draw(player)\n",
    "ctb.draw(banker)\n",
    "\n",
    "ctb.one_more(player,banker)\n",
    "\n",
    "# player.cards['one_more'] = ctb.one_more(ctb.deck)"
   ]
  },
  {
   "cell_type": "code",
   "execution_count": 250,
   "metadata": {},
   "outputs": [
    {
     "data": {
      "text/plain": [
       "'nothing'"
      ]
     },
     "execution_count": 250,
     "metadata": {},
     "output_type": "execute_result"
    }
   ],
   "source": [
    "class Score_table(Card_table) : #record_table은 따로   \n",
    "    \n",
    "    def __init__(self, deck) :\n",
    "        self.deck = deck\n",
    "    \n",
    "    def count(self, player) :\n",
    "        self.num = [0,0,0]\n",
    "        \n",
    "        for i in range(2) : \n",
    "            self.num[i] = self.deck[player.cards[i]]\n",
    "        \n",
    "        self.card_sum = sum(self.num)%10\n",
    "        player.score = self.card_sum\n",
    "        \n",
    "        return player.score, self.num\n",
    "\n",
    "    def check_value(self, player) :\n",
    "        #Natural\n",
    "        if player.score >= 8 :\n",
    "            player.value = 'natural'\n",
    "        \n",
    "        #Stand\n",
    "        elif player.score >= 6 : \n",
    "            if (player.name == 'banker') & (player.score==6) :\n",
    "                player.value = 'nothing'\n",
    "                \n",
    "            else : \n",
    "                player.value = 'stand'\n",
    "                    \n",
    "        #Nothing \n",
    "        else : \n",
    "            player.value = 'nothing'\n",
    "            \n",
    "        return player.value\n",
    "            \n",
    "    \n",
    "stb = Score_table(ctb.deck)\n",
    "stb.count(player)\n",
    "stb.count(banker)\n",
    "stb.check_value(player)\n",
    "stb.check_value(banker)"
   ]
  },
  {
   "cell_type": "code",
   "execution_count": 251,
   "metadata": {},
   "outputs": [
    {
     "data": {
      "text/plain": [
       "({'win': 0, 'lose': 1, 'pair': 0, 'tie': 0},\n",
       " {'win': 1, 'lose': 0, 'pair': 0, 'tie': 0},\n",
       " 'banker')"
      ]
     },
     "execution_count": 251,
     "metadata": {},
     "output_type": "execute_result"
    }
   ],
   "source": [
    "class Record_table : \n",
    "    \n",
    "    def __init__(self) :\n",
    "        self.winner = ''\n",
    "        self.pair = ''\n",
    "        self.tie = False\n",
    "\n",
    "    #player means 'player' only in this function\n",
    "    def record_game(self, player, banker) :\n",
    "        \n",
    "        #win & lose\n",
    "        if player.score > banker.score : \n",
    "            player.record['win'] += 1\n",
    "            banker.record['lose'] += 1\n",
    "            self.winner = player.name\n",
    "            \n",
    "        elif player.score < banker.score :\n",
    "            player.record['lose'] += 1\n",
    "            banker.record['win'] += 1\n",
    "            self.winner = banker.name\n",
    "\n",
    "        #tie\n",
    "        elif player.score == banker.score :\n",
    "            player.record['tie'] += 1\n",
    "            banker.record['tie'] += 1\n",
    "            self.tie = True\n",
    "\n",
    "        #pair\n",
    "        if player.cards[0] == player.cards[1] :\n",
    "            player.record['pair'] += 1\n",
    "            self.pair = player.name\n",
    "\n",
    "        elif banker.cards[0] == banker.cards[1] :\n",
    "            banker.record['pair'] += 1\n",
    "            self.pair = banker.name\n",
    "            \n",
    "        return player.record, banker.record, self.winner\n",
    "    \n",
    "rtb = Record_table()\n",
    "rtb.record_game(player, banker)"
   ]
  },
  {
   "cell_type": "code",
   "execution_count": 256,
   "metadata": {},
   "outputs": [
    {
     "data": {
      "text/plain": [
       "985000.0"
      ]
     },
     "execution_count": 256,
     "metadata": {},
     "output_type": "execute_result"
    }
   ],
   "source": [
    "class Cash_table(Betting_table, Record_table) :\n",
    "    \n",
    "    def __init__(self, bet_table, winner, tie, pair) :\n",
    "        self.bet_table = bet_table\n",
    "        self.winner = winner\n",
    "        self.tie = tie\n",
    "        self.pair = pair\n",
    "    \n",
    "    def pay(self, user) :\n",
    "        \n",
    "        #win & lose\n",
    "        if self.winner == 'player' : \n",
    "            user.earnings += self.bet_table['player']*2\n",
    "            \n",
    "        elif self.winner == 'banker' :\n",
    "            user.earnings += self.bet_table['banker']*1.95\n",
    "            \n",
    "        #tie\n",
    "        elif self.tie == True : \n",
    "            user.earnings += self.bet_table['tie']*8\n",
    "        \n",
    "        #pair\n",
    "        if self.pair=='player' :\n",
    "            user.earnings += self.bet_table['plaeyr_pair']*11\n",
    "        elif self.pair=='banker' :\n",
    "            user.earnings += self.bet_table['banker_pair']*11\n",
    "            \n",
    "        user.seed_money += user.earnings\n",
    "            \n",
    "        return user.seed_money \n",
    "\n",
    "cash_tb = Cash_table(btb.bet_table, rtb.winner, rtb.tie, rtb.pair)\n",
    "cash_tb.pay(user)\n"
   ]
  },
  {
   "cell_type": "code",
   "execution_count": 296,
   "metadata": {
    "scrolled": false
   },
   "outputs": [
    {
     "name": "stdout",
     "output_type": "stream",
     "text": [
      "[1. Player 2. Player pair 3. Banker 4. Banker pair 5. Tie]\n",
      " -------------------------------------------\n",
      " Your Capital : 1000000 원\n",
      " Please bet your money\n",
      "player :50000\n",
      "player_pair :5000\n",
      "banker :0\n",
      "banker_pair :0\n",
      "tie :10000\n",
      "Draw!\n",
      "[4]\n",
      "Draw!\n",
      "[7]\n",
      "Draw!\n",
      "[4, 7]\n",
      "Draw!\n",
      "[7, 8]\n",
      "-------------------------------------------\n",
      " One more card!\n",
      "Draw!\n",
      "[4, 7, 4]\n",
      "Draw!\n",
      "[7, 8, 'J']\n"
     ]
    }
   ],
   "source": [
    "if __name__ == \"__main__\" :\n",
    "\n",
    "    #users\n",
    "    user = User(100*10000)\n",
    "\n",
    "    #players\n",
    "    player = Player('player')\n",
    "    banker = Player('banker')\n",
    "\n",
    "    #betting\n",
    "    btb = Betting_table()\n",
    "    btb.bet(user)\n",
    "\n",
    "    #drawing\n",
    "    ctb=Card_table()\n",
    "    player.cards = ctb.draw(player)\n",
    "    banker.cards = ctb.draw(banker)\n",
    "    player.cards = ctb.draw(player)\n",
    "    banker.cards = ctb.draw(banker)\n",
    "\n",
    "    #scoring\n",
    "    stb = Score_table(ctb.deck)\n",
    "    stb.count(player)\n",
    "    stb.count(banker)\n",
    "    stb.check_value(player)\n",
    "    stb.check_value(banker)\n",
    "\n",
    "    #one more drawing?\n",
    "    if (player.value == 'nothing') & (banker.value == 'nothing') :\n",
    "        print(\"-------------------------------------------\\n\",\n",
    "              \"One more card!\")\n",
    "\n",
    "        ctb.one_more(player, banker)\n",
    "    \n",
    "    #scoring again\n",
    "    stb.count(player)\n",
    "    stb.count(banker)\n",
    "    \n",
    "    #recording game \n",
    "    rtb = Record_table()\n",
    "    rtb.record_game(player, banker)\n",
    "    \n",
    "    #paying\n",
    "    cash_tb = Cash_table(btb.bet_table, rtb.winner, rtb.tie, rtb.pair)\n",
    "    cash_tb.pay(user)\n",
    "\n"
   ]
  },
  {
   "cell_type": "code",
   "execution_count": 298,
   "metadata": {},
   "outputs": [
    {
     "name": "stdout",
     "output_type": "stream",
     "text": [
      "0.0 0 Bronze 935000.0\n"
     ]
    }
   ],
   "source": [
    "print(user.earnings,\n",
    "      user.score,\n",
    "      user.grade,\n",
    "      user.seed_money,)\n"
   ]
  },
  {
   "cell_type": "code",
   "execution_count": 286,
   "metadata": {},
   "outputs": [],
   "source": [
    "player.cards.append(1)"
   ]
  },
  {
   "cell_type": "code",
   "execution_count": null,
   "metadata": {},
   "outputs": [],
   "source": [
    "\"\"\"\n",
    "Rule reference\n",
    "\"\"\"\n",
    "\n",
    "https://foxc987.blog.me/221357525993\n",
    "https://blog.naver.com/midas_rick21/100166043677\n",
    "https://cafe.naver.com/chzh3077/12\n",
    "https://cafe.naver.com/eosgamble/62\n",
    "    \n",
    "https://youtu.be/b90A6CfUP_k\n",
    "https://youtu.be/475ZPna64cQ"
   ]
  }
 ],
 "metadata": {
  "kernelspec": {
   "display_name": "Python 3",
   "language": "python",
   "name": "python3"
  },
  "language_info": {
   "codemirror_mode": {
    "name": "ipython",
    "version": 3
   },
   "file_extension": ".py",
   "mimetype": "text/x-python",
   "name": "python",
   "nbconvert_exporter": "python",
   "pygments_lexer": "ipython3",
   "version": "3.7.1"
  }
 },
 "nbformat": 4,
 "nbformat_minor": 2
}
