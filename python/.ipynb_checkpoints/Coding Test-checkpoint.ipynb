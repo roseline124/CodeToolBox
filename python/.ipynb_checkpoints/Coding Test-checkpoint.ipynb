{
 "cells": [
  {
   "cell_type": "code",
   "execution_count": 1,
   "metadata": {},
   "outputs": [
    {
     "data": {
      "text/plain": [
       "'\\nProgrammers : https://programmers.co.kr/learn/courses/30/lessons/17676?language=python3\\n'"
      ]
     },
     "execution_count": 1,
     "metadata": {},
     "output_type": "execute_result"
    }
   ],
   "source": [
    "\"\"\"\n",
    "Programmers : https://programmers.co.kr/learn/courses/30/lessons/17676?language=python3\n",
    "2017년 카카오 블라인드 채용 테스트 : 1차 - 추석 트래픽  \n",
    "\"\"\""
   ]
  },
  {
   "cell_type": "code",
   "execution_count": 12,
   "metadata": {},
   "outputs": [],
   "source": [
    "def input_lines() :\n",
    "    log = input(\"log data : \").split(',')\n",
    "    \n",
    "    return log"
   ]
  },
  {
   "cell_type": "code",
   "execution_count": 28,
   "metadata": {},
   "outputs": [],
   "source": [
    "def parse_log(log) :\n",
    "    \n",
    "    Success_log = []\n",
    "    Treat_log = []\n",
    "    \n",
    "    for i in range(len(log)) :\n",
    "        S = log[i][11:23]\n",
    "        T = str(float(log[i][24:].replace(\"s\",\"\")))\n",
    "        \n",
    "        Success_log.append(S)\n",
    "        Treat_log.append(T)\n",
    "        \n",
    "    return Success_log, Treat_log #type : list"
   ]
  },
  {
   "cell_type": "code",
   "execution_count": 66,
   "metadata": {},
   "outputs": [],
   "source": [
    "from datetime import datetime\n",
    "\n",
    "def str_to_time(s_log, t_log) : #type : list\n",
    "    \n",
    "    Success_time = []\n",
    "    Treat_time = [] \n",
    "    \n",
    "    for i in range(len(s_log)) :\n",
    "        S = datetime.strptime(s_log[i],'%H:%M:%S.%f')\n",
    "        T = datetime.strptime(t_log[i],'%S.%f')\n",
    "\n",
    "        Success_time.append(S)\n",
    "        Treat_time.append(T)\n",
    "        \n",
    "    return Success_time, Treat_time    "
   ]
  },
  {
   "cell_type": "code",
   "execution_count": 64,
   "metadata": {},
   "outputs": [],
   "source": [
    "def get_duration(s_time, t_time) :\n",
    "    \n",
    "    start_point = []\n",
    "    end_point = []\n",
    "    time_block = []\n",
    "    \n",
    "    for i in range(len(s_time)) :\n",
    "        \n",
    "        s = s_time[i] - t_time[i]\n",
    "        \n",
    "        start_point.append(s) \n",
    "        end_point.append(s_time[i])\n",
    "        \n",
    "    return start_point, end_point\n",
    "    "
   ]
  },
  {
   "cell_type": "code",
   "execution_count": 29,
   "metadata": {},
   "outputs": [
    {
     "name": "stdout",
     "output_type": "stream",
     "text": [
      "log data : 2016-09-15 01:00:04.002 2.0s,2016-09-15 01:00:07.000 2s\n"
     ]
    }
   ],
   "source": [
    "log = input_lines()"
   ]
  },
  {
   "cell_type": "code",
   "execution_count": 59,
   "metadata": {},
   "outputs": [
    {
     "data": {
      "text/plain": [
       "(['01:00:04.002', '01:00:07.000'], ['2.0', '2.0'])"
      ]
     },
     "execution_count": 59,
     "metadata": {},
     "output_type": "execute_result"
    }
   ],
   "source": [
    "s_log, t_log= parse_log(log)\n",
    "s_log, t_log"
   ]
  },
  {
   "cell_type": "code",
   "execution_count": 71,
   "metadata": {},
   "outputs": [
    {
     "data": {
      "text/plain": [
       "(datetime.datetime(1900, 1, 1, 1, 0, 4, 2000),\n",
       " [datetime.datetime(1900, 1, 1, 0, 0, 2),\n",
       "  datetime.datetime(1900, 1, 1, 0, 0, 2)])"
      ]
     },
     "execution_count": 71,
     "metadata": {},
     "output_type": "execute_result"
    }
   ],
   "source": [
    "s_time, t_time = str_to_time(s_log, t_log)\n",
    "s_time[0], t_time"
   ]
  },
  {
   "cell_type": "code",
   "execution_count": 68,
   "metadata": {},
   "outputs": [
    {
     "data": {
      "text/plain": [
       "([datetime.timedelta(seconds=3602, microseconds=2000),\n",
       "  datetime.timedelta(seconds=3605)],\n",
       " [datetime.datetime(1900, 1, 1, 1, 0, 4, 2000),\n",
       "  datetime.datetime(1900, 1, 1, 1, 0, 7)])"
      ]
     },
     "execution_count": 68,
     "metadata": {},
     "output_type": "execute_result"
    }
   ],
   "source": [
    "start_point, end_point = get_duration(s_time, t_time)\n",
    "start_point, end_point"
   ]
  },
  {
   "cell_type": "code",
   "execution_count": 70,
   "metadata": {
    "scrolled": true
   },
   "outputs": [
    {
     "ename": "TypeError",
     "evalue": "descriptor 'time' requires a 'datetime.datetime' object but received a 'datetime.timedelta'",
     "output_type": "error",
     "traceback": [
      "\u001b[1;31m---------------------------------------------------------------------------\u001b[0m",
      "\u001b[1;31mTypeError\u001b[0m                                 Traceback (most recent call last)",
      "\u001b[1;32m<ipython-input-70-4fed4f1e91a9>\u001b[0m in \u001b[0;36m<module>\u001b[1;34m\u001b[0m\n\u001b[1;32m----> 1\u001b[1;33m \u001b[0mdatetime\u001b[0m\u001b[1;33m.\u001b[0m\u001b[0mtime\u001b[0m\u001b[1;33m(\u001b[0m\u001b[0mstart_point\u001b[0m\u001b[1;33m[\u001b[0m\u001b[1;36m0\u001b[0m\u001b[1;33m]\u001b[0m\u001b[1;33m)\u001b[0m\u001b[1;33m\u001b[0m\u001b[1;33m\u001b[0m\u001b[0m\n\u001b[0m",
      "\u001b[1;31mTypeError\u001b[0m: descriptor 'time' requires a 'datetime.datetime' object but received a 'datetime.timedelta'"
     ]
    }
   ],
   "source": [
    "datetime.time(start_point[0])"
   ]
  },
  {
   "cell_type": "code",
   "execution_count": 54,
   "metadata": {},
   "outputs": [
    {
     "data": {
      "text/plain": [
       "[datetime.datetime(1900, 1, 1, 1, 0, 4, 2000),\n",
       " datetime.datetime(1900, 1, 1, 1, 0, 7)]"
      ]
     },
     "execution_count": 54,
     "metadata": {},
     "output_type": "execute_result"
    }
   ],
   "source": []
  },
  {
   "cell_type": "code",
   "execution_count": null,
   "metadata": {},
   "outputs": [],
   "source": []
  }
 ],
 "metadata": {
  "kernelspec": {
   "display_name": "Python 3",
   "language": "python",
   "name": "python3"
  },
  "language_info": {
   "codemirror_mode": {
    "name": "ipython",
    "version": 3
   },
   "file_extension": ".py",
   "mimetype": "text/x-python",
   "name": "python",
   "nbconvert_exporter": "python",
   "pygments_lexer": "ipython3",
   "version": "3.7.1"
  }
 },
 "nbformat": 4,
 "nbformat_minor": 2
}
