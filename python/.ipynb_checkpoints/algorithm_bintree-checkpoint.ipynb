{
 "cells": [
  {
   "cell_type": "code",
   "execution_count": 1,
   "metadata": {},
   "outputs": [
    {
     "data": {
      "text/plain": [
       "'\\n이중노드로 이진트리를 구현하자! ^0^ 오홍홍\\n'"
      ]
     },
     "execution_count": 1,
     "metadata": {},
     "output_type": "execute_result"
    }
   ],
   "source": [
    "\"\"\"\n",
    "이진트리를 구현하자! ^0^ 오홍홍\n",
    "\"\"\""
   ]
  },
  {
   "cell_type": "code",
   "execution_count": 20,
   "metadata": {},
   "outputs": [],
   "source": [
    "class treeNode : \n",
    "    \n",
    "    def __init__(self, data, left=None, right=None) :\n",
    "        self.data = data\n",
    "        self.left = left\n",
    "        self.right = right"
   ]
  },
  {
   "cell_type": "code",
   "execution_count": 21,
   "metadata": {},
   "outputs": [],
   "source": [
    "node2 = treeNode(125)\n",
    "node1 = treeNode(75)\n",
    "root = treeNode(100, node1, node2)"
   ]
  },
  {
   "cell_type": "code",
   "execution_count": 27,
   "metadata": {},
   "outputs": [],
   "source": [
    "def search(data, root) :\n",
    "\n",
    "    currNode = root\n",
    "\n",
    "    if data == currNode.data : \n",
    "        return currNode\n",
    "    \n",
    "    else : \n",
    "        if data > currNode.data : \n",
    "            currNode = currNode.right\n",
    "\n",
    "        elif data < currNode.data : \n",
    "            currNode = currNode.left\n",
    "        \n",
    "        currNode = search(data, currNode)\n",
    "        \n",
    "    return currNode  \n",
    "        \n",
    "def insert(data, root) :\n",
    "    newNode = treeNode(data)\n",
    "    currNode = root\n",
    "    \n",
    "    if data > currNode.data : \n",
    "        if currNode.right is None : \n",
    "            currNode.right = newNode\n",
    "        else : \n",
    "            insert(data, currNode.right)\n",
    "        \n",
    "    elif data < currNode.data : \n",
    "        if currNode.left is None : \n",
    "            currNode.left = newNode\n",
    "        else : \n",
    "            insert(data, currNode.left)\n",
    "            \n",
    "def lift(node, delNode) :\n",
    "    if delNode.data\n",
    "    \n",
    "def delete(data root) :\n",
    "    delNode = search(data, root)\n",
    "    \n",
    "    if delNode is None : \n",
    "        return None \n",
    "    \n",
    "        if (delNode.left is None) & (delNode.right is None) : \n",
    "            delNode = None \n",
    "            \n",
    "        elif (delNode.left is not None) & (delNode.right is None) :\n",
    "            delNode = delNode.left \n",
    "            \n",
    "        elif (delNode.left is None) & (delNode.right is not None) :\n",
    "            delNode = delNode.right\n",
    "            \n",
    "        elif (delNode.left is not None) & (delNode.right is not None) :\n",
    "                \n"
   ]
  },
  {
   "cell_type": "code",
   "execution_count": 25,
   "metadata": {},
   "outputs": [
    {
     "data": {
      "text/plain": [
       "<__main__.treeNode at 0x12f74f0>"
      ]
     },
     "execution_count": 25,
     "metadata": {},
     "output_type": "execute_result"
    }
   ],
   "source": [
    "search(75, root)\n"
   ]
  },
  {
   "cell_type": "code",
   "execution_count": 32,
   "metadata": {},
   "outputs": [],
   "source": [
    "insert(150, root)"
   ]
  },
  {
   "cell_type": "code",
   "execution_count": 34,
   "metadata": {},
   "outputs": [
    {
     "data": {
      "text/plain": [
       "50"
      ]
     },
     "execution_count": 34,
     "metadata": {},
     "output_type": "execute_result"
    }
   ],
   "source": [
    "search(50, root).data"
   ]
  },
  {
   "cell_type": "code",
   "execution_count": 35,
   "metadata": {},
   "outputs": [],
   "source": [
    "HEAD_DATA = 100\n",
    "\n",
    "class binTree(doubleNode) :\n",
    "    \n",
    "    def __init__(self) :\n",
    "        self.head = doubleNode()\n",
    "        self.head.data = HEAD_DATA            \n",
    "        \n",
    "    def search(self, data) : #return lastNode\n",
    "        self.currNode = self.head\n",
    "\n",
    "        while self.currNode.data != data : \n",
    "            if self.currNode.leftNode == None : \n",
    "                if self.currNode.rightNode != None :\n",
    "                    self.currNode = self.currNode.rightNode \n",
    "                \n",
    "                else : \n",
    "                    print(\"there's no data such like that\")\n",
    "                    return None\n",
    "                \n",
    "            else : \n",
    "                self.currNode = self.currNode.leftNode\n",
    "            \n",
    "        return self.currNode\n",
    "    \n",
    "    def makeNewNode(self, data) :\n",
    "        \n",
    "        if data == 0 : \n",
    "            print(\"0 is default. please choose other number\")\n",
    "        \n",
    "        else : \n",
    "            self.newNode = doubleNode()\n",
    "            self.newNode.data = data \n",
    "        \n",
    "        return self.newNode\n",
    "        \n",
    "        \n",
    "    def insert(self, newNode) :\n",
    "        self.currNode = self.head\n",
    "        \n",
    "        while (self.currNode.leftNode != None) | (self.currNode.leftNode != None) : \n",
    "            if newNode.data > self.currNode.data : \n",
    "                if self.currNode.rightNode != None :\n",
    "                    self.currNode = self.currNode.rightNode\n",
    "                else : \n",
    "                    self.currNode = self.currNode.leftNode\n",
    "                \n",
    "            elif newNode.data < self.currNode.data : \n",
    "                self.currNode = self.currNode.leftNode\n",
    "                \n",
    "            else : \n",
    "                print(\"new Node data must be different from other data\")\n",
    "                \n",
    "        self.currNode = newNode\n",
    "        return self.currNode\n",
    "        \n",
    "    \n",
    "\n",
    "        "
   ]
  },
  {
   "cell_type": "code",
   "execution_count": 36,
   "metadata": {},
   "outputs": [],
   "source": [
    "tree = binTree()"
   ]
  },
  {
   "cell_type": "code",
   "execution_count": 37,
   "metadata": {},
   "outputs": [
    {
     "name": "stdout",
     "output_type": "stream",
     "text": [
      "<__main__.doubleNode object at 0x016BE750>\n"
     ]
    }
   ],
   "source": [
    "print(tree.search(100))"
   ]
  },
  {
   "cell_type": "code",
   "execution_count": 38,
   "metadata": {},
   "outputs": [],
   "source": [
    "newNode = tree.makeNewNode(125)"
   ]
  },
  {
   "cell_type": "code",
   "execution_count": 35,
   "metadata": {},
   "outputs": [],
   "source": [
    "e = None"
   ]
  },
  {
   "cell_type": "raw",
   "metadata": {},
   "source": [
    "def test() : \n",
    "    if e : \n",
    "     print(\"hello\")"
   ]
  },
  {
   "cell_type": "code",
   "execution_count": 36,
   "metadata": {},
   "outputs": [
    {
     "ename": "NameError",
     "evalue": "name 'test' is not defined",
     "output_type": "error",
     "traceback": [
      "\u001b[1;31m---------------------------------------------------------------------------\u001b[0m",
      "\u001b[1;31mNameError\u001b[0m                                 Traceback (most recent call last)",
      "\u001b[1;32m<ipython-input-36-fbd55f77ab7c>\u001b[0m in \u001b[0;36m<module>\u001b[1;34m\u001b[0m\n\u001b[1;32m----> 1\u001b[1;33m \u001b[0mtest\u001b[0m\u001b[1;33m(\u001b[0m\u001b[1;33m)\u001b[0m\u001b[1;33m\u001b[0m\u001b[1;33m\u001b[0m\u001b[0m\n\u001b[0m",
      "\u001b[1;31mNameError\u001b[0m: name 'test' is not defined"
     ]
    }
   ],
   "source": [
    "test()"
   ]
  },
  {
   "cell_type": "code",
   "execution_count": null,
   "metadata": {},
   "outputs": [],
   "source": []
  }
 ],
 "metadata": {
  "kernelspec": {
   "display_name": "Python 3",
   "language": "python",
   "name": "python3"
  },
  "language_info": {
   "codemirror_mode": {
    "name": "ipython",
    "version": 3
   },
   "file_extension": ".py",
   "mimetype": "text/x-python",
   "name": "python",
   "nbconvert_exporter": "python",
   "pygments_lexer": "ipython3",
   "version": "3.7.1"
  }
 },
 "nbformat": 4,
 "nbformat_minor": 2
}
