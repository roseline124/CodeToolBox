{
 "cells": [
  {
   "cell_type": "code",
   "execution_count": 19,
   "metadata": {
    "scrolled": true
   },
   "outputs": [
    {
     "name": "stdout",
     "output_type": "stream",
     "text": [
      "a : 0 | b : 2\n",
      " bb\n",
      "a : 2 | b : 1\n",
      "aa b\n",
      "a : 4 | b : 0\n",
      "aaaa \n"
     ]
    }
   ],
   "source": [
    "n=4\n",
    "step = 0\n",
    "a=range(0,n+1)\n",
    "b=range(0,round(n/2)+1)\n",
    "for x in a :\n",
    "    for y in b : \n",
    "        if (1*x)+(2*y)==n : \n",
    "            step += 1\n",
    "            print(\"a :\",x, \"| b :\",y)\n",
    "            \n",
    "            for \n",
    "                print(\"a\"*x,\"b\"*y)\n",
    "        \n",
    "        "
   ]
  },
  {
   "cell_type": "code",
   "execution_count": 3,
   "metadata": {},
   "outputs": [
    {
     "data": {
      "text/plain": [
       "168"
      ]
     },
     "execution_count": 3,
     "metadata": {},
     "output_type": "execute_result"
    }
   ],
   "source": []
  },
  {
   "cell_type": "code",
   "execution_count": null,
   "metadata": {},
   "outputs": [],
   "source": []
  }
 ],
 "metadata": {
  "kernelspec": {
   "display_name": "Python 3",
   "language": "python",
   "name": "python3"
  },
  "language_info": {
   "codemirror_mode": {
    "name": "ipython",
    "version": 3
   },
   "file_extension": ".py",
   "mimetype": "text/x-python",
   "name": "python",
   "nbconvert_exporter": "python",
   "pygments_lexer": "ipython3",
   "version": "3.7.1"
  }
 },
 "nbformat": 4,
 "nbformat_minor": 2
}
