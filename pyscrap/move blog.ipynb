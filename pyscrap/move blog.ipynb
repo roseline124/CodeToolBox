{
 "cells": [
  {
   "cell_type": "code",
   "execution_count": 78,
   "metadata": {},
   "outputs": [],
   "source": [
    "from selenium import webdriver\n",
    "from selenium.webdriver.common.action_chains import ActionChains\n",
    "from selenium.webdriver.common.keys import Keys\n",
    "import time\n",
    "import math \n",
    "import random"
   ]
  },
  {
   "cell_type": "code",
   "execution_count": 79,
   "metadata": {},
   "outputs": [],
   "source": [
    "driver = webdriver.Chrome('C:/chrome/chromedriver')"
   ]
  },
  {
   "cell_type": "code",
   "execution_count": 80,
   "metadata": {},
   "outputs": [],
   "source": [
    "driver.get('https://blog.naver.com/guseod24')"
   ]
  },
  {
   "cell_type": "code",
   "execution_count": 81,
   "metadata": {},
   "outputs": [],
   "source": [
    "driver.switch_to.frame(\"mainFrame\")"
   ]
  },
  {
   "cell_type": "code",
   "execution_count": 82,
   "metadata": {},
   "outputs": [],
   "source": [
    "par_btn = driver.find_element_by_xpath('//*[@id=\"category-list\"]/div/ul/li[2]/div[2]/img')\n",
    "par_btn.click()"
   ]
  },
  {
   "cell_type": "code",
   "execution_count": 83,
   "metadata": {},
   "outputs": [
    {
     "name": "stdout",
     "output_type": "stream",
     "text": [
      "category40 : 유닉스 시스템\n",
      "category39 : 자료구조와 알고리즘\n",
      "category22 : SQL\n",
      "category35 : Python\n",
      "category42 : 리버스 엔지니어링\n",
      "category34 : Django\n",
      "category24 : HTML\n",
      "category32 : Javascript\n"
     ]
    }
   ],
   "source": [
    "for i in range(8) :\n",
    "\n",
    "    parent_cat = driver.find_element_by_css_selector('#category-list > div > ul > li:nth-child('+str(i+3)+')')\n",
    "    cat_list = parent_cat.find_element_by_tag_name('a')\n",
    "    cat_no = cat_list.get_attribute('id')\n",
    "\n",
    "    print(cat_no, \":\",cat_list.text)    "
   ]
  },
  {
   "cell_type": "code",
   "execution_count": 84,
   "metadata": {},
   "outputs": [
    {
     "name": "stdout",
     "output_type": "stream",
     "text": [
      "Which category do you want to browse > 42\n"
     ]
    }
   ],
   "source": [
    "cat = input(\"Which category do you want to browse > \")\n",
    "\n",
    "cat_btn = driver.find_element_by_xpath('//*[@id=\"category'+cat+'\"]')\n",
    "cat_btn.click()\n",
    "time.sleep(random.random()*1)"
   ]
  },
  {
   "cell_type": "code",
   "execution_count": 91,
   "metadata": {},
   "outputs": [],
   "source": [
    "post_num = driver.find_element_by_xpath('//*[@id=\"category-name\"]/div/table[2]/tbody/tr/td[2]/div/h4')\n",
    "post_num = int(post_num.text[-6:-4].replace(' ',''))\n",
    "\n",
    "page_num = math.ceil(post_num/5)"
   ]
  },
  {
   "cell_type": "code",
   "execution_count": 92,
   "metadata": {},
   "outputs": [
    {
     "name": "stdout",
     "output_type": "stream",
     "text": [
      "1 | [리버스 엔지니어링] #8 패턴 잡기 - 헤더 파일이 필요한 함수 호출\n",
      "2 | [리버스 엔지니어링] #7 패턴 잡기 - 함수의 시작과 끝\n",
      "3 | [리버스 엔지니어링] #6 리눅스 어셈블리문 (%, $, rbp) / 인텔 방식으로 바꾸기\n",
      "4 | [리버스 엔지니어링] #5 리틀 엔디안, 빅 엔디안(endian)\n",
      "5 | [리버스 엔지니어링] #4 어셈블리 자주 쓰는 명령어\n",
      "6 | [리버스 엔지니어링] #3 어셈블리의 레지스터(Register)\n",
      "7 | [리버스 엔지니어링] #2 어셈블리어 명령 형식(포맷)\n",
      "8 | [리버스 엔지니어링] #1 어셈블리\n"
     ]
    }
   ],
   "source": [
    "\"\"\"\n",
    "게시물 목록 출력 \n",
    "\"\"\"\n",
    "\n",
    "post_url = []\n",
    "post_title = []\n",
    "\n",
    "import time\n",
    "\n",
    "for i in range(1, post_num+1) : # 1부터 시작.\n",
    "\n",
    "    post = driver.find_element_by_xpath('//*[@id=\"postBottomTitleListBody\"]/tr['+str(((i-1)%5)+1)+']/td[1]/div/span/a')\n",
    "    post_link = post.get_attribute('href')\n",
    "    \n",
    "    post_title.append(post.text)\n",
    "    post_url.append(post_link)\n",
    "    \n",
    "    print(i,\"|\", post.text)\n",
    "    \n",
    "    # next_btn\n",
    "    if (i ==5) & (i % 5==0) : \n",
    "        next_btn = driver.find_element_by_xpath('//*[@id=\"postBottomTitleListNavigation\"]/a')\n",
    "        next_btn.click()\n",
    "        time.sleep(random.random()*1)\n",
    "    elif (i!=5) & (i % 5==0) : \n",
    "        next_btn = driver.find_element_by_xpath('//*[@id=\"postBottomTitleListNavigation\"]/a[2]')\n",
    "        next_btn.click()\n",
    "        time.sleep(random.random()*1)\n",
    "    "
   ]
  },
  {
   "cell_type": "code",
   "execution_count": 93,
   "metadata": {},
   "outputs": [
    {
     "name": "stdout",
     "output_type": "stream",
     "text": [
      "Which post do you want to copy > 8\n"
     ]
    }
   ],
   "source": [
    "\"\"\"\n",
    "원하는 게시물 열기 \n",
    "\"\"\"\n",
    "\n",
    "\n",
    "post = input(\"Which post do you want to copy > \")\n",
    "idx = int(post)-1\n",
    "\n",
    "driver.get(post_url[idx])\n",
    "time.sleep(random.random()*1)\n"
   ]
  },
  {
   "cell_type": "code",
   "execution_count": 94,
   "metadata": {},
   "outputs": [],
   "source": [
    "\"\"\"\n",
    "게시물 복사하기\n",
    "\"\"\"\n",
    "post_index = post_url[idx][58:70]\n",
    "\n",
    "title = post_title[idx]\n",
    "\n",
    "tags = driver.find_element_by_xpath('//*[@id=\"tagList_'+post_index+'\"]').text.replace('\\n','').split('#')[1:] #맨 앞의 공백 제외 \n",
    "\n",
    "contents = driver.find_element_by_xpath('//*[@id=\"post-view'+post_index+'\"]/div/div[3]')\n",
    "# //*[@id=\"post-view221435042583\"]/div\n",
    "# contents.location"
   ]
  },
  {
   "cell_type": "code",
   "execution_count": 95,
   "metadata": {},
   "outputs": [
    {
     "data": {
      "text/plain": [
       "'[리버스 엔지니어링] #1 어셈블리'"
      ]
     },
     "execution_count": 95,
     "metadata": {},
     "output_type": "execute_result"
    }
   ],
   "source": [
    "title"
   ]
  },
  {
   "cell_type": "code",
   "execution_count": 64,
   "metadata": {},
   "outputs": [],
   "source": [
    "\"\"\"\n",
    "키보드 제어 \n",
    "\"\"\"\n",
    "action = ActionChains(driver) \n"
   ]
  },
  {
   "cell_type": "code",
   "execution_count": 68,
   "metadata": {},
   "outputs": [
    {
     "name": "stdout",
     "output_type": "stream",
     "text": [
      "success\n"
     ]
    }
   ],
   "source": [
    "\"\"\"\n",
    "콘텐츠 복사 \n",
    "\"\"\"\n",
    "# contents.click()\n",
    "# action.move_by_offset(7,1097)\n",
    "# action.click_and_hold().perform()\n",
    "# action.move_by_offset(930,3804)\n",
    "# action.key_down(Keys.CONTROL).send_keys(\"a\").key_up(Keys.CONTROL).perform()\n",
    "action.key_down(Keys.CONTROL).send_keys(\"a\").send_keys(\"c\").key_up(Keys.CONTROL).perform()\n",
    "# action.key_down(Keys.CONTROL).send_keys('c').perform()\n",
    "# action.key_down(Keys.CONTROL).send_keys('c').key_up(Keys.CONTROL).perform()\n",
    "# action.release().perform()\n",
    "print(\"success\")"
   ]
  },
  {
   "cell_type": "code",
   "execution_count": 58,
   "metadata": {},
   "outputs": [],
   "source": []
  },
  {
   "cell_type": "code",
   "execution_count": null,
   "metadata": {},
   "outputs": [],
   "source": [
    "\"\"\"\n",
    "t-story에 붙여넣을 곳. \n",
    "\"\"\"\n",
    "\n",
    "driver.switch_to.frame(\"tx_canvas_wysiwyg\") \n",
    "post_editor = driver.find_element_by_xpath('/html/body')"
   ]
  },
  {
   "cell_type": "code",
   "execution_count": 59,
   "metadata": {},
   "outputs": [
    {
     "data": {
      "text/plain": [
       "[]"
      ]
     },
     "execution_count": 59,
     "metadata": {},
     "output_type": "execute_result"
    }
   ],
   "source": []
  },
  {
   "cell_type": "code",
   "execution_count": null,
   "metadata": {},
   "outputs": [],
   "source": []
  }
 ],
 "metadata": {
  "kernelspec": {
   "display_name": "Python 3",
   "language": "python",
   "name": "python3"
  },
  "language_info": {
   "codemirror_mode": {
    "name": "ipython",
    "version": 3
   },
   "file_extension": ".py",
   "mimetype": "text/x-python",
   "name": "python",
   "nbconvert_exporter": "python",
   "pygments_lexer": "ipython3",
   "version": "3.7.1"
  }
 },
 "nbformat": 4,
 "nbformat_minor": 2
}
